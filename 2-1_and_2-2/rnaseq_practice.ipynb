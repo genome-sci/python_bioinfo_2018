{
 "cells": [
  {
   "cell_type": "markdown",
   "metadata": {
    "deletable": true,
    "editable": true
   },
   "source": [
    "# RNA-seqカウントデータの読み込み・前処理"
   ]
  },
  {
   "cell_type": "code",
   "execution_count": 12,
   "metadata": {
    "collapsed": false,
    "deletable": true,
    "editable": true
   },
   "outputs": [
    {
     "data": {
      "text/plain": [
       "'/Users/tanizawa/study/training_session/python_bioinfo_2018/2-1_and_2-2'"
      ]
     },
     "execution_count": 12,
     "metadata": {},
     "output_type": "execute_result"
    }
   ],
   "source": [
    "pwd"
   ]
  },
  {
   "cell_type": "code",
   "execution_count": 7,
   "metadata": {
    "collapsed": true,
    "deletable": true,
    "editable": true
   },
   "outputs": [],
   "source": [
    "# pandasのインポート\n",
    "import pandas as pd\n",
    "import numpy as np"
   ]
  },
  {
   "cell_type": "code",
   "execution_count": 2,
   "metadata": {
    "collapsed": true,
    "deletable": true,
    "editable": true
   },
   "outputs": [],
   "source": [
    "count_file = \"input/counts.txt\"\n",
    "gene_id_product_file = \"input/gene_id_product.tsv\""
   ]
  },
  {
   "cell_type": "markdown",
   "metadata": {
    "deletable": true,
    "editable": true
   },
   "source": [
    "## カウントデータファイルの読み込み\n"
   ]
  },
  {
   "cell_type": "markdown",
   "metadata": {},
   "source": [
    "__課題１ pd.read_tableまたはpd_read_csvを使って count_file を読み込む__  \n",
    "```\n",
    "df = pd.read_table(...\n",
    "```"
   ]
  },
  {
   "cell_type": "markdown",
   "metadata": {},
   "source": [
    "```\n",
    "# Program:featureCounts v1.6.2; Command:\"../tools/subread-1.6.2-Linux-x86_64/bin/featureCounts\" \"-p\" \"-T\" \"8\" \"-t\" \"exon\" \"-g\" \"gene_id\" \"-a\" \"../reference/s288c_e.gff\" \"-o\" \"../featurecount/counts.txt\" \"SRR453566.sorted.bam\" \"SRR453567.sorted.bam\" \"SRR453568.sorted.bam\" \"SRR453569.sorted.bam\" \"SRR453570.sorted.bam\" \"SRR453571.sorted.bam\" \n",
    "Geneid  Chr     Start   End     Strand  Length  SRR453566.sorted.bam    SRR453567.sorted.bam    SRR453568.sorted.bam    SRR453569.sorted.bam    SRR453570.sorted.bam    SRR453571.sorted.bam\n",
    "gene_0001       NC_001133.9     1807    2169    -       363     1       3       2       0       0       1\n",
    "gene_0002       NC_001133.9     2480    2707    +       228     0       0       0       0       0       0\n",
    "gene_0003       NC_001133.9     7235    9016    -       1782    0       0       0       0       0       0\n",
    "gene_0004... 以下省略\n",
    "```\n",
    "1行目はfeatureCountsの実行条件が記載されているだけなので無視。二行目は列タイトルを表すヘッダー行。  \n",
    "3行目以降からデータ行となっている。一番左の列が遺伝子idになっているのでこれをindexに用いる。a"
   ]
  },
  {
   "cell_type": "markdown",
   "metadata": {
    "deletable": true,
    "editable": true
   },
   "source": [
    "pd.read_tableメソッドのskiprows、index_col、header オプションを指定して読み込む\n",
    "```\n",
    "skiprows : list-like or integer or callable, default None\n",
    "    Line numbers to skip (0-indexed) or number of lines to skip (int)\n",
    "    at the start of the file.\n",
    "\n",
    "    If callable, the callable function will be evaluated against the row\n",
    "    indices, returning True if the row should be skipped and False otherwise.\n",
    "    An example of a valid callable argument would be ``lambda x: x in [0, 2]``.\n",
    "    \n",
    "index_col : int or sequence or False, default None\n",
    "    Column to use as the row labels of the DataFrame. If a sequence is given, a\n",
    "    MultiIndex is used. If you have a malformed file with delimiters at the end\n",
    "    of each line, you might consider index_col=False to force pandas to _not_\n",
    "    use the first column as the index (row names)\n",
    "    \n",
    "header : int or list of ints, default 'infer'\n",
    "    Row number(s) to use as the column names, and the start of the data.\n",
    "    Default behavior is as if set to 0 if no ``names`` passed, otherwise\n",
    "    ``None``. Explicitly pass ``header=0`` to be able to replace existing\n",
    "    names. The header can be a list of integers that specify row locations for\n",
    "    a multi-index on the columns e.g. [0,1,3]. Intervening rows that are not\n",
    "    specified will be skipped (e.g. 2 in this example is skipped). Note that\n",
    "    this parameter ignores commented lines and empty lines if\n",
    "    ``skip_blank_lines=True``, so header=0 denotes the first line of data\n",
    "    rather than the first line of the file.\n",
    "```"
   ]
  },
  {
   "cell_type": "markdown",
   "metadata": {
    "collapsed": false,
    "deletable": true,
    "editable": true
   },
   "source": [
    "__読み込めたら、データ件数、統計値などの確認を行ってみる__"
   ]
  },
  {
   "cell_type": "code",
   "execution_count": null,
   "metadata": {
    "collapsed": false,
    "deletable": true,
    "editable": true
   },
   "outputs": [],
   "source": []
  },
  {
   "cell_type": "markdown",
   "metadata": {
    "deletable": true,
    "editable": true
   },
   "source": [
    "## 列名を変更する"
   ]
  },
  {
   "cell_type": "markdown",
   "metadata": {},
   "source": [
    "__以後の解析のため、列名を変更しておく。  \n",
    "下記２セルを実行する__"
   ]
  },
  {
   "cell_type": "code",
   "execution_count": 8,
   "metadata": {
    "collapsed": true,
    "deletable": true,
    "editable": true
   },
   "outputs": [],
   "source": [
    "# 列名を変更するための対応表\n",
    "names = {'SRR453566.sorted.bam': 'batch_1',\n",
    "         'SRR453567.sorted.bam': 'batch_2',\n",
    "         'SRR453568.sorted.bam': 'batch_3',\n",
    "         'SRR453569.sorted.bam': 'chemostat_1',\n",
    "         'SRR453570.sorted.bam': 'chemostat_2',\n",
    "         'SRR453571.sorted.bam': 'chemostat_3'}"
   ]
  },
  {
   "cell_type": "code",
   "execution_count": 9,
   "metadata": {
    "collapsed": false,
    "deletable": true,
    "editable": true
   },
   "outputs": [],
   "source": [
    "# rename_axisをaxis=1を適用して使い、列名を変更する\n",
    "df = df.rename_axis(mapper=names, axis=1)\n",
    "\n",
    "# rename_axisを使わなくても、既存の列を別名でコピーした後で元の列を削除、という方法でも可能\n",
    "# df[\"batch_1\"] = df['SRR453566.sorted.bam']\n",
    "# del df['SRR453566.sorted.bam']"
   ]
  },
  {
   "cell_type": "code",
   "execution_count": 10,
   "metadata": {
    "collapsed": false,
    "deletable": true,
    "editable": true
   },
   "outputs": [
    {
     "data": {
      "text/html": [
       "<div>\n",
       "<style>\n",
       "    .dataframe thead tr:only-child th {\n",
       "        text-align: right;\n",
       "    }\n",
       "\n",
       "    .dataframe thead th {\n",
       "        text-align: left;\n",
       "    }\n",
       "\n",
       "    .dataframe tbody tr th {\n",
       "        vertical-align: top;\n",
       "    }\n",
       "</style>\n",
       "<table border=\"1\" class=\"dataframe\">\n",
       "  <thead>\n",
       "    <tr style=\"text-align: right;\">\n",
       "      <th></th>\n",
       "      <th>Chr</th>\n",
       "      <th>Start</th>\n",
       "      <th>End</th>\n",
       "      <th>Strand</th>\n",
       "      <th>Length</th>\n",
       "      <th>batch_1</th>\n",
       "      <th>batch_2</th>\n",
       "      <th>batch_3</th>\n",
       "      <th>chemostat_1</th>\n",
       "      <th>chemostat_2</th>\n",
       "      <th>chemostat_3</th>\n",
       "    </tr>\n",
       "    <tr>\n",
       "      <th>Geneid</th>\n",
       "      <th></th>\n",
       "      <th></th>\n",
       "      <th></th>\n",
       "      <th></th>\n",
       "      <th></th>\n",
       "      <th></th>\n",
       "      <th></th>\n",
       "      <th></th>\n",
       "      <th></th>\n",
       "      <th></th>\n",
       "      <th></th>\n",
       "    </tr>\n",
       "  </thead>\n",
       "  <tbody>\n",
       "    <tr>\n",
       "      <th>gene_0001</th>\n",
       "      <td>NC_001133.9</td>\n",
       "      <td>1807</td>\n",
       "      <td>2169</td>\n",
       "      <td>-</td>\n",
       "      <td>363</td>\n",
       "      <td>0</td>\n",
       "      <td>2</td>\n",
       "      <td>6</td>\n",
       "      <td>0</td>\n",
       "      <td>0</td>\n",
       "      <td>1</td>\n",
       "    </tr>\n",
       "    <tr>\n",
       "      <th>gene_0002</th>\n",
       "      <td>NC_001133.9</td>\n",
       "      <td>2480</td>\n",
       "      <td>2707</td>\n",
       "      <td>+</td>\n",
       "      <td>228</td>\n",
       "      <td>0</td>\n",
       "      <td>0</td>\n",
       "      <td>0</td>\n",
       "      <td>0</td>\n",
       "      <td>0</td>\n",
       "      <td>0</td>\n",
       "    </tr>\n",
       "    <tr>\n",
       "      <th>gene_0003</th>\n",
       "      <td>NC_001133.9</td>\n",
       "      <td>7235</td>\n",
       "      <td>9016</td>\n",
       "      <td>-</td>\n",
       "      <td>1782</td>\n",
       "      <td>0</td>\n",
       "      <td>0</td>\n",
       "      <td>0</td>\n",
       "      <td>0</td>\n",
       "      <td>0</td>\n",
       "      <td>0</td>\n",
       "    </tr>\n",
       "    <tr>\n",
       "      <th>gene_0004</th>\n",
       "      <td>NC_001133.9</td>\n",
       "      <td>11565</td>\n",
       "      <td>11951</td>\n",
       "      <td>-</td>\n",
       "      <td>387</td>\n",
       "      <td>0</td>\n",
       "      <td>0</td>\n",
       "      <td>0</td>\n",
       "      <td>0</td>\n",
       "      <td>0</td>\n",
       "      <td>0</td>\n",
       "    </tr>\n",
       "    <tr>\n",
       "      <th>gene_0005</th>\n",
       "      <td>NC_001133.9</td>\n",
       "      <td>12046</td>\n",
       "      <td>12426</td>\n",
       "      <td>+</td>\n",
       "      <td>381</td>\n",
       "      <td>2</td>\n",
       "      <td>8</td>\n",
       "      <td>10</td>\n",
       "      <td>6</td>\n",
       "      <td>7</td>\n",
       "      <td>18</td>\n",
       "    </tr>\n",
       "  </tbody>\n",
       "</table>\n",
       "</div>"
      ],
      "text/plain": [
       "                   Chr  Start    End Strand  Length  batch_1  batch_2  \\\n",
       "Geneid                                                                  \n",
       "gene_0001  NC_001133.9   1807   2169      -     363        0        2   \n",
       "gene_0002  NC_001133.9   2480   2707      +     228        0        0   \n",
       "gene_0003  NC_001133.9   7235   9016      -    1782        0        0   \n",
       "gene_0004  NC_001133.9  11565  11951      -     387        0        0   \n",
       "gene_0005  NC_001133.9  12046  12426      +     381        2        8   \n",
       "\n",
       "           batch_3  chemostat_1  chemostat_2  chemostat_3  \n",
       "Geneid                                                     \n",
       "gene_0001        6            0            0            1  \n",
       "gene_0002        0            0            0            0  \n",
       "gene_0003        0            0            0            0  \n",
       "gene_0004        0            0            0            0  \n",
       "gene_0005       10            6            7           18  "
      ]
     },
     "execution_count": 10,
     "metadata": {},
     "output_type": "execute_result"
    }
   ],
   "source": [
    "df.head()"
   ]
  },
  {
   "cell_type": "markdown",
   "metadata": {
    "deletable": true,
    "editable": true
   },
   "source": [
    "## ミトコンドリア上の遺伝子を除く"
   ]
  },
  {
   "cell_type": "markdown",
   "metadata": {
    "deletable": true,
    "editable": true
   },
   "source": [
    "__課題２ counts.txtにはミトコンドリア上の遺伝子も含まれるのでこれを除く。  \n",
    "df.Chrの値が NC_001224.1 に一致するものがミトコンドリアに該当するので、boolean indexingを使って除く__"
   ]
  },
  {
   "cell_type": "code",
   "execution_count": 11,
   "metadata": {
    "collapsed": false,
    "deletable": true,
    "editable": true
   },
   "outputs": [],
   "source": []
  },
  {
   "cell_type": "code",
   "execution_count": 12,
   "metadata": {
    "collapsed": false,
    "deletable": true,
    "editable": true
   },
   "outputs": [
    {
     "data": {
      "text/plain": [
       "(6394, 11)"
      ]
     },
     "execution_count": 12,
     "metadata": {},
     "output_type": "execute_result"
    }
   ],
   "source": [
    "# 正しく処理ができればデータ件数は6394件になるはず\n",
    "df.shape"
   ]
  },
  {
   "cell_type": "markdown",
   "metadata": {
    "deletable": true,
    "editable": true
   },
   "source": [
    "## gene_idとproductの一覧ファイルを読み込む\n"
   ]
  },
  {
   "cell_type": "markdown",
   "metadata": {},
   "source": [
    "__課題３　pd.read_tableを使ってgene_id_productを読み込む。  \n",
    "一列目をindexとして用いること。ヘッダー行がないので、 names=[\"gene_id\", \"product\"]オプションを指定して読み込むこと。  \n",
    "データフレーム名は gene_product とすること  \n",
    "```\n",
    "gene_products = pd.read_table(.....)\n",
    "```__"
   ]
  },
  {
   "cell_type": "markdown",
   "metadata": {},
   "source": [
    "```\n",
    "gene_0001\tseripauperin PAU8\n",
    "gene_0002\thypothetical protein\n",
    "gene_0003\tputative permease SEO1\n",
    "gene_0004\thypothetical protein\n",
    "gene_0005\thypothetical protein\n",
    "gene_0006\tTda8p\n",
    "gene_0007...\n",
    "```\n",
    "namesオプション\n",
    "```\n",
    "names : array-like, default None\n",
    "    List of column names to use. If file contains no header row, then you\n",
    "    should explicitly pass header=None. Duplicates in this list are not\n",
    "    allowed unless mangle_dupe_cols=True, which is the default.\n",
    "```\n",
    "\n"
   ]
  },
  {
   "cell_type": "code",
   "execution_count": null,
   "metadata": {
    "collapsed": false,
    "deletable": true,
    "editable": true
   },
   "outputs": [],
   "source": []
  },
  {
   "cell_type": "code",
   "execution_count": 14,
   "metadata": {
    "collapsed": false,
    "deletable": true,
    "editable": true
   },
   "outputs": [
    {
     "data": {
      "text/html": [
       "<div>\n",
       "<style>\n",
       "    .dataframe thead tr:only-child th {\n",
       "        text-align: right;\n",
       "    }\n",
       "\n",
       "    .dataframe thead th {\n",
       "        text-align: left;\n",
       "    }\n",
       "\n",
       "    .dataframe tbody tr th {\n",
       "        vertical-align: top;\n",
       "    }\n",
       "</style>\n",
       "<table border=\"1\" class=\"dataframe\">\n",
       "  <thead>\n",
       "    <tr style=\"text-align: right;\">\n",
       "      <th></th>\n",
       "      <th>product</th>\n",
       "    </tr>\n",
       "    <tr>\n",
       "      <th>gene_id</th>\n",
       "      <th></th>\n",
       "    </tr>\n",
       "  </thead>\n",
       "  <tbody>\n",
       "    <tr>\n",
       "      <th>gene_0001</th>\n",
       "      <td>seripauperin PAU8</td>\n",
       "    </tr>\n",
       "    <tr>\n",
       "      <th>gene_0002</th>\n",
       "      <td>hypothetical protein</td>\n",
       "    </tr>\n",
       "    <tr>\n",
       "      <th>gene_0003</th>\n",
       "      <td>putative permease SEO1</td>\n",
       "    </tr>\n",
       "    <tr>\n",
       "      <th>gene_0004</th>\n",
       "      <td>hypothetical protein</td>\n",
       "    </tr>\n",
       "    <tr>\n",
       "      <th>gene_0005</th>\n",
       "      <td>hypothetical protein</td>\n",
       "    </tr>\n",
       "  </tbody>\n",
       "</table>\n",
       "</div>"
      ],
      "text/plain": [
       "                          product\n",
       "gene_id                          \n",
       "gene_0001       seripauperin PAU8\n",
       "gene_0002    hypothetical protein\n",
       "gene_0003  putative permease SEO1\n",
       "gene_0004    hypothetical protein\n",
       "gene_0005    hypothetical protein"
      ]
     },
     "execution_count": 14,
     "metadata": {},
     "output_type": "execute_result"
    }
   ],
   "source": [
    "gene_products.head()"
   ]
  },
  {
   "cell_type": "markdown",
   "metadata": {
    "deletable": true,
    "editable": true
   },
   "source": [
    "## 二つのデータフレームを連結"
   ]
  },
  {
   "cell_type": "markdown",
   "metadata": {},
   "source": [
    "__課題４　gene_productsにdfを連結する。  \n",
    "index列を使って接続するので join を使うのが良い。  \n",
    "データフレーム名はdf_with_productとすること。__\n",
    "```\n",
    "df_with_product = gene_products.join(...\n",
    "```\n"
   ]
  },
  {
   "cell_type": "markdown",
   "metadata": {
    "collapsed": false,
    "deletable": true,
    "editable": true
   },
   "source": [
    "本来であれば rRNA　にマップされたリードは無視したいので除く必要がある。  \n",
    "gene_products には mRNA のデータしか含まれていないので、rRNA などのデータはこの時点で除かれる。  \n"
   ]
  },
  {
   "cell_type": "code",
   "execution_count": 16,
   "metadata": {
    "collapsed": false,
    "deletable": true,
    "editable": true
   },
   "outputs": [],
   "source": [
    "# mergeを使った場合\n",
    "# pd.merge(gene_products, df, left_index=True, right_index=True) "
   ]
  },
  {
   "cell_type": "code",
   "execution_count": 17,
   "metadata": {
    "collapsed": false,
    "deletable": true,
    "editable": true
   },
   "outputs": [],
   "source": [
    "# concatを使った場合\n",
    "# pd.concat([gene_products, df], axis=1, join=\"inner\")"
   ]
  },
  {
   "cell_type": "code",
   "execution_count": 18,
   "metadata": {
    "collapsed": false,
    "deletable": true,
    "editable": true,
    "scrolled": true
   },
   "outputs": [
    {
     "data": {
      "text/html": [
       "<div>\n",
       "<style>\n",
       "    .dataframe thead tr:only-child th {\n",
       "        text-align: right;\n",
       "    }\n",
       "\n",
       "    .dataframe thead th {\n",
       "        text-align: left;\n",
       "    }\n",
       "\n",
       "    .dataframe tbody tr th {\n",
       "        vertical-align: top;\n",
       "    }\n",
       "</style>\n",
       "<table border=\"1\" class=\"dataframe\">\n",
       "  <thead>\n",
       "    <tr style=\"text-align: right;\">\n",
       "      <th></th>\n",
       "      <th>product</th>\n",
       "      <th>Chr</th>\n",
       "      <th>Start</th>\n",
       "      <th>End</th>\n",
       "      <th>Strand</th>\n",
       "      <th>Length</th>\n",
       "      <th>batch_1</th>\n",
       "      <th>batch_2</th>\n",
       "      <th>batch_3</th>\n",
       "      <th>chemostat_1</th>\n",
       "      <th>chemostat_2</th>\n",
       "      <th>chemostat_3</th>\n",
       "    </tr>\n",
       "    <tr>\n",
       "      <th>gene_id</th>\n",
       "      <th></th>\n",
       "      <th></th>\n",
       "      <th></th>\n",
       "      <th></th>\n",
       "      <th></th>\n",
       "      <th></th>\n",
       "      <th></th>\n",
       "      <th></th>\n",
       "      <th></th>\n",
       "      <th></th>\n",
       "      <th></th>\n",
       "      <th></th>\n",
       "    </tr>\n",
       "  </thead>\n",
       "  <tbody>\n",
       "    <tr>\n",
       "      <th>gene_0001</th>\n",
       "      <td>seripauperin PAU8</td>\n",
       "      <td>NC_001133.9</td>\n",
       "      <td>1807</td>\n",
       "      <td>2169</td>\n",
       "      <td>-</td>\n",
       "      <td>363</td>\n",
       "      <td>0</td>\n",
       "      <td>2</td>\n",
       "      <td>6</td>\n",
       "      <td>0</td>\n",
       "      <td>0</td>\n",
       "      <td>1</td>\n",
       "    </tr>\n",
       "    <tr>\n",
       "      <th>gene_0002</th>\n",
       "      <td>hypothetical protein</td>\n",
       "      <td>NC_001133.9</td>\n",
       "      <td>2480</td>\n",
       "      <td>2707</td>\n",
       "      <td>+</td>\n",
       "      <td>228</td>\n",
       "      <td>0</td>\n",
       "      <td>0</td>\n",
       "      <td>0</td>\n",
       "      <td>0</td>\n",
       "      <td>0</td>\n",
       "      <td>0</td>\n",
       "    </tr>\n",
       "    <tr>\n",
       "      <th>gene_0003</th>\n",
       "      <td>putative permease SEO1</td>\n",
       "      <td>NC_001133.9</td>\n",
       "      <td>7235</td>\n",
       "      <td>9016</td>\n",
       "      <td>-</td>\n",
       "      <td>1782</td>\n",
       "      <td>0</td>\n",
       "      <td>0</td>\n",
       "      <td>0</td>\n",
       "      <td>0</td>\n",
       "      <td>0</td>\n",
       "      <td>0</td>\n",
       "    </tr>\n",
       "    <tr>\n",
       "      <th>gene_0004</th>\n",
       "      <td>hypothetical protein</td>\n",
       "      <td>NC_001133.9</td>\n",
       "      <td>11565</td>\n",
       "      <td>11951</td>\n",
       "      <td>-</td>\n",
       "      <td>387</td>\n",
       "      <td>0</td>\n",
       "      <td>0</td>\n",
       "      <td>0</td>\n",
       "      <td>0</td>\n",
       "      <td>0</td>\n",
       "      <td>0</td>\n",
       "    </tr>\n",
       "    <tr>\n",
       "      <th>gene_0005</th>\n",
       "      <td>hypothetical protein</td>\n",
       "      <td>NC_001133.9</td>\n",
       "      <td>12046</td>\n",
       "      <td>12426</td>\n",
       "      <td>+</td>\n",
       "      <td>381</td>\n",
       "      <td>2</td>\n",
       "      <td>8</td>\n",
       "      <td>10</td>\n",
       "      <td>6</td>\n",
       "      <td>7</td>\n",
       "      <td>18</td>\n",
       "    </tr>\n",
       "  </tbody>\n",
       "</table>\n",
       "</div>"
      ],
      "text/plain": [
       "                          product          Chr  Start    End Strand  Length  \\\n",
       "gene_id                                                                       \n",
       "gene_0001       seripauperin PAU8  NC_001133.9   1807   2169      -     363   \n",
       "gene_0002    hypothetical protein  NC_001133.9   2480   2707      +     228   \n",
       "gene_0003  putative permease SEO1  NC_001133.9   7235   9016      -    1782   \n",
       "gene_0004    hypothetical protein  NC_001133.9  11565  11951      -     387   \n",
       "gene_0005    hypothetical protein  NC_001133.9  12046  12426      +     381   \n",
       "\n",
       "           batch_1  batch_2  batch_3  chemostat_1  chemostat_2  chemostat_3  \n",
       "gene_id                                                                      \n",
       "gene_0001        0        2        6            0            0            1  \n",
       "gene_0002        0        0        0            0            0            0  \n",
       "gene_0003        0        0        0            0            0            0  \n",
       "gene_0004        0        0        0            0            0            0  \n",
       "gene_0005        2        8       10            6            7           18  "
      ]
     },
     "execution_count": 18,
     "metadata": {},
     "output_type": "execute_result"
    }
   ],
   "source": [
    "df_with_product.head()"
   ]
  },
  {
   "cell_type": "markdown",
   "metadata": {
    "deletable": true,
    "editable": true
   },
   "source": [
    "##  カウントデータ部分のみを切り出し"
   ]
  },
  {
   "cell_type": "code",
   "execution_count": 19,
   "metadata": {
    "collapsed": false,
    "deletable": true,
    "editable": true
   },
   "outputs": [],
   "source": [
    "df_count = df_with_product[[\"batch_1\",\"batch_2\",\"batch_3\",\"chemostat_1\",\"chemostat_2\",\"chemostat_3\"]]\n",
    "# スライスで指定するなら　df_with_product.iloc[:, 6:12]"
   ]
  },
  {
   "cell_type": "markdown",
   "metadata": {
    "deletable": true,
    "editable": true
   },
   "source": [
    "## ファイルの保存"
   ]
  },
  {
   "cell_type": "code",
   "execution_count": 20,
   "metadata": {
    "collapsed": true,
    "deletable": true,
    "editable": true
   },
   "outputs": [],
   "source": [
    "df_with_product.to_csv(\"output/count_preprocessed.tsv\", sep=\"\\t\")"
   ]
  },
  {
   "cell_type": "code",
   "execution_count": 21,
   "metadata": {
    "collapsed": false,
    "deletable": true,
    "editable": true
   },
   "outputs": [],
   "source": [
    "# raw カウントのデータを保存する\n",
    "df_count.to_csv(\"output/count_raw.tsv\", sep=\"\\t\")"
   ]
  },
  {
   "cell_type": "code",
   "execution_count": 23,
   "metadata": {
    "collapsed": false,
    "deletable": true,
    "editable": true
   },
   "outputs": [
    {
     "name": "stdout",
     "output_type": "stream",
     "text": [
      "gene_id\tbatch_1\tbatch_2\tbatch_3\tchemostat_1\tchemostat_2\tchemostat_3\n",
      "gene_0001\t0\t2\t6\t0\t0\t1\n",
      "gene_0002\t0\t0\t0\t0\t0\t0\n",
      "gene_0003\t0\t0\t0\t0\t0\t0\n",
      "gene_0004\t0\t0\t0\t0\t0\t0\n",
      "gene_0005\t2\t8\t10\t6\t7\t18\n",
      "gene_0006\t0\t0\t0\t0\t0\t0\n",
      "gene_0007\t0\t0\t0\t0\t0\t0\n",
      "gene_0008\t0\t0\t0\t0\t0\t0\n",
      "gene_0009\t32\t37\t33\t43\t63\t84\n"
     ]
    }
   ],
   "source": [
    "%%bash\n",
    "# シェルコマンド head を使って確認してみます。\n",
    "head output/count_raw.tsv"
   ]
  },
  {
   "cell_type": "markdown",
   "metadata": {
    "deletable": true,
    "editable": true
   },
   "source": [
    "# リード数で正規化 (100万リードあたりのカウント数に揃える, RPM/FPM)\n",
    "RPM = reads per million\n"
   ]
  },
  {
   "cell_type": "code",
   "execution_count": 24,
   "metadata": {
    "collapsed": true,
    "deletable": true,
    "editable": true
   },
   "outputs": [],
   "source": [
    "#いったん別のデータフレームとしてコピーしておく\n",
    "df_tmp = df_count.copy()"
   ]
  },
  {
   "cell_type": "markdown",
   "metadata": {},
   "source": [
    "__課題５　カウント数を、列ごとのリード数の合計で割ったあと、100万をかけてリード数で正規化を行う__"
   ]
  },
  {
   "cell_type": "code",
   "execution_count": 29,
   "metadata": {
    "collapsed": false,
    "deletable": true,
    "editable": true
   },
   "outputs": [
    {
     "data": {
      "text/plain": [
       "batch_1        1000000.0\n",
       "batch_2        1000000.0\n",
       "batch_3        1000000.0\n",
       "chemostat_1    1000000.0\n",
       "chemostat_2    1000000.0\n",
       "chemostat_3    1000000.0\n",
       "dtype: float64"
      ]
     },
     "execution_count": 29,
     "metadata": {},
     "output_type": "execute_result"
    }
   ],
   "source": [
    "# ただしく処理できていれば、下記のようになるはず。\n",
    "# リード数の合計が100万に揃っていることを確認。\n",
    "df_tmp.sum()"
   ]
  },
  {
   "cell_type": "markdown",
   "metadata": {
    "collapsed": true,
    "deletable": true,
    "editable": true
   },
   "source": [
    "__上記の処理を関数化しておく。__\n"
   ]
  },
  {
   "cell_type": "code",
   "execution_count": null,
   "metadata": {
    "collapsed": true
   },
   "outputs": [],
   "source": [
    "def normalize_per_million_reads(df):\n",
    "    ....\n",
    "    ...."
   ]
  },
  {
   "cell_type": "code",
   "execution_count": 31,
   "metadata": {
    "collapsed": true,
    "deletable": true,
    "editable": true
   },
   "outputs": [],
   "source": [
    "df_count_fpm = normalize_per_million_reads(df_count)"
   ]
  },
  {
   "cell_type": "code",
   "execution_count": 32,
   "metadata": {
    "collapsed": false,
    "deletable": true,
    "editable": true
   },
   "outputs": [
    {
     "data": {
      "text/plain": [
       "batch_1        1000000.0\n",
       "batch_2        1000000.0\n",
       "batch_3        1000000.0\n",
       "chemostat_1    1000000.0\n",
       "chemostat_2    1000000.0\n",
       "chemostat_3    1000000.0\n",
       "dtype: float64"
      ]
     },
     "execution_count": 32,
     "metadata": {},
     "output_type": "execute_result"
    }
   ],
   "source": [
    "df_count_fpm.sum()"
   ]
  },
  {
   "cell_type": "code",
   "execution_count": 33,
   "metadata": {
    "collapsed": true,
    "deletable": true,
    "editable": true
   },
   "outputs": [],
   "source": [
    "# FPM正規化を行った結果を保存\n",
    "df_count_fpm.to_csv(\"output/count_fpm.tsv\", sep=\"\\t\")"
   ]
  },
  {
   "cell_type": "markdown",
   "metadata": {
    "deletable": true,
    "editable": true
   },
   "source": [
    "# 遺伝子長による正規化 (RPKM/FPKM)\n",
    "上で求めたFPMをさらに遺伝子長で割ってFPKMを求める。  \n",
    "FPKM = fragments per kilobase of exon per million reads mapped\n",
    "single-endの場合、RPKM = reads per kilobase of exon per million reads mapped と呼ばれるが、 FPKM/RPKMはほぼ同じ意味で用いられる"
   ]
  },
  {
   "cell_type": "code",
   "execution_count": 34,
   "metadata": {
    "collapsed": true,
    "deletable": true,
    "editable": true
   },
   "outputs": [],
   "source": [
    "# テスト用にデータフレームをコピーしておく\n",
    "df_tmp = df_count_fpm.copy()"
   ]
  },
  {
   "cell_type": "code",
   "execution_count": 35,
   "metadata": {
    "collapsed": true,
    "deletable": true,
    "editable": true
   },
   "outputs": [],
   "source": [
    "gene_length = df_with_product[\"Length\"]"
   ]
  },
  {
   "cell_type": "code",
   "execution_count": 36,
   "metadata": {
    "collapsed": false,
    "deletable": true,
    "editable": true
   },
   "outputs": [],
   "source": [
    "# ↓はうまくいきません。（縦方向にブロードキャストされてしまうため）\n",
    "# df_tmp / gene_length"
   ]
  },
  {
   "cell_type": "code",
   "execution_count": 37,
   "metadata": {
    "collapsed": false,
    "deletable": true,
    "editable": true
   },
   "outputs": [],
   "source": [
    "# 一列ずつ計算することは可能\n",
    "# df_tmp[\"batch_1\"] / gene_length * 10**3"
   ]
  },
  {
   "cell_type": "markdown",
   "metadata": {},
   "source": [
    "__課題６　次のいずれかの方法でFPKMを求める(fpmの値を遺伝子長で割って、1000をかければ良い）__"
   ]
  },
  {
   "cell_type": "markdown",
   "metadata": {
    "deletable": true,
    "editable": true
   },
   "source": [
    "## for ループを使う方法"
   ]
  },
  {
   "cell_type": "markdown",
   "metadata": {
    "deletable": true,
    "editable": true
   },
   "source": [
    "データフレームをforループで回すと、列名が取得できるのでそれを利用する。"
   ]
  },
  {
   "cell_type": "code",
   "execution_count": null,
   "metadata": {
    "collapsed": false,
    "deletable": true,
    "editable": true
   },
   "outputs": [],
   "source": []
  },
  {
   "cell_type": "code",
   "execution_count": null,
   "metadata": {
    "collapsed": false,
    "deletable": true,
    "editable": true
   },
   "outputs": [],
   "source": []
  },
  {
   "cell_type": "markdown",
   "metadata": {
    "deletable": true,
    "editable": true
   },
   "source": [
    "## データフレームを転置してから計算する方法　（おすすめ）"
   ]
  },
  {
   "cell_type": "code",
   "execution_count": null,
   "metadata": {
    "collapsed": false,
    "deletable": true,
    "editable": true
   },
   "outputs": [],
   "source": []
  },
  {
   "cell_type": "code",
   "execution_count": null,
   "metadata": {
    "collapsed": true
   },
   "outputs": [],
   "source": []
  },
  {
   "cell_type": "markdown",
   "metadata": {
    "deletable": true,
    "editable": true
   },
   "source": [
    "## applyを使い各列に関数を適用する"
   ]
  },
  {
   "cell_type": "code",
   "execution_count": 41,
   "metadata": {
    "collapsed": true,
    "deletable": true,
    "editable": true
   },
   "outputs": [],
   "source": [
    "# はじめに列を入力とし、各要素を遺伝子長でわる処理を行う関数を定義する\n",
    "def divide_by_length(S):\n",
    "    ..."
   ]
  },
  {
   "cell_type": "code",
   "execution_count": null,
   "metadata": {
    "collapsed": false,
    "deletable": true,
    "editable": true
   },
   "outputs": [],
   "source": []
  },
  {
   "cell_type": "markdown",
   "metadata": {},
   "source": [
    "## データフレームメソッドのdivideを使用する方法"
   ]
  },
  {
   "cell_type": "code",
   "execution_count": 9,
   "metadata": {
    "collapsed": false,
    "deletable": true,
    "editable": true
   },
   "outputs": [],
   "source": [
    "# データフレームメソッドのdivideを使用する方法もあります。\n",
    "df_tmp = df_count_fpm.copy()\n",
    "df_tmp = df_tmp.divide?  # ←ヘルプを参照してください\n"
   ]
  },
  {
   "cell_type": "code",
   "execution_count": 44,
   "metadata": {
    "collapsed": true,
    "deletable": true,
    "editable": true
   },
   "outputs": [],
   "source": [
    "# 関数化しておきます。\n",
    "def normalize_per_kilobase(df, gene_length):\n",
    "    ..."
   ]
  },
  {
   "cell_type": "code",
   "execution_count": 45,
   "metadata": {
    "collapsed": true,
    "deletable": true,
    "editable": true
   },
   "outputs": [],
   "source": [
    "df_count_fpkm = normalize_per_kilobase(df_count_fpm, gene_length)"
   ]
  },
  {
   "cell_type": "code",
   "execution_count": 46,
   "metadata": {
    "collapsed": false,
    "deletable": true,
    "editable": true
   },
   "outputs": [
    {
     "data": {
      "text/html": [
       "<div>\n",
       "<style>\n",
       "    .dataframe thead tr:only-child th {\n",
       "        text-align: right;\n",
       "    }\n",
       "\n",
       "    .dataframe thead th {\n",
       "        text-align: left;\n",
       "    }\n",
       "\n",
       "    .dataframe tbody tr th {\n",
       "        vertical-align: top;\n",
       "    }\n",
       "</style>\n",
       "<table border=\"1\" class=\"dataframe\">\n",
       "  <thead>\n",
       "    <tr style=\"text-align: right;\">\n",
       "      <th></th>\n",
       "      <th>batch_1</th>\n",
       "      <th>batch_2</th>\n",
       "      <th>batch_3</th>\n",
       "      <th>chemostat_1</th>\n",
       "      <th>chemostat_2</th>\n",
       "      <th>chemostat_3</th>\n",
       "    </tr>\n",
       "    <tr>\n",
       "      <th>gene_id</th>\n",
       "      <th></th>\n",
       "      <th></th>\n",
       "      <th></th>\n",
       "      <th></th>\n",
       "      <th></th>\n",
       "      <th></th>\n",
       "    </tr>\n",
       "  </thead>\n",
       "  <tbody>\n",
       "    <tr>\n",
       "      <th>gene_0001</th>\n",
       "      <td>0.000000</td>\n",
       "      <td>0.881103</td>\n",
       "      <td>3.653609</td>\n",
       "      <td>0.000000</td>\n",
       "      <td>0.00000</td>\n",
       "      <td>0.561926</td>\n",
       "    </tr>\n",
       "    <tr>\n",
       "      <th>gene_0002</th>\n",
       "      <td>0.000000</td>\n",
       "      <td>0.000000</td>\n",
       "      <td>0.000000</td>\n",
       "      <td>0.000000</td>\n",
       "      <td>0.00000</td>\n",
       "      <td>0.000000</td>\n",
       "    </tr>\n",
       "    <tr>\n",
       "      <th>gene_0003</th>\n",
       "      <td>0.000000</td>\n",
       "      <td>0.000000</td>\n",
       "      <td>0.000000</td>\n",
       "      <td>0.000000</td>\n",
       "      <td>0.00000</td>\n",
       "      <td>0.000000</td>\n",
       "    </tr>\n",
       "    <tr>\n",
       "      <th>gene_0004</th>\n",
       "      <td>0.000000</td>\n",
       "      <td>0.000000</td>\n",
       "      <td>0.000000</td>\n",
       "      <td>0.000000</td>\n",
       "      <td>0.00000</td>\n",
       "      <td>0.000000</td>\n",
       "    </tr>\n",
       "    <tr>\n",
       "      <th>gene_0005</th>\n",
       "      <td>1.149909</td>\n",
       "      <td>3.357905</td>\n",
       "      <td>5.801662</td>\n",
       "      <td>5.123019</td>\n",
       "      <td>4.74806</td>\n",
       "      <td>9.636806</td>\n",
       "    </tr>\n",
       "  </tbody>\n",
       "</table>\n",
       "</div>"
      ],
      "text/plain": [
       "            batch_1   batch_2   batch_3  chemostat_1  chemostat_2  chemostat_3\n",
       "gene_id                                                                       \n",
       "gene_0001  0.000000  0.881103  3.653609     0.000000      0.00000     0.561926\n",
       "gene_0002  0.000000  0.000000  0.000000     0.000000      0.00000     0.000000\n",
       "gene_0003  0.000000  0.000000  0.000000     0.000000      0.00000     0.000000\n",
       "gene_0004  0.000000  0.000000  0.000000     0.000000      0.00000     0.000000\n",
       "gene_0005  1.149909  3.357905  5.801662     5.123019      4.74806     9.636806"
      ]
     },
     "execution_count": 46,
     "metadata": {},
     "output_type": "execute_result"
    }
   ],
   "source": [
    "df_count_fpkm.head()"
   ]
  },
  {
   "cell_type": "code",
   "execution_count": 60,
   "metadata": {
    "collapsed": false,
    "deletable": true,
    "editable": true
   },
   "outputs": [],
   "source": [
    "# 保存する\n",
    "df_count_fpkm.to_csv(\"output/count_fpkm.tsv\", sep=\"\\t\")"
   ]
  },
  {
   "cell_type": "markdown",
   "metadata": {
    "deletable": true,
    "editable": true
   },
   "source": [
    "# TPM 正規化\n",
    "TPM = transcripts per kilobase million  \n",
    "TPM の説明については以下のページが詳しい https://bi.biopapyrus.jp/  \n",
    "FPKM/RPKM のときとは逆に、長さ1,000bpあたりのリード数を求めてから、総リード数を100万に揃えれば良い。"
   ]
  },
  {
   "cell_type": "code",
   "execution_count": 61,
   "metadata": {
    "collapsed": false,
    "deletable": true,
    "editable": true
   },
   "outputs": [],
   "source": [
    "df_tmp = df_count.copy()"
   ]
  },
  {
   "cell_type": "code",
   "execution_count": 62,
   "metadata": {
    "collapsed": false,
    "deletable": true,
    "editable": true
   },
   "outputs": [],
   "source": [
    "df_tmp = normalize_per_kilobase(df_tmp, gene_length)\n",
    "df_tmp = normalize_per_million_reads(df_tmp)\n"
   ]
  },
  {
   "cell_type": "code",
   "execution_count": 63,
   "metadata": {
    "collapsed": false,
    "deletable": true,
    "editable": true
   },
   "outputs": [
    {
     "data": {
      "text/html": [
       "<div>\n",
       "<style>\n",
       "    .dataframe thead tr:only-child th {\n",
       "        text-align: right;\n",
       "    }\n",
       "\n",
       "    .dataframe thead th {\n",
       "        text-align: left;\n",
       "    }\n",
       "\n",
       "    .dataframe tbody tr th {\n",
       "        vertical-align: top;\n",
       "    }\n",
       "</style>\n",
       "<table border=\"1\" class=\"dataframe\">\n",
       "  <thead>\n",
       "    <tr style=\"text-align: right;\">\n",
       "      <th></th>\n",
       "      <th>batch_1</th>\n",
       "      <th>batch_2</th>\n",
       "      <th>batch_3</th>\n",
       "      <th>chemostat_1</th>\n",
       "      <th>chemostat_2</th>\n",
       "      <th>chemostat_3</th>\n",
       "    </tr>\n",
       "    <tr>\n",
       "      <th>gene_id</th>\n",
       "      <th></th>\n",
       "      <th></th>\n",
       "      <th></th>\n",
       "      <th></th>\n",
       "      <th></th>\n",
       "      <th></th>\n",
       "    </tr>\n",
       "  </thead>\n",
       "  <tbody>\n",
       "    <tr>\n",
       "      <th>gene_0001</th>\n",
       "      <td>0.00000</td>\n",
       "      <td>0.734587</td>\n",
       "      <td>3.129839</td>\n",
       "      <td>0.000000</td>\n",
       "      <td>0.000000</td>\n",
       "      <td>0.504810</td>\n",
       "    </tr>\n",
       "    <tr>\n",
       "      <th>gene_0002</th>\n",
       "      <td>0.00000</td>\n",
       "      <td>0.000000</td>\n",
       "      <td>0.000000</td>\n",
       "      <td>0.000000</td>\n",
       "      <td>0.000000</td>\n",
       "      <td>0.000000</td>\n",
       "    </tr>\n",
       "    <tr>\n",
       "      <th>gene_0003</th>\n",
       "      <td>0.00000</td>\n",
       "      <td>0.000000</td>\n",
       "      <td>0.000000</td>\n",
       "      <td>0.000000</td>\n",
       "      <td>0.000000</td>\n",
       "      <td>0.000000</td>\n",
       "    </tr>\n",
       "    <tr>\n",
       "      <th>gene_0004</th>\n",
       "      <td>0.00000</td>\n",
       "      <td>0.000000</td>\n",
       "      <td>0.000000</td>\n",
       "      <td>0.000000</td>\n",
       "      <td>0.000000</td>\n",
       "      <td>0.000000</td>\n",
       "    </tr>\n",
       "    <tr>\n",
       "      <th>gene_0005</th>\n",
       "      <td>0.94849</td>\n",
       "      <td>2.799529</td>\n",
       "      <td>4.969954</td>\n",
       "      <td>4.689762</td>\n",
       "      <td>4.372026</td>\n",
       "      <td>8.657291</td>\n",
       "    </tr>\n",
       "  </tbody>\n",
       "</table>\n",
       "</div>"
      ],
      "text/plain": [
       "           batch_1   batch_2   batch_3  chemostat_1  chemostat_2  chemostat_3\n",
       "gene_id                                                                      \n",
       "gene_0001  0.00000  0.734587  3.129839     0.000000     0.000000     0.504810\n",
       "gene_0002  0.00000  0.000000  0.000000     0.000000     0.000000     0.000000\n",
       "gene_0003  0.00000  0.000000  0.000000     0.000000     0.000000     0.000000\n",
       "gene_0004  0.00000  0.000000  0.000000     0.000000     0.000000     0.000000\n",
       "gene_0005  0.94849  2.799529  4.969954     4.689762     4.372026     8.657291"
      ]
     },
     "execution_count": 63,
     "metadata": {},
     "output_type": "execute_result"
    }
   ],
   "source": [
    "df_tmp.head()"
   ]
  },
  {
   "cell_type": "code",
   "execution_count": 64,
   "metadata": {
    "collapsed": false,
    "deletable": true,
    "editable": true
   },
   "outputs": [
    {
     "data": {
      "text/plain": [
       "batch_1        1000000.0\n",
       "batch_2        1000000.0\n",
       "batch_3        1000000.0\n",
       "chemostat_1    1000000.0\n",
       "chemostat_2    1000000.0\n",
       "chemostat_3    1000000.0\n",
       "dtype: float64"
      ]
     },
     "execution_count": 64,
     "metadata": {},
     "output_type": "execute_result"
    }
   ],
   "source": [
    "# RPKM/FPKMと違い、合計が100万となっています。\n",
    "df_tmp.sum()"
   ]
  },
  {
   "cell_type": "code",
   "execution_count": 65,
   "metadata": {
    "collapsed": true,
    "deletable": true,
    "editable": true
   },
   "outputs": [],
   "source": [
    "# 関数化します\n",
    "def normalize_tpm(df, gene_length):\n",
    "    df_tmp = df.copy()\n",
    "    df_tmp = normalize_per_kilobase(df_tmp, gene_length)\n",
    "    df_tmp = normalize_per_million_reads(df_tmp)\n",
    "    return df_tmp"
   ]
  },
  {
   "cell_type": "code",
   "execution_count": 66,
   "metadata": {
    "collapsed": false,
    "deletable": true,
    "editable": true
   },
   "outputs": [],
   "source": [
    "df_count_tpm = normalize_tpm(df_count, gene_length)"
   ]
  },
  {
   "cell_type": "code",
   "execution_count": 67,
   "metadata": {
    "collapsed": false,
    "deletable": true,
    "editable": true
   },
   "outputs": [
    {
     "data": {
      "text/plain": [
       "batch_1        1000000.0\n",
       "batch_2        1000000.0\n",
       "batch_3        1000000.0\n",
       "chemostat_1    1000000.0\n",
       "chemostat_2    1000000.0\n",
       "chemostat_3    1000000.0\n",
       "dtype: float64"
      ]
     },
     "execution_count": 67,
     "metadata": {},
     "output_type": "execute_result"
    }
   ],
   "source": [
    "df_count_tpm.sum() #  確認"
   ]
  },
  {
   "cell_type": "code",
   "execution_count": 68,
   "metadata": {
    "collapsed": true,
    "deletable": true,
    "editable": true
   },
   "outputs": [],
   "source": [
    "# 保存\n",
    "df_count_tpm.to_csv(\"output/count_tpm.tsv\", sep=\"\\t\")"
   ]
  },
  {
   "cell_type": "code",
   "execution_count": null,
   "metadata": {
    "collapsed": true,
    "deletable": true,
    "editable": true
   },
   "outputs": [],
   "source": []
  },
  {
   "cell_type": "markdown",
   "metadata": {
    "deletable": true,
    "editable": true
   },
   "source": [
    "* 参考）numpyを使った高速バージョンとの比較"
   ]
  },
  {
   "cell_type": "code",
   "execution_count": 69,
   "metadata": {
    "collapsed": false,
    "deletable": true,
    "editable": true
   },
   "outputs": [
    {
     "name": "stdout",
     "output_type": "stream",
     "text": [
      "100 loops, best of 3: 1.85 ms per loop\n"
     ]
    }
   ],
   "source": [
    "%%timeit\n",
    "# pandasで実装したもの\n",
    "normalize_tpm(df_count, gene_length)"
   ]
  },
  {
   "cell_type": "code",
   "execution_count": 72,
   "metadata": {
    "collapsed": false,
    "deletable": true,
    "editable": true
   },
   "outputs": [],
   "source": [
    "# valuesによりnumpy.ndarrayとして数値データを抽出\n",
    "counts = df_count.values\n",
    "length =gene_length.values"
   ]
  },
  {
   "cell_type": "code",
   "execution_count": 73,
   "metadata": {
    "collapsed": false,
    "deletable": true,
    "editable": true
   },
   "outputs": [
    {
     "name": "stdout",
     "output_type": "stream",
     "text": [
      "1000 loops, best of 3: 310 µs per loop\n"
     ]
    }
   ],
   "source": [
    "%%timeit\n",
    "# numpyで計算\n",
    "\n",
    "# 長さで正規化。行方向へbroadcastを行うため、reshapeしておく必要がある\n",
    "counts_tmp = counts / length.reshape(-1, 1) * 1000\n",
    "# カウント数の各列の合計を求めておく\n",
    "sum_count = counts_tmp.sum(axis=0)\n",
    "# 100万カウントに揃える\n",
    "tpm = counts_tmp / sum_count * 1000000"
   ]
  },
  {
   "cell_type": "code",
   "execution_count": null,
   "metadata": {
    "collapsed": false,
    "deletable": true,
    "editable": true
   },
   "outputs": [],
   "source": []
  },
  {
   "cell_type": "markdown",
   "metadata": {
    "deletable": true,
    "editable": true
   },
   "source": [
    "# 発現変動の大きかった遺伝子を抽出する"
   ]
  },
  {
   "cell_type": "code",
   "execution_count": 74,
   "metadata": {
    "collapsed": false,
    "deletable": true,
    "editable": true
   },
   "outputs": [],
   "source": [
    "# batch cultureの平均を求める\n",
    "df_count_fpkm[\"batch\"] = (df_count_fpkm[\"batch_1\"] + df_count_fpkm[\"batch_2\"] + df_count_fpkm[\"batch_3\"]) / 3\n"
   ]
  },
  {
   "cell_type": "code",
   "execution_count": 75,
   "metadata": {
    "collapsed": false,
    "deletable": true,
    "editable": true
   },
   "outputs": [],
   "source": [
    "# chemostatの平均を求める\n",
    "df_count_fpkm[\"chemostat\"] = (df_count_fpkm[\"chemostat_1\"] + df_count_fpkm[\"chemostat_2\"] + df_count_fpkm[\"chemostat_3\"]) / 3"
   ]
  },
  {
   "cell_type": "code",
   "execution_count": 76,
   "metadata": {
    "collapsed": true,
    "deletable": true,
    "editable": true
   },
   "outputs": [],
   "source": [
    "# 発現変動をlog2 fold として求める\n",
    "# 0 での除算を防ぐため、分母に微小な値を加えている\n",
    "df_count_fpkm[\"log2fold\"] = df_count_fpkm[\"chemostat\"] / (df_count_fpkm[\"batch\"] + 10**-6)\n",
    "df_count_fpkm[\"log2fold\"] = df_count_fpkm[\"log2fold\"].apply(np.log2)"
   ]
  },
  {
   "cell_type": "code",
   "execution_count": 77,
   "metadata": {
    "collapsed": false,
    "deletable": true,
    "editable": true
   },
   "outputs": [
    {
     "data": {
      "text/html": [
       "<div>\n",
       "<style>\n",
       "    .dataframe thead tr:only-child th {\n",
       "        text-align: right;\n",
       "    }\n",
       "\n",
       "    .dataframe thead th {\n",
       "        text-align: left;\n",
       "    }\n",
       "\n",
       "    .dataframe tbody tr th {\n",
       "        vertical-align: top;\n",
       "    }\n",
       "</style>\n",
       "<table border=\"1\" class=\"dataframe\">\n",
       "  <thead>\n",
       "    <tr style=\"text-align: right;\">\n",
       "      <th></th>\n",
       "      <th>batch_1</th>\n",
       "      <th>batch_2</th>\n",
       "      <th>batch_3</th>\n",
       "      <th>chemostat_1</th>\n",
       "      <th>chemostat_2</th>\n",
       "      <th>chemostat_3</th>\n",
       "      <th>batch</th>\n",
       "      <th>chemostat</th>\n",
       "      <th>log2fold</th>\n",
       "    </tr>\n",
       "    <tr>\n",
       "      <th>gene_id</th>\n",
       "      <th></th>\n",
       "      <th></th>\n",
       "      <th></th>\n",
       "      <th></th>\n",
       "      <th></th>\n",
       "      <th></th>\n",
       "      <th></th>\n",
       "      <th></th>\n",
       "      <th></th>\n",
       "    </tr>\n",
       "  </thead>\n",
       "  <tbody>\n",
       "    <tr>\n",
       "      <th>gene_0001</th>\n",
       "      <td>0.000000</td>\n",
       "      <td>0.881103</td>\n",
       "      <td>3.653609</td>\n",
       "      <td>0.000000</td>\n",
       "      <td>0.00000</td>\n",
       "      <td>0.561926</td>\n",
       "      <td>1.511571</td>\n",
       "      <td>0.187309</td>\n",
       "      <td>-3.012560</td>\n",
       "    </tr>\n",
       "    <tr>\n",
       "      <th>gene_0002</th>\n",
       "      <td>0.000000</td>\n",
       "      <td>0.000000</td>\n",
       "      <td>0.000000</td>\n",
       "      <td>0.000000</td>\n",
       "      <td>0.00000</td>\n",
       "      <td>0.000000</td>\n",
       "      <td>0.000000</td>\n",
       "      <td>0.000000</td>\n",
       "      <td>-inf</td>\n",
       "    </tr>\n",
       "    <tr>\n",
       "      <th>gene_0003</th>\n",
       "      <td>0.000000</td>\n",
       "      <td>0.000000</td>\n",
       "      <td>0.000000</td>\n",
       "      <td>0.000000</td>\n",
       "      <td>0.00000</td>\n",
       "      <td>0.000000</td>\n",
       "      <td>0.000000</td>\n",
       "      <td>0.000000</td>\n",
       "      <td>-inf</td>\n",
       "    </tr>\n",
       "    <tr>\n",
       "      <th>gene_0004</th>\n",
       "      <td>0.000000</td>\n",
       "      <td>0.000000</td>\n",
       "      <td>0.000000</td>\n",
       "      <td>0.000000</td>\n",
       "      <td>0.00000</td>\n",
       "      <td>0.000000</td>\n",
       "      <td>0.000000</td>\n",
       "      <td>0.000000</td>\n",
       "      <td>-inf</td>\n",
       "    </tr>\n",
       "    <tr>\n",
       "      <th>gene_0005</th>\n",
       "      <td>1.149909</td>\n",
       "      <td>3.357905</td>\n",
       "      <td>5.801662</td>\n",
       "      <td>5.123019</td>\n",
       "      <td>4.74806</td>\n",
       "      <td>9.636806</td>\n",
       "      <td>3.436492</td>\n",
       "      <td>6.502628</td>\n",
       "      <td>0.920086</td>\n",
       "    </tr>\n",
       "  </tbody>\n",
       "</table>\n",
       "</div>"
      ],
      "text/plain": [
       "            batch_1   batch_2   batch_3  chemostat_1  chemostat_2  \\\n",
       "gene_id                                                             \n",
       "gene_0001  0.000000  0.881103  3.653609     0.000000      0.00000   \n",
       "gene_0002  0.000000  0.000000  0.000000     0.000000      0.00000   \n",
       "gene_0003  0.000000  0.000000  0.000000     0.000000      0.00000   \n",
       "gene_0004  0.000000  0.000000  0.000000     0.000000      0.00000   \n",
       "gene_0005  1.149909  3.357905  5.801662     5.123019      4.74806   \n",
       "\n",
       "           chemostat_3     batch  chemostat  log2fold  \n",
       "gene_id                                                \n",
       "gene_0001     0.561926  1.511571   0.187309 -3.012560  \n",
       "gene_0002     0.000000  0.000000   0.000000      -inf  \n",
       "gene_0003     0.000000  0.000000   0.000000      -inf  \n",
       "gene_0004     0.000000  0.000000   0.000000      -inf  \n",
       "gene_0005     9.636806  3.436492   6.502628  0.920086  "
      ]
     },
     "execution_count": 77,
     "metadata": {},
     "output_type": "execute_result"
    }
   ],
   "source": [
    "df_count_fpkm.head()"
   ]
  },
  {
   "cell_type": "code",
   "execution_count": 78,
   "metadata": {
    "collapsed": false,
    "deletable": true,
    "editable": true
   },
   "outputs": [],
   "source": [
    "# 必要部分のみ抜き出し、productと結合\n",
    "diff_ex = df_count_fpkm[[\"batch\", \"chemostat\", \"log2fold\"]]\n",
    "diff_ex = diff_ex.join(gene_products)"
   ]
  },
  {
   "cell_type": "code",
   "execution_count": 79,
   "metadata": {
    "collapsed": false,
    "deletable": true,
    "editable": true
   },
   "outputs": [
    {
     "data": {
      "text/html": [
       "<div>\n",
       "<style>\n",
       "    .dataframe thead tr:only-child th {\n",
       "        text-align: right;\n",
       "    }\n",
       "\n",
       "    .dataframe thead th {\n",
       "        text-align: left;\n",
       "    }\n",
       "\n",
       "    .dataframe tbody tr th {\n",
       "        vertical-align: top;\n",
       "    }\n",
       "</style>\n",
       "<table border=\"1\" class=\"dataframe\">\n",
       "  <thead>\n",
       "    <tr style=\"text-align: right;\">\n",
       "      <th></th>\n",
       "      <th>batch</th>\n",
       "      <th>chemostat</th>\n",
       "      <th>log2fold</th>\n",
       "      <th>product</th>\n",
       "    </tr>\n",
       "    <tr>\n",
       "      <th>gene_id</th>\n",
       "      <th></th>\n",
       "      <th></th>\n",
       "      <th></th>\n",
       "      <th></th>\n",
       "    </tr>\n",
       "  </thead>\n",
       "  <tbody>\n",
       "    <tr>\n",
       "      <th>gene_0001</th>\n",
       "      <td>1.511571</td>\n",
       "      <td>0.187309</td>\n",
       "      <td>-3.012560</td>\n",
       "      <td>seripauperin PAU8</td>\n",
       "    </tr>\n",
       "    <tr>\n",
       "      <th>gene_0002</th>\n",
       "      <td>0.000000</td>\n",
       "      <td>0.000000</td>\n",
       "      <td>-inf</td>\n",
       "      <td>hypothetical protein</td>\n",
       "    </tr>\n",
       "    <tr>\n",
       "      <th>gene_0003</th>\n",
       "      <td>0.000000</td>\n",
       "      <td>0.000000</td>\n",
       "      <td>-inf</td>\n",
       "      <td>putative permease SEO1</td>\n",
       "    </tr>\n",
       "    <tr>\n",
       "      <th>gene_0004</th>\n",
       "      <td>0.000000</td>\n",
       "      <td>0.000000</td>\n",
       "      <td>-inf</td>\n",
       "      <td>hypothetical protein</td>\n",
       "    </tr>\n",
       "    <tr>\n",
       "      <th>gene_0005</th>\n",
       "      <td>3.436492</td>\n",
       "      <td>6.502628</td>\n",
       "      <td>0.920086</td>\n",
       "      <td>hypothetical protein</td>\n",
       "    </tr>\n",
       "  </tbody>\n",
       "</table>\n",
       "</div>"
      ],
      "text/plain": [
       "              batch  chemostat  log2fold                 product\n",
       "gene_id                                                         \n",
       "gene_0001  1.511571   0.187309 -3.012560       seripauperin PAU8\n",
       "gene_0002  0.000000   0.000000      -inf    hypothetical protein\n",
       "gene_0003  0.000000   0.000000      -inf  putative permease SEO1\n",
       "gene_0004  0.000000   0.000000      -inf    hypothetical protein\n",
       "gene_0005  3.436492   6.502628  0.920086    hypothetical protein"
      ]
     },
     "execution_count": 79,
     "metadata": {},
     "output_type": "execute_result"
    }
   ],
   "source": [
    "diff_ex.head()"
   ]
  },
  {
   "cell_type": "code",
   "execution_count": 11,
   "metadata": {
    "collapsed": false,
    "deletable": true,
    "editable": true
   },
   "outputs": [],
   "source": [
    "# カウント数が0であるデータを除いておく\n",
    "#diff_ex = diff_ex[diff_ex[\"batch\"] > 0]\n",
    "#diff_ex = diff_ex[diff_ex[\"chemostat\"] > 0]"
   ]
  },
  {
   "cell_type": "code",
   "execution_count": 10,
   "metadata": {
    "collapsed": false,
    "deletable": true,
    "editable": true
   },
   "outputs": [],
   "source": [
    "#diff_ex"
   ]
  },
  {
   "cell_type": "markdown",
   "metadata": {},
   "source": [
    "__課題7 log2foldの列を降順に並び替える（diff_ex.sort_valuesを使う)__"
   ]
  },
  {
   "cell_type": "code",
   "execution_count": null,
   "metadata": {
    "collapsed": false,
    "deletable": true,
    "editable": true
   },
   "outputs": [],
   "source": []
  },
  {
   "cell_type": "code",
   "execution_count": 83,
   "metadata": {
    "collapsed": false,
    "deletable": true,
    "editable": true
   },
   "outputs": [
    {
     "data": {
      "text/html": [
       "<div>\n",
       "<style>\n",
       "    .dataframe thead tr:only-child th {\n",
       "        text-align: right;\n",
       "    }\n",
       "\n",
       "    .dataframe thead th {\n",
       "        text-align: left;\n",
       "    }\n",
       "\n",
       "    .dataframe tbody tr th {\n",
       "        vertical-align: top;\n",
       "    }\n",
       "</style>\n",
       "<table border=\"1\" class=\"dataframe\">\n",
       "  <thead>\n",
       "    <tr style=\"text-align: right;\">\n",
       "      <th></th>\n",
       "      <th>batch</th>\n",
       "      <th>chemostat</th>\n",
       "      <th>log2fold</th>\n",
       "      <th>product</th>\n",
       "    </tr>\n",
       "    <tr>\n",
       "      <th>gene_id</th>\n",
       "      <th></th>\n",
       "      <th></th>\n",
       "      <th></th>\n",
       "      <th></th>\n",
       "    </tr>\n",
       "  </thead>\n",
       "  <tbody>\n",
       "    <tr>\n",
       "      <th>gene_2989</th>\n",
       "      <td>0.511745</td>\n",
       "      <td>1610.887557</td>\n",
       "      <td>11.620140</td>\n",
       "      <td>Rgi2p</td>\n",
       "    </tr>\n",
       "    <tr>\n",
       "      <th>gene_4740</th>\n",
       "      <td>3.717076</td>\n",
       "      <td>5574.454736</td>\n",
       "      <td>10.550447</td>\n",
       "      <td>Sip18p</td>\n",
       "    </tr>\n",
       "    <tr>\n",
       "      <th>gene_4667</th>\n",
       "      <td>5.975449</td>\n",
       "      <td>5113.855146</td>\n",
       "      <td>9.741148</td>\n",
       "      <td>Spg4p</td>\n",
       "    </tr>\n",
       "    <tr>\n",
       "      <th>gene_5965</th>\n",
       "      <td>8.615621</td>\n",
       "      <td>5815.573818</td>\n",
       "      <td>9.398751</td>\n",
       "      <td>Gre1p</td>\n",
       "    </tr>\n",
       "    <tr>\n",
       "      <th>gene_4237</th>\n",
       "      <td>1.158934</td>\n",
       "      <td>776.350184</td>\n",
       "      <td>9.387764</td>\n",
       "      <td>hypothetical protein</td>\n",
       "    </tr>\n",
       "  </tbody>\n",
       "</table>\n",
       "</div>"
      ],
      "text/plain": [
       "              batch    chemostat   log2fold               product\n",
       "gene_id                                                          \n",
       "gene_2989  0.511745  1610.887557  11.620140                 Rgi2p\n",
       "gene_4740  3.717076  5574.454736  10.550447                Sip18p\n",
       "gene_4667  5.975449  5113.855146   9.741148                 Spg4p\n",
       "gene_5965  8.615621  5815.573818   9.398751                 Gre1p\n",
       "gene_4237  1.158934   776.350184   9.387764  hypothetical protein"
      ]
     },
     "execution_count": 83,
     "metadata": {},
     "output_type": "execute_result"
    }
   ],
   "source": [
    "diff_ex.head()"
   ]
  },
  {
   "cell_type": "code",
   "execution_count": 84,
   "metadata": {
    "collapsed": false,
    "deletable": true,
    "editable": true
   },
   "outputs": [
    {
     "data": {
      "text/html": [
       "<div>\n",
       "<style>\n",
       "    .dataframe thead tr:only-child th {\n",
       "        text-align: right;\n",
       "    }\n",
       "\n",
       "    .dataframe thead th {\n",
       "        text-align: left;\n",
       "    }\n",
       "\n",
       "    .dataframe tbody tr th {\n",
       "        vertical-align: top;\n",
       "    }\n",
       "</style>\n",
       "<table border=\"1\" class=\"dataframe\">\n",
       "  <thead>\n",
       "    <tr style=\"text-align: right;\">\n",
       "      <th></th>\n",
       "      <th>batch</th>\n",
       "      <th>chemostat</th>\n",
       "      <th>log2fold</th>\n",
       "      <th>product</th>\n",
       "    </tr>\n",
       "    <tr>\n",
       "      <th>gene_id</th>\n",
       "      <th></th>\n",
       "      <th></th>\n",
       "      <th></th>\n",
       "      <th></th>\n",
       "    </tr>\n",
       "  </thead>\n",
       "  <tbody>\n",
       "    <tr>\n",
       "      <th>gene_0314</th>\n",
       "      <td>12.593317</td>\n",
       "      <td>1.214752</td>\n",
       "      <td>-3.373925</td>\n",
       "      <td>ADP/ATP carrier protein AAC3</td>\n",
       "    </tr>\n",
       "    <tr>\n",
       "      <th>gene_2429</th>\n",
       "      <td>2.481020</td>\n",
       "      <td>0.202360</td>\n",
       "      <td>-3.615936</td>\n",
       "      <td>hypothetical protein</td>\n",
       "    </tr>\n",
       "    <tr>\n",
       "      <th>gene_2725</th>\n",
       "      <td>938.239733</td>\n",
       "      <td>73.367263</td>\n",
       "      <td>-3.676748</td>\n",
       "      <td>hexose transporter HXT4</td>\n",
       "    </tr>\n",
       "    <tr>\n",
       "      <th>gene_5487</th>\n",
       "      <td>92.881590</td>\n",
       "      <td>6.848675</td>\n",
       "      <td>-3.761496</td>\n",
       "      <td>hypothetical protein</td>\n",
       "    </tr>\n",
       "    <tr>\n",
       "      <th>gene_1320</th>\n",
       "      <td>969.132836</td>\n",
       "      <td>50.512030</td>\n",
       "      <td>-4.261995</td>\n",
       "      <td>hexose transporter HXT3</td>\n",
       "    </tr>\n",
       "  </tbody>\n",
       "</table>\n",
       "</div>"
      ],
      "text/plain": [
       "                batch  chemostat  log2fold                       product\n",
       "gene_id                                                                 \n",
       "gene_0314   12.593317   1.214752 -3.373925  ADP/ATP carrier protein AAC3\n",
       "gene_2429    2.481020   0.202360 -3.615936          hypothetical protein\n",
       "gene_2725  938.239733  73.367263 -3.676748       hexose transporter HXT4\n",
       "gene_5487   92.881590   6.848675 -3.761496          hypothetical protein\n",
       "gene_1320  969.132836  50.512030 -4.261995       hexose transporter HXT3"
      ]
     },
     "execution_count": 84,
     "metadata": {},
     "output_type": "execute_result"
    }
   ],
   "source": [
    "diff_ex.tail()"
   ]
  },
  {
   "cell_type": "code",
   "execution_count": null,
   "metadata": {
    "collapsed": true,
    "deletable": true,
    "editable": true
   },
   "outputs": [],
   "source": []
  },
  {
   "cell_type": "code",
   "execution_count": null,
   "metadata": {
    "collapsed": true,
    "deletable": true,
    "editable": true
   },
   "outputs": [],
   "source": []
  },
  {
   "cell_type": "code",
   "execution_count": null,
   "metadata": {
    "collapsed": true,
    "deletable": true,
    "editable": true
   },
   "outputs": [],
   "source": []
  },
  {
   "cell_type": "code",
   "execution_count": null,
   "metadata": {
    "collapsed": true,
    "deletable": true,
    "editable": true
   },
   "outputs": [],
   "source": []
  },
  {
   "cell_type": "markdown",
   "metadata": {
    "collapsed": true,
    "deletable": true,
    "editable": true
   },
   "source": [
    "以下はおまけ。TPM正規化したデータをクラスタリングしてみます"
   ]
  },
  {
   "cell_type": "code",
   "execution_count": 90,
   "metadata": {
    "collapsed": true,
    "deletable": true,
    "editable": true
   },
   "outputs": [],
   "source": [
    "import matplotlib.pyplot as plt\n",
    "from scipy.cluster.hierarchy import linkage, dendrogram, fcluster"
   ]
  },
  {
   "cell_type": "code",
   "execution_count": 91,
   "metadata": {
    "collapsed": false,
    "deletable": true,
    "editable": true
   },
   "outputs": [
    {
     "data": {
      "image/png": "[encoded data removed]",
      "text/plain": [
       "<matplotlib.figure.Figure at 0x1090f0c18>"
      ]
     },
     "metadata": {},
     "output_type": "display_data"
    }
   ],
   "source": [
    "tpm_t = df_count_tpm.T\n",
    "linkage_result = linkage(tpm_t, method='average', metric='correlation')\n",
    "plt.figure(num=None, figsize=(16, 9), dpi=200, facecolor='w', edgecolor='k')\n",
    "dendrogram(linkage_result)\n",
    "plt.show()"
   ]
  }
 ],
 "metadata": {
  "kernelspec": {
   "display_name": "Python 3",
   "language": "python",
   "name": "python3"
  },
  "language_info": {
   "codemirror_mode": {
    "name": "ipython",
    "version": 3
   },
   "file_extension": ".py",
   "mimetype": "text/x-python",
   "name": "python",
   "nbconvert_exporter": "python",
   "pygments_lexer": "ipython3",
   "version": "3.6.0"
  },
  "toc": {
   "colors": {
    "hover_highlight": "#DAA520",
    "running_highlight": "#FF0000",
    "selected_highlight": "#FFD700"
   },
   "moveMenuLeft": true,
   "nav_menu": {
    "height": "102px",
    "width": "252px"
   },
   "navigate_menu": true,
   "number_sections": true,
   "sideBar": true,
   "threshold": 4,
   "toc_cell": false,
   "toc_section_display": "block",
   "toc_window_display": false
  }
 },
 "nbformat": 4,
 "nbformat_minor": 2
}
