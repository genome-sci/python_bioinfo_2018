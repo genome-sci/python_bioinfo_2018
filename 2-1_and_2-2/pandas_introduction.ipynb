{
 "cells": [
  {
   "cell_type": "markdown",
   "metadata": {
    "deletable": true,
    "editable": true
   },
   "source": [
    "# pandasの基本操作\n",
    "  \n",
    "pandas はデータ解析用のライブラリで、おもに二次元の表形式データ (DataFrame) を主な対象としています。[[公式サイト](http://pandas.pydata.org)]  \n",
    "pandasは、行列・多次元配列を扱う数値計算ライブラリnumpyを内部的に利用して高速な計算が可能です。また、pandasは時系列データや文字データなどを含んだ様々な表形式ファイルの扱いに長けています。  \n",
    "本講義では、pandas公式サイトの\"[10 Minutes to pandas](https://pandas.pydata.org/pandas-docs/stable/10min.html)\"の内容をベースに、基本的なpandasの操作方法を学びます。  "
   ]
  },
  {
   "cell_type": "code",
   "execution_count": 1,
   "metadata": {
    "collapsed": true,
    "deletable": true,
    "editable": true
   },
   "outputs": [],
   "source": [
    "import pandas as pd\n",
    "import numpy as np"
   ]
  },
  {
   "cell_type": "code",
   "execution_count": 2,
   "metadata": {
    "collapsed": false,
    "deletable": true,
    "editable": true
   },
   "outputs": [
    {
     "data": {
      "text/plain": [
       "'0.20.3'"
      ]
     },
     "execution_count": 2,
     "metadata": {},
     "output_type": "execute_result"
    }
   ],
   "source": [
    "pd.__version__"
   ]
  },
  {
   "cell_type": "markdown",
   "metadata": {
    "deletable": true,
    "editable": true
   },
   "source": [
    "# Series"
   ]
  },
  {
   "cell_type": "markdown",
   "metadata": {
    "deletable": true,
    "editable": true
   },
   "source": [
    "一次元のデータを扱うためのデータオブジェクトで、リストと似ています。"
   ]
  },
  {
   "cell_type": "markdown",
   "metadata": {
    "deletable": true,
    "editable": true
   },
   "source": [
    "## Seriesの作成\n"
   ]
  },
  {
   "cell_type": "markdown",
   "metadata": {
    "deletable": true,
    "editable": true
   },
   "source": [
    "```\n",
    "pd.Series(data=None, index=None, dtype=None, name=None, copy=False, fastpath=False)\n",
    "```"
   ]
  },
  {
   "cell_type": "code",
   "execution_count": 3,
   "metadata": {
    "collapsed": false,
    "deletable": true,
    "editable": true
   },
   "outputs": [],
   "source": [
    "pd.Series?"
   ]
  },
  {
   "cell_type": "code",
   "execution_count": 332,
   "metadata": {
    "collapsed": false,
    "deletable": true,
    "editable": true
   },
   "outputs": [],
   "source": [
    "# リストからSeriesを作成します。\n",
    "s1 = pd.Series([1, 3, 5, 6, 8])"
   ]
  },
  {
   "cell_type": "code",
   "execution_count": 333,
   "metadata": {
    "collapsed": false,
    "deletable": true,
    "editable": true
   },
   "outputs": [
    {
     "data": {
      "text/plain": [
       "0    1\n",
       "1    3\n",
       "2    5\n",
       "3    6\n",
       "4    8\n",
       "dtype: int64"
      ]
     },
     "execution_count": 333,
     "metadata": {},
     "output_type": "execute_result"
    }
   ],
   "source": [
    "# 上記の場合、データ形式はint64となります。\n",
    "s1"
   ]
  },
  {
   "cell_type": "code",
   "execution_count": 334,
   "metadata": {
    "collapsed": false,
    "deletable": true,
    "editable": true
   },
   "outputs": [
    {
     "data": {
      "text/plain": [
       "0    1.0\n",
       "1    3.0\n",
       "2    5.0\n",
       "3    6.0\n",
       "4    8.0\n",
       "dtype: float64"
      ]
     },
     "execution_count": 334,
     "metadata": {},
     "output_type": "execute_result"
    }
   ],
   "source": [
    "s2 = pd.Series([1, 3, 5, 6, 8.0])\n",
    "s2  # dtypeはfloat64"
   ]
  },
  {
   "cell_type": "code",
   "execution_count": 335,
   "metadata": {
    "collapsed": false,
    "deletable": true,
    "editable": true
   },
   "outputs": [
    {
     "data": {
      "text/plain": [
       "0        1\n",
       "1        3\n",
       "2        5\n",
       "3        6\n",
       "4        8\n",
       "5    hello\n",
       "dtype: object"
      ]
     },
     "execution_count": 335,
     "metadata": {},
     "output_type": "execute_result"
    }
   ],
   "source": [
    "s3 = pd.Series([1,3,5,6,8.0, \"hello\"])\n",
    "s3  # dtypeはoject"
   ]
  },
  {
   "cell_type": "code",
   "execution_count": null,
   "metadata": {
    "collapsed": false,
    "deletable": true,
    "editable": true
   },
   "outputs": [],
   "source": []
  },
  {
   "cell_type": "code",
   "execution_count": 336,
   "metadata": {
    "collapsed": false,
    "deletable": true,
    "editable": true
   },
   "outputs": [
    {
     "data": {
      "text/plain": [
       "DatetimeIndex(['2018-11-20', '2018-11-21', '2018-11-22', '2018-11-23',\n",
       "               '2018-11-24', '2018-11-25', '2018-11-26'],\n",
       "              dtype='datetime64[ns]', freq='D')"
      ]
     },
     "execution_count": 336,
     "metadata": {},
     "output_type": "execute_result"
    }
   ],
   "source": [
    "dates = pd.date_range('20181120', periods=7)\n",
    "dates  # 時系列データを扱うこともできます。(本講義では時系列データは扱いません。)"
   ]
  },
  {
   "cell_type": "markdown",
   "metadata": {
    "deletable": true,
    "editable": true
   },
   "source": [
    "## Seriesの計算\n",
    "Seriesは一次元データを扱うためのデータオブジェクトです。  \n",
    "実際の解析では自分でSeriesを新規に作成する機会はあまりありませんが、表形式データの行や列を抽出した場合にSeriesデータとして結果が返されることが多いです。"
   ]
  },
  {
   "cell_type": "code",
   "execution_count": 337,
   "metadata": {
    "collapsed": false,
    "deletable": true,
    "editable": true
   },
   "outputs": [],
   "source": [
    "# Seriesの作成\n",
    "s1 = pd.Series([1,3,5,6,8])\n",
    "s2 = pd.Series([10,30,50,60,80,100])"
   ]
  },
  {
   "cell_type": "code",
   "execution_count": 338,
   "metadata": {
    "collapsed": false,
    "deletable": true,
    "editable": true
   },
   "outputs": [
    {
     "name": "stdout",
     "output_type": "stream",
     "text": [
      "0    11\n",
      "1    13\n",
      "2    15\n",
      "3    16\n",
      "4    18\n",
      "dtype: int64\n",
      "0     1.0\n",
      "1     3.0\n",
      "2     5.0\n",
      "3     6.0\n",
      "4     8.0\n",
      "5    10.0\n",
      "dtype: float64\n"
     ]
    }
   ],
   "source": [
    "# 四則計算は各要素全てが計算対象となります。\n",
    "print(s1 + 10)\n",
    "print(s2 / 10) \n",
    "# 注) python3では / の結果はfloatで返ります。 \n",
    "# // を使うとintで返ります。i.e. 10/2=5.0  10//2=5  9//2=4"
   ]
  },
  {
   "cell_type": "code",
   "execution_count": 339,
   "metadata": {
    "collapsed": false,
    "deletable": true,
    "editable": true
   },
   "outputs": [
    {
     "data": {
      "text/plain": [
       "0     10.0\n",
       "1     90.0\n",
       "2    250.0\n",
       "3    360.0\n",
       "4    640.0\n",
       "5      NaN\n",
       "dtype: float64"
      ]
     },
     "execution_count": 339,
     "metadata": {},
     "output_type": "execute_result"
    }
   ],
   "source": [
    "# Series同士の掛け算 (同じ位置にある要素同士が計算されます)\n",
    "s1 * s2"
   ]
  },
  {
   "cell_type": "code",
   "execution_count": null,
   "metadata": {
    "collapsed": false,
    "deletable": true,
    "editable": true
   },
   "outputs": [],
   "source": []
  },
  {
   "cell_type": "code",
   "execution_count": null,
   "metadata": {
    "collapsed": false,
    "deletable": true,
    "editable": true
   },
   "outputs": [],
   "source": []
  },
  {
   "cell_type": "markdown",
   "metadata": {
    "deletable": true,
    "editable": true
   },
   "source": [
    "## データの切り出し"
   ]
  },
  {
   "cell_type": "code",
   "execution_count": 340,
   "metadata": {
    "collapsed": true,
    "deletable": true,
    "editable": true
   },
   "outputs": [],
   "source": [
    "pd.Series?"
   ]
  },
  {
   "cell_type": "code",
   "execution_count": 341,
   "metadata": {
    "collapsed": true,
    "deletable": true,
    "editable": true
   },
   "outputs": [],
   "source": [
    "s1 = pd.Series(list(\"ABCDEFGHIJKLMN\"))\n",
    "s2 = pd.Series([10, 30, 50, 60, 80, 100, 'A'])"
   ]
  },
  {
   "cell_type": "code",
   "execution_count": 380,
   "metadata": {
    "collapsed": false
   },
   "outputs": [
    {
     "name": "stdout",
     "output_type": "stream",
     "text": [
      "D\n"
     ]
    }
   ],
   "source": [
    "# 位置を指定して単独の要素を取得\n",
    "print(s1[3])"
   ]
  },
  {
   "cell_type": "code",
   "execution_count": 381,
   "metadata": {
    "collapsed": false,
    "deletable": true,
    "editable": true
   },
   "outputs": [
    {
     "name": "stdout",
     "output_type": "stream",
     "text": [
      "2    50\n",
      "3    60\n",
      "4    80\n",
      "dtype: object\n",
      "0     10\n",
      "1     30\n",
      "2     50\n",
      "3     60\n",
      "4     80\n",
      "5    100\n",
      "dtype: object\n"
     ]
    }
   ],
   "source": [
    "# リストと同じようにスライスを使ってデータを切り出すことができます\n",
    "print(s2[2:5])  # 結果はSeriesとして返される\n",
    "print(s2[:-1])"
   ]
  },
  {
   "cell_type": "code",
   "execution_count": null,
   "metadata": {
    "collapsed": false
   },
   "outputs": [],
   "source": []
  },
  {
   "cell_type": "code",
   "execution_count": null,
   "metadata": {
    "collapsed": false
   },
   "outputs": [],
   "source": []
  },
  {
   "cell_type": "code",
   "execution_count": 393,
   "metadata": {
    "collapsed": false,
    "deletable": true,
    "editable": true
   },
   "outputs": [
    {
     "data": {
      "text/plain": [
       "pandas.core.series.Series"
      ]
     },
     "execution_count": 393,
     "metadata": {},
     "output_type": "execute_result"
    }
   ],
   "source": [
    "type(s1[3:8])  # 結果はSeriesで返る"
   ]
  },
  {
   "cell_type": "code",
   "execution_count": 397,
   "metadata": {
    "collapsed": false,
    "deletable": true,
    "editable": true
   },
   "outputs": [
    {
     "data": {
      "text/plain": [
       "0    A\n",
       "2    C\n",
       "4    E\n",
       "6    G\n",
       "8    I\n",
       "dtype: object"
      ]
     },
     "execution_count": 397,
     "metadata": {},
     "output_type": "execute_result"
    }
   ],
   "source": [
    "# 複数の位置を指定\n",
    "targets = [0, 2, 4, 6, 8]\n",
    "s1[targets]"
   ]
  },
  {
   "cell_type": "code",
   "execution_count": 398,
   "metadata": {
    "collapsed": false,
    "deletable": true,
    "editable": true
   },
   "outputs": [
    {
     "data": {
      "text/plain": [
       "0    A\n",
       "2    C\n",
       "4    E\n",
       "6    G\n",
       "8    I\n",
       "dtype: object"
      ]
     },
     "execution_count": 398,
     "metadata": {},
     "output_type": "execute_result"
    }
   ],
   "source": [
    "# 上記を一行で書くと、次のように[]が二重になります。(s1[0, 2, 4, 6, 8]はエラーになる)\n",
    "# 二重の[]はpandasでは頻繁に登場します。\n",
    "s1[[0, 2, 4, 6, 8]]"
   ]
  },
  {
   "cell_type": "code",
   "execution_count": 399,
   "metadata": {
    "collapsed": false
   },
   "outputs": [
    {
     "name": "stdout",
     "output_type": "stream",
     "text": [
      "s1[0]:\n",
      "A\n",
      "<class 'str'>\n",
      "------------------\n",
      "s1[[0]]:\n",
      "0    A\n",
      "dtype: object\n",
      "<class 'pandas.core.series.Series'>\n"
     ]
    }
   ],
   "source": [
    "# 以下の２つの違いに注意してください\n",
    "print(\"s1[0]:\")  # 単独の数値で指定\n",
    "print(s1[0])\n",
    "print(type(s1[0]))\n",
    "print(\"------------------\")\n",
    "print(\"s1[[0]]:\")  # リストで指定\n",
    "print(s1[[0]])\n",
    "print(type(s1[[0]]))\n",
    "\n",
    "      "
   ]
  },
  {
   "cell_type": "code",
   "execution_count": 400,
   "metadata": {
    "collapsed": false,
    "deletable": true,
    "editable": true
   },
   "outputs": [
    {
     "data": {
      "text/plain": [
       "[10, 30, 50, 60, 80, 100, 'A']"
      ]
     },
     "execution_count": 400,
     "metadata": {},
     "output_type": "execute_result"
    }
   ],
   "source": [
    "# list関数を使えばリストにすることができます。\n",
    "list(s2)"
   ]
  },
  {
   "cell_type": "markdown",
   "metadata": {
    "deletable": true,
    "editable": true
   },
   "source": [
    "## indexを使ったデータの切り出し"
   ]
  },
  {
   "cell_type": "code",
   "execution_count": 401,
   "metadata": {
    "collapsed": true,
    "deletable": true,
    "editable": true
   },
   "outputs": [],
   "source": [
    "pd.Series?"
   ]
  },
  {
   "cell_type": "markdown",
   "metadata": {
    "deletable": true,
    "editable": true
   },
   "source": [
    "```\n",
    "pd.Series(data=None, index=None, dtype=None, name=None, copy=False, fastpath=False)\n",
    "```\n"
   ]
  },
  {
   "cell_type": "code",
   "execution_count": 402,
   "metadata": {
    "collapsed": false,
    "deletable": true,
    "editable": true
   },
   "outputs": [],
   "source": [
    "# indexを指定してSeriesを作る\n",
    "s3 = pd.Series([100, 200, 300, 400 , 500], index=[\"A\", \"B\", \"C\", \"D\", \"E\"])"
   ]
  },
  {
   "cell_type": "code",
   "execution_count": 403,
   "metadata": {
    "collapsed": false,
    "deletable": true,
    "editable": true
   },
   "outputs": [
    {
     "data": {
      "text/plain": [
       "A    100\n",
       "B    200\n",
       "C    300\n",
       "D    400\n",
       "E    500\n",
       "dtype: int64"
      ]
     },
     "execution_count": 403,
     "metadata": {},
     "output_type": "execute_result"
    }
   ],
   "source": [
    "s3"
   ]
  },
  {
   "cell_type": "code",
   "execution_count": 404,
   "metadata": {
    "collapsed": false,
    "deletable": true,
    "editable": true
   },
   "outputs": [
    {
     "data": {
      "text/plain": [
       "100"
      ]
     },
     "execution_count": 404,
     "metadata": {},
     "output_type": "execute_result"
    }
   ],
   "source": [
    "# indexを指定してデータを取り出す\n",
    "s3[\"A\"]"
   ]
  },
  {
   "cell_type": "code",
   "execution_count": 405,
   "metadata": {
    "collapsed": false,
    "deletable": true,
    "editable": true
   },
   "outputs": [
    {
     "data": {
      "text/plain": [
       "B    200\n",
       "D    400\n",
       "dtype: int64"
      ]
     },
     "execution_count": 405,
     "metadata": {},
     "output_type": "execute_result"
    }
   ],
   "source": [
    "# 複数指定の場合\n",
    "targets = [\"B\", \"D\"]\n",
    "s3[targets]  # 一行で書くと s3[[\"B\", \"D\"]]"
   ]
  },
  {
   "cell_type": "code",
   "execution_count": 406,
   "metadata": {
    "collapsed": false,
    "deletable": true,
    "editable": true
   },
   "outputs": [
    {
     "name": "stdout",
     "output_type": "stream",
     "text": [
      "200\n",
      "A    100\n",
      "C    300\n",
      "E    500\n",
      "dtype: int64\n"
     ]
    }
   ],
   "source": [
    "# indexではなくて位置で指定することも可能\n",
    "print(s3[1])\n",
    "print(s3[[0,2,4]])"
   ]
  },
  {
   "cell_type": "code",
   "execution_count": 407,
   "metadata": {
    "collapsed": false,
    "deletable": true,
    "editable": true
   },
   "outputs": [
    {
     "data": {
      "text/plain": [
       "George     Harrison\n",
       "John         Lennon\n",
       "Paul      McCartney\n",
       "Ringo         Starr\n",
       "dtype: object"
      ]
     },
     "execution_count": 407,
     "metadata": {},
     "output_type": "execute_result"
    }
   ],
   "source": [
    "# 辞書を使ってindexを指定したSeriesを作成\n",
    "D = {\"John\": \"Lennon\", \"Paul\": \"McCartney\", \"George\": \"Harrison\", \"Ringo\": \"Starr\"}\n",
    "s4 = pd.Series(D)\n",
    "s4"
   ]
  },
  {
   "cell_type": "code",
   "execution_count": 408,
   "metadata": {
    "collapsed": false,
    "deletable": true,
    "editable": true
   },
   "outputs": [
    {
     "data": {
      "text/plain": [
       "John       Lennon\n",
       "Paul    McCartney\n",
       "dtype: object"
      ]
     },
     "execution_count": 408,
     "metadata": {},
     "output_type": "execute_result"
    }
   ],
   "source": [
    "s4[[\"John\", \"Paul\"]]"
   ]
  },
  {
   "cell_type": "code",
   "execution_count": 409,
   "metadata": {
    "collapsed": false,
    "deletable": true,
    "editable": true
   },
   "outputs": [
    {
     "name": "stdout",
     "output_type": "stream",
     "text": [
      "John         Lennon\n",
      "Paul      McCartney\n",
      "George     Harrison\n",
      "Ringo         Starr\n",
      "Paul          Simon\n",
      "Art       Garfunkel\n",
      "dtype: object\n"
     ]
    }
   ],
   "source": [
    "# インデックスに用いる値はユニークでなくても可\n",
    "data= [\"Lennon\", \"McCartney\", \"Harrison\", \"Starr\", \"Simon\", \"Garfunkel\"]\n",
    "index = [\"John\", \"Paul\", \"George\", \"Ringo\", \"Paul\", \"Art\"]\n",
    "s5 = pd.Series(data=data, index=index)\n",
    "print(s5)"
   ]
  },
  {
   "cell_type": "code",
   "execution_count": 410,
   "metadata": {
    "collapsed": false,
    "deletable": true,
    "editable": true
   },
   "outputs": [
    {
     "data": {
      "text/plain": [
       "Paul    McCartney\n",
       "Paul        Simon\n",
       "dtype: object"
      ]
     },
     "execution_count": 410,
     "metadata": {},
     "output_type": "execute_result"
    }
   ],
   "source": [
    "s5[\"Paul\"]  # ２つの要素が返る (データ形式はSeries)"
   ]
  },
  {
   "cell_type": "code",
   "execution_count": 411,
   "metadata": {
    "collapsed": false,
    "deletable": true,
    "editable": true
   },
   "outputs": [
    {
     "data": {
      "text/plain": [
       "'Lennon'"
      ]
     },
     "execution_count": 411,
     "metadata": {},
     "output_type": "execute_result"
    }
   ],
   "source": [
    "s5[\"John\"]  # 単独の要素が返る (データ形式はstr)"
   ]
  },
  {
   "cell_type": "markdown",
   "metadata": {
    "deletable": true,
    "editable": true
   },
   "source": [
    "上記のように異なったデータ形式で結果が返ってくることがあるため、indexに重複した値を使うのは避けたほうがよいかもしれません。"
   ]
  },
  {
   "cell_type": "markdown",
   "metadata": {
    "deletable": true,
    "editable": true
   },
   "source": [
    "  "
   ]
  },
  {
   "cell_type": "markdown",
   "metadata": {
    "deletable": true,
    "editable": true
   },
   "source": [
    "## indexおよびデータの参照\n",
    "Series.index, Serires.valuesでそれぞれindexとデータを取り出せます。新しい値を指定することも可能です。"
   ]
  },
  {
   "cell_type": "code",
   "execution_count": 412,
   "metadata": {
    "collapsed": false,
    "deletable": true,
    "editable": true,
    "scrolled": true
   },
   "outputs": [
    {
     "data": {
      "text/plain": [
       "Index(['John', 'Paul', 'George', 'Ringo', 'Paul', 'Art'], dtype='object')"
      ]
     },
     "execution_count": 412,
     "metadata": {},
     "output_type": "execute_result"
    }
   ],
   "source": [
    "s5.index"
   ]
  },
  {
   "cell_type": "code",
   "execution_count": 415,
   "metadata": {
    "collapsed": false,
    "deletable": true,
    "editable": true
   },
   "outputs": [
    {
     "data": {
      "text/plain": [
       "array(['Lennon', 'McCartney', 'Harrison', 'Starr', 'Simon', 'Garfunkel'], dtype=object)"
      ]
     },
     "execution_count": 415,
     "metadata": {},
     "output_type": "execute_result"
    }
   ],
   "source": [
    "s5.values"
   ]
  },
  {
   "cell_type": "code",
   "execution_count": 416,
   "metadata": {
    "collapsed": false,
    "deletable": true,
    "editable": true
   },
   "outputs": [
    {
     "data": {
      "text/plain": [
       "numpy.ndarray"
      ]
     },
     "execution_count": 416,
     "metadata": {},
     "output_type": "execute_result"
    }
   ],
   "source": [
    "type(s5.values)  # データ形式を確認してみると、内部的にnumpyが使われていることがわかる。"
   ]
  },
  {
   "cell_type": "markdown",
   "metadata": {
    "deletable": true,
    "editable": true
   },
   "source": [
    "# DataFrame  \n",
    "二次元の表を扱うためのデータオブジェクトです。"
   ]
  },
  {
   "cell_type": "markdown",
   "metadata": {
    "deletable": true,
    "editable": true
   },
   "source": [
    "## データフレームの作成\n",
    "```\n",
    "Init signature: pd.DataFrame(data=None, index=None, columns=None, dtype=None, copy=False)\n",
    "```\n",
    "dataには、二次元リストや辞書などを指定します。  \n",
    "index, columnsは指定しなかった場合、0, 1, 2, .. が自動で割り振られます。"
   ]
  },
  {
   "cell_type": "code",
   "execution_count": 417,
   "metadata": {
    "collapsed": true,
    "deletable": true,
    "editable": true
   },
   "outputs": [],
   "source": [
    "data = [[1, 2, 3],\n",
    "        [10, 20, 30],\n",
    "        [100, 200, 300],\n",
    "        [1000, 2000, 3000]\n",
    "       ]\n",
    "columns = [\"A\", \"B\", \"C\"]\n",
    "df1 = pd.DataFrame(data, columns=columns)"
   ]
  },
  {
   "cell_type": "code",
   "execution_count": 418,
   "metadata": {
    "collapsed": false,
    "deletable": true,
    "editable": true
   },
   "outputs": [
    {
     "data": {
      "text/html": [
       "<div>\n",
       "<style>\n",
       "    .dataframe thead tr:only-child th {\n",
       "        text-align: right;\n",
       "    }\n",
       "\n",
       "    .dataframe thead th {\n",
       "        text-align: left;\n",
       "    }\n",
       "\n",
       "    .dataframe tbody tr th {\n",
       "        vertical-align: top;\n",
       "    }\n",
       "</style>\n",
       "<table border=\"1\" class=\"dataframe\">\n",
       "  <thead>\n",
       "    <tr style=\"text-align: right;\">\n",
       "      <th></th>\n",
       "      <th>A</th>\n",
       "      <th>B</th>\n",
       "      <th>C</th>\n",
       "    </tr>\n",
       "  </thead>\n",
       "  <tbody>\n",
       "    <tr>\n",
       "      <th>0</th>\n",
       "      <td>1</td>\n",
       "      <td>2</td>\n",
       "      <td>3</td>\n",
       "    </tr>\n",
       "    <tr>\n",
       "      <th>1</th>\n",
       "      <td>10</td>\n",
       "      <td>20</td>\n",
       "      <td>30</td>\n",
       "    </tr>\n",
       "    <tr>\n",
       "      <th>2</th>\n",
       "      <td>100</td>\n",
       "      <td>200</td>\n",
       "      <td>300</td>\n",
       "    </tr>\n",
       "    <tr>\n",
       "      <th>3</th>\n",
       "      <td>1000</td>\n",
       "      <td>2000</td>\n",
       "      <td>3000</td>\n",
       "    </tr>\n",
       "  </tbody>\n",
       "</table>\n",
       "</div>"
      ],
      "text/plain": [
       "      A     B     C\n",
       "0     1     2     3\n",
       "1    10    20    30\n",
       "2   100   200   300\n",
       "3  1000  2000  3000"
      ]
     },
     "execution_count": 418,
     "metadata": {},
     "output_type": "execute_result"
    }
   ],
   "source": [
    "df1"
   ]
  },
  {
   "cell_type": "code",
   "execution_count": 320,
   "metadata": {
    "collapsed": false,
    "deletable": true,
    "editable": true
   },
   "outputs": [],
   "source": [
    "# 辞書データを与える場合 (列ごとにデータを指定するイメージ。直感的ではないかも)\n",
    "D = {\"name\": [\"John\", \"Paul\", \"George\", \"Ringo\", \"Paul\", \"Art\"],\n",
    "     \"family_name\": [\"Lennon\", \"McCartney\", \"Harrison\", \"Starr\", \"Simon\", \"Garfunkel\"],\n",
    "     \"age\": [None, 76 ,None , 78, 77, 77],\n",
    "     \"DOB\": [\"1940/10/09\", \"1942/026/18\" ,\"1943/02/25\", \"1940/07/07\", \"1941/10/13\", \"1941/11/05\"],\n",
    "     \"group_name\": [\"Beatles\", \"Beatles\" ,\"Beatles\", \"Beatles\", \"Simon_and_Garfunkel\", \"Simon_and_Garfunkel\"],\n",
    "     \"alive\": [False, True, False , True, True, True]}\n",
    "\n",
    "df2 = pd.DataFrame(D)"
   ]
  },
  {
   "cell_type": "code",
   "execution_count": 321,
   "metadata": {
    "collapsed": false,
    "deletable": true,
    "editable": true
   },
   "outputs": [
    {
     "data": {
      "text/html": [
       "<div>\n",
       "<style>\n",
       "    .dataframe thead tr:only-child th {\n",
       "        text-align: right;\n",
       "    }\n",
       "\n",
       "    .dataframe thead th {\n",
       "        text-align: left;\n",
       "    }\n",
       "\n",
       "    .dataframe tbody tr th {\n",
       "        vertical-align: top;\n",
       "    }\n",
       "</style>\n",
       "<table border=\"1\" class=\"dataframe\">\n",
       "  <thead>\n",
       "    <tr style=\"text-align: right;\">\n",
       "      <th></th>\n",
       "      <th>DOB</th>\n",
       "      <th>age</th>\n",
       "      <th>alive</th>\n",
       "      <th>family_name</th>\n",
       "      <th>group_name</th>\n",
       "      <th>name</th>\n",
       "    </tr>\n",
       "  </thead>\n",
       "  <tbody>\n",
       "    <tr>\n",
       "      <th>0</th>\n",
       "      <td>1940/10/09</td>\n",
       "      <td>NaN</td>\n",
       "      <td>False</td>\n",
       "      <td>Lennon</td>\n",
       "      <td>Beatles</td>\n",
       "      <td>John</td>\n",
       "    </tr>\n",
       "    <tr>\n",
       "      <th>1</th>\n",
       "      <td>1942/026/18</td>\n",
       "      <td>76.0</td>\n",
       "      <td>True</td>\n",
       "      <td>McCartney</td>\n",
       "      <td>Beatles</td>\n",
       "      <td>Paul</td>\n",
       "    </tr>\n",
       "    <tr>\n",
       "      <th>2</th>\n",
       "      <td>1943/02/25</td>\n",
       "      <td>NaN</td>\n",
       "      <td>False</td>\n",
       "      <td>Harrison</td>\n",
       "      <td>Beatles</td>\n",
       "      <td>George</td>\n",
       "    </tr>\n",
       "    <tr>\n",
       "      <th>3</th>\n",
       "      <td>1940/07/07</td>\n",
       "      <td>78.0</td>\n",
       "      <td>True</td>\n",
       "      <td>Starr</td>\n",
       "      <td>Beatles</td>\n",
       "      <td>Ringo</td>\n",
       "    </tr>\n",
       "    <tr>\n",
       "      <th>4</th>\n",
       "      <td>1941/10/13</td>\n",
       "      <td>77.0</td>\n",
       "      <td>True</td>\n",
       "      <td>Simon</td>\n",
       "      <td>Simon_and_Garfunkel</td>\n",
       "      <td>Paul</td>\n",
       "    </tr>\n",
       "    <tr>\n",
       "      <th>5</th>\n",
       "      <td>1941/11/05</td>\n",
       "      <td>77.0</td>\n",
       "      <td>True</td>\n",
       "      <td>Garfunkel</td>\n",
       "      <td>Simon_and_Garfunkel</td>\n",
       "      <td>Art</td>\n",
       "    </tr>\n",
       "  </tbody>\n",
       "</table>\n",
       "</div>"
      ],
      "text/plain": [
       "           DOB   age  alive family_name           group_name    name\n",
       "0   1940/10/09   NaN  False      Lennon              Beatles    John\n",
       "1  1942/026/18  76.0   True   McCartney              Beatles    Paul\n",
       "2   1943/02/25   NaN  False    Harrison              Beatles  George\n",
       "3   1940/07/07  78.0   True       Starr              Beatles   Ringo\n",
       "4   1941/10/13  77.0   True       Simon  Simon_and_Garfunkel    Paul\n",
       "5   1941/11/05  77.0   True   Garfunkel  Simon_and_Garfunkel     Art"
      ]
     },
     "execution_count": 321,
     "metadata": {},
     "output_type": "execute_result"
    }
   ],
   "source": [
    "df2"
   ]
  },
  {
   "cell_type": "code",
   "execution_count": 422,
   "metadata": {
    "collapsed": false,
    "deletable": true,
    "editable": true
   },
   "outputs": [
    {
     "name": "stdout",
     "output_type": "stream",
     "text": [
      "column names:  Index(['DOB', 'age', 'alive', 'family_name', 'group_name', 'name'], dtype='object')\n",
      "index:  RangeIndex(start=0, stop=6, step=1)\n"
     ]
    }
   ],
   "source": [
    "# カラム名や、index（行名）はそれぞれ、columns, indexで参照できます。\n",
    "print(\"column names: \", df2.columns)\n",
    "print(\"index: \", df2.index)"
   ]
  },
  {
   "cell_type": "markdown",
   "metadata": {
    "deletable": true,
    "editable": true
   },
   "source": [
    "実際にはDataFrameを自前で作ることはあまりありません。以下で紹介するようにファイルから読み込む場合がほとんどです。"
   ]
  },
  {
   "cell_type": "markdown",
   "metadata": {
    "deletable": true,
    "editable": true
   },
   "source": [
    "## ファイルから読み込んでデータフレームを作成"
   ]
  },
  {
   "cell_type": "code",
   "execution_count": 322,
   "metadata": {
    "collapsed": false,
    "deletable": true,
    "editable": true
   },
   "outputs": [],
   "source": [
    "pd.read_table?"
   ]
  },
  {
   "cell_type": "code",
   "execution_count": 423,
   "metadata": {
    "collapsed": false,
    "deletable": true,
    "editable": true
   },
   "outputs": [],
   "source": [
    "# タブ区切りファイルの読み込み\n",
    "df3 = pd.read_table(\"input/test_matrix_data.tsv\", index_col=0)\n",
    "# df3 = pd.read_csv(\"input/test_matrix_data.tsv\", sep=\"\\t\", index_col=0)  # これも同じ結果になる。"
   ]
  },
  {
   "cell_type": "markdown",
   "metadata": {
    "deletable": true,
    "editable": true
   },
   "source": [
    "これ以外にも pd.read_clipboard, pd.read_excel などもあります。"
   ]
  },
  {
   "cell_type": "code",
   "execution_count": 424,
   "metadata": {
    "collapsed": false,
    "deletable": true,
    "editable": true
   },
   "outputs": [
    {
     "data": {
      "text/html": [
       "<div>\n",
       "<style>\n",
       "    .dataframe thead tr:only-child th {\n",
       "        text-align: right;\n",
       "    }\n",
       "\n",
       "    .dataframe thead th {\n",
       "        text-align: left;\n",
       "    }\n",
       "\n",
       "    .dataframe tbody tr th {\n",
       "        vertical-align: top;\n",
       "    }\n",
       "</style>\n",
       "<table border=\"1\" class=\"dataframe\">\n",
       "  <thead>\n",
       "    <tr style=\"text-align: right;\">\n",
       "      <th></th>\n",
       "      <th>A</th>\n",
       "      <th>B</th>\n",
       "      <th>C</th>\n",
       "      <th>D</th>\n",
       "      <th>E</th>\n",
       "      <th>F</th>\n",
       "      <th>G</th>\n",
       "    </tr>\n",
       "    <tr>\n",
       "      <th>data_idx</th>\n",
       "      <th></th>\n",
       "      <th></th>\n",
       "      <th></th>\n",
       "      <th></th>\n",
       "      <th></th>\n",
       "      <th></th>\n",
       "      <th></th>\n",
       "    </tr>\n",
       "  </thead>\n",
       "  <tbody>\n",
       "    <tr>\n",
       "      <th>data_1</th>\n",
       "      <td>58</td>\n",
       "      <td>-27</td>\n",
       "      <td>31.0</td>\n",
       "      <td>0.6028</td>\n",
       "      <td>73.922054</td>\n",
       "      <td>0.0179</td>\n",
       "      <td>-0.0102</td>\n",
       "    </tr>\n",
       "    <tr>\n",
       "      <th>data_10</th>\n",
       "      <td>109</td>\n",
       "      <td>-53</td>\n",
       "      <td>56.0</td>\n",
       "      <td>0.5000</td>\n",
       "      <td>575.585790</td>\n",
       "      <td>0.0346</td>\n",
       "      <td>0.0000</td>\n",
       "    </tr>\n",
       "    <tr>\n",
       "      <th>data_11</th>\n",
       "      <td>77</td>\n",
       "      <td>-44</td>\n",
       "      <td>33.0</td>\n",
       "      <td>0.6281</td>\n",
       "      <td>144.838806</td>\n",
       "      <td>0.0343</td>\n",
       "      <td>-0.0411</td>\n",
       "    </tr>\n",
       "    <tr>\n",
       "      <th>data_12</th>\n",
       "      <td>181</td>\n",
       "      <td>126</td>\n",
       "      <td>55.0</td>\n",
       "      <td>0.5000</td>\n",
       "      <td>NaN</td>\n",
       "      <td>0.0551</td>\n",
       "      <td>0.0000</td>\n",
       "    </tr>\n",
       "    <tr>\n",
       "      <th>data_13</th>\n",
       "      <td>91</td>\n",
       "      <td>-46</td>\n",
       "      <td>45.0</td>\n",
       "      <td>0.5220</td>\n",
       "      <td>896.439718</td>\n",
       "      <td>0.0044</td>\n",
       "      <td>-0.0082</td>\n",
       "    </tr>\n",
       "    <tr>\n",
       "      <th>data_14</th>\n",
       "      <td>133</td>\n",
       "      <td>-70</td>\n",
       "      <td>63.0</td>\n",
       "      <td>0.5000</td>\n",
       "      <td>374.867722</td>\n",
       "      <td>0.0420</td>\n",
       "      <td>0.0000</td>\n",
       "    </tr>\n",
       "    <tr>\n",
       "      <th>data_15</th>\n",
       "      <td>39</td>\n",
       "      <td>22</td>\n",
       "      <td>17.0</td>\n",
       "      <td>0.5000</td>\n",
       "      <td>137.368196</td>\n",
       "      <td>0.0173</td>\n",
       "      <td>0.0000</td>\n",
       "    </tr>\n",
       "    <tr>\n",
       "      <th>data_16</th>\n",
       "      <td>36</td>\n",
       "      <td>0</td>\n",
       "      <td>36.0</td>\n",
       "      <td>0.5000</td>\n",
       "      <td>63.004120</td>\n",
       "      <td>0.0242</td>\n",
       "      <td>0.0000</td>\n",
       "    </tr>\n",
       "    <tr>\n",
       "      <th>data_17</th>\n",
       "      <td>50</td>\n",
       "      <td>0</td>\n",
       "      <td>50.0</td>\n",
       "      <td>0.5000</td>\n",
       "      <td>214.258945</td>\n",
       "      <td>0.0020</td>\n",
       "      <td>0.0000</td>\n",
       "    </tr>\n",
       "    <tr>\n",
       "      <th>data_18</th>\n",
       "      <td>11</td>\n",
       "      <td>7</td>\n",
       "      <td>4.0</td>\n",
       "      <td>0.5000</td>\n",
       "      <td>69.762676</td>\n",
       "      <td>0.0330</td>\n",
       "      <td>0.0000</td>\n",
       "    </tr>\n",
       "    <tr>\n",
       "      <th>data_19</th>\n",
       "      <td>6</td>\n",
       "      <td>-2</td>\n",
       "      <td>4.0</td>\n",
       "      <td>0.5453</td>\n",
       "      <td>72.282932</td>\n",
       "      <td>0.0220</td>\n",
       "      <td>-0.0707</td>\n",
       "    </tr>\n",
       "    <tr>\n",
       "      <th>data_2</th>\n",
       "      <td>17</td>\n",
       "      <td>3</td>\n",
       "      <td>14.0</td>\n",
       "      <td>0.7112</td>\n",
       "      <td>36.759859</td>\n",
       "      <td>0.0263</td>\n",
       "      <td>0.0009</td>\n",
       "    </tr>\n",
       "    <tr>\n",
       "      <th>data_20</th>\n",
       "      <td>20</td>\n",
       "      <td>-4</td>\n",
       "      <td>16.0</td>\n",
       "      <td>0.5714</td>\n",
       "      <td>3.293830</td>\n",
       "      <td>0.0469</td>\n",
       "      <td>-0.0441</td>\n",
       "    </tr>\n",
       "    <tr>\n",
       "      <th>data_21</th>\n",
       "      <td>96</td>\n",
       "      <td>44</td>\n",
       "      <td>52.0</td>\n",
       "      <td>0.5048</td>\n",
       "      <td>515.410500</td>\n",
       "      <td>0.0324</td>\n",
       "      <td>-0.0818</td>\n",
       "    </tr>\n",
       "    <tr>\n",
       "      <th>data_22</th>\n",
       "      <td>153</td>\n",
       "      <td>83</td>\n",
       "      <td>70.0</td>\n",
       "      <td>0.5333</td>\n",
       "      <td>NaN</td>\n",
       "      <td>0.0114</td>\n",
       "      <td>-0.0009</td>\n",
       "    </tr>\n",
       "    <tr>\n",
       "      <th>data_23</th>\n",
       "      <td>45</td>\n",
       "      <td>14</td>\n",
       "      <td>31.0</td>\n",
       "      <td>0.6462</td>\n",
       "      <td>192.909121</td>\n",
       "      <td>0.0086</td>\n",
       "      <td>-0.0102</td>\n",
       "    </tr>\n",
       "    <tr>\n",
       "      <th>data_24</th>\n",
       "      <td>26</td>\n",
       "      <td>-18</td>\n",
       "      <td>8.0</td>\n",
       "      <td>0.7498</td>\n",
       "      <td>NaN</td>\n",
       "      <td>0.0193</td>\n",
       "      <td>-0.0026</td>\n",
       "    </tr>\n",
       "    <tr>\n",
       "      <th>data_25</th>\n",
       "      <td>25</td>\n",
       "      <td>16</td>\n",
       "      <td>9.0</td>\n",
       "      <td>0.7223</td>\n",
       "      <td>50.758144</td>\n",
       "      <td>0.0235</td>\n",
       "      <td>-0.0065</td>\n",
       "    </tr>\n",
       "    <tr>\n",
       "      <th>data_26</th>\n",
       "      <td>15</td>\n",
       "      <td>-15</td>\n",
       "      <td>0.0</td>\n",
       "      <td>0.5000</td>\n",
       "      <td>0.000000</td>\n",
       "      <td>0.0130</td>\n",
       "      <td>-0.0999</td>\n",
       "    </tr>\n",
       "    <tr>\n",
       "      <th>data_27</th>\n",
       "      <td>14</td>\n",
       "      <td>-13</td>\n",
       "      <td>1.0</td>\n",
       "      <td>0.5531</td>\n",
       "      <td>0.369251</td>\n",
       "      <td>0.0182</td>\n",
       "      <td>-0.0337</td>\n",
       "    </tr>\n",
       "    <tr>\n",
       "      <th>data_28</th>\n",
       "      <td>64</td>\n",
       "      <td>27</td>\n",
       "      <td>37.0</td>\n",
       "      <td>0.5323</td>\n",
       "      <td>399.306169</td>\n",
       "      <td>0.0183</td>\n",
       "      <td>-0.0174</td>\n",
       "    </tr>\n",
       "    <tr>\n",
       "      <th>data_29</th>\n",
       "      <td>53</td>\n",
       "      <td>34</td>\n",
       "      <td>19.0</td>\n",
       "      <td>0.5000</td>\n",
       "      <td>128.580865</td>\n",
       "      <td>0.0100</td>\n",
       "      <td>0.0000</td>\n",
       "    </tr>\n",
       "    <tr>\n",
       "      <th>data_3</th>\n",
       "      <td>169</td>\n",
       "      <td>48</td>\n",
       "      <td>121.0</td>\n",
       "      <td>0.5000</td>\n",
       "      <td>1801.404597</td>\n",
       "      <td>0.0383</td>\n",
       "      <td>0.0000</td>\n",
       "    </tr>\n",
       "    <tr>\n",
       "      <th>data_30</th>\n",
       "      <td>127</td>\n",
       "      <td>-77</td>\n",
       "      <td>50.0</td>\n",
       "      <td>0.5000</td>\n",
       "      <td>164.149599</td>\n",
       "      <td>0.1493</td>\n",
       "      <td>0.0000</td>\n",
       "    </tr>\n",
       "    <tr>\n",
       "      <th>data_4</th>\n",
       "      <td>59</td>\n",
       "      <td>31</td>\n",
       "      <td>28.0</td>\n",
       "      <td>0.5564</td>\n",
       "      <td>270.819398</td>\n",
       "      <td>0.0182</td>\n",
       "      <td>-0.0349</td>\n",
       "    </tr>\n",
       "    <tr>\n",
       "      <th>data_5</th>\n",
       "      <td>59</td>\n",
       "      <td>30</td>\n",
       "      <td>29.0</td>\n",
       "      <td>0.5404</td>\n",
       "      <td>138.188987</td>\n",
       "      <td>0.0222</td>\n",
       "      <td>-0.0439</td>\n",
       "    </tr>\n",
       "    <tr>\n",
       "      <th>data_6</th>\n",
       "      <td>137</td>\n",
       "      <td>-50</td>\n",
       "      <td>NaN</td>\n",
       "      <td>0.5330</td>\n",
       "      <td>1603.301689</td>\n",
       "      <td>0.0061</td>\n",
       "      <td>-0.0221</td>\n",
       "    </tr>\n",
       "    <tr>\n",
       "      <th>data_7</th>\n",
       "      <td>39</td>\n",
       "      <td>-32</td>\n",
       "      <td>7.0</td>\n",
       "      <td>0.5783</td>\n",
       "      <td>136.917725</td>\n",
       "      <td>0.0112</td>\n",
       "      <td>-0.0278</td>\n",
       "    </tr>\n",
       "    <tr>\n",
       "      <th>data_8</th>\n",
       "      <td>39</td>\n",
       "      <td>32</td>\n",
       "      <td>7.0</td>\n",
       "      <td>0.5783</td>\n",
       "      <td>2.079866</td>\n",
       "      <td>0.0271</td>\n",
       "      <td>-0.0013</td>\n",
       "    </tr>\n",
       "    <tr>\n",
       "      <th>data_9</th>\n",
       "      <td>81</td>\n",
       "      <td>35</td>\n",
       "      <td>46.0</td>\n",
       "      <td>0.5198</td>\n",
       "      <td>422.065428</td>\n",
       "      <td>0.0123</td>\n",
       "      <td>-0.0054</td>\n",
       "    </tr>\n",
       "  </tbody>\n",
       "</table>\n",
       "</div>"
      ],
      "text/plain": [
       "            A    B      C       D            E       F       G\n",
       "data_idx                                                      \n",
       "data_1     58  -27   31.0  0.6028    73.922054  0.0179 -0.0102\n",
       "data_10   109  -53   56.0  0.5000   575.585790  0.0346  0.0000\n",
       "data_11    77  -44   33.0  0.6281   144.838806  0.0343 -0.0411\n",
       "data_12   181  126   55.0  0.5000          NaN  0.0551  0.0000\n",
       "data_13    91  -46   45.0  0.5220   896.439718  0.0044 -0.0082\n",
       "data_14   133  -70   63.0  0.5000   374.867722  0.0420  0.0000\n",
       "data_15    39   22   17.0  0.5000   137.368196  0.0173  0.0000\n",
       "data_16    36    0   36.0  0.5000    63.004120  0.0242  0.0000\n",
       "data_17    50    0   50.0  0.5000   214.258945  0.0020  0.0000\n",
       "data_18    11    7    4.0  0.5000    69.762676  0.0330  0.0000\n",
       "data_19     6   -2    4.0  0.5453    72.282932  0.0220 -0.0707\n",
       "data_2     17    3   14.0  0.7112    36.759859  0.0263  0.0009\n",
       "data_20    20   -4   16.0  0.5714     3.293830  0.0469 -0.0441\n",
       "data_21    96   44   52.0  0.5048   515.410500  0.0324 -0.0818\n",
       "data_22   153   83   70.0  0.5333          NaN  0.0114 -0.0009\n",
       "data_23    45   14   31.0  0.6462   192.909121  0.0086 -0.0102\n",
       "data_24    26  -18    8.0  0.7498          NaN  0.0193 -0.0026\n",
       "data_25    25   16    9.0  0.7223    50.758144  0.0235 -0.0065\n",
       "data_26    15  -15    0.0  0.5000     0.000000  0.0130 -0.0999\n",
       "data_27    14  -13    1.0  0.5531     0.369251  0.0182 -0.0337\n",
       "data_28    64   27   37.0  0.5323   399.306169  0.0183 -0.0174\n",
       "data_29    53   34   19.0  0.5000   128.580865  0.0100  0.0000\n",
       "data_3    169   48  121.0  0.5000  1801.404597  0.0383  0.0000\n",
       "data_30   127  -77   50.0  0.5000   164.149599  0.1493  0.0000\n",
       "data_4     59   31   28.0  0.5564   270.819398  0.0182 -0.0349\n",
       "data_5     59   30   29.0  0.5404   138.188987  0.0222 -0.0439\n",
       "data_6    137  -50    NaN  0.5330  1603.301689  0.0061 -0.0221\n",
       "data_7     39  -32    7.0  0.5783   136.917725  0.0112 -0.0278\n",
       "data_8     39   32    7.0  0.5783     2.079866  0.0271 -0.0013\n",
       "data_9     81   35   46.0  0.5198   422.065428  0.0123 -0.0054"
      ]
     },
     "execution_count": 424,
     "metadata": {},
     "output_type": "execute_result"
    }
   ],
   "source": [
    "df3"
   ]
  },
  {
   "cell_type": "markdown",
   "metadata": {
    "deletable": true,
    "editable": true
   },
   "source": [
    "## データフレームの基本操作"
   ]
  },
  {
   "cell_type": "code",
   "execution_count": null,
   "metadata": {
    "collapsed": true,
    "deletable": true,
    "editable": true
   },
   "outputs": [],
   "source": []
  },
  {
   "cell_type": "markdown",
   "metadata": {
    "deletable": true,
    "editable": true
   },
   "source": [
    "### データを概観する"
   ]
  },
  {
   "cell_type": "code",
   "execution_count": null,
   "metadata": {
    "collapsed": true,
    "deletable": true,
    "editable": true
   },
   "outputs": [],
   "source": []
  },
  {
   "cell_type": "code",
   "execution_count": 425,
   "metadata": {
    "collapsed": false,
    "deletable": true,
    "editable": true
   },
   "outputs": [
    {
     "data": {
      "text/html": [
       "<div>\n",
       "<style>\n",
       "    .dataframe thead tr:only-child th {\n",
       "        text-align: right;\n",
       "    }\n",
       "\n",
       "    .dataframe thead th {\n",
       "        text-align: left;\n",
       "    }\n",
       "\n",
       "    .dataframe tbody tr th {\n",
       "        vertical-align: top;\n",
       "    }\n",
       "</style>\n",
       "<table border=\"1\" class=\"dataframe\">\n",
       "  <thead>\n",
       "    <tr style=\"text-align: right;\">\n",
       "      <th></th>\n",
       "      <th>A</th>\n",
       "      <th>B</th>\n",
       "      <th>C</th>\n",
       "      <th>D</th>\n",
       "      <th>E</th>\n",
       "      <th>F</th>\n",
       "      <th>G</th>\n",
       "    </tr>\n",
       "    <tr>\n",
       "      <th>data_idx</th>\n",
       "      <th></th>\n",
       "      <th></th>\n",
       "      <th></th>\n",
       "      <th></th>\n",
       "      <th></th>\n",
       "      <th></th>\n",
       "      <th></th>\n",
       "    </tr>\n",
       "  </thead>\n",
       "  <tbody>\n",
       "    <tr>\n",
       "      <th>data_1</th>\n",
       "      <td>58</td>\n",
       "      <td>-27</td>\n",
       "      <td>31.0</td>\n",
       "      <td>0.6028</td>\n",
       "      <td>73.922054</td>\n",
       "      <td>0.0179</td>\n",
       "      <td>-0.0102</td>\n",
       "    </tr>\n",
       "    <tr>\n",
       "      <th>data_10</th>\n",
       "      <td>109</td>\n",
       "      <td>-53</td>\n",
       "      <td>56.0</td>\n",
       "      <td>0.5000</td>\n",
       "      <td>575.585790</td>\n",
       "      <td>0.0346</td>\n",
       "      <td>0.0000</td>\n",
       "    </tr>\n",
       "    <tr>\n",
       "      <th>data_11</th>\n",
       "      <td>77</td>\n",
       "      <td>-44</td>\n",
       "      <td>33.0</td>\n",
       "      <td>0.6281</td>\n",
       "      <td>144.838806</td>\n",
       "      <td>0.0343</td>\n",
       "      <td>-0.0411</td>\n",
       "    </tr>\n",
       "    <tr>\n",
       "      <th>data_12</th>\n",
       "      <td>181</td>\n",
       "      <td>126</td>\n",
       "      <td>55.0</td>\n",
       "      <td>0.5000</td>\n",
       "      <td>NaN</td>\n",
       "      <td>0.0551</td>\n",
       "      <td>0.0000</td>\n",
       "    </tr>\n",
       "    <tr>\n",
       "      <th>data_13</th>\n",
       "      <td>91</td>\n",
       "      <td>-46</td>\n",
       "      <td>45.0</td>\n",
       "      <td>0.5220</td>\n",
       "      <td>896.439718</td>\n",
       "      <td>0.0044</td>\n",
       "      <td>-0.0082</td>\n",
       "    </tr>\n",
       "  </tbody>\n",
       "</table>\n",
       "</div>"
      ],
      "text/plain": [
       "            A    B     C       D           E       F       G\n",
       "data_idx                                                    \n",
       "data_1     58  -27  31.0  0.6028   73.922054  0.0179 -0.0102\n",
       "data_10   109  -53  56.0  0.5000  575.585790  0.0346  0.0000\n",
       "data_11    77  -44  33.0  0.6281  144.838806  0.0343 -0.0411\n",
       "data_12   181  126  55.0  0.5000         NaN  0.0551  0.0000\n",
       "data_13    91  -46  45.0  0.5220  896.439718  0.0044 -0.0082"
      ]
     },
     "execution_count": 425,
     "metadata": {},
     "output_type": "execute_result"
    }
   ],
   "source": [
    "df3.head()   # 先頭を表示（デフォルト5行、引数で指定可能）"
   ]
  },
  {
   "cell_type": "code",
   "execution_count": 426,
   "metadata": {
    "collapsed": false,
    "deletable": true,
    "editable": true
   },
   "outputs": [
    {
     "data": {
      "text/html": [
       "<div>\n",
       "<style>\n",
       "    .dataframe thead tr:only-child th {\n",
       "        text-align: right;\n",
       "    }\n",
       "\n",
       "    .dataframe thead th {\n",
       "        text-align: left;\n",
       "    }\n",
       "\n",
       "    .dataframe tbody tr th {\n",
       "        vertical-align: top;\n",
       "    }\n",
       "</style>\n",
       "<table border=\"1\" class=\"dataframe\">\n",
       "  <thead>\n",
       "    <tr style=\"text-align: right;\">\n",
       "      <th></th>\n",
       "      <th>A</th>\n",
       "      <th>B</th>\n",
       "      <th>C</th>\n",
       "      <th>D</th>\n",
       "      <th>E</th>\n",
       "      <th>F</th>\n",
       "      <th>G</th>\n",
       "    </tr>\n",
       "    <tr>\n",
       "      <th>data_idx</th>\n",
       "      <th></th>\n",
       "      <th></th>\n",
       "      <th></th>\n",
       "      <th></th>\n",
       "      <th></th>\n",
       "      <th></th>\n",
       "      <th></th>\n",
       "    </tr>\n",
       "  </thead>\n",
       "  <tbody>\n",
       "    <tr>\n",
       "      <th>data_5</th>\n",
       "      <td>59</td>\n",
       "      <td>30</td>\n",
       "      <td>29.0</td>\n",
       "      <td>0.5404</td>\n",
       "      <td>138.188987</td>\n",
       "      <td>0.0222</td>\n",
       "      <td>-0.0439</td>\n",
       "    </tr>\n",
       "    <tr>\n",
       "      <th>data_6</th>\n",
       "      <td>137</td>\n",
       "      <td>-50</td>\n",
       "      <td>NaN</td>\n",
       "      <td>0.5330</td>\n",
       "      <td>1603.301689</td>\n",
       "      <td>0.0061</td>\n",
       "      <td>-0.0221</td>\n",
       "    </tr>\n",
       "    <tr>\n",
       "      <th>data_7</th>\n",
       "      <td>39</td>\n",
       "      <td>-32</td>\n",
       "      <td>7.0</td>\n",
       "      <td>0.5783</td>\n",
       "      <td>136.917725</td>\n",
       "      <td>0.0112</td>\n",
       "      <td>-0.0278</td>\n",
       "    </tr>\n",
       "    <tr>\n",
       "      <th>data_8</th>\n",
       "      <td>39</td>\n",
       "      <td>32</td>\n",
       "      <td>7.0</td>\n",
       "      <td>0.5783</td>\n",
       "      <td>2.079866</td>\n",
       "      <td>0.0271</td>\n",
       "      <td>-0.0013</td>\n",
       "    </tr>\n",
       "    <tr>\n",
       "      <th>data_9</th>\n",
       "      <td>81</td>\n",
       "      <td>35</td>\n",
       "      <td>46.0</td>\n",
       "      <td>0.5198</td>\n",
       "      <td>422.065428</td>\n",
       "      <td>0.0123</td>\n",
       "      <td>-0.0054</td>\n",
       "    </tr>\n",
       "  </tbody>\n",
       "</table>\n",
       "</div>"
      ],
      "text/plain": [
       "            A   B     C       D            E       F       G\n",
       "data_idx                                                    \n",
       "data_5     59  30  29.0  0.5404   138.188987  0.0222 -0.0439\n",
       "data_6    137 -50   NaN  0.5330  1603.301689  0.0061 -0.0221\n",
       "data_7     39 -32   7.0  0.5783   136.917725  0.0112 -0.0278\n",
       "data_8     39  32   7.0  0.5783     2.079866  0.0271 -0.0013\n",
       "data_9     81  35  46.0  0.5198   422.065428  0.0123 -0.0054"
      ]
     },
     "execution_count": 426,
     "metadata": {},
     "output_type": "execute_result"
    }
   ],
   "source": [
    "df3.tail()  # 末端を表示"
   ]
  },
  {
   "cell_type": "code",
   "execution_count": 427,
   "metadata": {
    "collapsed": false,
    "deletable": true,
    "editable": true
   },
   "outputs": [
    {
     "data": {
      "text/html": [
       "<div>\n",
       "<style>\n",
       "    .dataframe thead tr:only-child th {\n",
       "        text-align: right;\n",
       "    }\n",
       "\n",
       "    .dataframe thead th {\n",
       "        text-align: left;\n",
       "    }\n",
       "\n",
       "    .dataframe tbody tr th {\n",
       "        vertical-align: top;\n",
       "    }\n",
       "</style>\n",
       "<table border=\"1\" class=\"dataframe\">\n",
       "  <thead>\n",
       "    <tr style=\"text-align: right;\">\n",
       "      <th></th>\n",
       "      <th>A</th>\n",
       "      <th>B</th>\n",
       "      <th>C</th>\n",
       "      <th>D</th>\n",
       "      <th>E</th>\n",
       "      <th>F</th>\n",
       "      <th>G</th>\n",
       "    </tr>\n",
       "  </thead>\n",
       "  <tbody>\n",
       "    <tr>\n",
       "      <th>count</th>\n",
       "      <td>30.000000</td>\n",
       "      <td>30.000000</td>\n",
       "      <td>29.000000</td>\n",
       "      <td>30.000000</td>\n",
       "      <td>27.000000</td>\n",
       "      <td>30.000000</td>\n",
       "      <td>30.000000</td>\n",
       "    </tr>\n",
       "    <tr>\n",
       "      <th>mean</th>\n",
       "      <td>67.633333</td>\n",
       "      <td>3.366667</td>\n",
       "      <td>32.379310</td>\n",
       "      <td>0.554293</td>\n",
       "      <td>314.394296</td>\n",
       "      <td>0.026647</td>\n",
       "      <td>-0.018727</td>\n",
       "    </tr>\n",
       "    <tr>\n",
       "      <th>std</th>\n",
       "      <td>49.876042</td>\n",
       "      <td>44.074767</td>\n",
       "      <td>26.585998</td>\n",
       "      <td>0.071324</td>\n",
       "      <td>452.625514</td>\n",
       "      <td>0.026463</td>\n",
       "      <td>0.026900</td>\n",
       "    </tr>\n",
       "    <tr>\n",
       "      <th>min</th>\n",
       "      <td>6.000000</td>\n",
       "      <td>-77.000000</td>\n",
       "      <td>0.000000</td>\n",
       "      <td>0.500000</td>\n",
       "      <td>0.000000</td>\n",
       "      <td>0.002000</td>\n",
       "      <td>-0.099900</td>\n",
       "    </tr>\n",
       "    <tr>\n",
       "      <th>25%</th>\n",
       "      <td>28.500000</td>\n",
       "      <td>-24.750000</td>\n",
       "      <td>9.000000</td>\n",
       "      <td>0.500000</td>\n",
       "      <td>66.383398</td>\n",
       "      <td>0.012475</td>\n",
       "      <td>-0.032225</td>\n",
       "    </tr>\n",
       "    <tr>\n",
       "      <th>50%</th>\n",
       "      <td>55.500000</td>\n",
       "      <td>1.500000</td>\n",
       "      <td>31.000000</td>\n",
       "      <td>0.532650</td>\n",
       "      <td>138.188987</td>\n",
       "      <td>0.020650</td>\n",
       "      <td>-0.005950</td>\n",
       "    </tr>\n",
       "    <tr>\n",
       "      <th>75%</th>\n",
       "      <td>94.750000</td>\n",
       "      <td>30.750000</td>\n",
       "      <td>50.000000</td>\n",
       "      <td>0.576575</td>\n",
       "      <td>387.086946</td>\n",
       "      <td>0.032850</td>\n",
       "      <td>0.000000</td>\n",
       "    </tr>\n",
       "    <tr>\n",
       "      <th>max</th>\n",
       "      <td>181.000000</td>\n",
       "      <td>126.000000</td>\n",
       "      <td>121.000000</td>\n",
       "      <td>0.749800</td>\n",
       "      <td>1801.404597</td>\n",
       "      <td>0.149300</td>\n",
       "      <td>0.000900</td>\n",
       "    </tr>\n",
       "  </tbody>\n",
       "</table>\n",
       "</div>"
      ],
      "text/plain": [
       "                A           B           C          D            E          F  \\\n",
       "count   30.000000   30.000000   29.000000  30.000000    27.000000  30.000000   \n",
       "mean    67.633333    3.366667   32.379310   0.554293   314.394296   0.026647   \n",
       "std     49.876042   44.074767   26.585998   0.071324   452.625514   0.026463   \n",
       "min      6.000000  -77.000000    0.000000   0.500000     0.000000   0.002000   \n",
       "25%     28.500000  -24.750000    9.000000   0.500000    66.383398   0.012475   \n",
       "50%     55.500000    1.500000   31.000000   0.532650   138.188987   0.020650   \n",
       "75%     94.750000   30.750000   50.000000   0.576575   387.086946   0.032850   \n",
       "max    181.000000  126.000000  121.000000   0.749800  1801.404597   0.149300   \n",
       "\n",
       "               G  \n",
       "count  30.000000  \n",
       "mean   -0.018727  \n",
       "std     0.026900  \n",
       "min    -0.099900  \n",
       "25%    -0.032225  \n",
       "50%    -0.005950  \n",
       "75%     0.000000  \n",
       "max     0.000900  "
      ]
     },
     "execution_count": 427,
     "metadata": {},
     "output_type": "execute_result"
    }
   ],
   "source": [
    "df3.describe()  # 各種統計量を表示"
   ]
  },
  {
   "cell_type": "code",
   "execution_count": 428,
   "metadata": {
    "collapsed": false,
    "deletable": true,
    "editable": true
   },
   "outputs": [
    {
     "data": {
      "text/html": [
       "<div>\n",
       "<style>\n",
       "    .dataframe thead tr:only-child th {\n",
       "        text-align: right;\n",
       "    }\n",
       "\n",
       "    .dataframe thead th {\n",
       "        text-align: left;\n",
       "    }\n",
       "\n",
       "    .dataframe tbody tr th {\n",
       "        vertical-align: top;\n",
       "    }\n",
       "</style>\n",
       "<table border=\"1\" class=\"dataframe\">\n",
       "  <thead>\n",
       "    <tr style=\"text-align: right;\">\n",
       "      <th></th>\n",
       "      <th>DOB</th>\n",
       "      <th>age</th>\n",
       "      <th>alive</th>\n",
       "      <th>family_name</th>\n",
       "      <th>group_name</th>\n",
       "      <th>name</th>\n",
       "    </tr>\n",
       "  </thead>\n",
       "  <tbody>\n",
       "    <tr>\n",
       "      <th>count</th>\n",
       "      <td>6</td>\n",
       "      <td>4.000000</td>\n",
       "      <td>6</td>\n",
       "      <td>6</td>\n",
       "      <td>6</td>\n",
       "      <td>6</td>\n",
       "    </tr>\n",
       "    <tr>\n",
       "      <th>unique</th>\n",
       "      <td>6</td>\n",
       "      <td>NaN</td>\n",
       "      <td>2</td>\n",
       "      <td>6</td>\n",
       "      <td>2</td>\n",
       "      <td>5</td>\n",
       "    </tr>\n",
       "    <tr>\n",
       "      <th>top</th>\n",
       "      <td>1941/11/05</td>\n",
       "      <td>NaN</td>\n",
       "      <td>True</td>\n",
       "      <td>Starr</td>\n",
       "      <td>Beatles</td>\n",
       "      <td>Paul</td>\n",
       "    </tr>\n",
       "    <tr>\n",
       "      <th>freq</th>\n",
       "      <td>1</td>\n",
       "      <td>NaN</td>\n",
       "      <td>4</td>\n",
       "      <td>1</td>\n",
       "      <td>4</td>\n",
       "      <td>2</td>\n",
       "    </tr>\n",
       "    <tr>\n",
       "      <th>mean</th>\n",
       "      <td>NaN</td>\n",
       "      <td>77.000000</td>\n",
       "      <td>NaN</td>\n",
       "      <td>NaN</td>\n",
       "      <td>NaN</td>\n",
       "      <td>NaN</td>\n",
       "    </tr>\n",
       "    <tr>\n",
       "      <th>std</th>\n",
       "      <td>NaN</td>\n",
       "      <td>0.816497</td>\n",
       "      <td>NaN</td>\n",
       "      <td>NaN</td>\n",
       "      <td>NaN</td>\n",
       "      <td>NaN</td>\n",
       "    </tr>\n",
       "    <tr>\n",
       "      <th>min</th>\n",
       "      <td>NaN</td>\n",
       "      <td>76.000000</td>\n",
       "      <td>NaN</td>\n",
       "      <td>NaN</td>\n",
       "      <td>NaN</td>\n",
       "      <td>NaN</td>\n",
       "    </tr>\n",
       "    <tr>\n",
       "      <th>25%</th>\n",
       "      <td>NaN</td>\n",
       "      <td>76.750000</td>\n",
       "      <td>NaN</td>\n",
       "      <td>NaN</td>\n",
       "      <td>NaN</td>\n",
       "      <td>NaN</td>\n",
       "    </tr>\n",
       "    <tr>\n",
       "      <th>50%</th>\n",
       "      <td>NaN</td>\n",
       "      <td>77.000000</td>\n",
       "      <td>NaN</td>\n",
       "      <td>NaN</td>\n",
       "      <td>NaN</td>\n",
       "      <td>NaN</td>\n",
       "    </tr>\n",
       "    <tr>\n",
       "      <th>75%</th>\n",
       "      <td>NaN</td>\n",
       "      <td>77.250000</td>\n",
       "      <td>NaN</td>\n",
       "      <td>NaN</td>\n",
       "      <td>NaN</td>\n",
       "      <td>NaN</td>\n",
       "    </tr>\n",
       "    <tr>\n",
       "      <th>max</th>\n",
       "      <td>NaN</td>\n",
       "      <td>78.000000</td>\n",
       "      <td>NaN</td>\n",
       "      <td>NaN</td>\n",
       "      <td>NaN</td>\n",
       "      <td>NaN</td>\n",
       "    </tr>\n",
       "  </tbody>\n",
       "</table>\n",
       "</div>"
      ],
      "text/plain": [
       "               DOB        age alive family_name group_name  name\n",
       "count            6   4.000000     6           6          6     6\n",
       "unique           6        NaN     2           6          2     5\n",
       "top     1941/11/05        NaN  True       Starr    Beatles  Paul\n",
       "freq             1        NaN     4           1          4     2\n",
       "mean           NaN  77.000000   NaN         NaN        NaN   NaN\n",
       "std            NaN   0.816497   NaN         NaN        NaN   NaN\n",
       "min            NaN  76.000000   NaN         NaN        NaN   NaN\n",
       "25%            NaN  76.750000   NaN         NaN        NaN   NaN\n",
       "50%            NaN  77.000000   NaN         NaN        NaN   NaN\n",
       "75%            NaN  77.250000   NaN         NaN        NaN   NaN\n",
       "max            NaN  78.000000   NaN         NaN        NaN   NaN"
      ]
     },
     "execution_count": 428,
     "metadata": {},
     "output_type": "execute_result"
    }
   ],
   "source": [
    "df2.describe(include=\"all\")"
   ]
  },
  {
   "cell_type": "markdown",
   "metadata": {
    "deletable": true,
    "editable": true
   },
   "source": [
    "### データフレームの計算"
   ]
  },
  {
   "cell_type": "code",
   "execution_count": 429,
   "metadata": {
    "collapsed": false,
    "deletable": true,
    "editable": true
   },
   "outputs": [
    {
     "data": {
      "text/html": [
       "<div>\n",
       "<style>\n",
       "    .dataframe thead tr:only-child th {\n",
       "        text-align: right;\n",
       "    }\n",
       "\n",
       "    .dataframe thead th {\n",
       "        text-align: left;\n",
       "    }\n",
       "\n",
       "    .dataframe tbody tr th {\n",
       "        vertical-align: top;\n",
       "    }\n",
       "</style>\n",
       "<table border=\"1\" class=\"dataframe\">\n",
       "  <thead>\n",
       "    <tr style=\"text-align: right;\">\n",
       "      <th></th>\n",
       "      <th>A</th>\n",
       "      <th>B</th>\n",
       "      <th>C</th>\n",
       "    </tr>\n",
       "  </thead>\n",
       "  <tbody>\n",
       "    <tr>\n",
       "      <th>0</th>\n",
       "      <td>1</td>\n",
       "      <td>2</td>\n",
       "      <td>3</td>\n",
       "    </tr>\n",
       "    <tr>\n",
       "      <th>1</th>\n",
       "      <td>10</td>\n",
       "      <td>20</td>\n",
       "      <td>30</td>\n",
       "    </tr>\n",
       "    <tr>\n",
       "      <th>2</th>\n",
       "      <td>100</td>\n",
       "      <td>200</td>\n",
       "      <td>300</td>\n",
       "    </tr>\n",
       "    <tr>\n",
       "      <th>3</th>\n",
       "      <td>1000</td>\n",
       "      <td>2000</td>\n",
       "      <td>3000</td>\n",
       "    </tr>\n",
       "  </tbody>\n",
       "</table>\n",
       "</div>"
      ],
      "text/plain": [
       "      A     B     C\n",
       "0     1     2     3\n",
       "1    10    20    30\n",
       "2   100   200   300\n",
       "3  1000  2000  3000"
      ]
     },
     "execution_count": 429,
     "metadata": {},
     "output_type": "execute_result"
    }
   ],
   "source": [
    "df1"
   ]
  },
  {
   "cell_type": "markdown",
   "metadata": {
    "deletable": true,
    "editable": true
   },
   "source": [
    "* スカラー値との計算"
   ]
  },
  {
   "cell_type": "code",
   "execution_count": 430,
   "metadata": {
    "collapsed": false,
    "deletable": true,
    "editable": true
   },
   "outputs": [
    {
     "data": {
      "text/html": [
       "<div>\n",
       "<style>\n",
       "    .dataframe thead tr:only-child th {\n",
       "        text-align: right;\n",
       "    }\n",
       "\n",
       "    .dataframe thead th {\n",
       "        text-align: left;\n",
       "    }\n",
       "\n",
       "    .dataframe tbody tr th {\n",
       "        vertical-align: top;\n",
       "    }\n",
       "</style>\n",
       "<table border=\"1\" class=\"dataframe\">\n",
       "  <thead>\n",
       "    <tr style=\"text-align: right;\">\n",
       "      <th></th>\n",
       "      <th>A</th>\n",
       "      <th>B</th>\n",
       "      <th>C</th>\n",
       "    </tr>\n",
       "  </thead>\n",
       "  <tbody>\n",
       "    <tr>\n",
       "      <th>0</th>\n",
       "      <td>10</td>\n",
       "      <td>20</td>\n",
       "      <td>30</td>\n",
       "    </tr>\n",
       "    <tr>\n",
       "      <th>1</th>\n",
       "      <td>100</td>\n",
       "      <td>200</td>\n",
       "      <td>300</td>\n",
       "    </tr>\n",
       "    <tr>\n",
       "      <th>2</th>\n",
       "      <td>1000</td>\n",
       "      <td>2000</td>\n",
       "      <td>3000</td>\n",
       "    </tr>\n",
       "    <tr>\n",
       "      <th>3</th>\n",
       "      <td>10000</td>\n",
       "      <td>20000</td>\n",
       "      <td>30000</td>\n",
       "    </tr>\n",
       "  </tbody>\n",
       "</table>\n",
       "</div>"
      ],
      "text/plain": [
       "       A      B      C\n",
       "0     10     20     30\n",
       "1    100    200    300\n",
       "2   1000   2000   3000\n",
       "3  10000  20000  30000"
      ]
     },
     "execution_count": 430,
     "metadata": {},
     "output_type": "execute_result"
    }
   ],
   "source": [
    "df1 * 10  # スカラー値との四則演算は各要素に対して行われる"
   ]
  },
  {
   "cell_type": "markdown",
   "metadata": {
    "deletable": true,
    "editable": true
   },
   "source": [
    "上記の計算はもとのデータが変更されるのではなく、新しいデータフレームとして結果が返されます。  \n",
    "そのため、データの値を更新したい場合は、\n",
    "```df = df * 10```のように結果を元のデータフレームに代入する必要があります。"
   ]
  },
  {
   "cell_type": "markdown",
   "metadata": {
    "deletable": true,
    "editable": true
   },
   "source": [
    "* リストやSeriesとの計算"
   ]
  },
  {
   "cell_type": "code",
   "execution_count": 431,
   "metadata": {
    "collapsed": false,
    "deletable": true,
    "editable": true,
    "scrolled": true
   },
   "outputs": [
    {
     "data": {
      "text/html": [
       "<div>\n",
       "<style>\n",
       "    .dataframe thead tr:only-child th {\n",
       "        text-align: right;\n",
       "    }\n",
       "\n",
       "    .dataframe thead th {\n",
       "        text-align: left;\n",
       "    }\n",
       "\n",
       "    .dataframe tbody tr th {\n",
       "        vertical-align: top;\n",
       "    }\n",
       "</style>\n",
       "<table border=\"1\" class=\"dataframe\">\n",
       "  <thead>\n",
       "    <tr style=\"text-align: right;\">\n",
       "      <th></th>\n",
       "      <th>A</th>\n",
       "      <th>B</th>\n",
       "      <th>C</th>\n",
       "    </tr>\n",
       "  </thead>\n",
       "  <tbody>\n",
       "    <tr>\n",
       "      <th>0</th>\n",
       "      <td>2</td>\n",
       "      <td>4</td>\n",
       "      <td>6</td>\n",
       "    </tr>\n",
       "    <tr>\n",
       "      <th>1</th>\n",
       "      <td>11</td>\n",
       "      <td>22</td>\n",
       "      <td>33</td>\n",
       "    </tr>\n",
       "    <tr>\n",
       "      <th>2</th>\n",
       "      <td>101</td>\n",
       "      <td>202</td>\n",
       "      <td>303</td>\n",
       "    </tr>\n",
       "    <tr>\n",
       "      <th>3</th>\n",
       "      <td>1001</td>\n",
       "      <td>2002</td>\n",
       "      <td>3003</td>\n",
       "    </tr>\n",
       "  </tbody>\n",
       "</table>\n",
       "</div>"
      ],
      "text/plain": [
       "      A     B     C\n",
       "0     2     4     6\n",
       "1    11    22    33\n",
       "2   101   202   303\n",
       "3  1001  2002  3003"
      ]
     },
     "execution_count": 431,
     "metadata": {},
     "output_type": "execute_result"
    }
   ],
   "source": [
    "L = [1, 2, 3]\n",
    "df1 + L"
   ]
  },
  {
   "cell_type": "markdown",
   "metadata": {
    "deletable": true,
    "editable": true
   },
   "source": [
    "各行ごとに計算が適用されます。（ブロードキャスト）  \n",
    "下の例ではデータの要素数が揃っていないのでエラーになります。"
   ]
  },
  {
   "cell_type": "code",
   "execution_count": 432,
   "metadata": {
    "collapsed": false,
    "deletable": true,
    "editable": true
   },
   "outputs": [],
   "source": [
    "# L = [1, 2, 3, 4]\n",
    "# df + L"
   ]
  },
  {
   "cell_type": "markdown",
   "metadata": {
    "deletable": true,
    "editable": true
   },
   "source": [
    "(余談)  \n",
    "Q. 横方向にブロードキャストするにはどうするか？ \n",
    "  \n",
    "A. df.Tを使い行と列を転置させてから計算し、その後、転置させてもとの形に戻します。"
   ]
  },
  {
   "cell_type": "code",
   "execution_count": 317,
   "metadata": {
    "collapsed": false,
    "deletable": true,
    "editable": true
   },
   "outputs": [
    {
     "data": {
      "text/html": [
       "<div>\n",
       "<style>\n",
       "    .dataframe thead tr:only-child th {\n",
       "        text-align: right;\n",
       "    }\n",
       "\n",
       "    .dataframe thead th {\n",
       "        text-align: left;\n",
       "    }\n",
       "\n",
       "    .dataframe tbody tr th {\n",
       "        vertical-align: top;\n",
       "    }\n",
       "</style>\n",
       "<table border=\"1\" class=\"dataframe\">\n",
       "  <thead>\n",
       "    <tr style=\"text-align: right;\">\n",
       "      <th></th>\n",
       "      <th>A</th>\n",
       "      <th>B</th>\n",
       "      <th>C</th>\n",
       "      <th>D</th>\n",
       "    </tr>\n",
       "  </thead>\n",
       "  <tbody>\n",
       "    <tr>\n",
       "      <th>0</th>\n",
       "      <td>1.0</td>\n",
       "      <td>3.0</td>\n",
       "      <td>31.0</td>\n",
       "      <td>5.0</td>\n",
       "    </tr>\n",
       "    <tr>\n",
       "      <th>1</th>\n",
       "      <td>12.0</td>\n",
       "      <td>22.0</td>\n",
       "      <td>302.0</td>\n",
       "      <td>46.0</td>\n",
       "    </tr>\n",
       "    <tr>\n",
       "      <th>2</th>\n",
       "      <td>103.0</td>\n",
       "      <td>203.0</td>\n",
       "      <td>3003.0</td>\n",
       "      <td>447.0</td>\n",
       "    </tr>\n",
       "    <tr>\n",
       "      <th>3</th>\n",
       "      <td>1004.0</td>\n",
       "      <td>2004.0</td>\n",
       "      <td>30004.0</td>\n",
       "      <td>4448.0</td>\n",
       "    </tr>\n",
       "  </tbody>\n",
       "</table>\n",
       "</div>"
      ],
      "text/plain": [
       "        A       B        C       D\n",
       "0     1.0     3.0     31.0     5.0\n",
       "1    12.0    22.0    302.0    46.0\n",
       "2   103.0   203.0   3003.0   447.0\n",
       "3  1004.0  2004.0  30004.0  4448.0"
      ]
     },
     "execution_count": 317,
     "metadata": {},
     "output_type": "execute_result"
    }
   ],
   "source": [
    "L = [1, 2, 3, 4]\n",
    "(df1.T + L).T"
   ]
  },
  {
   "cell_type": "code",
   "execution_count": null,
   "metadata": {
    "collapsed": true,
    "deletable": true,
    "editable": true
   },
   "outputs": [],
   "source": []
  },
  {
   "cell_type": "markdown",
   "metadata": {
    "deletable": true,
    "editable": true
   },
   "source": [
    "* データフレーム同士の計算  \n",
    "データフレームの形状が同じであれば、要素ごとに計算できますが、あまり利用機会はないと思いますので省略します。  \n",
    "また、行列の内積のような計算も可能ですが、本格的な行列の数値計算であれば numpy を使った方が便利です。\n"
   ]
  },
  {
   "cell_type": "markdown",
   "metadata": {
    "deletable": true,
    "editable": true
   },
   "source": [
    "### 集計関数"
   ]
  },
  {
   "cell_type": "code",
   "execution_count": 434,
   "metadata": {
    "collapsed": false,
    "deletable": true,
    "editable": true
   },
   "outputs": [
    {
     "data": {
      "text/plain": [
       "A    1111\n",
       "B    2222\n",
       "C    3333\n",
       "dtype: int64"
      ]
     },
     "execution_count": 434,
     "metadata": {},
     "output_type": "execute_result"
    }
   ],
   "source": [
    "# 合計を求める。\n",
    "df1.sum()  # デフォルトでは列ごとの合計 (axis=0)"
   ]
  },
  {
   "cell_type": "code",
   "execution_count": 435,
   "metadata": {
    "collapsed": false,
    "deletable": true,
    "editable": true
   },
   "outputs": [
    {
     "data": {
      "text/plain": [
       "0       6\n",
       "1      60\n",
       "2     600\n",
       "3    6000\n",
       "dtype: int64"
      ]
     },
     "execution_count": 435,
     "metadata": {},
     "output_type": "execute_result"
    }
   ],
   "source": [
    "df1.sum(axis=1) # 行ごとの合計"
   ]
  },
  {
   "cell_type": "code",
   "execution_count": 436,
   "metadata": {
    "collapsed": false,
    "deletable": true,
    "editable": true
   },
   "outputs": [
    {
     "data": {
      "text/plain": [
       "A    277.75\n",
       "B    555.50\n",
       "C    833.25\n",
       "dtype: float64"
      ]
     },
     "execution_count": 436,
     "metadata": {},
     "output_type": "execute_result"
    }
   ],
   "source": [
    "df1.mean() # 平均"
   ]
  },
  {
   "cell_type": "code",
   "execution_count": 437,
   "metadata": {
    "collapsed": false,
    "deletable": true,
    "editable": true
   },
   "outputs": [
    {
     "data": {
      "text/html": [
       "<div>\n",
       "<style>\n",
       "    .dataframe thead tr:only-child th {\n",
       "        text-align: right;\n",
       "    }\n",
       "\n",
       "    .dataframe thead th {\n",
       "        text-align: left;\n",
       "    }\n",
       "\n",
       "    .dataframe tbody tr th {\n",
       "        vertical-align: top;\n",
       "    }\n",
       "</style>\n",
       "<table border=\"1\" class=\"dataframe\">\n",
       "  <thead>\n",
       "    <tr style=\"text-align: right;\">\n",
       "      <th></th>\n",
       "      <th>A</th>\n",
       "      <th>B</th>\n",
       "      <th>C</th>\n",
       "    </tr>\n",
       "  </thead>\n",
       "  <tbody>\n",
       "    <tr>\n",
       "      <th>0</th>\n",
       "      <td>1</td>\n",
       "      <td>2</td>\n",
       "      <td>3</td>\n",
       "    </tr>\n",
       "    <tr>\n",
       "      <th>1</th>\n",
       "      <td>11</td>\n",
       "      <td>22</td>\n",
       "      <td>33</td>\n",
       "    </tr>\n",
       "    <tr>\n",
       "      <th>2</th>\n",
       "      <td>111</td>\n",
       "      <td>222</td>\n",
       "      <td>333</td>\n",
       "    </tr>\n",
       "    <tr>\n",
       "      <th>3</th>\n",
       "      <td>1111</td>\n",
       "      <td>2222</td>\n",
       "      <td>3333</td>\n",
       "    </tr>\n",
       "  </tbody>\n",
       "</table>\n",
       "</div>"
      ],
      "text/plain": [
       "      A     B     C\n",
       "0     1     2     3\n",
       "1    11    22    33\n",
       "2   111   222   333\n",
       "3  1111  2222  3333"
      ]
     },
     "execution_count": 437,
     "metadata": {},
     "output_type": "execute_result"
    }
   ],
   "source": [
    "df1.cumsum(axis=0) # 累積 (上で紹介した他の集計関数と異なり、結果はデータフレームで返ってきます。"
   ]
  },
  {
   "cell_type": "markdown",
   "metadata": {
    "deletable": true,
    "editable": true
   },
   "source": [
    "### ソート"
   ]
  },
  {
   "cell_type": "markdown",
   "metadata": {
    "deletable": true,
    "editable": true
   },
   "source": [
    "* indexでソート (sort_index)"
   ]
  },
  {
   "cell_type": "code",
   "execution_count": 438,
   "metadata": {
    "collapsed": false,
    "deletable": true,
    "editable": true
   },
   "outputs": [
    {
     "data": {
      "text/html": [
       "<div>\n",
       "<style>\n",
       "    .dataframe thead tr:only-child th {\n",
       "        text-align: right;\n",
       "    }\n",
       "\n",
       "    .dataframe thead th {\n",
       "        text-align: left;\n",
       "    }\n",
       "\n",
       "    .dataframe tbody tr th {\n",
       "        vertical-align: top;\n",
       "    }\n",
       "</style>\n",
       "<table border=\"1\" class=\"dataframe\">\n",
       "  <thead>\n",
       "    <tr style=\"text-align: right;\">\n",
       "      <th></th>\n",
       "      <th>A</th>\n",
       "      <th>B</th>\n",
       "      <th>C</th>\n",
       "      <th>D</th>\n",
       "      <th>E</th>\n",
       "      <th>F</th>\n",
       "      <th>G</th>\n",
       "    </tr>\n",
       "    <tr>\n",
       "      <th>data_idx</th>\n",
       "      <th></th>\n",
       "      <th></th>\n",
       "      <th></th>\n",
       "      <th></th>\n",
       "      <th></th>\n",
       "      <th></th>\n",
       "      <th></th>\n",
       "    </tr>\n",
       "  </thead>\n",
       "  <tbody>\n",
       "    <tr>\n",
       "      <th>data_9</th>\n",
       "      <td>81</td>\n",
       "      <td>35</td>\n",
       "      <td>46.0</td>\n",
       "      <td>0.5198</td>\n",
       "      <td>422.065428</td>\n",
       "      <td>0.0123</td>\n",
       "      <td>-0.0054</td>\n",
       "    </tr>\n",
       "    <tr>\n",
       "      <th>data_8</th>\n",
       "      <td>39</td>\n",
       "      <td>32</td>\n",
       "      <td>7.0</td>\n",
       "      <td>0.5783</td>\n",
       "      <td>2.079866</td>\n",
       "      <td>0.0271</td>\n",
       "      <td>-0.0013</td>\n",
       "    </tr>\n",
       "    <tr>\n",
       "      <th>data_7</th>\n",
       "      <td>39</td>\n",
       "      <td>-32</td>\n",
       "      <td>7.0</td>\n",
       "      <td>0.5783</td>\n",
       "      <td>136.917725</td>\n",
       "      <td>0.0112</td>\n",
       "      <td>-0.0278</td>\n",
       "    </tr>\n",
       "    <tr>\n",
       "      <th>data_6</th>\n",
       "      <td>137</td>\n",
       "      <td>-50</td>\n",
       "      <td>NaN</td>\n",
       "      <td>0.5330</td>\n",
       "      <td>1603.301689</td>\n",
       "      <td>0.0061</td>\n",
       "      <td>-0.0221</td>\n",
       "    </tr>\n",
       "    <tr>\n",
       "      <th>data_5</th>\n",
       "      <td>59</td>\n",
       "      <td>30</td>\n",
       "      <td>29.0</td>\n",
       "      <td>0.5404</td>\n",
       "      <td>138.188987</td>\n",
       "      <td>0.0222</td>\n",
       "      <td>-0.0439</td>\n",
       "    </tr>\n",
       "  </tbody>\n",
       "</table>\n",
       "</div>"
      ],
      "text/plain": [
       "            A   B     C       D            E       F       G\n",
       "data_idx                                                    \n",
       "data_9     81  35  46.0  0.5198   422.065428  0.0123 -0.0054\n",
       "data_8     39  32   7.0  0.5783     2.079866  0.0271 -0.0013\n",
       "data_7     39 -32   7.0  0.5783   136.917725  0.0112 -0.0278\n",
       "data_6    137 -50   NaN  0.5330  1603.301689  0.0061 -0.0221\n",
       "data_5     59  30  29.0  0.5404   138.188987  0.0222 -0.0439"
      ]
     },
     "execution_count": 438,
     "metadata": {},
     "output_type": "execute_result"
    }
   ],
   "source": [
    "# ascendingをFalseにすると降順でソートされます。(defaultは昇順=小さい順)\n",
    "df3.sort_index(ascending=False).head()"
   ]
  },
  {
   "cell_type": "markdown",
   "metadata": {
    "deletable": true,
    "editable": true
   },
   "source": [
    "inplace=Trueオプションをつけると、もとのデータフレームを書き換えます（破壊的変更）"
   ]
  },
  {
   "cell_type": "markdown",
   "metadata": {
    "deletable": true,
    "editable": true
   },
   "source": [
    "* 要素の値でのソート (sort_values)  \n",
    "```df2.sort_values(by, axis=0, ascending=True, inplace=False, kind='quicksort', na_position='last')```"
   ]
  },
  {
   "cell_type": "code",
   "execution_count": 439,
   "metadata": {
    "collapsed": false,
    "deletable": true,
    "editable": true
   },
   "outputs": [
    {
     "data": {
      "text/html": [
       "<div>\n",
       "<style>\n",
       "    .dataframe thead tr:only-child th {\n",
       "        text-align: right;\n",
       "    }\n",
       "\n",
       "    .dataframe thead th {\n",
       "        text-align: left;\n",
       "    }\n",
       "\n",
       "    .dataframe tbody tr th {\n",
       "        vertical-align: top;\n",
       "    }\n",
       "</style>\n",
       "<table border=\"1\" class=\"dataframe\">\n",
       "  <thead>\n",
       "    <tr style=\"text-align: right;\">\n",
       "      <th></th>\n",
       "      <th>DOB</th>\n",
       "      <th>age</th>\n",
       "      <th>alive</th>\n",
       "      <th>family_name</th>\n",
       "      <th>group_name</th>\n",
       "      <th>name</th>\n",
       "    </tr>\n",
       "  </thead>\n",
       "  <tbody>\n",
       "    <tr>\n",
       "      <th>0</th>\n",
       "      <td>1940/10/09</td>\n",
       "      <td>NaN</td>\n",
       "      <td>False</td>\n",
       "      <td>Lennon</td>\n",
       "      <td>Beatles</td>\n",
       "      <td>John</td>\n",
       "    </tr>\n",
       "    <tr>\n",
       "      <th>2</th>\n",
       "      <td>1943/02/25</td>\n",
       "      <td>NaN</td>\n",
       "      <td>False</td>\n",
       "      <td>Harrison</td>\n",
       "      <td>Beatles</td>\n",
       "      <td>George</td>\n",
       "    </tr>\n",
       "    <tr>\n",
       "      <th>1</th>\n",
       "      <td>1942/026/18</td>\n",
       "      <td>76.0</td>\n",
       "      <td>True</td>\n",
       "      <td>McCartney</td>\n",
       "      <td>Beatles</td>\n",
       "      <td>Paul</td>\n",
       "    </tr>\n",
       "    <tr>\n",
       "      <th>4</th>\n",
       "      <td>1941/10/13</td>\n",
       "      <td>77.0</td>\n",
       "      <td>True</td>\n",
       "      <td>Simon</td>\n",
       "      <td>Simon_and_Garfunkel</td>\n",
       "      <td>Paul</td>\n",
       "    </tr>\n",
       "    <tr>\n",
       "      <th>5</th>\n",
       "      <td>1941/11/05</td>\n",
       "      <td>77.0</td>\n",
       "      <td>True</td>\n",
       "      <td>Garfunkel</td>\n",
       "      <td>Simon_and_Garfunkel</td>\n",
       "      <td>Art</td>\n",
       "    </tr>\n",
       "    <tr>\n",
       "      <th>3</th>\n",
       "      <td>1940/07/07</td>\n",
       "      <td>78.0</td>\n",
       "      <td>True</td>\n",
       "      <td>Starr</td>\n",
       "      <td>Beatles</td>\n",
       "      <td>Ringo</td>\n",
       "    </tr>\n",
       "  </tbody>\n",
       "</table>\n",
       "</div>"
      ],
      "text/plain": [
       "           DOB   age  alive family_name           group_name    name\n",
       "0   1940/10/09   NaN  False      Lennon              Beatles    John\n",
       "2   1943/02/25   NaN  False    Harrison              Beatles  George\n",
       "1  1942/026/18  76.0   True   McCartney              Beatles    Paul\n",
       "4   1941/10/13  77.0   True       Simon  Simon_and_Garfunkel    Paul\n",
       "5   1941/11/05  77.0   True   Garfunkel  Simon_and_Garfunkel     Art\n",
       "3   1940/07/07  78.0   True       Starr              Beatles   Ringo"
      ]
     },
     "execution_count": 439,
     "metadata": {},
     "output_type": "execute_result"
    }
   ],
   "source": [
    "df2.sort_values(by=\"age\", na_position=\"first\")"
   ]
  },
  {
   "cell_type": "markdown",
   "metadata": {
    "deletable": true,
    "editable": true
   },
   "source": [
    "* 複数項目でのソート  \n",
    "C列を昇順、D列を降順に並び替えます"
   ]
  },
  {
   "cell_type": "code",
   "execution_count": 440,
   "metadata": {
    "collapsed": false,
    "deletable": true,
    "editable": true,
    "scrolled": true
   },
   "outputs": [
    {
     "data": {
      "text/html": [
       "<div>\n",
       "<style>\n",
       "    .dataframe thead tr:only-child th {\n",
       "        text-align: right;\n",
       "    }\n",
       "\n",
       "    .dataframe thead th {\n",
       "        text-align: left;\n",
       "    }\n",
       "\n",
       "    .dataframe tbody tr th {\n",
       "        vertical-align: top;\n",
       "    }\n",
       "</style>\n",
       "<table border=\"1\" class=\"dataframe\">\n",
       "  <thead>\n",
       "    <tr style=\"text-align: right;\">\n",
       "      <th></th>\n",
       "      <th>A</th>\n",
       "      <th>B</th>\n",
       "      <th>C</th>\n",
       "      <th>D</th>\n",
       "      <th>E</th>\n",
       "      <th>F</th>\n",
       "      <th>G</th>\n",
       "    </tr>\n",
       "    <tr>\n",
       "      <th>data_idx</th>\n",
       "      <th></th>\n",
       "      <th></th>\n",
       "      <th></th>\n",
       "      <th></th>\n",
       "      <th></th>\n",
       "      <th></th>\n",
       "      <th></th>\n",
       "    </tr>\n",
       "  </thead>\n",
       "  <tbody>\n",
       "    <tr>\n",
       "      <th>data_26</th>\n",
       "      <td>15</td>\n",
       "      <td>-15</td>\n",
       "      <td>0.0</td>\n",
       "      <td>0.5000</td>\n",
       "      <td>0.000000</td>\n",
       "      <td>0.0130</td>\n",
       "      <td>-0.0999</td>\n",
       "    </tr>\n",
       "    <tr>\n",
       "      <th>data_27</th>\n",
       "      <td>14</td>\n",
       "      <td>-13</td>\n",
       "      <td>1.0</td>\n",
       "      <td>0.5531</td>\n",
       "      <td>0.369251</td>\n",
       "      <td>0.0182</td>\n",
       "      <td>-0.0337</td>\n",
       "    </tr>\n",
       "    <tr>\n",
       "      <th>data_19</th>\n",
       "      <td>6</td>\n",
       "      <td>-2</td>\n",
       "      <td>4.0</td>\n",
       "      <td>0.5453</td>\n",
       "      <td>72.282932</td>\n",
       "      <td>0.0220</td>\n",
       "      <td>-0.0707</td>\n",
       "    </tr>\n",
       "    <tr>\n",
       "      <th>data_18</th>\n",
       "      <td>11</td>\n",
       "      <td>7</td>\n",
       "      <td>4.0</td>\n",
       "      <td>0.5000</td>\n",
       "      <td>69.762676</td>\n",
       "      <td>0.0330</td>\n",
       "      <td>0.0000</td>\n",
       "    </tr>\n",
       "    <tr>\n",
       "      <th>data_7</th>\n",
       "      <td>39</td>\n",
       "      <td>-32</td>\n",
       "      <td>7.0</td>\n",
       "      <td>0.5783</td>\n",
       "      <td>136.917725</td>\n",
       "      <td>0.0112</td>\n",
       "      <td>-0.0278</td>\n",
       "    </tr>\n",
       "    <tr>\n",
       "      <th>data_8</th>\n",
       "      <td>39</td>\n",
       "      <td>32</td>\n",
       "      <td>7.0</td>\n",
       "      <td>0.5783</td>\n",
       "      <td>2.079866</td>\n",
       "      <td>0.0271</td>\n",
       "      <td>-0.0013</td>\n",
       "    </tr>\n",
       "    <tr>\n",
       "      <th>data_24</th>\n",
       "      <td>26</td>\n",
       "      <td>-18</td>\n",
       "      <td>8.0</td>\n",
       "      <td>0.7498</td>\n",
       "      <td>NaN</td>\n",
       "      <td>0.0193</td>\n",
       "      <td>-0.0026</td>\n",
       "    </tr>\n",
       "    <tr>\n",
       "      <th>data_25</th>\n",
       "      <td>25</td>\n",
       "      <td>16</td>\n",
       "      <td>9.0</td>\n",
       "      <td>0.7223</td>\n",
       "      <td>50.758144</td>\n",
       "      <td>0.0235</td>\n",
       "      <td>-0.0065</td>\n",
       "    </tr>\n",
       "    <tr>\n",
       "      <th>data_2</th>\n",
       "      <td>17</td>\n",
       "      <td>3</td>\n",
       "      <td>14.0</td>\n",
       "      <td>0.7112</td>\n",
       "      <td>36.759859</td>\n",
       "      <td>0.0263</td>\n",
       "      <td>0.0009</td>\n",
       "    </tr>\n",
       "    <tr>\n",
       "      <th>data_20</th>\n",
       "      <td>20</td>\n",
       "      <td>-4</td>\n",
       "      <td>16.0</td>\n",
       "      <td>0.5714</td>\n",
       "      <td>3.293830</td>\n",
       "      <td>0.0469</td>\n",
       "      <td>-0.0441</td>\n",
       "    </tr>\n",
       "  </tbody>\n",
       "</table>\n",
       "</div>"
      ],
      "text/plain": [
       "           A   B     C       D           E       F       G\n",
       "data_idx                                                  \n",
       "data_26   15 -15   0.0  0.5000    0.000000  0.0130 -0.0999\n",
       "data_27   14 -13   1.0  0.5531    0.369251  0.0182 -0.0337\n",
       "data_19    6  -2   4.0  0.5453   72.282932  0.0220 -0.0707\n",
       "data_18   11   7   4.0  0.5000   69.762676  0.0330  0.0000\n",
       "data_7    39 -32   7.0  0.5783  136.917725  0.0112 -0.0278\n",
       "data_8    39  32   7.0  0.5783    2.079866  0.0271 -0.0013\n",
       "data_24   26 -18   8.0  0.7498         NaN  0.0193 -0.0026\n",
       "data_25   25  16   9.0  0.7223   50.758144  0.0235 -0.0065\n",
       "data_2    17   3  14.0  0.7112   36.759859  0.0263  0.0009\n",
       "data_20   20  -4  16.0  0.5714    3.293830  0.0469 -0.0441"
      ]
     },
     "execution_count": 440,
     "metadata": {},
     "output_type": "execute_result"
    }
   ],
   "source": [
    "df3.sort_values(by=[\"C\", \"D\"], ascending=[True, False]).head(10)"
   ]
  },
  {
   "cell_type": "markdown",
   "metadata": {
    "deletable": true,
    "editable": true
   },
   "source": [
    "* 列の並び替え (あまり使用する機会はないかもしれませんが)"
   ]
  },
  {
   "cell_type": "code",
   "execution_count": 441,
   "metadata": {
    "collapsed": false,
    "deletable": true,
    "editable": true
   },
   "outputs": [
    {
     "data": {
      "text/html": [
       "<div>\n",
       "<style>\n",
       "    .dataframe thead tr:only-child th {\n",
       "        text-align: right;\n",
       "    }\n",
       "\n",
       "    .dataframe thead th {\n",
       "        text-align: left;\n",
       "    }\n",
       "\n",
       "    .dataframe tbody tr th {\n",
       "        vertical-align: top;\n",
       "    }\n",
       "</style>\n",
       "<table border=\"1\" class=\"dataframe\">\n",
       "  <thead>\n",
       "    <tr style=\"text-align: right;\">\n",
       "      <th></th>\n",
       "      <th>A</th>\n",
       "      <th>B</th>\n",
       "      <th>C</th>\n",
       "      <th>D</th>\n",
       "      <th>E</th>\n",
       "      <th>F</th>\n",
       "      <th>G</th>\n",
       "    </tr>\n",
       "    <tr>\n",
       "      <th>data_idx</th>\n",
       "      <th></th>\n",
       "      <th></th>\n",
       "      <th></th>\n",
       "      <th></th>\n",
       "      <th></th>\n",
       "      <th></th>\n",
       "      <th></th>\n",
       "    </tr>\n",
       "  </thead>\n",
       "  <tbody>\n",
       "    <tr>\n",
       "      <th>data_1</th>\n",
       "      <td>58</td>\n",
       "      <td>-27</td>\n",
       "      <td>31.0</td>\n",
       "      <td>0.6028</td>\n",
       "      <td>73.922054</td>\n",
       "      <td>0.0179</td>\n",
       "      <td>-0.0102</td>\n",
       "    </tr>\n",
       "    <tr>\n",
       "      <th>data_10</th>\n",
       "      <td>109</td>\n",
       "      <td>-53</td>\n",
       "      <td>56.0</td>\n",
       "      <td>0.5000</td>\n",
       "      <td>575.585790</td>\n",
       "      <td>0.0346</td>\n",
       "      <td>0.0000</td>\n",
       "    </tr>\n",
       "    <tr>\n",
       "      <th>data_11</th>\n",
       "      <td>77</td>\n",
       "      <td>-44</td>\n",
       "      <td>33.0</td>\n",
       "      <td>0.6281</td>\n",
       "      <td>144.838806</td>\n",
       "      <td>0.0343</td>\n",
       "      <td>-0.0411</td>\n",
       "    </tr>\n",
       "    <tr>\n",
       "      <th>data_12</th>\n",
       "      <td>181</td>\n",
       "      <td>126</td>\n",
       "      <td>55.0</td>\n",
       "      <td>0.5000</td>\n",
       "      <td>NaN</td>\n",
       "      <td>0.0551</td>\n",
       "      <td>0.0000</td>\n",
       "    </tr>\n",
       "    <tr>\n",
       "      <th>data_13</th>\n",
       "      <td>91</td>\n",
       "      <td>-46</td>\n",
       "      <td>45.0</td>\n",
       "      <td>0.5220</td>\n",
       "      <td>896.439718</td>\n",
       "      <td>0.0044</td>\n",
       "      <td>-0.0082</td>\n",
       "    </tr>\n",
       "  </tbody>\n",
       "</table>\n",
       "</div>"
      ],
      "text/plain": [
       "            A    B     C       D           E       F       G\n",
       "data_idx                                                    \n",
       "data_1     58  -27  31.0  0.6028   73.922054  0.0179 -0.0102\n",
       "data_10   109  -53  56.0  0.5000  575.585790  0.0346  0.0000\n",
       "data_11    77  -44  33.0  0.6281  144.838806  0.0343 -0.0411\n",
       "data_12   181  126  55.0  0.5000         NaN  0.0551  0.0000\n",
       "data_13    91  -46  45.0  0.5220  896.439718  0.0044 -0.0082"
      ]
     },
     "execution_count": 441,
     "metadata": {},
     "output_type": "execute_result"
    }
   ],
   "source": [
    "df3.head() # 元データ"
   ]
  },
  {
   "cell_type": "code",
   "execution_count": 442,
   "metadata": {
    "collapsed": false,
    "deletable": true,
    "editable": true,
    "scrolled": true
   },
   "outputs": [
    {
     "data": {
      "text/html": [
       "<div>\n",
       "<style>\n",
       "    .dataframe thead tr:only-child th {\n",
       "        text-align: right;\n",
       "    }\n",
       "\n",
       "    .dataframe thead th {\n",
       "        text-align: left;\n",
       "    }\n",
       "\n",
       "    .dataframe tbody tr th {\n",
       "        vertical-align: top;\n",
       "    }\n",
       "</style>\n",
       "<table border=\"1\" class=\"dataframe\">\n",
       "  <thead>\n",
       "    <tr style=\"text-align: right;\">\n",
       "      <th></th>\n",
       "      <th>B</th>\n",
       "      <th>G</th>\n",
       "      <th>F</th>\n",
       "      <th>D</th>\n",
       "      <th>C</th>\n",
       "      <th>A</th>\n",
       "      <th>E</th>\n",
       "    </tr>\n",
       "    <tr>\n",
       "      <th>data_idx</th>\n",
       "      <th></th>\n",
       "      <th></th>\n",
       "      <th></th>\n",
       "      <th></th>\n",
       "      <th></th>\n",
       "      <th></th>\n",
       "      <th></th>\n",
       "    </tr>\n",
       "  </thead>\n",
       "  <tbody>\n",
       "    <tr>\n",
       "      <th>data_1</th>\n",
       "      <td>-27</td>\n",
       "      <td>-0.0102</td>\n",
       "      <td>0.0179</td>\n",
       "      <td>0.6028</td>\n",
       "      <td>31.0</td>\n",
       "      <td>58</td>\n",
       "      <td>73.922054</td>\n",
       "    </tr>\n",
       "    <tr>\n",
       "      <th>data_10</th>\n",
       "      <td>-53</td>\n",
       "      <td>0.0000</td>\n",
       "      <td>0.0346</td>\n",
       "      <td>0.5000</td>\n",
       "      <td>56.0</td>\n",
       "      <td>109</td>\n",
       "      <td>575.585790</td>\n",
       "    </tr>\n",
       "    <tr>\n",
       "      <th>data_11</th>\n",
       "      <td>-44</td>\n",
       "      <td>-0.0411</td>\n",
       "      <td>0.0343</td>\n",
       "      <td>0.6281</td>\n",
       "      <td>33.0</td>\n",
       "      <td>77</td>\n",
       "      <td>144.838806</td>\n",
       "    </tr>\n",
       "    <tr>\n",
       "      <th>data_12</th>\n",
       "      <td>126</td>\n",
       "      <td>0.0000</td>\n",
       "      <td>0.0551</td>\n",
       "      <td>0.5000</td>\n",
       "      <td>55.0</td>\n",
       "      <td>181</td>\n",
       "      <td>NaN</td>\n",
       "    </tr>\n",
       "    <tr>\n",
       "      <th>data_13</th>\n",
       "      <td>-46</td>\n",
       "      <td>-0.0082</td>\n",
       "      <td>0.0044</td>\n",
       "      <td>0.5220</td>\n",
       "      <td>45.0</td>\n",
       "      <td>91</td>\n",
       "      <td>896.439718</td>\n",
       "    </tr>\n",
       "  </tbody>\n",
       "</table>\n",
       "</div>"
      ],
      "text/plain": [
       "            B       G       F       D     C    A           E\n",
       "data_idx                                                    \n",
       "data_1    -27 -0.0102  0.0179  0.6028  31.0   58   73.922054\n",
       "data_10   -53  0.0000  0.0346  0.5000  56.0  109  575.585790\n",
       "data_11   -44 -0.0411  0.0343  0.6281  33.0   77  144.838806\n",
       "data_12   126  0.0000  0.0551  0.5000  55.0  181         NaN\n",
       "data_13   -46 -0.0082  0.0044  0.5220  45.0   91  896.439718"
      ]
     },
     "execution_count": 442,
     "metadata": {},
     "output_type": "execute_result"
    }
   ],
   "source": [
    "df3.sort_values(by=\"data_1\", axis=1).head() # axis=1を指定"
   ]
  },
  {
   "cell_type": "markdown",
   "metadata": {
    "deletable": true,
    "editable": true
   },
   "source": [
    "# データフレームから行・列・要素の抽出"
   ]
  },
  {
   "cell_type": "code",
   "execution_count": 443,
   "metadata": {
    "collapsed": false,
    "deletable": true,
    "editable": true
   },
   "outputs": [
    {
     "data": {
      "text/html": [
       "<div>\n",
       "<style>\n",
       "    .dataframe thead tr:only-child th {\n",
       "        text-align: right;\n",
       "    }\n",
       "\n",
       "    .dataframe thead th {\n",
       "        text-align: left;\n",
       "    }\n",
       "\n",
       "    .dataframe tbody tr th {\n",
       "        vertical-align: top;\n",
       "    }\n",
       "</style>\n",
       "<table border=\"1\" class=\"dataframe\">\n",
       "  <thead>\n",
       "    <tr style=\"text-align: right;\">\n",
       "      <th></th>\n",
       "      <th>A</th>\n",
       "      <th>B</th>\n",
       "      <th>C</th>\n",
       "    </tr>\n",
       "  </thead>\n",
       "  <tbody>\n",
       "    <tr>\n",
       "      <th>0</th>\n",
       "      <td>1</td>\n",
       "      <td>2</td>\n",
       "      <td>3</td>\n",
       "    </tr>\n",
       "    <tr>\n",
       "      <th>1</th>\n",
       "      <td>10</td>\n",
       "      <td>20</td>\n",
       "      <td>30</td>\n",
       "    </tr>\n",
       "    <tr>\n",
       "      <th>2</th>\n",
       "      <td>100</td>\n",
       "      <td>200</td>\n",
       "      <td>300</td>\n",
       "    </tr>\n",
       "    <tr>\n",
       "      <th>3</th>\n",
       "      <td>1000</td>\n",
       "      <td>2000</td>\n",
       "      <td>3000</td>\n",
       "    </tr>\n",
       "  </tbody>\n",
       "</table>\n",
       "</div>"
      ],
      "text/plain": [
       "      A     B     C\n",
       "0     1     2     3\n",
       "1    10    20    30\n",
       "2   100   200   300\n",
       "3  1000  2000  3000"
      ]
     },
     "execution_count": 443,
     "metadata": {},
     "output_type": "execute_result"
    }
   ],
   "source": [
    "df1"
   ]
  },
  {
   "cell_type": "markdown",
   "metadata": {
    "deletable": true,
    "editable": true
   },
   "source": [
    "## 行・列の抽出"
   ]
  },
  {
   "cell_type": "markdown",
   "metadata": {
    "deletable": true,
    "editable": true
   },
   "source": [
    "* 列の抽出"
   ]
  },
  {
   "cell_type": "code",
   "execution_count": 444,
   "metadata": {
    "collapsed": false,
    "deletable": true,
    "editable": true
   },
   "outputs": [
    {
     "data": {
      "text/plain": [
       "0       1\n",
       "1      10\n",
       "2     100\n",
       "3    1000\n",
       "Name: A, dtype: int64"
      ]
     },
     "execution_count": 444,
     "metadata": {},
     "output_type": "execute_result"
    }
   ],
   "source": [
    "df1[\"A\"]  # 結果は Seriesとして返ってきます。"
   ]
  },
  {
   "cell_type": "code",
   "execution_count": 445,
   "metadata": {
    "collapsed": false,
    "deletable": true,
    "editable": true
   },
   "outputs": [
    {
     "data": {
      "text/plain": [
       "0       1\n",
       "1      10\n",
       "2     100\n",
       "3    1000\n",
       "Name: A, dtype: int64"
      ]
     },
     "execution_count": 445,
     "metadata": {},
     "output_type": "execute_result"
    }
   ],
   "source": [
    "df1.A  # こちらでも同様の操作が可能"
   ]
  },
  {
   "cell_type": "code",
   "execution_count": 446,
   "metadata": {
    "collapsed": false,
    "deletable": true,
    "editable": true
   },
   "outputs": [
    {
     "data": {
      "text/html": [
       "<div>\n",
       "<style>\n",
       "    .dataframe thead tr:only-child th {\n",
       "        text-align: right;\n",
       "    }\n",
       "\n",
       "    .dataframe thead th {\n",
       "        text-align: left;\n",
       "    }\n",
       "\n",
       "    .dataframe tbody tr th {\n",
       "        vertical-align: top;\n",
       "    }\n",
       "</style>\n",
       "<table border=\"1\" class=\"dataframe\">\n",
       "  <thead>\n",
       "    <tr style=\"text-align: right;\">\n",
       "      <th></th>\n",
       "      <th>A</th>\n",
       "      <th>C</th>\n",
       "    </tr>\n",
       "  </thead>\n",
       "  <tbody>\n",
       "    <tr>\n",
       "      <th>0</th>\n",
       "      <td>1</td>\n",
       "      <td>3</td>\n",
       "    </tr>\n",
       "    <tr>\n",
       "      <th>1</th>\n",
       "      <td>10</td>\n",
       "      <td>30</td>\n",
       "    </tr>\n",
       "    <tr>\n",
       "      <th>2</th>\n",
       "      <td>100</td>\n",
       "      <td>300</td>\n",
       "    </tr>\n",
       "    <tr>\n",
       "      <th>3</th>\n",
       "      <td>1000</td>\n",
       "      <td>3000</td>\n",
       "    </tr>\n",
       "  </tbody>\n",
       "</table>\n",
       "</div>"
      ],
      "text/plain": [
       "      A     C\n",
       "0     1     3\n",
       "1    10    30\n",
       "2   100   300\n",
       "3  1000  3000"
      ]
     },
     "execution_count": 446,
     "metadata": {},
     "output_type": "execute_result"
    }
   ],
   "source": [
    "df1[[\"A\",\"C\"]]  # 複数の列を抽出する場合にはリストで指定。([]が二重になることに注意。結果はDataFrame)"
   ]
  },
  {
   "cell_type": "code",
   "execution_count": 448,
   "metadata": {
    "collapsed": false,
    "deletable": true,
    "editable": true
   },
   "outputs": [
    {
     "data": {
      "text/html": [
       "<div>\n",
       "<style>\n",
       "    .dataframe thead tr:only-child th {\n",
       "        text-align: right;\n",
       "    }\n",
       "\n",
       "    .dataframe thead th {\n",
       "        text-align: left;\n",
       "    }\n",
       "\n",
       "    .dataframe tbody tr th {\n",
       "        vertical-align: top;\n",
       "    }\n",
       "</style>\n",
       "<table border=\"1\" class=\"dataframe\">\n",
       "  <thead>\n",
       "    <tr style=\"text-align: right;\">\n",
       "      <th></th>\n",
       "      <th>A</th>\n",
       "    </tr>\n",
       "  </thead>\n",
       "  <tbody>\n",
       "    <tr>\n",
       "      <th>0</th>\n",
       "      <td>1</td>\n",
       "    </tr>\n",
       "    <tr>\n",
       "      <th>1</th>\n",
       "      <td>10</td>\n",
       "    </tr>\n",
       "    <tr>\n",
       "      <th>2</th>\n",
       "      <td>100</td>\n",
       "    </tr>\n",
       "    <tr>\n",
       "      <th>3</th>\n",
       "      <td>1000</td>\n",
       "    </tr>\n",
       "  </tbody>\n",
       "</table>\n",
       "</div>"
      ],
      "text/plain": [
       "      A\n",
       "0     1\n",
       "1    10\n",
       "2   100\n",
       "3  1000"
      ]
     },
     "execution_count": 448,
     "metadata": {},
     "output_type": "execute_result"
    }
   ],
   "source": [
    "df1[[\"A\"]]  # A列のみをDataFrameとして抽出。最初の例との違いに注意"
   ]
  },
  {
   "cell_type": "markdown",
   "metadata": {
    "deletable": true,
    "editable": true
   },
   "source": [
    "* 行の抽出 (スライスを使った下記の方法でできるが、おすすめできない。後述の loc または ilocを使うのがよい)"
   ]
  },
  {
   "cell_type": "code",
   "execution_count": 449,
   "metadata": {
    "collapsed": false,
    "deletable": true,
    "editable": true
   },
   "outputs": [
    {
     "data": {
      "text/html": [
       "<div>\n",
       "<style>\n",
       "    .dataframe thead tr:only-child th {\n",
       "        text-align: right;\n",
       "    }\n",
       "\n",
       "    .dataframe thead th {\n",
       "        text-align: left;\n",
       "    }\n",
       "\n",
       "    .dataframe tbody tr th {\n",
       "        vertical-align: top;\n",
       "    }\n",
       "</style>\n",
       "<table border=\"1\" class=\"dataframe\">\n",
       "  <thead>\n",
       "    <tr style=\"text-align: right;\">\n",
       "      <th></th>\n",
       "      <th>A</th>\n",
       "      <th>B</th>\n",
       "      <th>C</th>\n",
       "      <th>D</th>\n",
       "      <th>E</th>\n",
       "      <th>F</th>\n",
       "      <th>G</th>\n",
       "    </tr>\n",
       "    <tr>\n",
       "      <th>data_idx</th>\n",
       "      <th></th>\n",
       "      <th></th>\n",
       "      <th></th>\n",
       "      <th></th>\n",
       "      <th></th>\n",
       "      <th></th>\n",
       "      <th></th>\n",
       "    </tr>\n",
       "  </thead>\n",
       "  <tbody>\n",
       "    <tr>\n",
       "      <th>data_1</th>\n",
       "      <td>58</td>\n",
       "      <td>-27</td>\n",
       "      <td>31.0</td>\n",
       "      <td>0.6028</td>\n",
       "      <td>73.922054</td>\n",
       "      <td>0.0179</td>\n",
       "      <td>-0.0102</td>\n",
       "    </tr>\n",
       "    <tr>\n",
       "      <th>data_10</th>\n",
       "      <td>109</td>\n",
       "      <td>-53</td>\n",
       "      <td>56.0</td>\n",
       "      <td>0.5000</td>\n",
       "      <td>575.585790</td>\n",
       "      <td>0.0346</td>\n",
       "      <td>0.0000</td>\n",
       "    </tr>\n",
       "    <tr>\n",
       "      <th>data_11</th>\n",
       "      <td>77</td>\n",
       "      <td>-44</td>\n",
       "      <td>33.0</td>\n",
       "      <td>0.6281</td>\n",
       "      <td>144.838806</td>\n",
       "      <td>0.0343</td>\n",
       "      <td>-0.0411</td>\n",
       "    </tr>\n",
       "  </tbody>\n",
       "</table>\n",
       "</div>"
      ],
      "text/plain": [
       "            A   B     C       D           E       F       G\n",
       "data_idx                                                   \n",
       "data_1     58 -27  31.0  0.6028   73.922054  0.0179 -0.0102\n",
       "data_10   109 -53  56.0  0.5000  575.585790  0.0346  0.0000\n",
       "data_11    77 -44  33.0  0.6281  144.838806  0.0343 -0.0411"
      ]
     },
     "execution_count": 449,
     "metadata": {},
     "output_type": "execute_result"
    }
   ],
   "source": [
    "# 0から2行目までを抽出\n",
    "df3[0:3]"
   ]
  },
  {
   "cell_type": "code",
   "execution_count": 450,
   "metadata": {
    "collapsed": false,
    "deletable": true,
    "editable": true
   },
   "outputs": [
    {
     "data": {
      "text/html": [
       "<div>\n",
       "<style>\n",
       "    .dataframe thead tr:only-child th {\n",
       "        text-align: right;\n",
       "    }\n",
       "\n",
       "    .dataframe thead th {\n",
       "        text-align: left;\n",
       "    }\n",
       "\n",
       "    .dataframe tbody tr th {\n",
       "        vertical-align: top;\n",
       "    }\n",
       "</style>\n",
       "<table border=\"1\" class=\"dataframe\">\n",
       "  <thead>\n",
       "    <tr style=\"text-align: right;\">\n",
       "      <th></th>\n",
       "      <th>A</th>\n",
       "      <th>B</th>\n",
       "      <th>C</th>\n",
       "      <th>D</th>\n",
       "      <th>E</th>\n",
       "      <th>F</th>\n",
       "      <th>G</th>\n",
       "    </tr>\n",
       "    <tr>\n",
       "      <th>data_idx</th>\n",
       "      <th></th>\n",
       "      <th></th>\n",
       "      <th></th>\n",
       "      <th></th>\n",
       "      <th></th>\n",
       "      <th></th>\n",
       "      <th></th>\n",
       "    </tr>\n",
       "  </thead>\n",
       "  <tbody>\n",
       "    <tr>\n",
       "      <th>data_1</th>\n",
       "      <td>58</td>\n",
       "      <td>-27</td>\n",
       "      <td>31.0</td>\n",
       "      <td>0.6028</td>\n",
       "      <td>73.922054</td>\n",
       "      <td>0.0179</td>\n",
       "      <td>-0.0102</td>\n",
       "    </tr>\n",
       "  </tbody>\n",
       "</table>\n",
       "</div>"
      ],
      "text/plain": [
       "           A   B     C       D          E       F       G\n",
       "data_idx                                                 \n",
       "data_1    58 -27  31.0  0.6028  73.922054  0.0179 -0.0102"
      ]
     },
     "execution_count": 450,
     "metadata": {},
     "output_type": "execute_result"
    }
   ],
   "source": [
    "# 0行目を抽出\n",
    "df3[0:1]"
   ]
  },
  {
   "cell_type": "code",
   "execution_count": 451,
   "metadata": {
    "collapsed": false,
    "deletable": true,
    "editable": true
   },
   "outputs": [],
   "source": [
    "# df3[0]"
   ]
  },
  {
   "cell_type": "markdown",
   "metadata": {
    "deletable": true,
    "editable": true
   },
   "source": [
    "上記はエラーになる。0 という名称の列が存在しないため。"
   ]
  },
  {
   "cell_type": "markdown",
   "metadata": {
    "deletable": true,
    "editable": true
   },
   "source": [
    "## 要素の抽出 (at, iat)"
   ]
  },
  {
   "cell_type": "code",
   "execution_count": 452,
   "metadata": {
    "collapsed": false,
    "deletable": true,
    "editable": true
   },
   "outputs": [
    {
     "data": {
      "text/html": [
       "<div>\n",
       "<style>\n",
       "    .dataframe thead tr:only-child th {\n",
       "        text-align: right;\n",
       "    }\n",
       "\n",
       "    .dataframe thead th {\n",
       "        text-align: left;\n",
       "    }\n",
       "\n",
       "    .dataframe tbody tr th {\n",
       "        vertical-align: top;\n",
       "    }\n",
       "</style>\n",
       "<table border=\"1\" class=\"dataframe\">\n",
       "  <thead>\n",
       "    <tr style=\"text-align: right;\">\n",
       "      <th></th>\n",
       "      <th>A</th>\n",
       "      <th>B</th>\n",
       "      <th>C</th>\n",
       "    </tr>\n",
       "  </thead>\n",
       "  <tbody>\n",
       "    <tr>\n",
       "      <th>0</th>\n",
       "      <td>1</td>\n",
       "      <td>2</td>\n",
       "      <td>3</td>\n",
       "    </tr>\n",
       "    <tr>\n",
       "      <th>1</th>\n",
       "      <td>10</td>\n",
       "      <td>20</td>\n",
       "      <td>30</td>\n",
       "    </tr>\n",
       "    <tr>\n",
       "      <th>2</th>\n",
       "      <td>100</td>\n",
       "      <td>200</td>\n",
       "      <td>300</td>\n",
       "    </tr>\n",
       "    <tr>\n",
       "      <th>3</th>\n",
       "      <td>1000</td>\n",
       "      <td>2000</td>\n",
       "      <td>3000</td>\n",
       "    </tr>\n",
       "  </tbody>\n",
       "</table>\n",
       "</div>"
      ],
      "text/plain": [
       "      A     B     C\n",
       "0     1     2     3\n",
       "1    10    20    30\n",
       "2   100   200   300\n",
       "3  1000  2000  3000"
      ]
     },
     "execution_count": 452,
     "metadata": {},
     "output_type": "execute_result"
    }
   ],
   "source": [
    "df1"
   ]
  },
  {
   "cell_type": "markdown",
   "metadata": {
    "deletable": true,
    "editable": true
   },
   "source": [
    "* インデックスを指定して要素を抽出 at  \n",
    "[行, 列]の順に指定する"
   ]
  },
  {
   "cell_type": "code",
   "execution_count": 453,
   "metadata": {
    "collapsed": false,
    "deletable": true,
    "editable": true
   },
   "outputs": [
    {
     "data": {
      "text/plain": [
       "20"
      ]
     },
     "execution_count": 453,
     "metadata": {},
     "output_type": "execute_result"
    }
   ],
   "source": [
    "df1.at[1, \"B\"]"
   ]
  },
  {
   "cell_type": "markdown",
   "metadata": {
    "deletable": true,
    "editable": true
   },
   "source": [
    "* 位置を指定して要素を抽出 iat (iはintegerの意味)"
   ]
  },
  {
   "cell_type": "code",
   "execution_count": 454,
   "metadata": {
    "collapsed": false,
    "deletable": true,
    "editable": true
   },
   "outputs": [
    {
     "data": {
      "text/plain": [
       "30"
      ]
     },
     "execution_count": 454,
     "metadata": {},
     "output_type": "execute_result"
    }
   ],
   "source": [
    "df1.iat[1, 2]"
   ]
  },
  {
   "cell_type": "markdown",
   "metadata": {
    "deletable": true,
    "editable": true
   },
   "source": [
    "## 範囲（複数、単数の行および列）の切り出し（loc, iloc）"
   ]
  },
  {
   "cell_type": "markdown",
   "metadata": {
    "deletable": true,
    "editable": true
   },
   "source": [
    "### indexによる抽出（loc）"
   ]
  },
  {
   "cell_type": "code",
   "execution_count": 455,
   "metadata": {
    "collapsed": false,
    "deletable": true,
    "editable": true
   },
   "outputs": [
    {
     "data": {
      "text/plain": [
       "58"
      ]
     },
     "execution_count": 455,
     "metadata": {},
     "output_type": "execute_result"
    }
   ],
   "source": [
    "# 単独の要素\n",
    "df3.loc[\"data_1\", \"A\"] \n",
    "# df3.at[\"data_1\", \"A\"] と同じ結果になりますが、atの方が速い。"
   ]
  },
  {
   "cell_type": "code",
   "execution_count": null,
   "metadata": {
    "collapsed": false,
    "deletable": true,
    "editable": true
   },
   "outputs": [],
   "source": []
  },
  {
   "cell_type": "code",
   "execution_count": 456,
   "metadata": {
    "collapsed": false,
    "deletable": true,
    "editable": true
   },
   "outputs": [
    {
     "data": {
      "text/html": [
       "<div>\n",
       "<style>\n",
       "    .dataframe thead tr:only-child th {\n",
       "        text-align: right;\n",
       "    }\n",
       "\n",
       "    .dataframe thead th {\n",
       "        text-align: left;\n",
       "    }\n",
       "\n",
       "    .dataframe tbody tr th {\n",
       "        vertical-align: top;\n",
       "    }\n",
       "</style>\n",
       "<table border=\"1\" class=\"dataframe\">\n",
       "  <thead>\n",
       "    <tr style=\"text-align: right;\">\n",
       "      <th></th>\n",
       "      <th>B</th>\n",
       "      <th>C</th>\n",
       "      <th>D</th>\n",
       "    </tr>\n",
       "    <tr>\n",
       "      <th>data_idx</th>\n",
       "      <th></th>\n",
       "      <th></th>\n",
       "      <th></th>\n",
       "    </tr>\n",
       "  </thead>\n",
       "  <tbody>\n",
       "    <tr>\n",
       "      <th>data_15</th>\n",
       "      <td>22</td>\n",
       "      <td>17.0</td>\n",
       "      <td>0.5000</td>\n",
       "    </tr>\n",
       "    <tr>\n",
       "      <th>data_16</th>\n",
       "      <td>0</td>\n",
       "      <td>36.0</td>\n",
       "      <td>0.5000</td>\n",
       "    </tr>\n",
       "    <tr>\n",
       "      <th>data_17</th>\n",
       "      <td>0</td>\n",
       "      <td>50.0</td>\n",
       "      <td>0.5000</td>\n",
       "    </tr>\n",
       "    <tr>\n",
       "      <th>data_18</th>\n",
       "      <td>7</td>\n",
       "      <td>4.0</td>\n",
       "      <td>0.5000</td>\n",
       "    </tr>\n",
       "    <tr>\n",
       "      <th>data_19</th>\n",
       "      <td>-2</td>\n",
       "      <td>4.0</td>\n",
       "      <td>0.5453</td>\n",
       "    </tr>\n",
       "    <tr>\n",
       "      <th>data_2</th>\n",
       "      <td>3</td>\n",
       "      <td>14.0</td>\n",
       "      <td>0.7112</td>\n",
       "    </tr>\n",
       "    <tr>\n",
       "      <th>data_20</th>\n",
       "      <td>-4</td>\n",
       "      <td>16.0</td>\n",
       "      <td>0.5714</td>\n",
       "    </tr>\n",
       "  </tbody>\n",
       "</table>\n",
       "</div>"
      ],
      "text/plain": [
       "           B     C       D\n",
       "data_idx                  \n",
       "data_15   22  17.0  0.5000\n",
       "data_16    0  36.0  0.5000\n",
       "data_17    0  50.0  0.5000\n",
       "data_18    7   4.0  0.5000\n",
       "data_19   -2   4.0  0.5453\n",
       "data_2     3  14.0  0.7112\n",
       "data_20   -4  16.0  0.5714"
      ]
     },
     "execution_count": 456,
     "metadata": {},
     "output_type": "execute_result"
    }
   ],
   "source": [
    "# 複数の行・列からなる範囲の抽出(結果はDataFrameとして返る)\n",
    "df3.loc[\"data_15\":\"data_20\", \"B\":\"D\"]  # 通常の数値によるスライスとは異なり、data20や\"D\"列が含まれていることに注意"
   ]
  },
  {
   "cell_type": "code",
   "execution_count": 457,
   "metadata": {
    "collapsed": false,
    "deletable": true,
    "editable": true
   },
   "outputs": [
    {
     "data": {
      "text/html": [
       "<div>\n",
       "<style>\n",
       "    .dataframe thead tr:only-child th {\n",
       "        text-align: right;\n",
       "    }\n",
       "\n",
       "    .dataframe thead th {\n",
       "        text-align: left;\n",
       "    }\n",
       "\n",
       "    .dataframe tbody tr th {\n",
       "        vertical-align: top;\n",
       "    }\n",
       "</style>\n",
       "<table border=\"1\" class=\"dataframe\">\n",
       "  <thead>\n",
       "    <tr style=\"text-align: right;\">\n",
       "      <th></th>\n",
       "      <th>A</th>\n",
       "      <th>B</th>\n",
       "      <th>C</th>\n",
       "      <th>D</th>\n",
       "      <th>E</th>\n",
       "      <th>F</th>\n",
       "      <th>G</th>\n",
       "    </tr>\n",
       "    <tr>\n",
       "      <th>data_idx</th>\n",
       "      <th></th>\n",
       "      <th></th>\n",
       "      <th></th>\n",
       "      <th></th>\n",
       "      <th></th>\n",
       "      <th></th>\n",
       "      <th></th>\n",
       "    </tr>\n",
       "  </thead>\n",
       "  <tbody>\n",
       "    <tr>\n",
       "      <th>data_15</th>\n",
       "      <td>39</td>\n",
       "      <td>22</td>\n",
       "      <td>17.0</td>\n",
       "      <td>0.5000</td>\n",
       "      <td>137.368196</td>\n",
       "      <td>0.0173</td>\n",
       "      <td>0.0000</td>\n",
       "    </tr>\n",
       "    <tr>\n",
       "      <th>data_16</th>\n",
       "      <td>36</td>\n",
       "      <td>0</td>\n",
       "      <td>36.0</td>\n",
       "      <td>0.5000</td>\n",
       "      <td>63.004120</td>\n",
       "      <td>0.0242</td>\n",
       "      <td>0.0000</td>\n",
       "    </tr>\n",
       "    <tr>\n",
       "      <th>data_17</th>\n",
       "      <td>50</td>\n",
       "      <td>0</td>\n",
       "      <td>50.0</td>\n",
       "      <td>0.5000</td>\n",
       "      <td>214.258945</td>\n",
       "      <td>0.0020</td>\n",
       "      <td>0.0000</td>\n",
       "    </tr>\n",
       "    <tr>\n",
       "      <th>data_18</th>\n",
       "      <td>11</td>\n",
       "      <td>7</td>\n",
       "      <td>4.0</td>\n",
       "      <td>0.5000</td>\n",
       "      <td>69.762676</td>\n",
       "      <td>0.0330</td>\n",
       "      <td>0.0000</td>\n",
       "    </tr>\n",
       "    <tr>\n",
       "      <th>data_19</th>\n",
       "      <td>6</td>\n",
       "      <td>-2</td>\n",
       "      <td>4.0</td>\n",
       "      <td>0.5453</td>\n",
       "      <td>72.282932</td>\n",
       "      <td>0.0220</td>\n",
       "      <td>-0.0707</td>\n",
       "    </tr>\n",
       "    <tr>\n",
       "      <th>data_2</th>\n",
       "      <td>17</td>\n",
       "      <td>3</td>\n",
       "      <td>14.0</td>\n",
       "      <td>0.7112</td>\n",
       "      <td>36.759859</td>\n",
       "      <td>0.0263</td>\n",
       "      <td>0.0009</td>\n",
       "    </tr>\n",
       "    <tr>\n",
       "      <th>data_20</th>\n",
       "      <td>20</td>\n",
       "      <td>-4</td>\n",
       "      <td>16.0</td>\n",
       "      <td>0.5714</td>\n",
       "      <td>3.293830</td>\n",
       "      <td>0.0469</td>\n",
       "      <td>-0.0441</td>\n",
       "    </tr>\n",
       "  </tbody>\n",
       "</table>\n",
       "</div>"
      ],
      "text/plain": [
       "           A   B     C       D           E       F       G\n",
       "data_idx                                                  \n",
       "data_15   39  22  17.0  0.5000  137.368196  0.0173  0.0000\n",
       "data_16   36   0  36.0  0.5000   63.004120  0.0242  0.0000\n",
       "data_17   50   0  50.0  0.5000  214.258945  0.0020  0.0000\n",
       "data_18   11   7   4.0  0.5000   69.762676  0.0330  0.0000\n",
       "data_19    6  -2   4.0  0.5453   72.282932  0.0220 -0.0707\n",
       "data_2    17   3  14.0  0.7112   36.759859  0.0263  0.0009\n",
       "data_20   20  -4  16.0  0.5714    3.293830  0.0469 -0.0441"
      ]
     },
     "execution_count": 457,
     "metadata": {},
     "output_type": "execute_result"
    }
   ],
   "source": [
    "# \":\"を指定すると対象となる列 or 行の全体が抽出される\n",
    "df3.loc[\"data_15\":\"data_20\", :]  # data_15~data_20までの行全体が表示される"
   ]
  },
  {
   "cell_type": "code",
   "execution_count": 458,
   "metadata": {
    "collapsed": false,
    "deletable": true,
    "editable": true
   },
   "outputs": [
    {
     "data": {
      "text/html": [
       "<div>\n",
       "<style>\n",
       "    .dataframe thead tr:only-child th {\n",
       "        text-align: right;\n",
       "    }\n",
       "\n",
       "    .dataframe thead th {\n",
       "        text-align: left;\n",
       "    }\n",
       "\n",
       "    .dataframe tbody tr th {\n",
       "        vertical-align: top;\n",
       "    }\n",
       "</style>\n",
       "<table border=\"1\" class=\"dataframe\">\n",
       "  <thead>\n",
       "    <tr style=\"text-align: right;\">\n",
       "      <th></th>\n",
       "      <th>A</th>\n",
       "      <th>B</th>\n",
       "      <th>C</th>\n",
       "      <th>D</th>\n",
       "      <th>E</th>\n",
       "      <th>F</th>\n",
       "      <th>G</th>\n",
       "    </tr>\n",
       "    <tr>\n",
       "      <th>data_idx</th>\n",
       "      <th></th>\n",
       "      <th></th>\n",
       "      <th></th>\n",
       "      <th></th>\n",
       "      <th></th>\n",
       "      <th></th>\n",
       "      <th></th>\n",
       "    </tr>\n",
       "  </thead>\n",
       "  <tbody>\n",
       "    <tr>\n",
       "      <th>data_15</th>\n",
       "      <td>39</td>\n",
       "      <td>22</td>\n",
       "      <td>17.0</td>\n",
       "      <td>0.5000</td>\n",
       "      <td>137.368196</td>\n",
       "      <td>0.0173</td>\n",
       "      <td>0.0000</td>\n",
       "    </tr>\n",
       "    <tr>\n",
       "      <th>data_16</th>\n",
       "      <td>36</td>\n",
       "      <td>0</td>\n",
       "      <td>36.0</td>\n",
       "      <td>0.5000</td>\n",
       "      <td>63.004120</td>\n",
       "      <td>0.0242</td>\n",
       "      <td>0.0000</td>\n",
       "    </tr>\n",
       "    <tr>\n",
       "      <th>data_17</th>\n",
       "      <td>50</td>\n",
       "      <td>0</td>\n",
       "      <td>50.0</td>\n",
       "      <td>0.5000</td>\n",
       "      <td>214.258945</td>\n",
       "      <td>0.0020</td>\n",
       "      <td>0.0000</td>\n",
       "    </tr>\n",
       "    <tr>\n",
       "      <th>data_18</th>\n",
       "      <td>11</td>\n",
       "      <td>7</td>\n",
       "      <td>4.0</td>\n",
       "      <td>0.5000</td>\n",
       "      <td>69.762676</td>\n",
       "      <td>0.0330</td>\n",
       "      <td>0.0000</td>\n",
       "    </tr>\n",
       "    <tr>\n",
       "      <th>data_19</th>\n",
       "      <td>6</td>\n",
       "      <td>-2</td>\n",
       "      <td>4.0</td>\n",
       "      <td>0.5453</td>\n",
       "      <td>72.282932</td>\n",
       "      <td>0.0220</td>\n",
       "      <td>-0.0707</td>\n",
       "    </tr>\n",
       "    <tr>\n",
       "      <th>data_2</th>\n",
       "      <td>17</td>\n",
       "      <td>3</td>\n",
       "      <td>14.0</td>\n",
       "      <td>0.7112</td>\n",
       "      <td>36.759859</td>\n",
       "      <td>0.0263</td>\n",
       "      <td>0.0009</td>\n",
       "    </tr>\n",
       "    <tr>\n",
       "      <th>data_20</th>\n",
       "      <td>20</td>\n",
       "      <td>-4</td>\n",
       "      <td>16.0</td>\n",
       "      <td>0.5714</td>\n",
       "      <td>3.293830</td>\n",
       "      <td>0.0469</td>\n",
       "      <td>-0.0441</td>\n",
       "    </tr>\n",
       "  </tbody>\n",
       "</table>\n",
       "</div>"
      ],
      "text/plain": [
       "           A   B     C       D           E       F       G\n",
       "data_idx                                                  \n",
       "data_15   39  22  17.0  0.5000  137.368196  0.0173  0.0000\n",
       "data_16   36   0  36.0  0.5000   63.004120  0.0242  0.0000\n",
       "data_17   50   0  50.0  0.5000  214.258945  0.0020  0.0000\n",
       "data_18   11   7   4.0  0.5000   69.762676  0.0330  0.0000\n",
       "data_19    6  -2   4.0  0.5453   72.282932  0.0220 -0.0707\n",
       "data_2    17   3  14.0  0.7112   36.759859  0.0263  0.0009\n",
       "data_20   20  -4  16.0  0.5714    3.293830  0.0469 -0.0441"
      ]
     },
     "execution_count": 458,
     "metadata": {},
     "output_type": "execute_result"
    }
   ],
   "source": [
    "# 列の指定を省略することも可能 \n",
    "df3.loc[\"data_15\":\"data_20\"]"
   ]
  },
  {
   "cell_type": "markdown",
   "metadata": {
    "deletable": true,
    "editable": true
   },
   "source": [
    "__↑ 行を抽出するにはこの方法が便利__  \n"
   ]
  },
  {
   "cell_type": "code",
   "execution_count": 459,
   "metadata": {
    "collapsed": false,
    "deletable": true,
    "editable": true
   },
   "outputs": [
    {
     "data": {
      "text/plain": [
       "(30, 3)"
      ]
     },
     "execution_count": 459,
     "metadata": {},
     "output_type": "execute_result"
    }
   ],
   "source": [
    "# \":\"を指定するとすべての列 or 行が抽出される\n",
    "df3.loc[:, \"B\":\"D\"].shape  # 表示件数が多いのでshapeで大きさだけ表示しています。"
   ]
  },
  {
   "cell_type": "markdown",
   "metadata": {
    "deletable": true,
    "editable": true
   },
   "source": [
    "この方法はおすすめしません。\n",
    "```df3.loc[:, \"B\":\"D\"]``` の代わりに、__```df3[[\"B\", \"C\", \"D\"]]```__をおすすめします。"
   ]
  },
  {
   "cell_type": "markdown",
   "metadata": {
    "deletable": true,
    "editable": true
   },
   "source": [
    "* リストを使って行や列を指定することも可能です"
   ]
  },
  {
   "cell_type": "code",
   "execution_count": 460,
   "metadata": {
    "collapsed": false,
    "deletable": true,
    "editable": true
   },
   "outputs": [
    {
     "data": {
      "text/html": [
       "<div>\n",
       "<style>\n",
       "    .dataframe thead tr:only-child th {\n",
       "        text-align: right;\n",
       "    }\n",
       "\n",
       "    .dataframe thead th {\n",
       "        text-align: left;\n",
       "    }\n",
       "\n",
       "    .dataframe tbody tr th {\n",
       "        vertical-align: top;\n",
       "    }\n",
       "</style>\n",
       "<table border=\"1\" class=\"dataframe\">\n",
       "  <thead>\n",
       "    <tr style=\"text-align: right;\">\n",
       "      <th></th>\n",
       "      <th>E</th>\n",
       "      <th>C</th>\n",
       "      <th>A</th>\n",
       "    </tr>\n",
       "    <tr>\n",
       "      <th>data_idx</th>\n",
       "      <th></th>\n",
       "      <th></th>\n",
       "      <th></th>\n",
       "    </tr>\n",
       "  </thead>\n",
       "  <tbody>\n",
       "    <tr>\n",
       "      <th>data_30</th>\n",
       "      <td>164.149599</td>\n",
       "      <td>50.0</td>\n",
       "      <td>127</td>\n",
       "    </tr>\n",
       "    <tr>\n",
       "      <th>data_20</th>\n",
       "      <td>3.293830</td>\n",
       "      <td>16.0</td>\n",
       "      <td>20</td>\n",
       "    </tr>\n",
       "    <tr>\n",
       "      <th>data_10</th>\n",
       "      <td>575.585790</td>\n",
       "      <td>56.0</td>\n",
       "      <td>109</td>\n",
       "    </tr>\n",
       "  </tbody>\n",
       "</table>\n",
       "</div>"
      ],
      "text/plain": [
       "                   E     C    A\n",
       "data_idx                       \n",
       "data_30   164.149599  50.0  127\n",
       "data_20     3.293830  16.0   20\n",
       "data_10   575.585790  56.0  109"
      ]
     },
     "execution_count": 460,
     "metadata": {},
     "output_type": "execute_result"
    }
   ],
   "source": [
    "df3.loc[[\"data_30\",\"data_20\",\"data_10\"], [\"E\",\"C\",\"A\"]]  "
   ]
  },
  {
   "cell_type": "code",
   "execution_count": 461,
   "metadata": {
    "collapsed": false,
    "deletable": true,
    "editable": true,
    "scrolled": true
   },
   "outputs": [
    {
     "data": {
      "text/html": [
       "<div>\n",
       "<style>\n",
       "    .dataframe thead tr:only-child th {\n",
       "        text-align: right;\n",
       "    }\n",
       "\n",
       "    .dataframe thead th {\n",
       "        text-align: left;\n",
       "    }\n",
       "\n",
       "    .dataframe tbody tr th {\n",
       "        vertical-align: top;\n",
       "    }\n",
       "</style>\n",
       "<table border=\"1\" class=\"dataframe\">\n",
       "  <thead>\n",
       "    <tr style=\"text-align: right;\">\n",
       "      <th></th>\n",
       "      <th>A</th>\n",
       "      <th>B</th>\n",
       "      <th>C</th>\n",
       "      <th>D</th>\n",
       "      <th>E</th>\n",
       "      <th>F</th>\n",
       "      <th>G</th>\n",
       "    </tr>\n",
       "    <tr>\n",
       "      <th>data_idx</th>\n",
       "      <th></th>\n",
       "      <th></th>\n",
       "      <th></th>\n",
       "      <th></th>\n",
       "      <th></th>\n",
       "      <th></th>\n",
       "      <th></th>\n",
       "    </tr>\n",
       "  </thead>\n",
       "  <tbody>\n",
       "    <tr>\n",
       "      <th>data_30</th>\n",
       "      <td>127</td>\n",
       "      <td>-77</td>\n",
       "      <td>50.0</td>\n",
       "      <td>0.5000</td>\n",
       "      <td>164.149599</td>\n",
       "      <td>0.1493</td>\n",
       "      <td>0.0000</td>\n",
       "    </tr>\n",
       "    <tr>\n",
       "      <th>data_20</th>\n",
       "      <td>20</td>\n",
       "      <td>-4</td>\n",
       "      <td>16.0</td>\n",
       "      <td>0.5714</td>\n",
       "      <td>3.293830</td>\n",
       "      <td>0.0469</td>\n",
       "      <td>-0.0441</td>\n",
       "    </tr>\n",
       "    <tr>\n",
       "      <th>data_10</th>\n",
       "      <td>109</td>\n",
       "      <td>-53</td>\n",
       "      <td>56.0</td>\n",
       "      <td>0.5000</td>\n",
       "      <td>575.585790</td>\n",
       "      <td>0.0346</td>\n",
       "      <td>0.0000</td>\n",
       "    </tr>\n",
       "  </tbody>\n",
       "</table>\n",
       "</div>"
      ],
      "text/plain": [
       "            A   B     C       D           E       F       G\n",
       "data_idx                                                   \n",
       "data_30   127 -77  50.0  0.5000  164.149599  0.1493  0.0000\n",
       "data_20    20  -4  16.0  0.5714    3.293830  0.0469 -0.0441\n",
       "data_10   109 -53  56.0  0.5000  575.585790  0.0346  0.0000"
      ]
     },
     "execution_count": 461,
     "metadata": {},
     "output_type": "execute_result"
    }
   ],
   "source": [
    "# 行全体を取得 \n",
    "df3.loc[[\"data_30\",\"data_20\",\"data_10\"]]  # df3.loc[[\"data_30\",\"data_20\",\"data_10\"], :]でも同じ結果"
   ]
  },
  {
   "cell_type": "code",
   "execution_count": 462,
   "metadata": {
    "collapsed": false,
    "deletable": true,
    "editable": true
   },
   "outputs": [
    {
     "data": {
      "text/html": [
       "<div>\n",
       "<style>\n",
       "    .dataframe thead tr:only-child th {\n",
       "        text-align: right;\n",
       "    }\n",
       "\n",
       "    .dataframe thead th {\n",
       "        text-align: left;\n",
       "    }\n",
       "\n",
       "    .dataframe tbody tr th {\n",
       "        vertical-align: top;\n",
       "    }\n",
       "</style>\n",
       "<table border=\"1\" class=\"dataframe\">\n",
       "  <thead>\n",
       "    <tr style=\"text-align: right;\">\n",
       "      <th></th>\n",
       "      <th>E</th>\n",
       "      <th>C</th>\n",
       "      <th>A</th>\n",
       "    </tr>\n",
       "    <tr>\n",
       "      <th>data_idx</th>\n",
       "      <th></th>\n",
       "      <th></th>\n",
       "      <th></th>\n",
       "    </tr>\n",
       "  </thead>\n",
       "  <tbody>\n",
       "    <tr>\n",
       "      <th>data_1</th>\n",
       "      <td>73.922054</td>\n",
       "      <td>31.0</td>\n",
       "      <td>58</td>\n",
       "    </tr>\n",
       "    <tr>\n",
       "      <th>data_10</th>\n",
       "      <td>575.585790</td>\n",
       "      <td>56.0</td>\n",
       "      <td>109</td>\n",
       "    </tr>\n",
       "    <tr>\n",
       "      <th>data_11</th>\n",
       "      <td>144.838806</td>\n",
       "      <td>33.0</td>\n",
       "      <td>77</td>\n",
       "    </tr>\n",
       "    <tr>\n",
       "      <th>data_12</th>\n",
       "      <td>NaN</td>\n",
       "      <td>55.0</td>\n",
       "      <td>181</td>\n",
       "    </tr>\n",
       "    <tr>\n",
       "      <th>data_13</th>\n",
       "      <td>896.439718</td>\n",
       "      <td>45.0</td>\n",
       "      <td>91</td>\n",
       "    </tr>\n",
       "  </tbody>\n",
       "</table>\n",
       "</div>"
      ],
      "text/plain": [
       "                   E     C    A\n",
       "data_idx                       \n",
       "data_1     73.922054  31.0   58\n",
       "data_10   575.585790  56.0  109\n",
       "data_11   144.838806  33.0   77\n",
       "data_12          NaN  55.0  181\n",
       "data_13   896.439718  45.0   91"
      ]
     },
     "execution_count": 462,
     "metadata": {},
     "output_type": "execute_result"
    }
   ],
   "source": [
    "df3.loc[:, [\"E\",\"C\",\"A\"]].head()  # 列全体の取得。先頭5行のみ表示\n",
    "# 繰り返しになりますが、\"df3[[\"E\", \"C\", \"A\"]]\"の方が便利です。"
   ]
  },
  {
   "cell_type": "markdown",
   "metadata": {
    "deletable": true,
    "editable": true
   },
   "source": [
    "* 単独の行または列の抽出"
   ]
  },
  {
   "cell_type": "code",
   "execution_count": 463,
   "metadata": {
    "collapsed": false,
    "deletable": true,
    "editable": true,
    "scrolled": true
   },
   "outputs": [
    {
     "data": {
      "text/plain": [
       "A    109.00000\n",
       "B    -53.00000\n",
       "C     56.00000\n",
       "D      0.50000\n",
       "E    575.58579\n",
       "F      0.03460\n",
       "G      0.00000\n",
       "Name: data_10, dtype: float64"
      ]
     },
     "execution_count": 463,
     "metadata": {},
     "output_type": "execute_result"
    }
   ],
   "source": [
    "# 行の抽出\n",
    "df3.loc[\"data_10\", :]"
   ]
  },
  {
   "cell_type": "markdown",
   "metadata": {
    "deletable": true,
    "editable": true
   },
   "source": [
    "↑列の指定は省略できるので__```df3.loc[\"data_10\"]```__の方がおすすめ。"
   ]
  },
  {
   "cell_type": "code",
   "execution_count": 464,
   "metadata": {
    "collapsed": false,
    "deletable": true,
    "editable": true
   },
   "outputs": [
    {
     "data": {
      "text/plain": [
       "data_idx\n",
       "data_1      58\n",
       "data_10    109\n",
       "data_11     77\n",
       "data_12    181\n",
       "data_13     91\n",
       "data_14    133\n",
       "data_15     39\n",
       "data_16     36\n",
       "data_17     50\n",
       "data_18     11\n",
       "data_19      6\n",
       "data_2      17\n",
       "data_20     20\n",
       "data_21     96\n",
       "data_22    153\n",
       "data_23     45\n",
       "data_24     26\n",
       "data_25     25\n",
       "data_26     15\n",
       "data_27     14\n",
       "data_28     64\n",
       "data_29     53\n",
       "data_3     169\n",
       "data_30    127\n",
       "data_4      59\n",
       "data_5      59\n",
       "data_6     137\n",
       "data_7      39\n",
       "data_8      39\n",
       "data_9      81\n",
       "Name: A, dtype: int64"
      ]
     },
     "execution_count": 464,
     "metadata": {},
     "output_type": "execute_result"
    }
   ],
   "source": [
    "# 列の抽出\n",
    "df3.loc[:, \"A\"]"
   ]
  },
  {
   "cell_type": "markdown",
   "metadata": {
    "deletable": true,
    "editable": true
   },
   "source": [
    "↑こちらも__```df3[\"A\"]```__の方がおすすめ。"
   ]
  },
  {
   "cell_type": "code",
   "execution_count": 465,
   "metadata": {
    "collapsed": false,
    "deletable": true,
    "editable": true
   },
   "outputs": [
    {
     "data": {
      "text/html": [
       "<div>\n",
       "<style>\n",
       "    .dataframe thead tr:only-child th {\n",
       "        text-align: right;\n",
       "    }\n",
       "\n",
       "    .dataframe thead th {\n",
       "        text-align: left;\n",
       "    }\n",
       "\n",
       "    .dataframe tbody tr th {\n",
       "        vertical-align: top;\n",
       "    }\n",
       "</style>\n",
       "<table border=\"1\" class=\"dataframe\">\n",
       "  <thead>\n",
       "    <tr style=\"text-align: right;\">\n",
       "      <th></th>\n",
       "      <th>A</th>\n",
       "      <th>B</th>\n",
       "      <th>C</th>\n",
       "      <th>D</th>\n",
       "      <th>E</th>\n",
       "      <th>F</th>\n",
       "      <th>G</th>\n",
       "    </tr>\n",
       "    <tr>\n",
       "      <th>data_idx</th>\n",
       "      <th></th>\n",
       "      <th></th>\n",
       "      <th></th>\n",
       "      <th></th>\n",
       "      <th></th>\n",
       "      <th></th>\n",
       "      <th></th>\n",
       "    </tr>\n",
       "  </thead>\n",
       "  <tbody>\n",
       "    <tr>\n",
       "      <th>data_10</th>\n",
       "      <td>109</td>\n",
       "      <td>-53</td>\n",
       "      <td>56.0</td>\n",
       "      <td>0.5</td>\n",
       "      <td>575.58579</td>\n",
       "      <td>0.0346</td>\n",
       "      <td>0.0</td>\n",
       "    </tr>\n",
       "  </tbody>\n",
       "</table>\n",
       "</div>"
      ],
      "text/plain": [
       "            A   B     C    D          E       F    G\n",
       "data_idx                                            \n",
       "data_10   109 -53  56.0  0.5  575.58579  0.0346  0.0"
      ]
     },
     "execution_count": 465,
     "metadata": {},
     "output_type": "execute_result"
    }
   ],
   "source": [
    "# 返ってくるデータの形式に注意\n",
    "df3.loc[[\"data_10\"]]  # 結果はDataFrame"
   ]
  },
  {
   "cell_type": "code",
   "execution_count": 466,
   "metadata": {
    "collapsed": false,
    "deletable": true,
    "editable": true
   },
   "outputs": [
    {
     "data": {
      "text/plain": [
       "A    109.00000\n",
       "B    -53.00000\n",
       "C     56.00000\n",
       "D      0.50000\n",
       "E    575.58579\n",
       "F      0.03460\n",
       "G      0.00000\n",
       "Name: data_10, dtype: float64"
      ]
     },
     "execution_count": 466,
     "metadata": {},
     "output_type": "execute_result"
    }
   ],
   "source": [
    "df3.loc[\"data_10\"]  # 結果はSeries"
   ]
  },
  {
   "cell_type": "markdown",
   "metadata": {
    "deletable": true,
    "editable": true
   },
   "source": [
    "### 位置による指定（iloc）\n",
    "位置を数字で指定することを除いて loc と同じです。"
   ]
  },
  {
   "cell_type": "code",
   "execution_count": 467,
   "metadata": {
    "collapsed": false,
    "deletable": true,
    "editable": true
   },
   "outputs": [
    {
     "data": {
      "text/html": [
       "<div>\n",
       "<style>\n",
       "    .dataframe thead tr:only-child th {\n",
       "        text-align: right;\n",
       "    }\n",
       "\n",
       "    .dataframe thead th {\n",
       "        text-align: left;\n",
       "    }\n",
       "\n",
       "    .dataframe tbody tr th {\n",
       "        vertical-align: top;\n",
       "    }\n",
       "</style>\n",
       "<table border=\"1\" class=\"dataframe\">\n",
       "  <thead>\n",
       "    <tr style=\"text-align: right;\">\n",
       "      <th></th>\n",
       "      <th>A</th>\n",
       "      <th>B</th>\n",
       "      <th>C</th>\n",
       "    </tr>\n",
       "  </thead>\n",
       "  <tbody>\n",
       "    <tr>\n",
       "      <th>0</th>\n",
       "      <td>1</td>\n",
       "      <td>2</td>\n",
       "      <td>3</td>\n",
       "    </tr>\n",
       "    <tr>\n",
       "      <th>1</th>\n",
       "      <td>10</td>\n",
       "      <td>20</td>\n",
       "      <td>30</td>\n",
       "    </tr>\n",
       "    <tr>\n",
       "      <th>2</th>\n",
       "      <td>100</td>\n",
       "      <td>200</td>\n",
       "      <td>300</td>\n",
       "    </tr>\n",
       "    <tr>\n",
       "      <th>3</th>\n",
       "      <td>1000</td>\n",
       "      <td>2000</td>\n",
       "      <td>3000</td>\n",
       "    </tr>\n",
       "  </tbody>\n",
       "</table>\n",
       "</div>"
      ],
      "text/plain": [
       "      A     B     C\n",
       "0     1     2     3\n",
       "1    10    20    30\n",
       "2   100   200   300\n",
       "3  1000  2000  3000"
      ]
     },
     "execution_count": 467,
     "metadata": {},
     "output_type": "execute_result"
    }
   ],
   "source": [
    "df1"
   ]
  },
  {
   "cell_type": "code",
   "execution_count": 468,
   "metadata": {
    "collapsed": false,
    "deletable": true,
    "editable": true
   },
   "outputs": [
    {
     "data": {
      "text/plain": [
       "30"
      ]
     },
     "execution_count": 468,
     "metadata": {},
     "output_type": "execute_result"
    }
   ],
   "source": [
    "df1.iloc[1,2] # 行、列の番号を指定"
   ]
  },
  {
   "cell_type": "code",
   "execution_count": 469,
   "metadata": {
    "collapsed": false,
    "deletable": true,
    "editable": true
   },
   "outputs": [
    {
     "data": {
      "text/html": [
       "<div>\n",
       "<style>\n",
       "    .dataframe thead tr:only-child th {\n",
       "        text-align: right;\n",
       "    }\n",
       "\n",
       "    .dataframe thead th {\n",
       "        text-align: left;\n",
       "    }\n",
       "\n",
       "    .dataframe tbody tr th {\n",
       "        vertical-align: top;\n",
       "    }\n",
       "</style>\n",
       "<table border=\"1\" class=\"dataframe\">\n",
       "  <thead>\n",
       "    <tr style=\"text-align: right;\">\n",
       "      <th></th>\n",
       "      <th>A</th>\n",
       "      <th>B</th>\n",
       "    </tr>\n",
       "  </thead>\n",
       "  <tbody>\n",
       "    <tr>\n",
       "      <th>1</th>\n",
       "      <td>10</td>\n",
       "      <td>20</td>\n",
       "    </tr>\n",
       "  </tbody>\n",
       "</table>\n",
       "</div>"
      ],
      "text/plain": [
       "    A   B\n",
       "1  10  20"
      ]
     },
     "execution_count": 469,
     "metadata": {},
     "output_type": "execute_result"
    }
   ],
   "source": [
    "df1.iloc[1:2, 0:2]  # スライスで指定"
   ]
  },
  {
   "cell_type": "code",
   "execution_count": 470,
   "metadata": {
    "collapsed": false,
    "deletable": true,
    "editable": true
   },
   "outputs": [
    {
     "data": {
      "text/html": [
       "<div>\n",
       "<style>\n",
       "    .dataframe thead tr:only-child th {\n",
       "        text-align: right;\n",
       "    }\n",
       "\n",
       "    .dataframe thead th {\n",
       "        text-align: left;\n",
       "    }\n",
       "\n",
       "    .dataframe tbody tr th {\n",
       "        vertical-align: top;\n",
       "    }\n",
       "</style>\n",
       "<table border=\"1\" class=\"dataframe\">\n",
       "  <thead>\n",
       "    <tr style=\"text-align: right;\">\n",
       "      <th></th>\n",
       "      <th>A</th>\n",
       "      <th>B</th>\n",
       "      <th>C</th>\n",
       "    </tr>\n",
       "  </thead>\n",
       "  <tbody>\n",
       "    <tr>\n",
       "      <th>1</th>\n",
       "      <td>10</td>\n",
       "      <td>20</td>\n",
       "      <td>30</td>\n",
       "    </tr>\n",
       "    <tr>\n",
       "      <th>2</th>\n",
       "      <td>100</td>\n",
       "      <td>200</td>\n",
       "      <td>300</td>\n",
       "    </tr>\n",
       "  </tbody>\n",
       "</table>\n",
       "</div>"
      ],
      "text/plain": [
       "     A    B    C\n",
       "1   10   20   30\n",
       "2  100  200  300"
      ]
     },
     "execution_count": 470,
     "metadata": {},
     "output_type": "execute_result"
    }
   ],
   "source": [
    "df1.iloc[[1,2], [0,1,2]] # リストで指定"
   ]
  },
  {
   "cell_type": "code",
   "execution_count": 471,
   "metadata": {
    "collapsed": false,
    "deletable": true,
    "editable": true
   },
   "outputs": [
    {
     "data": {
      "text/plain": [
       "A    10\n",
       "B    20\n",
       "C    30\n",
       "Name: 1, dtype: int64"
      ]
     },
     "execution_count": 471,
     "metadata": {},
     "output_type": "execute_result"
    }
   ],
   "source": [
    "df1.iloc[1,:]  # すべての列(行全体)を取得"
   ]
  },
  {
   "cell_type": "code",
   "execution_count": 472,
   "metadata": {
    "collapsed": false,
    "deletable": true,
    "editable": true
   },
   "outputs": [
    {
     "data": {
      "text/plain": [
       "A    10\n",
       "B    20\n",
       "C    30\n",
       "Name: 1, dtype: int64"
      ]
     },
     "execution_count": 472,
     "metadata": {},
     "output_type": "execute_result"
    }
   ],
   "source": [
    "df1.iloc[1]  # 列の指定を省略しても同じ結果が得られる。↑よりもこちらをおすすめ"
   ]
  },
  {
   "cell_type": "code",
   "execution_count": 473,
   "metadata": {
    "collapsed": false,
    "deletable": true,
    "editable": true
   },
   "outputs": [
    {
     "data": {
      "text/html": [
       "<div>\n",
       "<style>\n",
       "    .dataframe thead tr:only-child th {\n",
       "        text-align: right;\n",
       "    }\n",
       "\n",
       "    .dataframe thead th {\n",
       "        text-align: left;\n",
       "    }\n",
       "\n",
       "    .dataframe tbody tr th {\n",
       "        vertical-align: top;\n",
       "    }\n",
       "</style>\n",
       "<table border=\"1\" class=\"dataframe\">\n",
       "  <thead>\n",
       "    <tr style=\"text-align: right;\">\n",
       "      <th></th>\n",
       "      <th>A</th>\n",
       "      <th>B</th>\n",
       "      <th>C</th>\n",
       "    </tr>\n",
       "  </thead>\n",
       "  <tbody>\n",
       "    <tr>\n",
       "      <th>1</th>\n",
       "      <td>10</td>\n",
       "      <td>20</td>\n",
       "      <td>30</td>\n",
       "    </tr>\n",
       "  </tbody>\n",
       "</table>\n",
       "</div>"
      ],
      "text/plain": [
       "    A   B   C\n",
       "1  10  20  30"
      ]
     },
     "execution_count": 473,
     "metadata": {},
     "output_type": "execute_result"
    }
   ],
   "source": [
    "df1.iloc[[1]]   # 上と同じ行を抽出しているが、リストで指定した場合はDataFrameとして結果が返ってくる"
   ]
  },
  {
   "cell_type": "code",
   "execution_count": 474,
   "metadata": {
    "collapsed": false,
    "deletable": true,
    "editable": true
   },
   "outputs": [
    {
     "data": {
      "text/plain": [
       "0       2\n",
       "1      20\n",
       "2     200\n",
       "3    2000\n",
       "Name: B, dtype: int64"
      ]
     },
     "execution_count": 474,
     "metadata": {},
     "output_type": "execute_result"
    }
   ],
   "source": [
    "df1.iloc[:,1]  # すべての行(列全体)を取得"
   ]
  },
  {
   "cell_type": "markdown",
   "metadata": {
    "deletable": true,
    "editable": true
   },
   "source": [
    "### ix はdeprecated"
   ]
  },
  {
   "cell_type": "markdown",
   "metadata": {
    "deletable": true,
    "editable": true
   },
   "source": [
    "以前はindexでも位置番号でもどちらでも指定可能な便利なixがありました。現在はdeprecatedになっています。[[参考](http://pandas-docs.github.io/pandas-docs-travis/indexing.html#ix-indexer-is-deprecated)]"
   ]
  },
  {
   "cell_type": "code",
   "execution_count": 475,
   "metadata": {
    "collapsed": false,
    "deletable": true,
    "editable": true,
    "scrolled": true
   },
   "outputs": [
    {
     "name": "stderr",
     "output_type": "stream",
     "text": [
      "/Users/tanizawa/.anyenv/envs/pyenv/versions/3.6.0/lib/python3.6/site-packages/ipykernel/__main__.py:1: DeprecationWarning: \n",
      ".ix is deprecated. Please use\n",
      ".loc for label based indexing or\n",
      ".iloc for positional indexing\n",
      "\n",
      "See the documentation here:\n",
      "http://pandas.pydata.org/pandas-docs/stable/indexing.html#ix-indexer-is-deprecated\n",
      "  if __name__ == '__main__':\n"
     ]
    },
    {
     "data": {
      "text/plain": [
       "56.0"
      ]
     },
     "execution_count": 475,
     "metadata": {},
     "output_type": "execute_result"
    }
   ],
   "source": [
    "df3.ix[\"data_10\", \"C\"] # "
   ]
  },
  {
   "cell_type": "code",
   "execution_count": 479,
   "metadata": {
    "collapsed": false,
    "deletable": true,
    "editable": true
   },
   "outputs": [
    {
     "data": {
      "text/html": [
       "<div>\n",
       "<style>\n",
       "    .dataframe thead tr:only-child th {\n",
       "        text-align: right;\n",
       "    }\n",
       "\n",
       "    .dataframe thead th {\n",
       "        text-align: left;\n",
       "    }\n",
       "\n",
       "    .dataframe tbody tr th {\n",
       "        vertical-align: top;\n",
       "    }\n",
       "</style>\n",
       "<table border=\"1\" class=\"dataframe\">\n",
       "  <thead>\n",
       "    <tr style=\"text-align: right;\">\n",
       "      <th></th>\n",
       "      <th>C</th>\n",
       "      <th>D</th>\n",
       "    </tr>\n",
       "    <tr>\n",
       "      <th>data_idx</th>\n",
       "      <th></th>\n",
       "      <th></th>\n",
       "    </tr>\n",
       "  </thead>\n",
       "  <tbody>\n",
       "    <tr>\n",
       "      <th>data_10</th>\n",
       "      <td>56.0</td>\n",
       "      <td>0.5000</td>\n",
       "    </tr>\n",
       "    <tr>\n",
       "      <th>data_11</th>\n",
       "      <td>33.0</td>\n",
       "      <td>0.6281</td>\n",
       "    </tr>\n",
       "  </tbody>\n",
       "</table>\n",
       "</div>"
      ],
      "text/plain": [
       "             C       D\n",
       "data_idx              \n",
       "data_10   56.0  0.5000\n",
       "data_11   33.0  0.6281"
      ]
     },
     "execution_count": 479,
     "metadata": {},
     "output_type": "execute_result"
    }
   ],
   "source": [
    "df3.ix[[1, 2], [2, 3]]  # "
   ]
  },
  {
   "cell_type": "code",
   "execution_count": 486,
   "metadata": {
    "collapsed": false,
    "deletable": true,
    "editable": true
   },
   "outputs": [
    {
     "data": {
      "text/html": [
       "<div>\n",
       "<style>\n",
       "    .dataframe thead tr:only-child th {\n",
       "        text-align: right;\n",
       "    }\n",
       "\n",
       "    .dataframe thead th {\n",
       "        text-align: left;\n",
       "    }\n",
       "\n",
       "    .dataframe tbody tr th {\n",
       "        vertical-align: top;\n",
       "    }\n",
       "</style>\n",
       "<table border=\"1\" class=\"dataframe\">\n",
       "  <thead>\n",
       "    <tr style=\"text-align: right;\">\n",
       "      <th></th>\n",
       "      <th>C</th>\n",
       "      <th>D</th>\n",
       "    </tr>\n",
       "    <tr>\n",
       "      <th>data_idx</th>\n",
       "      <th></th>\n",
       "      <th></th>\n",
       "    </tr>\n",
       "  </thead>\n",
       "  <tbody>\n",
       "    <tr>\n",
       "      <th>data_10</th>\n",
       "      <td>56.0</td>\n",
       "      <td>0.5000</td>\n",
       "    </tr>\n",
       "    <tr>\n",
       "      <th>data_11</th>\n",
       "      <td>33.0</td>\n",
       "      <td>0.6281</td>\n",
       "    </tr>\n",
       "  </tbody>\n",
       "</table>\n",
       "</div>"
      ],
      "text/plain": [
       "             C       D\n",
       "data_idx              \n",
       "data_10   56.0  0.5000\n",
       "data_11   33.0  0.6281"
      ]
     },
     "execution_count": 486,
     "metadata": {},
     "output_type": "execute_result"
    }
   ],
   "source": [
    "df3.ix[1:3, \"C\":\"D\"]"
   ]
  },
  {
   "cell_type": "markdown",
   "metadata": {
    "deletable": true,
    "editable": true
   },
   "source": [
    "### まとめ"
   ]
  },
  {
   "cell_type": "markdown",
   "metadata": {
    "deletable": true,
    "editable": true
   },
   "source": [
    "* __列の抽出__  \n",
    "`df[\"A\"]` または `df.A`  \n",
    "複数列の場合にはリストで指定する（[ ]が二重になることに注意）  \n",
    "`df[[\"A\", \"B\"]]`\n",
    "\n",
    "\n",
    "* __行の抽出 (loc or ilocを使う)__  \n",
    "`df.loc[row_index]` または `df.iloc[row_position]`  \n",
    "複数行の場合には、  \n",
    "`df.loc[[row_index1, row_index2]]`  または  \n",
    "`df.iloc[[row_position1, row_position2]]`  または  \n",
    "`df.iloc[row_position1:row_position2]`\n",
    "\n",
    "\n",
    "* __範囲の抽出 (loc or ilocを使う)__  \n",
    "`df.loc[[row_index1, row_index2], [col_index1, col_index2]]`  または  \n",
    "`df.iloc[[row_position1, row_position2], [col_position1, col_position2]]`  または  \n",
    "`df.iloc[row_position1:row_position2, col_position1:col_position2]`\n",
    "\n",
    "\n",
    "* __値の抽出 (at or iatを使う)__   \n",
    "`df.at[row_index, col_index]`  または  `df.iat[row_position, col_position]`  \n",
    "(loc or ilocよりも速い)\n",
    "\n"
   ]
  },
  {
   "cell_type": "code",
   "execution_count": null,
   "metadata": {
    "collapsed": false,
    "deletable": true,
    "editable": true
   },
   "outputs": [],
   "source": []
  },
  {
   "cell_type": "markdown",
   "metadata": {
    "deletable": true,
    "editable": true
   },
   "source": [
    "# 条件を指定して抽出 (boolean indexing)"
   ]
  },
  {
   "cell_type": "code",
   "execution_count": 487,
   "metadata": {
    "collapsed": false,
    "deletable": true,
    "editable": true
   },
   "outputs": [
    {
     "data": {
      "text/html": [
       "<div>\n",
       "<style>\n",
       "    .dataframe thead tr:only-child th {\n",
       "        text-align: right;\n",
       "    }\n",
       "\n",
       "    .dataframe thead th {\n",
       "        text-align: left;\n",
       "    }\n",
       "\n",
       "    .dataframe tbody tr th {\n",
       "        vertical-align: top;\n",
       "    }\n",
       "</style>\n",
       "<table border=\"1\" class=\"dataframe\">\n",
       "  <thead>\n",
       "    <tr style=\"text-align: right;\">\n",
       "      <th></th>\n",
       "      <th>DOB</th>\n",
       "      <th>age</th>\n",
       "      <th>alive</th>\n",
       "      <th>family_name</th>\n",
       "      <th>group_name</th>\n",
       "      <th>name</th>\n",
       "    </tr>\n",
       "  </thead>\n",
       "  <tbody>\n",
       "    <tr>\n",
       "      <th>0</th>\n",
       "      <td>1940/10/09</td>\n",
       "      <td>NaN</td>\n",
       "      <td>False</td>\n",
       "      <td>Lennon</td>\n",
       "      <td>Beatles</td>\n",
       "      <td>John</td>\n",
       "    </tr>\n",
       "    <tr>\n",
       "      <th>1</th>\n",
       "      <td>1942/026/18</td>\n",
       "      <td>76.0</td>\n",
       "      <td>True</td>\n",
       "      <td>McCartney</td>\n",
       "      <td>Beatles</td>\n",
       "      <td>Paul</td>\n",
       "    </tr>\n",
       "    <tr>\n",
       "      <th>2</th>\n",
       "      <td>1943/02/25</td>\n",
       "      <td>NaN</td>\n",
       "      <td>False</td>\n",
       "      <td>Harrison</td>\n",
       "      <td>Beatles</td>\n",
       "      <td>George</td>\n",
       "    </tr>\n",
       "    <tr>\n",
       "      <th>3</th>\n",
       "      <td>1940/07/07</td>\n",
       "      <td>78.0</td>\n",
       "      <td>True</td>\n",
       "      <td>Starr</td>\n",
       "      <td>Beatles</td>\n",
       "      <td>Ringo</td>\n",
       "    </tr>\n",
       "    <tr>\n",
       "      <th>4</th>\n",
       "      <td>1941/10/13</td>\n",
       "      <td>77.0</td>\n",
       "      <td>True</td>\n",
       "      <td>Simon</td>\n",
       "      <td>Simon_and_Garfunkel</td>\n",
       "      <td>Paul</td>\n",
       "    </tr>\n",
       "    <tr>\n",
       "      <th>5</th>\n",
       "      <td>1941/11/05</td>\n",
       "      <td>77.0</td>\n",
       "      <td>True</td>\n",
       "      <td>Garfunkel</td>\n",
       "      <td>Simon_and_Garfunkel</td>\n",
       "      <td>Art</td>\n",
       "    </tr>\n",
       "  </tbody>\n",
       "</table>\n",
       "</div>"
      ],
      "text/plain": [
       "           DOB   age  alive family_name           group_name    name\n",
       "0   1940/10/09   NaN  False      Lennon              Beatles    John\n",
       "1  1942/026/18  76.0   True   McCartney              Beatles    Paul\n",
       "2   1943/02/25   NaN  False    Harrison              Beatles  George\n",
       "3   1940/07/07  78.0   True       Starr              Beatles   Ringo\n",
       "4   1941/10/13  77.0   True       Simon  Simon_and_Garfunkel    Paul\n",
       "5   1941/11/05  77.0   True   Garfunkel  Simon_and_Garfunkel     Art"
      ]
     },
     "execution_count": 487,
     "metadata": {},
     "output_type": "execute_result"
    }
   ],
   "source": [
    "df2"
   ]
  },
  {
   "cell_type": "code",
   "execution_count": 488,
   "metadata": {
    "collapsed": true,
    "deletable": true,
    "editable": true
   },
   "outputs": [],
   "source": [
    "# 抽出対象をbool値のリストで指定\n",
    "targets = [True, True, False, False, True, False] "
   ]
  },
  {
   "cell_type": "code",
   "execution_count": 489,
   "metadata": {
    "collapsed": false,
    "deletable": true,
    "editable": true
   },
   "outputs": [
    {
     "data": {
      "text/html": [
       "<div>\n",
       "<style>\n",
       "    .dataframe thead tr:only-child th {\n",
       "        text-align: right;\n",
       "    }\n",
       "\n",
       "    .dataframe thead th {\n",
       "        text-align: left;\n",
       "    }\n",
       "\n",
       "    .dataframe tbody tr th {\n",
       "        vertical-align: top;\n",
       "    }\n",
       "</style>\n",
       "<table border=\"1\" class=\"dataframe\">\n",
       "  <thead>\n",
       "    <tr style=\"text-align: right;\">\n",
       "      <th></th>\n",
       "      <th>DOB</th>\n",
       "      <th>age</th>\n",
       "      <th>alive</th>\n",
       "      <th>family_name</th>\n",
       "      <th>group_name</th>\n",
       "      <th>name</th>\n",
       "    </tr>\n",
       "  </thead>\n",
       "  <tbody>\n",
       "    <tr>\n",
       "      <th>0</th>\n",
       "      <td>1940/10/09</td>\n",
       "      <td>NaN</td>\n",
       "      <td>False</td>\n",
       "      <td>Lennon</td>\n",
       "      <td>Beatles</td>\n",
       "      <td>John</td>\n",
       "    </tr>\n",
       "    <tr>\n",
       "      <th>1</th>\n",
       "      <td>1942/026/18</td>\n",
       "      <td>76.0</td>\n",
       "      <td>True</td>\n",
       "      <td>McCartney</td>\n",
       "      <td>Beatles</td>\n",
       "      <td>Paul</td>\n",
       "    </tr>\n",
       "    <tr>\n",
       "      <th>4</th>\n",
       "      <td>1941/10/13</td>\n",
       "      <td>77.0</td>\n",
       "      <td>True</td>\n",
       "      <td>Simon</td>\n",
       "      <td>Simon_and_Garfunkel</td>\n",
       "      <td>Paul</td>\n",
       "    </tr>\n",
       "  </tbody>\n",
       "</table>\n",
       "</div>"
      ],
      "text/plain": [
       "           DOB   age  alive family_name           group_name  name\n",
       "0   1940/10/09   NaN  False      Lennon              Beatles  John\n",
       "1  1942/026/18  76.0   True   McCartney              Beatles  Paul\n",
       "4   1941/10/13  77.0   True       Simon  Simon_and_Garfunkel  Paul"
      ]
     },
     "execution_count": 489,
     "metadata": {},
     "output_type": "execute_result"
    }
   ],
   "source": [
    "df2[targets]"
   ]
  },
  {
   "cell_type": "code",
   "execution_count": 490,
   "metadata": {
    "collapsed": false,
    "deletable": true,
    "editable": true
   },
   "outputs": [
    {
     "data": {
      "text/html": [
       "<div>\n",
       "<style>\n",
       "    .dataframe thead tr:only-child th {\n",
       "        text-align: right;\n",
       "    }\n",
       "\n",
       "    .dataframe thead th {\n",
       "        text-align: left;\n",
       "    }\n",
       "\n",
       "    .dataframe tbody tr th {\n",
       "        vertical-align: top;\n",
       "    }\n",
       "</style>\n",
       "<table border=\"1\" class=\"dataframe\">\n",
       "  <thead>\n",
       "    <tr style=\"text-align: right;\">\n",
       "      <th></th>\n",
       "      <th>DOB</th>\n",
       "      <th>age</th>\n",
       "      <th>alive</th>\n",
       "      <th>family_name</th>\n",
       "      <th>group_name</th>\n",
       "      <th>name</th>\n",
       "    </tr>\n",
       "  </thead>\n",
       "  <tbody>\n",
       "    <tr>\n",
       "      <th>1</th>\n",
       "      <td>1942/026/18</td>\n",
       "      <td>76.0</td>\n",
       "      <td>True</td>\n",
       "      <td>McCartney</td>\n",
       "      <td>Beatles</td>\n",
       "      <td>Paul</td>\n",
       "    </tr>\n",
       "    <tr>\n",
       "      <th>3</th>\n",
       "      <td>1940/07/07</td>\n",
       "      <td>78.0</td>\n",
       "      <td>True</td>\n",
       "      <td>Starr</td>\n",
       "      <td>Beatles</td>\n",
       "      <td>Ringo</td>\n",
       "    </tr>\n",
       "    <tr>\n",
       "      <th>4</th>\n",
       "      <td>1941/10/13</td>\n",
       "      <td>77.0</td>\n",
       "      <td>True</td>\n",
       "      <td>Simon</td>\n",
       "      <td>Simon_and_Garfunkel</td>\n",
       "      <td>Paul</td>\n",
       "    </tr>\n",
       "    <tr>\n",
       "      <th>5</th>\n",
       "      <td>1941/11/05</td>\n",
       "      <td>77.0</td>\n",
       "      <td>True</td>\n",
       "      <td>Garfunkel</td>\n",
       "      <td>Simon_and_Garfunkel</td>\n",
       "      <td>Art</td>\n",
       "    </tr>\n",
       "  </tbody>\n",
       "</table>\n",
       "</div>"
      ],
      "text/plain": [
       "           DOB   age  alive family_name           group_name   name\n",
       "1  1942/026/18  76.0   True   McCartney              Beatles   Paul\n",
       "3   1940/07/07  78.0   True       Starr              Beatles  Ringo\n",
       "4   1941/10/13  77.0   True       Simon  Simon_and_Garfunkel   Paul\n",
       "5   1941/11/05  77.0   True   Garfunkel  Simon_and_Garfunkel    Art"
      ]
     },
     "execution_count": 490,
     "metadata": {},
     "output_type": "execute_result"
    }
   ],
   "source": [
    "# df2からalive=Trueのデータのみを抽出する\n",
    "df2[df2.alive]"
   ]
  },
  {
   "cell_type": "code",
   "execution_count": 491,
   "metadata": {
    "collapsed": false,
    "deletable": true,
    "editable": true
   },
   "outputs": [
    {
     "data": {
      "text/html": [
       "<div>\n",
       "<style>\n",
       "    .dataframe thead tr:only-child th {\n",
       "        text-align: right;\n",
       "    }\n",
       "\n",
       "    .dataframe thead th {\n",
       "        text-align: left;\n",
       "    }\n",
       "\n",
       "    .dataframe tbody tr th {\n",
       "        vertical-align: top;\n",
       "    }\n",
       "</style>\n",
       "<table border=\"1\" class=\"dataframe\">\n",
       "  <thead>\n",
       "    <tr style=\"text-align: right;\">\n",
       "      <th></th>\n",
       "      <th>DOB</th>\n",
       "      <th>age</th>\n",
       "      <th>alive</th>\n",
       "      <th>family_name</th>\n",
       "      <th>group_name</th>\n",
       "      <th>name</th>\n",
       "    </tr>\n",
       "  </thead>\n",
       "  <tbody>\n",
       "    <tr>\n",
       "      <th>0</th>\n",
       "      <td>1940/10/09</td>\n",
       "      <td>NaN</td>\n",
       "      <td>False</td>\n",
       "      <td>Lennon</td>\n",
       "      <td>Beatles</td>\n",
       "      <td>John</td>\n",
       "    </tr>\n",
       "    <tr>\n",
       "      <th>2</th>\n",
       "      <td>1943/02/25</td>\n",
       "      <td>NaN</td>\n",
       "      <td>False</td>\n",
       "      <td>Harrison</td>\n",
       "      <td>Beatles</td>\n",
       "      <td>George</td>\n",
       "    </tr>\n",
       "  </tbody>\n",
       "</table>\n",
       "</div>"
      ],
      "text/plain": [
       "          DOB  age  alive family_name group_name    name\n",
       "0  1940/10/09  NaN  False      Lennon    Beatles    John\n",
       "2  1943/02/25  NaN  False    Harrison    Beatles  George"
      ]
     },
     "execution_count": 491,
     "metadata": {},
     "output_type": "execute_result"
    }
   ],
   "source": [
    "# ~をつけるとnotの意味になる\n",
    "df2[~df2.alive]"
   ]
  },
  {
   "cell_type": "code",
   "execution_count": 492,
   "metadata": {
    "collapsed": false,
    "deletable": true,
    "editable": true
   },
   "outputs": [
    {
     "data": {
      "text/plain": [
       "0    False\n",
       "1    False\n",
       "2    False\n",
       "3     True\n",
       "4     True\n",
       "5     True\n",
       "Name: age, dtype: bool"
      ]
     },
     "execution_count": 492,
     "metadata": {},
     "output_type": "execute_result"
    }
   ],
   "source": [
    "# 77歳以上を抽出\n",
    "df2.age >= 77"
   ]
  },
  {
   "cell_type": "code",
   "execution_count": 493,
   "metadata": {
    "collapsed": false,
    "deletable": true,
    "editable": true
   },
   "outputs": [
    {
     "data": {
      "text/html": [
       "<div>\n",
       "<style>\n",
       "    .dataframe thead tr:only-child th {\n",
       "        text-align: right;\n",
       "    }\n",
       "\n",
       "    .dataframe thead th {\n",
       "        text-align: left;\n",
       "    }\n",
       "\n",
       "    .dataframe tbody tr th {\n",
       "        vertical-align: top;\n",
       "    }\n",
       "</style>\n",
       "<table border=\"1\" class=\"dataframe\">\n",
       "  <thead>\n",
       "    <tr style=\"text-align: right;\">\n",
       "      <th></th>\n",
       "      <th>DOB</th>\n",
       "      <th>age</th>\n",
       "      <th>alive</th>\n",
       "      <th>family_name</th>\n",
       "      <th>group_name</th>\n",
       "      <th>name</th>\n",
       "    </tr>\n",
       "  </thead>\n",
       "  <tbody>\n",
       "    <tr>\n",
       "      <th>3</th>\n",
       "      <td>1940/07/07</td>\n",
       "      <td>78.0</td>\n",
       "      <td>True</td>\n",
       "      <td>Starr</td>\n",
       "      <td>Beatles</td>\n",
       "      <td>Ringo</td>\n",
       "    </tr>\n",
       "    <tr>\n",
       "      <th>4</th>\n",
       "      <td>1941/10/13</td>\n",
       "      <td>77.0</td>\n",
       "      <td>True</td>\n",
       "      <td>Simon</td>\n",
       "      <td>Simon_and_Garfunkel</td>\n",
       "      <td>Paul</td>\n",
       "    </tr>\n",
       "    <tr>\n",
       "      <th>5</th>\n",
       "      <td>1941/11/05</td>\n",
       "      <td>77.0</td>\n",
       "      <td>True</td>\n",
       "      <td>Garfunkel</td>\n",
       "      <td>Simon_and_Garfunkel</td>\n",
       "      <td>Art</td>\n",
       "    </tr>\n",
       "  </tbody>\n",
       "</table>\n",
       "</div>"
      ],
      "text/plain": [
       "          DOB   age  alive family_name           group_name   name\n",
       "3  1940/07/07  78.0   True       Starr              Beatles  Ringo\n",
       "4  1941/10/13  77.0   True       Simon  Simon_and_Garfunkel   Paul\n",
       "5  1941/11/05  77.0   True   Garfunkel  Simon_and_Garfunkel    Art"
      ]
     },
     "execution_count": 493,
     "metadata": {},
     "output_type": "execute_result"
    }
   ],
   "source": [
    "df2[df2.age >= 77]"
   ]
  },
  {
   "cell_type": "code",
   "execution_count": 494,
   "metadata": {
    "collapsed": false,
    "deletable": true,
    "editable": true
   },
   "outputs": [
    {
     "data": {
      "text/html": [
       "<div>\n",
       "<style>\n",
       "    .dataframe thead tr:only-child th {\n",
       "        text-align: right;\n",
       "    }\n",
       "\n",
       "    .dataframe thead th {\n",
       "        text-align: left;\n",
       "    }\n",
       "\n",
       "    .dataframe tbody tr th {\n",
       "        vertical-align: top;\n",
       "    }\n",
       "</style>\n",
       "<table border=\"1\" class=\"dataframe\">\n",
       "  <thead>\n",
       "    <tr style=\"text-align: right;\">\n",
       "      <th></th>\n",
       "      <th>DOB</th>\n",
       "      <th>age</th>\n",
       "      <th>alive</th>\n",
       "      <th>family_name</th>\n",
       "      <th>group_name</th>\n",
       "      <th>name</th>\n",
       "    </tr>\n",
       "  </thead>\n",
       "  <tbody>\n",
       "    <tr>\n",
       "      <th>0</th>\n",
       "      <td>1940/10/09</td>\n",
       "      <td>NaN</td>\n",
       "      <td>False</td>\n",
       "      <td>Lennon</td>\n",
       "      <td>Beatles</td>\n",
       "      <td>John</td>\n",
       "    </tr>\n",
       "    <tr>\n",
       "      <th>2</th>\n",
       "      <td>1943/02/25</td>\n",
       "      <td>NaN</td>\n",
       "      <td>False</td>\n",
       "      <td>Harrison</td>\n",
       "      <td>Beatles</td>\n",
       "      <td>George</td>\n",
       "    </tr>\n",
       "  </tbody>\n",
       "</table>\n",
       "</div>"
      ],
      "text/plain": [
       "          DOB  age  alive family_name group_name    name\n",
       "0  1940/10/09  NaN  False      Lennon    Beatles    John\n",
       "2  1943/02/25  NaN  False    Harrison    Beatles  George"
      ]
     },
     "execution_count": 494,
     "metadata": {},
     "output_type": "execute_result"
    }
   ],
   "source": [
    "df2[~df2.alive]"
   ]
  },
  {
   "cell_type": "code",
   "execution_count": 495,
   "metadata": {
    "collapsed": false,
    "deletable": true,
    "editable": true
   },
   "outputs": [
    {
     "data": {
      "text/html": [
       "<div>\n",
       "<style>\n",
       "    .dataframe thead tr:only-child th {\n",
       "        text-align: right;\n",
       "    }\n",
       "\n",
       "    .dataframe thead th {\n",
       "        text-align: left;\n",
       "    }\n",
       "\n",
       "    .dataframe tbody tr th {\n",
       "        vertical-align: top;\n",
       "    }\n",
       "</style>\n",
       "<table border=\"1\" class=\"dataframe\">\n",
       "  <thead>\n",
       "    <tr style=\"text-align: right;\">\n",
       "      <th></th>\n",
       "      <th>DOB</th>\n",
       "      <th>age</th>\n",
       "      <th>alive</th>\n",
       "      <th>family_name</th>\n",
       "      <th>group_name</th>\n",
       "      <th>name</th>\n",
       "    </tr>\n",
       "  </thead>\n",
       "  <tbody>\n",
       "    <tr>\n",
       "      <th>0</th>\n",
       "      <td>1940/10/09</td>\n",
       "      <td>NaN</td>\n",
       "      <td>False</td>\n",
       "      <td>Lennon</td>\n",
       "      <td>Beatles</td>\n",
       "      <td>John</td>\n",
       "    </tr>\n",
       "    <tr>\n",
       "      <th>1</th>\n",
       "      <td>1942/026/18</td>\n",
       "      <td>76.0</td>\n",
       "      <td>True</td>\n",
       "      <td>McCartney</td>\n",
       "      <td>Beatles</td>\n",
       "      <td>Paul</td>\n",
       "    </tr>\n",
       "    <tr>\n",
       "      <th>2</th>\n",
       "      <td>1943/02/25</td>\n",
       "      <td>NaN</td>\n",
       "      <td>False</td>\n",
       "      <td>Harrison</td>\n",
       "      <td>Beatles</td>\n",
       "      <td>George</td>\n",
       "    </tr>\n",
       "    <tr>\n",
       "      <th>3</th>\n",
       "      <td>1940/07/07</td>\n",
       "      <td>78.0</td>\n",
       "      <td>True</td>\n",
       "      <td>Starr</td>\n",
       "      <td>Beatles</td>\n",
       "      <td>Ringo</td>\n",
       "    </tr>\n",
       "  </tbody>\n",
       "</table>\n",
       "</div>"
      ],
      "text/plain": [
       "           DOB   age  alive family_name group_name    name\n",
       "0   1940/10/09   NaN  False      Lennon    Beatles    John\n",
       "1  1942/026/18  76.0   True   McCartney    Beatles    Paul\n",
       "2   1943/02/25   NaN  False    Harrison    Beatles  George\n",
       "3   1940/07/07  78.0   True       Starr    Beatles   Ringo"
      ]
     },
     "execution_count": 495,
     "metadata": {},
     "output_type": "execute_result"
    }
   ],
   "source": [
    "# Beatlesメンバーを抽出\n",
    "df2[df2[\"group_name\"] == \"Beatles\"]"
   ]
  },
  {
   "cell_type": "code",
   "execution_count": 496,
   "metadata": {
    "collapsed": false
   },
   "outputs": [
    {
     "data": {
      "text/html": [
       "<div>\n",
       "<style>\n",
       "    .dataframe thead tr:only-child th {\n",
       "        text-align: right;\n",
       "    }\n",
       "\n",
       "    .dataframe thead th {\n",
       "        text-align: left;\n",
       "    }\n",
       "\n",
       "    .dataframe tbody tr th {\n",
       "        vertical-align: top;\n",
       "    }\n",
       "</style>\n",
       "<table border=\"1\" class=\"dataframe\">\n",
       "  <thead>\n",
       "    <tr style=\"text-align: right;\">\n",
       "      <th></th>\n",
       "      <th>A</th>\n",
       "      <th>B</th>\n",
       "      <th>C</th>\n",
       "      <th>D</th>\n",
       "      <th>E</th>\n",
       "      <th>F</th>\n",
       "      <th>G</th>\n",
       "    </tr>\n",
       "    <tr>\n",
       "      <th>data_idx</th>\n",
       "      <th></th>\n",
       "      <th></th>\n",
       "      <th></th>\n",
       "      <th></th>\n",
       "      <th></th>\n",
       "      <th></th>\n",
       "      <th></th>\n",
       "    </tr>\n",
       "  </thead>\n",
       "  <tbody>\n",
       "    <tr>\n",
       "      <th>data_1</th>\n",
       "      <td>58</td>\n",
       "      <td>0</td>\n",
       "      <td>31.0</td>\n",
       "      <td>0.6028</td>\n",
       "      <td>73.922054</td>\n",
       "      <td>0.0179</td>\n",
       "      <td>0.0</td>\n",
       "    </tr>\n",
       "    <tr>\n",
       "      <th>data_10</th>\n",
       "      <td>109</td>\n",
       "      <td>0</td>\n",
       "      <td>56.0</td>\n",
       "      <td>0.5000</td>\n",
       "      <td>575.585790</td>\n",
       "      <td>0.0346</td>\n",
       "      <td>0.0</td>\n",
       "    </tr>\n",
       "    <tr>\n",
       "      <th>data_11</th>\n",
       "      <td>77</td>\n",
       "      <td>0</td>\n",
       "      <td>33.0</td>\n",
       "      <td>0.6281</td>\n",
       "      <td>144.838806</td>\n",
       "      <td>0.0343</td>\n",
       "      <td>0.0</td>\n",
       "    </tr>\n",
       "    <tr>\n",
       "      <th>data_12</th>\n",
       "      <td>181</td>\n",
       "      <td>126</td>\n",
       "      <td>55.0</td>\n",
       "      <td>0.5000</td>\n",
       "      <td>NaN</td>\n",
       "      <td>0.0551</td>\n",
       "      <td>0.0</td>\n",
       "    </tr>\n",
       "    <tr>\n",
       "      <th>data_13</th>\n",
       "      <td>91</td>\n",
       "      <td>0</td>\n",
       "      <td>45.0</td>\n",
       "      <td>0.5220</td>\n",
       "      <td>896.439718</td>\n",
       "      <td>0.0044</td>\n",
       "      <td>0.0</td>\n",
       "    </tr>\n",
       "  </tbody>\n",
       "</table>\n",
       "</div>"
      ],
      "text/plain": [
       "            A    B     C       D           E       F    G\n",
       "data_idx                                                 \n",
       "data_1     58    0  31.0  0.6028   73.922054  0.0179  0.0\n",
       "data_10   109    0  56.0  0.5000  575.585790  0.0346  0.0\n",
       "data_11    77    0  33.0  0.6281  144.838806  0.0343  0.0\n",
       "data_12   181  126  55.0  0.5000         NaN  0.0551  0.0\n",
       "data_13    91    0  45.0  0.5220  896.439718  0.0044  0.0"
      ]
     },
     "execution_count": 496,
     "metadata": {},
     "output_type": "execute_result"
    }
   ],
   "source": [
    "# 条件に当てはまる要素のみ値を変更することも可能\n",
    "df3_copy = df3.copy()  #　もとのデータフレームを上書きしないようにcopyを作成しています。\n",
    "df3_copy[df3_copy < 0] = 0  # 負の値のものを 0 に書き換える。\n",
    "df3_copy.head()"
   ]
  },
  {
   "cell_type": "code",
   "execution_count": null,
   "metadata": {
    "collapsed": false
   },
   "outputs": [],
   "source": []
  },
  {
   "cell_type": "markdown",
   "metadata": {
    "deletable": true,
    "editable": true
   },
   "source": [
    "* 以下はややマニアックな例です"
   ]
  },
  {
   "cell_type": "code",
   "execution_count": 497,
   "metadata": {
    "collapsed": false,
    "deletable": true,
    "editable": true
   },
   "outputs": [
    {
     "data": {
      "text/html": [
       "<div>\n",
       "<style>\n",
       "    .dataframe thead tr:only-child th {\n",
       "        text-align: right;\n",
       "    }\n",
       "\n",
       "    .dataframe thead th {\n",
       "        text-align: left;\n",
       "    }\n",
       "\n",
       "    .dataframe tbody tr th {\n",
       "        vertical-align: top;\n",
       "    }\n",
       "</style>\n",
       "<table border=\"1\" class=\"dataframe\">\n",
       "  <thead>\n",
       "    <tr style=\"text-align: right;\">\n",
       "      <th></th>\n",
       "      <th>DOB</th>\n",
       "      <th>age</th>\n",
       "      <th>alive</th>\n",
       "      <th>family_name</th>\n",
       "      <th>group_name</th>\n",
       "      <th>name</th>\n",
       "    </tr>\n",
       "  </thead>\n",
       "  <tbody>\n",
       "    <tr>\n",
       "      <th>0</th>\n",
       "      <td>1940/10/09</td>\n",
       "      <td>NaN</td>\n",
       "      <td>False</td>\n",
       "      <td>Lennon</td>\n",
       "      <td>Beatles</td>\n",
       "      <td>John</td>\n",
       "    </tr>\n",
       "    <tr>\n",
       "      <th>1</th>\n",
       "      <td>1942/026/18</td>\n",
       "      <td>76.0</td>\n",
       "      <td>True</td>\n",
       "      <td>McCartney</td>\n",
       "      <td>Beatles</td>\n",
       "      <td>Paul</td>\n",
       "    </tr>\n",
       "    <tr>\n",
       "      <th>2</th>\n",
       "      <td>1943/02/25</td>\n",
       "      <td>NaN</td>\n",
       "      <td>False</td>\n",
       "      <td>Harrison</td>\n",
       "      <td>Beatles</td>\n",
       "      <td>George</td>\n",
       "    </tr>\n",
       "    <tr>\n",
       "      <th>3</th>\n",
       "      <td>1940/07/07</td>\n",
       "      <td>78.0</td>\n",
       "      <td>True</td>\n",
       "      <td>Starr</td>\n",
       "      <td>Beatles</td>\n",
       "      <td>Ringo</td>\n",
       "    </tr>\n",
       "    <tr>\n",
       "      <th>4</th>\n",
       "      <td>1941/10/13</td>\n",
       "      <td>77.0</td>\n",
       "      <td>True</td>\n",
       "      <td>Simon</td>\n",
       "      <td>Simon_and_Garfunkel</td>\n",
       "      <td>Paul</td>\n",
       "    </tr>\n",
       "    <tr>\n",
       "      <th>5</th>\n",
       "      <td>1941/11/05</td>\n",
       "      <td>77.0</td>\n",
       "      <td>True</td>\n",
       "      <td>Garfunkel</td>\n",
       "      <td>Simon_and_Garfunkel</td>\n",
       "      <td>Art</td>\n",
       "    </tr>\n",
       "  </tbody>\n",
       "</table>\n",
       "</div>"
      ],
      "text/plain": [
       "           DOB   age  alive family_name           group_name    name\n",
       "0   1940/10/09   NaN  False      Lennon              Beatles    John\n",
       "1  1942/026/18  76.0   True   McCartney              Beatles    Paul\n",
       "2   1943/02/25   NaN  False    Harrison              Beatles  George\n",
       "3   1940/07/07  78.0   True       Starr              Beatles   Ringo\n",
       "4   1941/10/13  77.0   True       Simon  Simon_and_Garfunkel    Paul\n",
       "5   1941/11/05  77.0   True   Garfunkel  Simon_and_Garfunkel     Art"
      ]
     },
     "execution_count": 497,
     "metadata": {},
     "output_type": "execute_result"
    }
   ],
   "source": [
    "# isin で複数候補を対象にできる\n",
    "df2[df2[\"group_name\"].isin([\"Beatles\", \"Simon_and_Garfunkel\"])]"
   ]
  },
  {
   "cell_type": "code",
   "execution_count": 498,
   "metadata": {
    "collapsed": false,
    "deletable": true,
    "editable": true
   },
   "outputs": [
    {
     "data": {
      "text/html": [
       "<div>\n",
       "<style>\n",
       "    .dataframe thead tr:only-child th {\n",
       "        text-align: right;\n",
       "    }\n",
       "\n",
       "    .dataframe thead th {\n",
       "        text-align: left;\n",
       "    }\n",
       "\n",
       "    .dataframe tbody tr th {\n",
       "        vertical-align: top;\n",
       "    }\n",
       "</style>\n",
       "<table border=\"1\" class=\"dataframe\">\n",
       "  <thead>\n",
       "    <tr style=\"text-align: right;\">\n",
       "      <th></th>\n",
       "      <th>DOB</th>\n",
       "      <th>age</th>\n",
       "      <th>alive</th>\n",
       "      <th>family_name</th>\n",
       "      <th>group_name</th>\n",
       "      <th>name</th>\n",
       "    </tr>\n",
       "  </thead>\n",
       "  <tbody>\n",
       "    <tr>\n",
       "      <th>0</th>\n",
       "      <td>1940/10/09</td>\n",
       "      <td>NaN</td>\n",
       "      <td>False</td>\n",
       "      <td>Lennon</td>\n",
       "      <td>Beatles</td>\n",
       "      <td>John</td>\n",
       "    </tr>\n",
       "    <tr>\n",
       "      <th>1</th>\n",
       "      <td>1942/026/18</td>\n",
       "      <td>76.0</td>\n",
       "      <td>True</td>\n",
       "      <td>McCartney</td>\n",
       "      <td>Beatles</td>\n",
       "      <td>Paul</td>\n",
       "    </tr>\n",
       "    <tr>\n",
       "      <th>2</th>\n",
       "      <td>1943/02/25</td>\n",
       "      <td>NaN</td>\n",
       "      <td>False</td>\n",
       "      <td>Harrison</td>\n",
       "      <td>Beatles</td>\n",
       "      <td>George</td>\n",
       "    </tr>\n",
       "    <tr>\n",
       "      <th>3</th>\n",
       "      <td>1940/07/07</td>\n",
       "      <td>78.0</td>\n",
       "      <td>True</td>\n",
       "      <td>Starr</td>\n",
       "      <td>Beatles</td>\n",
       "      <td>Ringo</td>\n",
       "    </tr>\n",
       "    <tr>\n",
       "      <th>4</th>\n",
       "      <td>1941/10/13</td>\n",
       "      <td>77.0</td>\n",
       "      <td>True</td>\n",
       "      <td>Simon</td>\n",
       "      <td>Simon_and_Garfunkel</td>\n",
       "      <td>Paul</td>\n",
       "    </tr>\n",
       "    <tr>\n",
       "      <th>5</th>\n",
       "      <td>1941/11/05</td>\n",
       "      <td>77.0</td>\n",
       "      <td>True</td>\n",
       "      <td>Garfunkel</td>\n",
       "      <td>Simon_and_Garfunkel</td>\n",
       "      <td>Art</td>\n",
       "    </tr>\n",
       "  </tbody>\n",
       "</table>\n",
       "</div>"
      ],
      "text/plain": [
       "           DOB   age  alive family_name           group_name    name\n",
       "0   1940/10/09   NaN  False      Lennon              Beatles    John\n",
       "1  1942/026/18  76.0   True   McCartney              Beatles    Paul\n",
       "2   1943/02/25   NaN  False    Harrison              Beatles  George\n",
       "3   1940/07/07  78.0   True       Starr              Beatles   Ringo\n",
       "4   1941/10/13  77.0   True       Simon  Simon_and_Garfunkel    Paul\n",
       "5   1941/11/05  77.0   True   Garfunkel  Simon_and_Garfunkel     Art"
      ]
     },
     "execution_count": 498,
     "metadata": {},
     "output_type": "execute_result"
    }
   ],
   "source": [
    "# or (\"|\") を使っても同様の結果が得られる。演算子の優先順位を示すために ( ) が必要。\n",
    "df2[(df2[\"group_name\"] == \"Beatles\") | (df2[\"group_name\"] == \"Simon_and_Garfunkel\")]"
   ]
  },
  {
   "cell_type": "code",
   "execution_count": 499,
   "metadata": {
    "collapsed": false,
    "deletable": true,
    "editable": true
   },
   "outputs": [
    {
     "data": {
      "text/html": [
       "<div>\n",
       "<style>\n",
       "    .dataframe thead tr:only-child th {\n",
       "        text-align: right;\n",
       "    }\n",
       "\n",
       "    .dataframe thead th {\n",
       "        text-align: left;\n",
       "    }\n",
       "\n",
       "    .dataframe tbody tr th {\n",
       "        vertical-align: top;\n",
       "    }\n",
       "</style>\n",
       "<table border=\"1\" class=\"dataframe\">\n",
       "  <thead>\n",
       "    <tr style=\"text-align: right;\">\n",
       "      <th></th>\n",
       "      <th>A</th>\n",
       "      <th>B</th>\n",
       "      <th>C</th>\n",
       "      <th>D</th>\n",
       "      <th>E</th>\n",
       "      <th>F</th>\n",
       "      <th>G</th>\n",
       "    </tr>\n",
       "    <tr>\n",
       "      <th>data_idx</th>\n",
       "      <th></th>\n",
       "      <th></th>\n",
       "      <th></th>\n",
       "      <th></th>\n",
       "      <th></th>\n",
       "      <th></th>\n",
       "      <th></th>\n",
       "    </tr>\n",
       "  </thead>\n",
       "  <tbody>\n",
       "    <tr>\n",
       "      <th>data_10</th>\n",
       "      <td>109</td>\n",
       "      <td>-53</td>\n",
       "      <td>56.0</td>\n",
       "      <td>0.5000</td>\n",
       "      <td>575.585790</td>\n",
       "      <td>0.0346</td>\n",
       "      <td>0.0000</td>\n",
       "    </tr>\n",
       "    <tr>\n",
       "      <th>data_20</th>\n",
       "      <td>20</td>\n",
       "      <td>-4</td>\n",
       "      <td>16.0</td>\n",
       "      <td>0.5714</td>\n",
       "      <td>3.293830</td>\n",
       "      <td>0.0469</td>\n",
       "      <td>-0.0441</td>\n",
       "    </tr>\n",
       "    <tr>\n",
       "      <th>data_30</th>\n",
       "      <td>127</td>\n",
       "      <td>-77</td>\n",
       "      <td>50.0</td>\n",
       "      <td>0.5000</td>\n",
       "      <td>164.149599</td>\n",
       "      <td>0.1493</td>\n",
       "      <td>0.0000</td>\n",
       "    </tr>\n",
       "  </tbody>\n",
       "</table>\n",
       "</div>"
      ],
      "text/plain": [
       "            A   B     C       D           E       F       G\n",
       "data_idx                                                   \n",
       "data_10   109 -53  56.0  0.5000  575.585790  0.0346  0.0000\n",
       "data_20    20  -4  16.0  0.5714    3.293830  0.0469 -0.0441\n",
       "data_30   127 -77  50.0  0.5000  164.149599  0.1493  0.0000"
      ]
     },
     "execution_count": 499,
     "metadata": {},
     "output_type": "execute_result"
    }
   ],
   "source": [
    "# indexを対象にして条件指定抽出\n",
    "df3[df3.index.str.endswith(\"0\")]  # indexの最後が0で終わっているものだけを抜き出しています"
   ]
  },
  {
   "cell_type": "markdown",
   "metadata": {
    "deletable": true,
    "editable": true
   },
   "source": [
    "上記以外にもboolean indexingを使って様々な抽出を行うことができます。\n"
   ]
  },
  {
   "cell_type": "code",
   "execution_count": null,
   "metadata": {
    "collapsed": false,
    "deletable": true,
    "editable": true
   },
   "outputs": [],
   "source": []
  },
  {
   "cell_type": "code",
   "execution_count": null,
   "metadata": {
    "collapsed": false,
    "deletable": true,
    "editable": true
   },
   "outputs": [],
   "source": []
  },
  {
   "cell_type": "markdown",
   "metadata": {
    "deletable": true,
    "editable": true
   },
   "source": [
    "# 新規の行・列の追加、行・列の編集"
   ]
  },
  {
   "cell_type": "code",
   "execution_count": 551,
   "metadata": {
    "collapsed": false,
    "deletable": true,
    "editable": true
   },
   "outputs": [
    {
     "data": {
      "text/html": [
       "<div>\n",
       "<style>\n",
       "    .dataframe thead tr:only-child th {\n",
       "        text-align: right;\n",
       "    }\n",
       "\n",
       "    .dataframe thead th {\n",
       "        text-align: left;\n",
       "    }\n",
       "\n",
       "    .dataframe tbody tr th {\n",
       "        vertical-align: top;\n",
       "    }\n",
       "</style>\n",
       "<table border=\"1\" class=\"dataframe\">\n",
       "  <thead>\n",
       "    <tr style=\"text-align: right;\">\n",
       "      <th></th>\n",
       "      <th>A</th>\n",
       "      <th>B</th>\n",
       "      <th>C</th>\n",
       "    </tr>\n",
       "  </thead>\n",
       "  <tbody>\n",
       "    <tr>\n",
       "      <th>0</th>\n",
       "      <td>1</td>\n",
       "      <td>2</td>\n",
       "      <td>3.0</td>\n",
       "    </tr>\n",
       "    <tr>\n",
       "      <th>1</th>\n",
       "      <td>10</td>\n",
       "      <td>20</td>\n",
       "      <td>30.0</td>\n",
       "    </tr>\n",
       "    <tr>\n",
       "      <th>2</th>\n",
       "      <td>100</td>\n",
       "      <td>200</td>\n",
       "      <td>300.0</td>\n",
       "    </tr>\n",
       "    <tr>\n",
       "      <th>3</th>\n",
       "      <td>1000</td>\n",
       "      <td>2000</td>\n",
       "      <td>3000.0</td>\n",
       "    </tr>\n",
       "  </tbody>\n",
       "</table>\n",
       "</div>"
      ],
      "text/plain": [
       "      A     B       C\n",
       "0     1     2     3.0\n",
       "1    10    20    30.0\n",
       "2   100   200   300.0\n",
       "3  1000  2000  3000.0"
      ]
     },
     "execution_count": 551,
     "metadata": {},
     "output_type": "execute_result"
    }
   ],
   "source": [
    "df1"
   ]
  },
  {
   "cell_type": "markdown",
   "metadata": {
    "deletable": true,
    "editable": true
   },
   "source": [
    "## 列の操作"
   ]
  },
  {
   "cell_type": "markdown",
   "metadata": {
    "deletable": true,
    "editable": true
   },
   "source": [
    "* 列の追加"
   ]
  },
  {
   "cell_type": "code",
   "execution_count": 552,
   "metadata": {
    "collapsed": false,
    "deletable": true,
    "editable": true
   },
   "outputs": [],
   "source": [
    "# 列の追加\n",
    "df1[\"D\"] = [4, 40, 400, 4000]  # すでにD列が存在している場合には上書きになります。"
   ]
  },
  {
   "cell_type": "code",
   "execution_count": 553,
   "metadata": {
    "collapsed": false,
    "deletable": true,
    "editable": true
   },
   "outputs": [
    {
     "data": {
      "text/html": [
       "<div>\n",
       "<style>\n",
       "    .dataframe thead tr:only-child th {\n",
       "        text-align: right;\n",
       "    }\n",
       "\n",
       "    .dataframe thead th {\n",
       "        text-align: left;\n",
       "    }\n",
       "\n",
       "    .dataframe tbody tr th {\n",
       "        vertical-align: top;\n",
       "    }\n",
       "</style>\n",
       "<table border=\"1\" class=\"dataframe\">\n",
       "  <thead>\n",
       "    <tr style=\"text-align: right;\">\n",
       "      <th></th>\n",
       "      <th>A</th>\n",
       "      <th>B</th>\n",
       "      <th>C</th>\n",
       "      <th>D</th>\n",
       "    </tr>\n",
       "  </thead>\n",
       "  <tbody>\n",
       "    <tr>\n",
       "      <th>0</th>\n",
       "      <td>1</td>\n",
       "      <td>2</td>\n",
       "      <td>3.0</td>\n",
       "      <td>4</td>\n",
       "    </tr>\n",
       "    <tr>\n",
       "      <th>1</th>\n",
       "      <td>10</td>\n",
       "      <td>20</td>\n",
       "      <td>30.0</td>\n",
       "      <td>40</td>\n",
       "    </tr>\n",
       "    <tr>\n",
       "      <th>2</th>\n",
       "      <td>100</td>\n",
       "      <td>200</td>\n",
       "      <td>300.0</td>\n",
       "      <td>400</td>\n",
       "    </tr>\n",
       "    <tr>\n",
       "      <th>3</th>\n",
       "      <td>1000</td>\n",
       "      <td>2000</td>\n",
       "      <td>3000.0</td>\n",
       "      <td>4000</td>\n",
       "    </tr>\n",
       "  </tbody>\n",
       "</table>\n",
       "</div>"
      ],
      "text/plain": [
       "      A     B       C     D\n",
       "0     1     2     3.0     4\n",
       "1    10    20    30.0    40\n",
       "2   100   200   300.0   400\n",
       "3  1000  2000  3000.0  4000"
      ]
     },
     "execution_count": 553,
     "metadata": {},
     "output_type": "execute_result"
    }
   ],
   "source": [
    "# 確認\n",
    "df1"
   ]
  },
  {
   "cell_type": "markdown",
   "metadata": {
    "deletable": true,
    "editable": true
   },
   "source": [
    "* 列の編集"
   ]
  },
  {
   "cell_type": "code",
   "execution_count": 554,
   "metadata": {
    "collapsed": false,
    "deletable": true,
    "editable": true
   },
   "outputs": [],
   "source": [
    "df1[\"C\"] = df1[\"C\"] * 10\n",
    "df1[\"D\"] = [4, 44, 444, 4444]"
   ]
  },
  {
   "cell_type": "code",
   "execution_count": 555,
   "metadata": {
    "collapsed": false,
    "deletable": true,
    "editable": true
   },
   "outputs": [
    {
     "data": {
      "text/html": [
       "<div>\n",
       "<style>\n",
       "    .dataframe thead tr:only-child th {\n",
       "        text-align: right;\n",
       "    }\n",
       "\n",
       "    .dataframe thead th {\n",
       "        text-align: left;\n",
       "    }\n",
       "\n",
       "    .dataframe tbody tr th {\n",
       "        vertical-align: top;\n",
       "    }\n",
       "</style>\n",
       "<table border=\"1\" class=\"dataframe\">\n",
       "  <thead>\n",
       "    <tr style=\"text-align: right;\">\n",
       "      <th></th>\n",
       "      <th>A</th>\n",
       "      <th>B</th>\n",
       "      <th>C</th>\n",
       "      <th>D</th>\n",
       "    </tr>\n",
       "  </thead>\n",
       "  <tbody>\n",
       "    <tr>\n",
       "      <th>0</th>\n",
       "      <td>1</td>\n",
       "      <td>2</td>\n",
       "      <td>30.0</td>\n",
       "      <td>4</td>\n",
       "    </tr>\n",
       "    <tr>\n",
       "      <th>1</th>\n",
       "      <td>10</td>\n",
       "      <td>20</td>\n",
       "      <td>300.0</td>\n",
       "      <td>44</td>\n",
       "    </tr>\n",
       "    <tr>\n",
       "      <th>2</th>\n",
       "      <td>100</td>\n",
       "      <td>200</td>\n",
       "      <td>3000.0</td>\n",
       "      <td>444</td>\n",
       "    </tr>\n",
       "    <tr>\n",
       "      <th>3</th>\n",
       "      <td>1000</td>\n",
       "      <td>2000</td>\n",
       "      <td>30000.0</td>\n",
       "      <td>4444</td>\n",
       "    </tr>\n",
       "  </tbody>\n",
       "</table>\n",
       "</div>"
      ],
      "text/plain": [
       "      A     B        C     D\n",
       "0     1     2     30.0     4\n",
       "1    10    20    300.0    44\n",
       "2   100   200   3000.0   444\n",
       "3  1000  2000  30000.0  4444"
      ]
     },
     "execution_count": 555,
     "metadata": {},
     "output_type": "execute_result"
    }
   ],
   "source": [
    "df1"
   ]
  },
  {
   "cell_type": "code",
   "execution_count": 556,
   "metadata": {
    "collapsed": false,
    "deletable": true,
    "editable": true
   },
   "outputs": [],
   "source": [
    "df1[\"AVERAGE\"] = (df1[\"A\"] + df1[\"B\"] + df1[\"C\"] + df1[\"D\"]) / 4"
   ]
  },
  {
   "cell_type": "code",
   "execution_count": 557,
   "metadata": {
    "collapsed": false,
    "deletable": true,
    "editable": true
   },
   "outputs": [],
   "source": [
    "# ↑はmean関数を使っても同じ結果が得られる\n",
    "df1[\"AVERAGE2\"] = df1[[\"A\", \"B\", \"C\", \"D\"]].mean(axis=1)"
   ]
  },
  {
   "cell_type": "code",
   "execution_count": 558,
   "metadata": {
    "collapsed": false,
    "deletable": true,
    "editable": true
   },
   "outputs": [
    {
     "data": {
      "text/html": [
       "<div>\n",
       "<style>\n",
       "    .dataframe thead tr:only-child th {\n",
       "        text-align: right;\n",
       "    }\n",
       "\n",
       "    .dataframe thead th {\n",
       "        text-align: left;\n",
       "    }\n",
       "\n",
       "    .dataframe tbody tr th {\n",
       "        vertical-align: top;\n",
       "    }\n",
       "</style>\n",
       "<table border=\"1\" class=\"dataframe\">\n",
       "  <thead>\n",
       "    <tr style=\"text-align: right;\">\n",
       "      <th></th>\n",
       "      <th>A</th>\n",
       "      <th>B</th>\n",
       "      <th>C</th>\n",
       "      <th>D</th>\n",
       "      <th>AVERAGE</th>\n",
       "      <th>AVERAGE2</th>\n",
       "    </tr>\n",
       "  </thead>\n",
       "  <tbody>\n",
       "    <tr>\n",
       "      <th>0</th>\n",
       "      <td>1</td>\n",
       "      <td>2</td>\n",
       "      <td>30.0</td>\n",
       "      <td>4</td>\n",
       "      <td>9.25</td>\n",
       "      <td>9.25</td>\n",
       "    </tr>\n",
       "    <tr>\n",
       "      <th>1</th>\n",
       "      <td>10</td>\n",
       "      <td>20</td>\n",
       "      <td>300.0</td>\n",
       "      <td>44</td>\n",
       "      <td>93.50</td>\n",
       "      <td>93.50</td>\n",
       "    </tr>\n",
       "    <tr>\n",
       "      <th>2</th>\n",
       "      <td>100</td>\n",
       "      <td>200</td>\n",
       "      <td>3000.0</td>\n",
       "      <td>444</td>\n",
       "      <td>936.00</td>\n",
       "      <td>936.00</td>\n",
       "    </tr>\n",
       "    <tr>\n",
       "      <th>3</th>\n",
       "      <td>1000</td>\n",
       "      <td>2000</td>\n",
       "      <td>30000.0</td>\n",
       "      <td>4444</td>\n",
       "      <td>9361.00</td>\n",
       "      <td>9361.00</td>\n",
       "    </tr>\n",
       "  </tbody>\n",
       "</table>\n",
       "</div>"
      ],
      "text/plain": [
       "      A     B        C     D  AVERAGE  AVERAGE2\n",
       "0     1     2     30.0     4     9.25      9.25\n",
       "1    10    20    300.0    44    93.50     93.50\n",
       "2   100   200   3000.0   444   936.00    936.00\n",
       "3  1000  2000  30000.0  4444  9361.00   9361.00"
      ]
     },
     "execution_count": 558,
     "metadata": {},
     "output_type": "execute_result"
    }
   ],
   "source": [
    "df1"
   ]
  },
  {
   "cell_type": "markdown",
   "metadata": {
    "deletable": true,
    "editable": true
   },
   "source": [
    "* 列の削除"
   ]
  },
  {
   "cell_type": "code",
   "execution_count": 559,
   "metadata": {
    "collapsed": false,
    "deletable": true,
    "editable": true
   },
   "outputs": [
    {
     "data": {
      "text/html": [
       "<div>\n",
       "<style>\n",
       "    .dataframe thead tr:only-child th {\n",
       "        text-align: right;\n",
       "    }\n",
       "\n",
       "    .dataframe thead th {\n",
       "        text-align: left;\n",
       "    }\n",
       "\n",
       "    .dataframe tbody tr th {\n",
       "        vertical-align: top;\n",
       "    }\n",
       "</style>\n",
       "<table border=\"1\" class=\"dataframe\">\n",
       "  <thead>\n",
       "    <tr style=\"text-align: right;\">\n",
       "      <th></th>\n",
       "      <th>A</th>\n",
       "      <th>B</th>\n",
       "      <th>C</th>\n",
       "      <th>D</th>\n",
       "      <th>AVERAGE2</th>\n",
       "    </tr>\n",
       "  </thead>\n",
       "  <tbody>\n",
       "    <tr>\n",
       "      <th>0</th>\n",
       "      <td>1</td>\n",
       "      <td>2</td>\n",
       "      <td>30.0</td>\n",
       "      <td>4</td>\n",
       "      <td>9.25</td>\n",
       "    </tr>\n",
       "    <tr>\n",
       "      <th>1</th>\n",
       "      <td>10</td>\n",
       "      <td>20</td>\n",
       "      <td>300.0</td>\n",
       "      <td>44</td>\n",
       "      <td>93.50</td>\n",
       "    </tr>\n",
       "    <tr>\n",
       "      <th>2</th>\n",
       "      <td>100</td>\n",
       "      <td>200</td>\n",
       "      <td>3000.0</td>\n",
       "      <td>444</td>\n",
       "      <td>936.00</td>\n",
       "    </tr>\n",
       "    <tr>\n",
       "      <th>3</th>\n",
       "      <td>1000</td>\n",
       "      <td>2000</td>\n",
       "      <td>30000.0</td>\n",
       "      <td>4444</td>\n",
       "      <td>9361.00</td>\n",
       "    </tr>\n",
       "  </tbody>\n",
       "</table>\n",
       "</div>"
      ],
      "text/plain": [
       "      A     B        C     D  AVERAGE2\n",
       "0     1     2     30.0     4      9.25\n",
       "1    10    20    300.0    44     93.50\n",
       "2   100   200   3000.0   444    936.00\n",
       "3  1000  2000  30000.0  4444   9361.00"
      ]
     },
     "execution_count": 559,
     "metadata": {},
     "output_type": "execute_result"
    }
   ],
   "source": [
    "# dropを使った削除\n",
    "# defaultではaxis=0(行)の削除なので、axis=1を指定する \n",
    "df1.drop(\"AVERAGE\", axis=1) "
   ]
  },
  {
   "cell_type": "markdown",
   "metadata": {
    "deletable": true,
    "editable": true
   },
   "source": [
    "↑　dropは非破壊的変更なので、実際には上記では削除できていない。  \n",
    "削除するためには、```df = df.drop(\"AVERAGE\", axis=1) ```というように代入する。"
   ]
  },
  {
   "cell_type": "code",
   "execution_count": 560,
   "metadata": {
    "collapsed": false,
    "deletable": true,
    "editable": true
   },
   "outputs": [
    {
     "data": {
      "text/html": [
       "<div>\n",
       "<style>\n",
       "    .dataframe thead tr:only-child th {\n",
       "        text-align: right;\n",
       "    }\n",
       "\n",
       "    .dataframe thead th {\n",
       "        text-align: left;\n",
       "    }\n",
       "\n",
       "    .dataframe tbody tr th {\n",
       "        vertical-align: top;\n",
       "    }\n",
       "</style>\n",
       "<table border=\"1\" class=\"dataframe\">\n",
       "  <thead>\n",
       "    <tr style=\"text-align: right;\">\n",
       "      <th></th>\n",
       "      <th>A</th>\n",
       "      <th>B</th>\n",
       "      <th>C</th>\n",
       "      <th>D</th>\n",
       "    </tr>\n",
       "  </thead>\n",
       "  <tbody>\n",
       "    <tr>\n",
       "      <th>0</th>\n",
       "      <td>1</td>\n",
       "      <td>2</td>\n",
       "      <td>30.0</td>\n",
       "      <td>4</td>\n",
       "    </tr>\n",
       "    <tr>\n",
       "      <th>1</th>\n",
       "      <td>10</td>\n",
       "      <td>20</td>\n",
       "      <td>300.0</td>\n",
       "      <td>44</td>\n",
       "    </tr>\n",
       "    <tr>\n",
       "      <th>2</th>\n",
       "      <td>100</td>\n",
       "      <td>200</td>\n",
       "      <td>3000.0</td>\n",
       "      <td>444</td>\n",
       "    </tr>\n",
       "    <tr>\n",
       "      <th>3</th>\n",
       "      <td>1000</td>\n",
       "      <td>2000</td>\n",
       "      <td>30000.0</td>\n",
       "      <td>4444</td>\n",
       "    </tr>\n",
       "  </tbody>\n",
       "</table>\n",
       "</div>"
      ],
      "text/plain": [
       "      A     B        C     D\n",
       "0     1     2     30.0     4\n",
       "1    10    20    300.0    44\n",
       "2   100   200   3000.0   444\n",
       "3  1000  2000  30000.0  4444"
      ]
     },
     "execution_count": 560,
     "metadata": {},
     "output_type": "execute_result"
    }
   ],
   "source": [
    "# リストを使って複数列も同時に指定可能。\n",
    "df1.drop([\"AVERAGE\", \"AVERAGE2\"], axis=1) "
   ]
  },
  {
   "cell_type": "code",
   "execution_count": 561,
   "metadata": {
    "collapsed": false,
    "deletable": true,
    "editable": true
   },
   "outputs": [
    {
     "data": {
      "text/html": [
       "<div>\n",
       "<style>\n",
       "    .dataframe thead tr:only-child th {\n",
       "        text-align: right;\n",
       "    }\n",
       "\n",
       "    .dataframe thead th {\n",
       "        text-align: left;\n",
       "    }\n",
       "\n",
       "    .dataframe tbody tr th {\n",
       "        vertical-align: top;\n",
       "    }\n",
       "</style>\n",
       "<table border=\"1\" class=\"dataframe\">\n",
       "  <thead>\n",
       "    <tr style=\"text-align: right;\">\n",
       "      <th></th>\n",
       "      <th>A</th>\n",
       "      <th>B</th>\n",
       "      <th>C</th>\n",
       "    </tr>\n",
       "  </thead>\n",
       "  <tbody>\n",
       "    <tr>\n",
       "      <th>0</th>\n",
       "      <td>1</td>\n",
       "      <td>2</td>\n",
       "      <td>3.0</td>\n",
       "    </tr>\n",
       "    <tr>\n",
       "      <th>1</th>\n",
       "      <td>10</td>\n",
       "      <td>20</td>\n",
       "      <td>30.0</td>\n",
       "    </tr>\n",
       "    <tr>\n",
       "      <th>2</th>\n",
       "      <td>100</td>\n",
       "      <td>200</td>\n",
       "      <td>300.0</td>\n",
       "    </tr>\n",
       "    <tr>\n",
       "      <th>3</th>\n",
       "      <td>1000</td>\n",
       "      <td>2000</td>\n",
       "      <td>3000.0</td>\n",
       "    </tr>\n",
       "  </tbody>\n",
       "</table>\n",
       "</div>"
      ],
      "text/plain": [
       "      A     B       C\n",
       "0     1     2     3.0\n",
       "1    10    20    30.0\n",
       "2   100   200   300.0\n",
       "3  1000  2000  3000.0"
      ]
     },
     "execution_count": 561,
     "metadata": {},
     "output_type": "execute_result"
    }
   ],
   "source": [
    "# del を使っても削除可能 (破壊的変更なので即座に反映される)\n",
    "del df1[\"AVERAGE\"], df1[\"AVERAGE2\"],  df1[\"D\"]\n",
    "df1.C = df1.C / 10  # 元の値に戻しておきます。\n",
    "df1\n",
    "# del df1[[\"AVERAGE\", \"AVERAGE2\", \"D\"]] はエラーになった。"
   ]
  },
  {
   "cell_type": "code",
   "execution_count": null,
   "metadata": {
    "collapsed": false
   },
   "outputs": [],
   "source": [
    "\n"
   ]
  },
  {
   "cell_type": "markdown",
   "metadata": {
    "deletable": true,
    "editable": true
   },
   "source": [
    "## 行の操作"
   ]
  },
  {
   "cell_type": "code",
   "execution_count": 576,
   "metadata": {
    "collapsed": false
   },
   "outputs": [
    {
     "data": {
      "text/html": [
       "<div>\n",
       "<style>\n",
       "    .dataframe thead tr:only-child th {\n",
       "        text-align: right;\n",
       "    }\n",
       "\n",
       "    .dataframe thead th {\n",
       "        text-align: left;\n",
       "    }\n",
       "\n",
       "    .dataframe tbody tr th {\n",
       "        vertical-align: top;\n",
       "    }\n",
       "</style>\n",
       "<table border=\"1\" class=\"dataframe\">\n",
       "  <thead>\n",
       "    <tr style=\"text-align: right;\">\n",
       "      <th></th>\n",
       "      <th>A</th>\n",
       "      <th>B</th>\n",
       "      <th>C</th>\n",
       "    </tr>\n",
       "  </thead>\n",
       "  <tbody>\n",
       "    <tr>\n",
       "      <th>0</th>\n",
       "      <td>1</td>\n",
       "      <td>2</td>\n",
       "      <td>3.0</td>\n",
       "    </tr>\n",
       "    <tr>\n",
       "      <th>1</th>\n",
       "      <td>10</td>\n",
       "      <td>20</td>\n",
       "      <td>30.0</td>\n",
       "    </tr>\n",
       "    <tr>\n",
       "      <th>2</th>\n",
       "      <td>100</td>\n",
       "      <td>200</td>\n",
       "      <td>300.0</td>\n",
       "    </tr>\n",
       "    <tr>\n",
       "      <th>3</th>\n",
       "      <td>1000</td>\n",
       "      <td>2000</td>\n",
       "      <td>3000.0</td>\n",
       "    </tr>\n",
       "  </tbody>\n",
       "</table>\n",
       "</div>"
      ],
      "text/plain": [
       "      A     B       C\n",
       "0     1     2     3.0\n",
       "1    10    20    30.0\n",
       "2   100   200   300.0\n",
       "3  1000  2000  3000.0"
      ]
     },
     "execution_count": 576,
     "metadata": {},
     "output_type": "execute_result"
    }
   ],
   "source": [
    "df1"
   ]
  },
  {
   "cell_type": "markdown",
   "metadata": {
    "deletable": true,
    "editable": true
   },
   "source": [
    "* 行の追加  \n",
    "この方法はややトリッキー。実際には一行ずつ追加する機会は多くないと思われる。  \n",
    "後述の concat で複数のデータフレームを連結する操作の方が多いかも\n"
   ]
  },
  {
   "cell_type": "code",
   "execution_count": 577,
   "metadata": {
    "collapsed": false,
    "deletable": true,
    "editable": true
   },
   "outputs": [
    {
     "data": {
      "text/plain": [
       "A      9\n",
       "B     99\n",
       "C    999\n",
       "dtype: int64"
      ]
     },
     "execution_count": 577,
     "metadata": {},
     "output_type": "execute_result"
    }
   ],
   "source": [
    "# 追加したい行データをあらかじめSeriesとして作成しておく。\n",
    "# このときシリーズのindexには、データフレームの列名（columns）を指定しておく。\n",
    "tmp_S = pd.Series([9,99,999], index=df1.columns)\n",
    "tmp_S"
   ]
  },
  {
   "cell_type": "code",
   "execution_count": 578,
   "metadata": {
    "collapsed": false,
    "deletable": true,
    "editable": true
   },
   "outputs": [],
   "source": [
    "# appendを使って追加する。このとき、新しく列にindexを割り振るので ignore_index=Trueを指定する必要がある\n",
    "df1 = df1.append(tmp_S, ignore_index=True)"
   ]
  },
  {
   "cell_type": "code",
   "execution_count": 579,
   "metadata": {
    "collapsed": false,
    "deletable": true,
    "editable": true
   },
   "outputs": [
    {
     "data": {
      "text/html": [
       "<div>\n",
       "<style>\n",
       "    .dataframe thead tr:only-child th {\n",
       "        text-align: right;\n",
       "    }\n",
       "\n",
       "    .dataframe thead th {\n",
       "        text-align: left;\n",
       "    }\n",
       "\n",
       "    .dataframe tbody tr th {\n",
       "        vertical-align: top;\n",
       "    }\n",
       "</style>\n",
       "<table border=\"1\" class=\"dataframe\">\n",
       "  <thead>\n",
       "    <tr style=\"text-align: right;\">\n",
       "      <th></th>\n",
       "      <th>A</th>\n",
       "      <th>B</th>\n",
       "      <th>C</th>\n",
       "    </tr>\n",
       "  </thead>\n",
       "  <tbody>\n",
       "    <tr>\n",
       "      <th>0</th>\n",
       "      <td>1</td>\n",
       "      <td>2</td>\n",
       "      <td>3.0</td>\n",
       "    </tr>\n",
       "    <tr>\n",
       "      <th>1</th>\n",
       "      <td>10</td>\n",
       "      <td>20</td>\n",
       "      <td>30.0</td>\n",
       "    </tr>\n",
       "    <tr>\n",
       "      <th>2</th>\n",
       "      <td>100</td>\n",
       "      <td>200</td>\n",
       "      <td>300.0</td>\n",
       "    </tr>\n",
       "    <tr>\n",
       "      <th>3</th>\n",
       "      <td>1000</td>\n",
       "      <td>2000</td>\n",
       "      <td>3000.0</td>\n",
       "    </tr>\n",
       "    <tr>\n",
       "      <th>4</th>\n",
       "      <td>9</td>\n",
       "      <td>99</td>\n",
       "      <td>999.0</td>\n",
       "    </tr>\n",
       "  </tbody>\n",
       "</table>\n",
       "</div>"
      ],
      "text/plain": [
       "      A     B       C\n",
       "0     1     2     3.0\n",
       "1    10    20    30.0\n",
       "2   100   200   300.0\n",
       "3  1000  2000  3000.0\n",
       "4     9    99   999.0"
      ]
     },
     "execution_count": 579,
     "metadata": {},
     "output_type": "execute_result"
    }
   ],
   "source": [
    "df1"
   ]
  },
  {
   "cell_type": "markdown",
   "metadata": {
    "deletable": true,
    "editable": true
   },
   "source": [
    "* 行の編集  \n",
    "locまたはilocを使って行を指定して、新しい値を指定する"
   ]
  },
  {
   "cell_type": "code",
   "execution_count": 580,
   "metadata": {
    "collapsed": false,
    "deletable": true,
    "editable": true
   },
   "outputs": [],
   "source": [
    "df1.iloc[4] = df1.iloc[4]*10"
   ]
  },
  {
   "cell_type": "code",
   "execution_count": 581,
   "metadata": {
    "collapsed": false,
    "deletable": true,
    "editable": true
   },
   "outputs": [
    {
     "data": {
      "text/html": [
       "<div>\n",
       "<style>\n",
       "    .dataframe thead tr:only-child th {\n",
       "        text-align: right;\n",
       "    }\n",
       "\n",
       "    .dataframe thead th {\n",
       "        text-align: left;\n",
       "    }\n",
       "\n",
       "    .dataframe tbody tr th {\n",
       "        vertical-align: top;\n",
       "    }\n",
       "</style>\n",
       "<table border=\"1\" class=\"dataframe\">\n",
       "  <thead>\n",
       "    <tr style=\"text-align: right;\">\n",
       "      <th></th>\n",
       "      <th>A</th>\n",
       "      <th>B</th>\n",
       "      <th>C</th>\n",
       "    </tr>\n",
       "  </thead>\n",
       "  <tbody>\n",
       "    <tr>\n",
       "      <th>0</th>\n",
       "      <td>1.0</td>\n",
       "      <td>2.0</td>\n",
       "      <td>3.0</td>\n",
       "    </tr>\n",
       "    <tr>\n",
       "      <th>1</th>\n",
       "      <td>10.0</td>\n",
       "      <td>20.0</td>\n",
       "      <td>30.0</td>\n",
       "    </tr>\n",
       "    <tr>\n",
       "      <th>2</th>\n",
       "      <td>100.0</td>\n",
       "      <td>200.0</td>\n",
       "      <td>300.0</td>\n",
       "    </tr>\n",
       "    <tr>\n",
       "      <th>3</th>\n",
       "      <td>1000.0</td>\n",
       "      <td>2000.0</td>\n",
       "      <td>3000.0</td>\n",
       "    </tr>\n",
       "    <tr>\n",
       "      <th>4</th>\n",
       "      <td>90.0</td>\n",
       "      <td>990.0</td>\n",
       "      <td>9990.0</td>\n",
       "    </tr>\n",
       "  </tbody>\n",
       "</table>\n",
       "</div>"
      ],
      "text/plain": [
       "        A       B       C\n",
       "0     1.0     2.0     3.0\n",
       "1    10.0    20.0    30.0\n",
       "2   100.0   200.0   300.0\n",
       "3  1000.0  2000.0  3000.0\n",
       "4    90.0   990.0  9990.0"
      ]
     },
     "execution_count": 581,
     "metadata": {},
     "output_type": "execute_result"
    }
   ],
   "source": [
    "# 10倍の値になっている\n",
    "df1"
   ]
  },
  {
   "cell_type": "code",
   "execution_count": 582,
   "metadata": {
    "collapsed": true,
    "deletable": true,
    "editable": true
   },
   "outputs": [],
   "source": [
    "# 元にもどす\n",
    "# ここではlocを使っているので []の中身はindex。ただし、この例ではindex=行番号なのでilocを使うのと全く同じ\n",
    "df1.loc[4] = df1.loc[4] / 10  "
   ]
  },
  {
   "cell_type": "code",
   "execution_count": 583,
   "metadata": {
    "collapsed": false,
    "deletable": true,
    "editable": true
   },
   "outputs": [
    {
     "data": {
      "text/html": [
       "<div>\n",
       "<style>\n",
       "    .dataframe thead tr:only-child th {\n",
       "        text-align: right;\n",
       "    }\n",
       "\n",
       "    .dataframe thead th {\n",
       "        text-align: left;\n",
       "    }\n",
       "\n",
       "    .dataframe tbody tr th {\n",
       "        vertical-align: top;\n",
       "    }\n",
       "</style>\n",
       "<table border=\"1\" class=\"dataframe\">\n",
       "  <thead>\n",
       "    <tr style=\"text-align: right;\">\n",
       "      <th></th>\n",
       "      <th>A</th>\n",
       "      <th>B</th>\n",
       "      <th>C</th>\n",
       "    </tr>\n",
       "  </thead>\n",
       "  <tbody>\n",
       "    <tr>\n",
       "      <th>0</th>\n",
       "      <td>1.0</td>\n",
       "      <td>2.0</td>\n",
       "      <td>3.0</td>\n",
       "    </tr>\n",
       "    <tr>\n",
       "      <th>1</th>\n",
       "      <td>10.0</td>\n",
       "      <td>20.0</td>\n",
       "      <td>30.0</td>\n",
       "    </tr>\n",
       "    <tr>\n",
       "      <th>2</th>\n",
       "      <td>100.0</td>\n",
       "      <td>200.0</td>\n",
       "      <td>300.0</td>\n",
       "    </tr>\n",
       "    <tr>\n",
       "      <th>3</th>\n",
       "      <td>1000.0</td>\n",
       "      <td>2000.0</td>\n",
       "      <td>3000.0</td>\n",
       "    </tr>\n",
       "    <tr>\n",
       "      <th>4</th>\n",
       "      <td>9.0</td>\n",
       "      <td>99.0</td>\n",
       "      <td>999.0</td>\n",
       "    </tr>\n",
       "  </tbody>\n",
       "</table>\n",
       "</div>"
      ],
      "text/plain": [
       "        A       B       C\n",
       "0     1.0     2.0     3.0\n",
       "1    10.0    20.0    30.0\n",
       "2   100.0   200.0   300.0\n",
       "3  1000.0  2000.0  3000.0\n",
       "4     9.0    99.0   999.0"
      ]
     },
     "execution_count": 583,
     "metadata": {},
     "output_type": "execute_result"
    }
   ],
   "source": [
    "df1"
   ]
  },
  {
   "cell_type": "code",
   "execution_count": 584,
   "metadata": {
    "collapsed": false,
    "deletable": true,
    "editable": true
   },
   "outputs": [
    {
     "data": {
      "text/html": [
       "<div>\n",
       "<style>\n",
       "    .dataframe thead tr:only-child th {\n",
       "        text-align: right;\n",
       "    }\n",
       "\n",
       "    .dataframe thead th {\n",
       "        text-align: left;\n",
       "    }\n",
       "\n",
       "    .dataframe tbody tr th {\n",
       "        vertical-align: top;\n",
       "    }\n",
       "</style>\n",
       "<table border=\"1\" class=\"dataframe\">\n",
       "  <thead>\n",
       "    <tr style=\"text-align: right;\">\n",
       "      <th></th>\n",
       "      <th>A</th>\n",
       "      <th>B</th>\n",
       "      <th>C</th>\n",
       "    </tr>\n",
       "  </thead>\n",
       "  <tbody>\n",
       "    <tr>\n",
       "      <th>0</th>\n",
       "      <td>0.0</td>\n",
       "      <td>2.0</td>\n",
       "      <td>3.0</td>\n",
       "    </tr>\n",
       "    <tr>\n",
       "      <th>1</th>\n",
       "      <td>10.0</td>\n",
       "      <td>20.0</td>\n",
       "      <td>30.0</td>\n",
       "    </tr>\n",
       "    <tr>\n",
       "      <th>2</th>\n",
       "      <td>100.0</td>\n",
       "      <td>200.0</td>\n",
       "      <td>300.0</td>\n",
       "    </tr>\n",
       "    <tr>\n",
       "      <th>3</th>\n",
       "      <td>1000.0</td>\n",
       "      <td>2000.0</td>\n",
       "      <td>3000.0</td>\n",
       "    </tr>\n",
       "    <tr>\n",
       "      <th>4</th>\n",
       "      <td>9.0</td>\n",
       "      <td>99.0</td>\n",
       "      <td>999.0</td>\n",
       "    </tr>\n",
       "  </tbody>\n",
       "</table>\n",
       "</div>"
      ],
      "text/plain": [
       "        A       B       C\n",
       "0     0.0     2.0     3.0\n",
       "1    10.0    20.0    30.0\n",
       "2   100.0   200.0   300.0\n",
       "3  1000.0  2000.0  3000.0\n",
       "4     9.0    99.0   999.0"
      ]
     },
     "execution_count": 584,
     "metadata": {},
     "output_type": "execute_result"
    }
   ],
   "source": [
    "# 要素の値を指定することももちろん可能\n",
    "df1.loc[0, \"A\"] = 0\n",
    "df1"
   ]
  },
  {
   "cell_type": "markdown",
   "metadata": {
    "deletable": true,
    "editable": true
   },
   "source": [
    "* 行の削除"
   ]
  },
  {
   "cell_type": "code",
   "execution_count": 585,
   "metadata": {
    "collapsed": false,
    "deletable": true,
    "editable": true
   },
   "outputs": [
    {
     "data": {
      "text/html": [
       "<div>\n",
       "<style>\n",
       "    .dataframe thead tr:only-child th {\n",
       "        text-align: right;\n",
       "    }\n",
       "\n",
       "    .dataframe thead th {\n",
       "        text-align: left;\n",
       "    }\n",
       "\n",
       "    .dataframe tbody tr th {\n",
       "        vertical-align: top;\n",
       "    }\n",
       "</style>\n",
       "<table border=\"1\" class=\"dataframe\">\n",
       "  <thead>\n",
       "    <tr style=\"text-align: right;\">\n",
       "      <th></th>\n",
       "      <th>A</th>\n",
       "      <th>B</th>\n",
       "      <th>C</th>\n",
       "    </tr>\n",
       "  </thead>\n",
       "  <tbody>\n",
       "    <tr>\n",
       "      <th>0</th>\n",
       "      <td>0.0</td>\n",
       "      <td>2.0</td>\n",
       "      <td>3.0</td>\n",
       "    </tr>\n",
       "    <tr>\n",
       "      <th>1</th>\n",
       "      <td>10.0</td>\n",
       "      <td>20.0</td>\n",
       "      <td>30.0</td>\n",
       "    </tr>\n",
       "    <tr>\n",
       "      <th>2</th>\n",
       "      <td>100.0</td>\n",
       "      <td>200.0</td>\n",
       "      <td>300.0</td>\n",
       "    </tr>\n",
       "    <tr>\n",
       "      <th>3</th>\n",
       "      <td>1000.0</td>\n",
       "      <td>2000.0</td>\n",
       "      <td>3000.0</td>\n",
       "    </tr>\n",
       "  </tbody>\n",
       "</table>\n",
       "</div>"
      ],
      "text/plain": [
       "        A       B       C\n",
       "0     0.0     2.0     3.0\n",
       "1    10.0    20.0    30.0\n",
       "2   100.0   200.0   300.0\n",
       "3  1000.0  2000.0  3000.0"
      ]
     },
     "execution_count": 585,
     "metadata": {},
     "output_type": "execute_result"
    }
   ],
   "source": [
    "# dropを使用する\n",
    "df1 = df1.drop(4)\n",
    "df1"
   ]
  },
  {
   "cell_type": "code",
   "execution_count": null,
   "metadata": {
    "collapsed": true
   },
   "outputs": [],
   "source": []
  },
  {
   "cell_type": "markdown",
   "metadata": {
    "deletable": true,
    "editable": true
   },
   "source": [
    "# 欠損値・重複の扱い"
   ]
  },
  {
   "cell_type": "code",
   "execution_count": 611,
   "metadata": {
    "collapsed": false
   },
   "outputs": [
    {
     "data": {
      "text/html": [
       "<div>\n",
       "<style>\n",
       "    .dataframe thead tr:only-child th {\n",
       "        text-align: right;\n",
       "    }\n",
       "\n",
       "    .dataframe thead th {\n",
       "        text-align: left;\n",
       "    }\n",
       "\n",
       "    .dataframe tbody tr th {\n",
       "        vertical-align: top;\n",
       "    }\n",
       "</style>\n",
       "<table border=\"1\" class=\"dataframe\">\n",
       "  <thead>\n",
       "    <tr style=\"text-align: right;\">\n",
       "      <th></th>\n",
       "      <th>A</th>\n",
       "      <th>B</th>\n",
       "      <th>C</th>\n",
       "      <th>D</th>\n",
       "      <th>E</th>\n",
       "      <th>F</th>\n",
       "      <th>G</th>\n",
       "    </tr>\n",
       "    <tr>\n",
       "      <th>data_idx</th>\n",
       "      <th></th>\n",
       "      <th></th>\n",
       "      <th></th>\n",
       "      <th></th>\n",
       "      <th></th>\n",
       "      <th></th>\n",
       "      <th></th>\n",
       "    </tr>\n",
       "  </thead>\n",
       "  <tbody>\n",
       "    <tr>\n",
       "      <th>data_1</th>\n",
       "      <td>58</td>\n",
       "      <td>-27</td>\n",
       "      <td>31.0</td>\n",
       "      <td>0.6028</td>\n",
       "      <td>73.922054</td>\n",
       "      <td>0.0179</td>\n",
       "      <td>-0.0102</td>\n",
       "    </tr>\n",
       "    <tr>\n",
       "      <th>data_10</th>\n",
       "      <td>109</td>\n",
       "      <td>-53</td>\n",
       "      <td>56.0</td>\n",
       "      <td>0.5000</td>\n",
       "      <td>575.585790</td>\n",
       "      <td>0.0346</td>\n",
       "      <td>0.0000</td>\n",
       "    </tr>\n",
       "    <tr>\n",
       "      <th>data_11</th>\n",
       "      <td>77</td>\n",
       "      <td>-44</td>\n",
       "      <td>33.0</td>\n",
       "      <td>0.6281</td>\n",
       "      <td>144.838806</td>\n",
       "      <td>0.0343</td>\n",
       "      <td>-0.0411</td>\n",
       "    </tr>\n",
       "    <tr>\n",
       "      <th>data_12</th>\n",
       "      <td>181</td>\n",
       "      <td>126</td>\n",
       "      <td>55.0</td>\n",
       "      <td>0.5000</td>\n",
       "      <td>NaN</td>\n",
       "      <td>0.0551</td>\n",
       "      <td>0.0000</td>\n",
       "    </tr>\n",
       "    <tr>\n",
       "      <th>data_13</th>\n",
       "      <td>91</td>\n",
       "      <td>-46</td>\n",
       "      <td>45.0</td>\n",
       "      <td>0.5220</td>\n",
       "      <td>896.439718</td>\n",
       "      <td>0.0044</td>\n",
       "      <td>-0.0082</td>\n",
       "    </tr>\n",
       "  </tbody>\n",
       "</table>\n",
       "</div>"
      ],
      "text/plain": [
       "            A    B     C       D           E       F       G\n",
       "data_idx                                                    \n",
       "data_1     58  -27  31.0  0.6028   73.922054  0.0179 -0.0102\n",
       "data_10   109  -53  56.0  0.5000  575.585790  0.0346  0.0000\n",
       "data_11    77  -44  33.0  0.6281  144.838806  0.0343 -0.0411\n",
       "data_12   181  126  55.0  0.5000         NaN  0.0551  0.0000\n",
       "data_13    91  -46  45.0  0.5220  896.439718  0.0044 -0.0082"
      ]
     },
     "execution_count": 611,
     "metadata": {},
     "output_type": "execute_result"
    }
   ],
   "source": [
    "df3.head()"
   ]
  },
  {
   "cell_type": "code",
   "execution_count": 597,
   "metadata": {
    "collapsed": false,
    "deletable": true,
    "editable": true,
    "scrolled": true
   },
   "outputs": [
    {
     "data": {
      "text/plain": [
       "(30, 7)"
      ]
     },
     "execution_count": 597,
     "metadata": {},
     "output_type": "execute_result"
    }
   ],
   "source": [
    "df3.shape  # 30行×7列のデータ"
   ]
  },
  {
   "cell_type": "markdown",
   "metadata": {},
   "source": [
    "* 欠損値の削除"
   ]
  },
  {
   "cell_type": "code",
   "execution_count": 612,
   "metadata": {
    "collapsed": false
   },
   "outputs": [
    {
     "data": {
      "text/html": [
       "<div>\n",
       "<style>\n",
       "    .dataframe thead tr:only-child th {\n",
       "        text-align: right;\n",
       "    }\n",
       "\n",
       "    .dataframe thead th {\n",
       "        text-align: left;\n",
       "    }\n",
       "\n",
       "    .dataframe tbody tr th {\n",
       "        vertical-align: top;\n",
       "    }\n",
       "</style>\n",
       "<table border=\"1\" class=\"dataframe\">\n",
       "  <thead>\n",
       "    <tr style=\"text-align: right;\">\n",
       "      <th></th>\n",
       "      <th>A</th>\n",
       "      <th>B</th>\n",
       "      <th>C</th>\n",
       "      <th>D</th>\n",
       "      <th>E</th>\n",
       "      <th>F</th>\n",
       "      <th>G</th>\n",
       "    </tr>\n",
       "    <tr>\n",
       "      <th>data_idx</th>\n",
       "      <th></th>\n",
       "      <th></th>\n",
       "      <th></th>\n",
       "      <th></th>\n",
       "      <th></th>\n",
       "      <th></th>\n",
       "      <th></th>\n",
       "    </tr>\n",
       "  </thead>\n",
       "  <tbody>\n",
       "    <tr>\n",
       "      <th>data_1</th>\n",
       "      <td>58</td>\n",
       "      <td>-27</td>\n",
       "      <td>31.0</td>\n",
       "      <td>0.6028</td>\n",
       "      <td>73.922054</td>\n",
       "      <td>0.0179</td>\n",
       "      <td>-0.0102</td>\n",
       "    </tr>\n",
       "    <tr>\n",
       "      <th>data_10</th>\n",
       "      <td>109</td>\n",
       "      <td>-53</td>\n",
       "      <td>56.0</td>\n",
       "      <td>0.5000</td>\n",
       "      <td>575.585790</td>\n",
       "      <td>0.0346</td>\n",
       "      <td>0.0000</td>\n",
       "    </tr>\n",
       "    <tr>\n",
       "      <th>data_11</th>\n",
       "      <td>77</td>\n",
       "      <td>-44</td>\n",
       "      <td>33.0</td>\n",
       "      <td>0.6281</td>\n",
       "      <td>144.838806</td>\n",
       "      <td>0.0343</td>\n",
       "      <td>-0.0411</td>\n",
       "    </tr>\n",
       "    <tr>\n",
       "      <th>data_13</th>\n",
       "      <td>91</td>\n",
       "      <td>-46</td>\n",
       "      <td>45.0</td>\n",
       "      <td>0.5220</td>\n",
       "      <td>896.439718</td>\n",
       "      <td>0.0044</td>\n",
       "      <td>-0.0082</td>\n",
       "    </tr>\n",
       "    <tr>\n",
       "      <th>data_14</th>\n",
       "      <td>133</td>\n",
       "      <td>-70</td>\n",
       "      <td>63.0</td>\n",
       "      <td>0.5000</td>\n",
       "      <td>374.867722</td>\n",
       "      <td>0.0420</td>\n",
       "      <td>0.0000</td>\n",
       "    </tr>\n",
       "  </tbody>\n",
       "</table>\n",
       "</div>"
      ],
      "text/plain": [
       "            A   B     C       D           E       F       G\n",
       "data_idx                                                   \n",
       "data_1     58 -27  31.0  0.6028   73.922054  0.0179 -0.0102\n",
       "data_10   109 -53  56.0  0.5000  575.585790  0.0346  0.0000\n",
       "data_11    77 -44  33.0  0.6281  144.838806  0.0343 -0.0411\n",
       "data_13    91 -46  45.0  0.5220  896.439718  0.0044 -0.0082\n",
       "data_14   133 -70  63.0  0.5000  374.867722  0.0420  0.0000"
      ]
     },
     "execution_count": 612,
     "metadata": {},
     "output_type": "execute_result"
    }
   ],
   "source": [
    "# 欠損値を含む行を削除\n",
    "df3.dropna().head()\n",
    "# 非破壊的変更なので実際に削除するには df3 = df3.dropna()とするか、\n",
    "# df3.dropna(inplace=True)とする必要があります。"
   ]
  },
  {
   "cell_type": "code",
   "execution_count": 613,
   "metadata": {
    "collapsed": false
   },
   "outputs": [
    {
     "data": {
      "text/plain": [
       "(26, 7)"
      ]
     },
     "execution_count": 613,
     "metadata": {},
     "output_type": "execute_result"
    }
   ],
   "source": [
    "df3.dropna().shape  # 26行×7列なので4行削除されたことがわかる"
   ]
  },
  {
   "cell_type": "markdown",
   "metadata": {},
   "source": [
    "デフォルトでは欠損値を含む行が削除されます(axis=0)。欠損値を含む列を削除するにはaxis=1を指定します。  \n",
    "その他に、特定の行に欠損値が含まれている場合を削除対象にするオプション(subset)や、欠損値の数の閾値を指定するオプション(thresh)などもあります。"
   ]
  },
  {
   "cell_type": "markdown",
   "metadata": {},
   "source": [
    "* 欠損値の補完"
   ]
  },
  {
   "cell_type": "code",
   "execution_count": 623,
   "metadata": {
    "collapsed": false,
    "deletable": true,
    "editable": true
   },
   "outputs": [
    {
     "data": {
      "text/html": [
       "<div>\n",
       "<style>\n",
       "    .dataframe thead tr:only-child th {\n",
       "        text-align: right;\n",
       "    }\n",
       "\n",
       "    .dataframe thead th {\n",
       "        text-align: left;\n",
       "    }\n",
       "\n",
       "    .dataframe tbody tr th {\n",
       "        vertical-align: top;\n",
       "    }\n",
       "</style>\n",
       "<table border=\"1\" class=\"dataframe\">\n",
       "  <thead>\n",
       "    <tr style=\"text-align: right;\">\n",
       "      <th></th>\n",
       "      <th>A</th>\n",
       "      <th>B</th>\n",
       "      <th>C</th>\n",
       "      <th>D</th>\n",
       "      <th>E</th>\n",
       "      <th>F</th>\n",
       "      <th>G</th>\n",
       "    </tr>\n",
       "    <tr>\n",
       "      <th>data_idx</th>\n",
       "      <th></th>\n",
       "      <th></th>\n",
       "      <th></th>\n",
       "      <th></th>\n",
       "      <th></th>\n",
       "      <th></th>\n",
       "      <th></th>\n",
       "    </tr>\n",
       "  </thead>\n",
       "  <tbody>\n",
       "    <tr>\n",
       "      <th>data_1</th>\n",
       "      <td>58</td>\n",
       "      <td>-27</td>\n",
       "      <td>31.0</td>\n",
       "      <td>0.6028</td>\n",
       "      <td>73.922054</td>\n",
       "      <td>0.0179</td>\n",
       "      <td>-0.0102</td>\n",
       "    </tr>\n",
       "    <tr>\n",
       "      <th>data_10</th>\n",
       "      <td>109</td>\n",
       "      <td>-53</td>\n",
       "      <td>56.0</td>\n",
       "      <td>0.5000</td>\n",
       "      <td>575.585790</td>\n",
       "      <td>0.0346</td>\n",
       "      <td>0.0000</td>\n",
       "    </tr>\n",
       "    <tr>\n",
       "      <th>data_11</th>\n",
       "      <td>77</td>\n",
       "      <td>-44</td>\n",
       "      <td>33.0</td>\n",
       "      <td>0.6281</td>\n",
       "      <td>144.838806</td>\n",
       "      <td>0.0343</td>\n",
       "      <td>-0.0411</td>\n",
       "    </tr>\n",
       "    <tr>\n",
       "      <th>data_12</th>\n",
       "      <td>181</td>\n",
       "      <td>126</td>\n",
       "      <td>55.0</td>\n",
       "      <td>0.5000</td>\n",
       "      <td>0.000000</td>\n",
       "      <td>0.0551</td>\n",
       "      <td>0.0000</td>\n",
       "    </tr>\n",
       "    <tr>\n",
       "      <th>data_13</th>\n",
       "      <td>91</td>\n",
       "      <td>-46</td>\n",
       "      <td>45.0</td>\n",
       "      <td>0.5220</td>\n",
       "      <td>896.439718</td>\n",
       "      <td>0.0044</td>\n",
       "      <td>-0.0082</td>\n",
       "    </tr>\n",
       "  </tbody>\n",
       "</table>\n",
       "</div>"
      ],
      "text/plain": [
       "            A    B     C       D           E       F       G\n",
       "data_idx                                                    \n",
       "data_1     58  -27  31.0  0.6028   73.922054  0.0179 -0.0102\n",
       "data_10   109  -53  56.0  0.5000  575.585790  0.0346  0.0000\n",
       "data_11    77  -44  33.0  0.6281  144.838806  0.0343 -0.0411\n",
       "data_12   181  126  55.0  0.5000    0.000000  0.0551  0.0000\n",
       "data_13    91  -46  45.0  0.5220  896.439718  0.0044 -0.0082"
      ]
     },
     "execution_count": 623,
     "metadata": {},
     "output_type": "execute_result"
    }
   ],
   "source": [
    "# 欠損値を0で補完する\n",
    "df3.fillna(0).head()"
   ]
  },
  {
   "cell_type": "code",
   "execution_count": 634,
   "metadata": {
    "collapsed": false
   },
   "outputs": [
    {
     "data": {
      "text/html": [
       "<div>\n",
       "<style>\n",
       "    .dataframe thead tr:only-child th {\n",
       "        text-align: right;\n",
       "    }\n",
       "\n",
       "    .dataframe thead th {\n",
       "        text-align: left;\n",
       "    }\n",
       "\n",
       "    .dataframe tbody tr th {\n",
       "        vertical-align: top;\n",
       "    }\n",
       "</style>\n",
       "<table border=\"1\" class=\"dataframe\">\n",
       "  <thead>\n",
       "    <tr style=\"text-align: right;\">\n",
       "      <th></th>\n",
       "      <th>A</th>\n",
       "      <th>B</th>\n",
       "      <th>C</th>\n",
       "      <th>D</th>\n",
       "      <th>E</th>\n",
       "      <th>F</th>\n",
       "      <th>G</th>\n",
       "    </tr>\n",
       "    <tr>\n",
       "      <th>data_idx</th>\n",
       "      <th></th>\n",
       "      <th></th>\n",
       "      <th></th>\n",
       "      <th></th>\n",
       "      <th></th>\n",
       "      <th></th>\n",
       "      <th></th>\n",
       "    </tr>\n",
       "  </thead>\n",
       "  <tbody>\n",
       "    <tr>\n",
       "      <th>data_1</th>\n",
       "      <td>58</td>\n",
       "      <td>-27</td>\n",
       "      <td>31.0</td>\n",
       "      <td>0.6028</td>\n",
       "      <td>73.922054</td>\n",
       "      <td>0.0179</td>\n",
       "      <td>-0.0102</td>\n",
       "    </tr>\n",
       "    <tr>\n",
       "      <th>data_10</th>\n",
       "      <td>109</td>\n",
       "      <td>-53</td>\n",
       "      <td>56.0</td>\n",
       "      <td>0.5000</td>\n",
       "      <td>575.585790</td>\n",
       "      <td>0.0346</td>\n",
       "      <td>0.0000</td>\n",
       "    </tr>\n",
       "    <tr>\n",
       "      <th>data_11</th>\n",
       "      <td>77</td>\n",
       "      <td>-44</td>\n",
       "      <td>33.0</td>\n",
       "      <td>0.6281</td>\n",
       "      <td>144.838806</td>\n",
       "      <td>0.0343</td>\n",
       "      <td>-0.0411</td>\n",
       "    </tr>\n",
       "    <tr>\n",
       "      <th>data_12</th>\n",
       "      <td>181</td>\n",
       "      <td>126</td>\n",
       "      <td>55.0</td>\n",
       "      <td>0.5000</td>\n",
       "      <td>1.000000</td>\n",
       "      <td>0.0551</td>\n",
       "      <td>0.0000</td>\n",
       "    </tr>\n",
       "    <tr>\n",
       "      <th>data_13</th>\n",
       "      <td>91</td>\n",
       "      <td>-46</td>\n",
       "      <td>45.0</td>\n",
       "      <td>0.5220</td>\n",
       "      <td>896.439718</td>\n",
       "      <td>0.0044</td>\n",
       "      <td>-0.0082</td>\n",
       "    </tr>\n",
       "  </tbody>\n",
       "</table>\n",
       "</div>"
      ],
      "text/plain": [
       "            A    B     C       D           E       F       G\n",
       "data_idx                                                    \n",
       "data_1     58  -27  31.0  0.6028   73.922054  0.0179 -0.0102\n",
       "data_10   109  -53  56.0  0.5000  575.585790  0.0346  0.0000\n",
       "data_11    77  -44  33.0  0.6281  144.838806  0.0343 -0.0411\n",
       "data_12   181  126  55.0  0.5000    1.000000  0.0551  0.0000\n",
       "data_13    91  -46  45.0  0.5220  896.439718  0.0044 -0.0082"
      ]
     },
     "execution_count": 634,
     "metadata": {},
     "output_type": "execute_result"
    }
   ],
   "source": [
    "# 引数に辞書やシリーズを指定することで、各行ごとに異なる値を指定することもできます。\n",
    "D = {\"C\": 0, \"E\": 1}  # C列は0、E列は1\n",
    "df3.fillna(D).head()"
   ]
  },
  {
   "cell_type": "code",
   "execution_count": 637,
   "metadata": {
    "collapsed": false
   },
   "outputs": [
    {
     "data": {
      "text/html": [
       "<div>\n",
       "<style>\n",
       "    .dataframe thead tr:only-child th {\n",
       "        text-align: right;\n",
       "    }\n",
       "\n",
       "    .dataframe thead th {\n",
       "        text-align: left;\n",
       "    }\n",
       "\n",
       "    .dataframe tbody tr th {\n",
       "        vertical-align: top;\n",
       "    }\n",
       "</style>\n",
       "<table border=\"1\" class=\"dataframe\">\n",
       "  <thead>\n",
       "    <tr style=\"text-align: right;\">\n",
       "      <th></th>\n",
       "      <th>A</th>\n",
       "      <th>B</th>\n",
       "      <th>C</th>\n",
       "      <th>D</th>\n",
       "      <th>E</th>\n",
       "      <th>F</th>\n",
       "      <th>G</th>\n",
       "    </tr>\n",
       "    <tr>\n",
       "      <th>data_idx</th>\n",
       "      <th></th>\n",
       "      <th></th>\n",
       "      <th></th>\n",
       "      <th></th>\n",
       "      <th></th>\n",
       "      <th></th>\n",
       "      <th></th>\n",
       "    </tr>\n",
       "  </thead>\n",
       "  <tbody>\n",
       "    <tr>\n",
       "      <th>data_1</th>\n",
       "      <td>58</td>\n",
       "      <td>-27</td>\n",
       "      <td>31.0</td>\n",
       "      <td>0.6028</td>\n",
       "      <td>73.922054</td>\n",
       "      <td>0.0179</td>\n",
       "      <td>-0.0102</td>\n",
       "    </tr>\n",
       "    <tr>\n",
       "      <th>data_10</th>\n",
       "      <td>109</td>\n",
       "      <td>-53</td>\n",
       "      <td>56.0</td>\n",
       "      <td>0.5000</td>\n",
       "      <td>575.585790</td>\n",
       "      <td>0.0346</td>\n",
       "      <td>0.0000</td>\n",
       "    </tr>\n",
       "    <tr>\n",
       "      <th>data_11</th>\n",
       "      <td>77</td>\n",
       "      <td>-44</td>\n",
       "      <td>33.0</td>\n",
       "      <td>0.6281</td>\n",
       "      <td>144.838806</td>\n",
       "      <td>0.0343</td>\n",
       "      <td>-0.0411</td>\n",
       "    </tr>\n",
       "    <tr>\n",
       "      <th>data_12</th>\n",
       "      <td>181</td>\n",
       "      <td>126</td>\n",
       "      <td>55.0</td>\n",
       "      <td>0.5000</td>\n",
       "      <td>314.394296</td>\n",
       "      <td>0.0551</td>\n",
       "      <td>0.0000</td>\n",
       "    </tr>\n",
       "    <tr>\n",
       "      <th>data_13</th>\n",
       "      <td>91</td>\n",
       "      <td>-46</td>\n",
       "      <td>45.0</td>\n",
       "      <td>0.5220</td>\n",
       "      <td>896.439718</td>\n",
       "      <td>0.0044</td>\n",
       "      <td>-0.0082</td>\n",
       "    </tr>\n",
       "  </tbody>\n",
       "</table>\n",
       "</div>"
      ],
      "text/plain": [
       "            A    B     C       D           E       F       G\n",
       "data_idx                                                    \n",
       "data_1     58  -27  31.0  0.6028   73.922054  0.0179 -0.0102\n",
       "data_10   109  -53  56.0  0.5000  575.585790  0.0346  0.0000\n",
       "data_11    77  -44  33.0  0.6281  144.838806  0.0343 -0.0411\n",
       "data_12   181  126  55.0  0.5000  314.394296  0.0551  0.0000\n",
       "data_13    91  -46  45.0  0.5220  896.439718  0.0044 -0.0082"
      ]
     },
     "execution_count": 637,
     "metadata": {},
     "output_type": "execute_result"
    }
   ],
   "source": [
    "# ↑の方法を応用して、各列の平均で埋めることも可能です。\n",
    "df3.fillna(df3.mean()).head()"
   ]
  },
  {
   "cell_type": "markdown",
   "metadata": {},
   "source": [
    "* 前後の値による補完  \n",
    "interpolateを使います。詳細は割愛します。"
   ]
  },
  {
   "cell_type": "code",
   "execution_count": 655,
   "metadata": {
    "collapsed": false
   },
   "outputs": [
    {
     "data": {
      "text/html": [
       "<div>\n",
       "<style>\n",
       "    .dataframe thead tr:only-child th {\n",
       "        text-align: right;\n",
       "    }\n",
       "\n",
       "    .dataframe thead th {\n",
       "        text-align: left;\n",
       "    }\n",
       "\n",
       "    .dataframe tbody tr th {\n",
       "        vertical-align: top;\n",
       "    }\n",
       "</style>\n",
       "<table border=\"1\" class=\"dataframe\">\n",
       "  <thead>\n",
       "    <tr style=\"text-align: right;\">\n",
       "      <th></th>\n",
       "      <th>A</th>\n",
       "      <th>B</th>\n",
       "      <th>C</th>\n",
       "      <th>D</th>\n",
       "      <th>E</th>\n",
       "      <th>F</th>\n",
       "      <th>G</th>\n",
       "    </tr>\n",
       "    <tr>\n",
       "      <th>data_idx</th>\n",
       "      <th></th>\n",
       "      <th></th>\n",
       "      <th></th>\n",
       "      <th></th>\n",
       "      <th></th>\n",
       "      <th></th>\n",
       "      <th></th>\n",
       "    </tr>\n",
       "  </thead>\n",
       "  <tbody>\n",
       "    <tr>\n",
       "      <th>data_1</th>\n",
       "      <td>58</td>\n",
       "      <td>-27</td>\n",
       "      <td>31.0</td>\n",
       "      <td>0.6028</td>\n",
       "      <td>73.922054</td>\n",
       "      <td>0.0179</td>\n",
       "      <td>-0.0102</td>\n",
       "    </tr>\n",
       "    <tr>\n",
       "      <th>data_10</th>\n",
       "      <td>109</td>\n",
       "      <td>-53</td>\n",
       "      <td>56.0</td>\n",
       "      <td>0.5000</td>\n",
       "      <td>575.585790</td>\n",
       "      <td>0.0346</td>\n",
       "      <td>0.0000</td>\n",
       "    </tr>\n",
       "    <tr>\n",
       "      <th>data_11</th>\n",
       "      <td>77</td>\n",
       "      <td>-44</td>\n",
       "      <td>33.0</td>\n",
       "      <td>0.6281</td>\n",
       "      <td>144.838806</td>\n",
       "      <td>0.0343</td>\n",
       "      <td>-0.0411</td>\n",
       "    </tr>\n",
       "    <tr>\n",
       "      <th>data_12</th>\n",
       "      <td>181</td>\n",
       "      <td>126</td>\n",
       "      <td>55.0</td>\n",
       "      <td>0.5000</td>\n",
       "      <td>520.639262</td>\n",
       "      <td>0.0551</td>\n",
       "      <td>0.0000</td>\n",
       "    </tr>\n",
       "    <tr>\n",
       "      <th>data_13</th>\n",
       "      <td>91</td>\n",
       "      <td>-46</td>\n",
       "      <td>45.0</td>\n",
       "      <td>0.5220</td>\n",
       "      <td>896.439718</td>\n",
       "      <td>0.0044</td>\n",
       "      <td>-0.0082</td>\n",
       "    </tr>\n",
       "  </tbody>\n",
       "</table>\n",
       "</div>"
      ],
      "text/plain": [
       "            A    B     C       D           E       F       G\n",
       "data_idx                                                    \n",
       "data_1     58  -27  31.0  0.6028   73.922054  0.0179 -0.0102\n",
       "data_10   109  -53  56.0  0.5000  575.585790  0.0346  0.0000\n",
       "data_11    77  -44  33.0  0.6281  144.838806  0.0343 -0.0411\n",
       "data_12   181  126  55.0  0.5000  520.639262  0.0551  0.0000\n",
       "data_13    91  -46  45.0  0.5220  896.439718  0.0044 -0.0082"
      ]
     },
     "execution_count": 655,
     "metadata": {},
     "output_type": "execute_result"
    }
   ],
   "source": [
    "df3.interpolate().head()"
   ]
  },
  {
   "cell_type": "markdown",
   "metadata": {},
   "source": [
    "* 重複の除去"
   ]
  },
  {
   "cell_type": "markdown",
   "metadata": {},
   "source": [
    "drop_duplicatesを使用します。デフォルトでは行全体の値が重複していた場合に削除します。  \n",
    "下の例ではD列に重複値がある場合に、先頭の行のみ残して以後の行を削除しています(keep=\"first\")。  \n",
    "オプション指定で、重複している行すべてを削除することも可能です(keep=False)。"
   ]
  },
  {
   "cell_type": "code",
   "execution_count": 656,
   "metadata": {
    "collapsed": false
   },
   "outputs": [
    {
     "data": {
      "text/html": [
       "<div>\n",
       "<style>\n",
       "    .dataframe thead tr:only-child th {\n",
       "        text-align: right;\n",
       "    }\n",
       "\n",
       "    .dataframe thead th {\n",
       "        text-align: left;\n",
       "    }\n",
       "\n",
       "    .dataframe tbody tr th {\n",
       "        vertical-align: top;\n",
       "    }\n",
       "</style>\n",
       "<table border=\"1\" class=\"dataframe\">\n",
       "  <thead>\n",
       "    <tr style=\"text-align: right;\">\n",
       "      <th></th>\n",
       "      <th>A</th>\n",
       "      <th>B</th>\n",
       "      <th>C</th>\n",
       "      <th>D</th>\n",
       "      <th>E</th>\n",
       "      <th>F</th>\n",
       "      <th>G</th>\n",
       "    </tr>\n",
       "    <tr>\n",
       "      <th>data_idx</th>\n",
       "      <th></th>\n",
       "      <th></th>\n",
       "      <th></th>\n",
       "      <th></th>\n",
       "      <th></th>\n",
       "      <th></th>\n",
       "      <th></th>\n",
       "    </tr>\n",
       "  </thead>\n",
       "  <tbody>\n",
       "    <tr>\n",
       "      <th>data_1</th>\n",
       "      <td>58</td>\n",
       "      <td>-27</td>\n",
       "      <td>31.0</td>\n",
       "      <td>0.6028</td>\n",
       "      <td>73.922054</td>\n",
       "      <td>0.0179</td>\n",
       "      <td>-0.0102</td>\n",
       "    </tr>\n",
       "    <tr>\n",
       "      <th>data_10</th>\n",
       "      <td>109</td>\n",
       "      <td>-53</td>\n",
       "      <td>56.0</td>\n",
       "      <td>0.5000</td>\n",
       "      <td>575.585790</td>\n",
       "      <td>0.0346</td>\n",
       "      <td>0.0000</td>\n",
       "    </tr>\n",
       "    <tr>\n",
       "      <th>data_11</th>\n",
       "      <td>77</td>\n",
       "      <td>-44</td>\n",
       "      <td>33.0</td>\n",
       "      <td>0.6281</td>\n",
       "      <td>144.838806</td>\n",
       "      <td>0.0343</td>\n",
       "      <td>-0.0411</td>\n",
       "    </tr>\n",
       "    <tr>\n",
       "      <th>data_13</th>\n",
       "      <td>91</td>\n",
       "      <td>-46</td>\n",
       "      <td>45.0</td>\n",
       "      <td>0.5220</td>\n",
       "      <td>896.439718</td>\n",
       "      <td>0.0044</td>\n",
       "      <td>-0.0082</td>\n",
       "    </tr>\n",
       "    <tr>\n",
       "      <th>data_19</th>\n",
       "      <td>6</td>\n",
       "      <td>-2</td>\n",
       "      <td>4.0</td>\n",
       "      <td>0.5453</td>\n",
       "      <td>72.282932</td>\n",
       "      <td>0.0220</td>\n",
       "      <td>-0.0707</td>\n",
       "    </tr>\n",
       "  </tbody>\n",
       "</table>\n",
       "</div>"
      ],
      "text/plain": [
       "            A   B     C       D           E       F       G\n",
       "data_idx                                                   \n",
       "data_1     58 -27  31.0  0.6028   73.922054  0.0179 -0.0102\n",
       "data_10   109 -53  56.0  0.5000  575.585790  0.0346  0.0000\n",
       "data_11    77 -44  33.0  0.6281  144.838806  0.0343 -0.0411\n",
       "data_13    91 -46  45.0  0.5220  896.439718  0.0044 -0.0082\n",
       "data_19     6  -2   4.0  0.5453   72.282932  0.0220 -0.0707"
      ]
     },
     "execution_count": 656,
     "metadata": {},
     "output_type": "execute_result"
    }
   ],
   "source": [
    "df3.drop_duplicates(subset=\"D\").head()"
   ]
  },
  {
   "cell_type": "markdown",
   "metadata": {},
   "source": [
    "__(参考)__  \n",
    "pandasではデータフレームに対する操作の多くは\"非破壊的変更(=自分自身を変更させるのではなく、新しいデータフレームとして結果を返す)\"となっています。  \n",
    "このメリットの一つに、複数のメソッドを連結して使用できることが挙げられます。（メソッドチェイン）  \n",
    "例: `df3.dropna().drop_duplicates(subset=\"D\").sort_index().head()`\n"
   ]
  },
  {
   "cell_type": "code",
   "execution_count": null,
   "metadata": {
    "collapsed": false
   },
   "outputs": [],
   "source": []
  },
  {
   "cell_type": "markdown",
   "metadata": {
    "deletable": true,
    "editable": true
   },
   "source": [
    "# データフレーム全体、または行・列に対しての関数の適用"
   ]
  },
  {
   "cell_type": "markdown",
   "metadata": {},
   "source": [
    "## データフレームの集計メソッドを使用する方法"
   ]
  },
  {
   "cell_type": "markdown",
   "metadata": {},
   "source": [
    "3.3.3で紹介済みなので詳細は割愛"
   ]
  },
  {
   "cell_type": "code",
   "execution_count": 677,
   "metadata": {
    "collapsed": false
   },
   "outputs": [
    {
     "data": {
      "text/plain": [
       "A    2029.000000\n",
       "B     101.000000\n",
       "C     939.000000\n",
       "D      16.628800\n",
       "E    8488.645986\n",
       "F       0.799400\n",
       "G      -0.561800\n",
       "dtype: float64"
      ]
     },
     "execution_count": 677,
     "metadata": {},
     "output_type": "execute_result"
    }
   ],
   "source": [
    "df3.sum()  # 行方向の和を求める場合、df3.sum(axis=1)"
   ]
  },
  {
   "cell_type": "markdown",
   "metadata": {
    "collapsed": false,
    "deletable": true,
    "editable": true
   },
   "source": [
    "## numpyの関数を利用する方法"
   ]
  },
  {
   "cell_type": "markdown",
   "metadata": {},
   "source": [
    "numpyにはユニバーサル関数と呼ばれる行列（データフレーム）の要素ごとに処理を行う関数がある"
   ]
  },
  {
   "cell_type": "code",
   "execution_count": 700,
   "metadata": {
    "collapsed": false
   },
   "outputs": [
    {
     "data": {
      "text/html": [
       "<div>\n",
       "<style>\n",
       "    .dataframe thead tr:only-child th {\n",
       "        text-align: right;\n",
       "    }\n",
       "\n",
       "    .dataframe thead th {\n",
       "        text-align: left;\n",
       "    }\n",
       "\n",
       "    .dataframe tbody tr th {\n",
       "        vertical-align: top;\n",
       "    }\n",
       "</style>\n",
       "<table border=\"1\" class=\"dataframe\">\n",
       "  <thead>\n",
       "    <tr style=\"text-align: right;\">\n",
       "      <th></th>\n",
       "      <th>A</th>\n",
       "      <th>B</th>\n",
       "      <th>C</th>\n",
       "    </tr>\n",
       "  </thead>\n",
       "  <tbody>\n",
       "    <tr>\n",
       "      <th>0</th>\n",
       "      <td>0.0</td>\n",
       "      <td>2.0</td>\n",
       "      <td>3.0</td>\n",
       "    </tr>\n",
       "    <tr>\n",
       "      <th>1</th>\n",
       "      <td>10.0</td>\n",
       "      <td>20.0</td>\n",
       "      <td>30.0</td>\n",
       "    </tr>\n",
       "    <tr>\n",
       "      <th>2</th>\n",
       "      <td>100.0</td>\n",
       "      <td>200.0</td>\n",
       "      <td>300.0</td>\n",
       "    </tr>\n",
       "    <tr>\n",
       "      <th>3</th>\n",
       "      <td>1000.0</td>\n",
       "      <td>2000.0</td>\n",
       "      <td>3000.0</td>\n",
       "    </tr>\n",
       "  </tbody>\n",
       "</table>\n",
       "</div>"
      ],
      "text/plain": [
       "        A       B       C\n",
       "0     0.0     2.0     3.0\n",
       "1    10.0    20.0    30.0\n",
       "2   100.0   200.0   300.0\n",
       "3  1000.0  2000.0  3000.0"
      ]
     },
     "execution_count": 700,
     "metadata": {},
     "output_type": "execute_result"
    }
   ],
   "source": [
    "df1"
   ]
  },
  {
   "cell_type": "code",
   "execution_count": 701,
   "metadata": {
    "collapsed": false
   },
   "outputs": [
    {
     "name": "stderr",
     "output_type": "stream",
     "text": [
      "/Users/tanizawa/.anyenv/envs/pyenv/versions/3.6.0/lib/python3.6/site-packages/ipykernel/__main__.py:2: RuntimeWarning: divide by zero encountered in log10\n",
      "  from ipykernel import kernelapp as app\n"
     ]
    },
    {
     "data": {
      "text/html": [
       "<div>\n",
       "<style>\n",
       "    .dataframe thead tr:only-child th {\n",
       "        text-align: right;\n",
       "    }\n",
       "\n",
       "    .dataframe thead th {\n",
       "        text-align: left;\n",
       "    }\n",
       "\n",
       "    .dataframe tbody tr th {\n",
       "        vertical-align: top;\n",
       "    }\n",
       "</style>\n",
       "<table border=\"1\" class=\"dataframe\">\n",
       "  <thead>\n",
       "    <tr style=\"text-align: right;\">\n",
       "      <th></th>\n",
       "      <th>A</th>\n",
       "      <th>B</th>\n",
       "      <th>C</th>\n",
       "    </tr>\n",
       "  </thead>\n",
       "  <tbody>\n",
       "    <tr>\n",
       "      <th>0</th>\n",
       "      <td>-inf</td>\n",
       "      <td>0.30103</td>\n",
       "      <td>0.477121</td>\n",
       "    </tr>\n",
       "    <tr>\n",
       "      <th>1</th>\n",
       "      <td>1.000000</td>\n",
       "      <td>1.30103</td>\n",
       "      <td>1.477121</td>\n",
       "    </tr>\n",
       "    <tr>\n",
       "      <th>2</th>\n",
       "      <td>2.000000</td>\n",
       "      <td>2.30103</td>\n",
       "      <td>2.477121</td>\n",
       "    </tr>\n",
       "    <tr>\n",
       "      <th>3</th>\n",
       "      <td>3.000000</td>\n",
       "      <td>3.30103</td>\n",
       "      <td>3.477121</td>\n",
       "    </tr>\n",
       "  </tbody>\n",
       "</table>\n",
       "</div>"
      ],
      "text/plain": [
       "          A        B         C\n",
       "0      -inf  0.30103  0.477121\n",
       "1  1.000000  1.30103  1.477121\n",
       "2  2.000000  2.30103  2.477121\n",
       "3  3.000000  3.30103  3.477121"
      ]
     },
     "execution_count": 701,
     "metadata": {},
     "output_type": "execute_result"
    }
   ],
   "source": [
    "# 常用対数をとる。他に自然対数 (log)、log2 などもある\n",
    "np.log10(df1)"
   ]
  },
  {
   "cell_type": "code",
   "execution_count": 709,
   "metadata": {
    "collapsed": false
   },
   "outputs": [
    {
     "name": "stdout",
     "output_type": "stream",
     "text": [
      "0     1.414214\n",
      "1     4.472136\n",
      "2    14.142136\n",
      "3    44.721360\n",
      "Name: B, dtype: float64\n",
      "A    109.0\n",
      "B    -53.0\n",
      "C     56.0\n",
      "D      0.0\n",
      "E    576.0\n",
      "F      0.0\n",
      "G      0.0\n",
      "Name: data_10, dtype: float64\n"
     ]
    }
   ],
   "source": [
    "# ユニバーサル関数はシリーズにも適用できるので特定の列や行に対して実行することも可能\n",
    "print(np.sqrt(df1[\"B\"]))  # 平方根。値を更新するには　df1[\"B\"] = np.sqrt(df1[\"B\"]) というように代入する\n",
    "print(np.round(df3.iloc[1]))  # 四捨五入"
   ]
  },
  {
   "cell_type": "code",
   "execution_count": 740,
   "metadata": {
    "collapsed": false
   },
   "outputs": [
    {
     "data": {
      "text/plain": [
       "A      2404.698889\n",
       "B      1877.832222\n",
       "C       682.442331\n",
       "D         0.004918\n",
       "E    197282.083194\n",
       "F         0.000677\n",
       "G         0.000699\n",
       "dtype: float64"
      ]
     },
     "execution_count": 740,
     "metadata": {},
     "output_type": "execute_result"
    }
   ],
   "source": [
    "# numpyの集計関数も利用可能\n",
    "np.var(df3)   "
   ]
  },
  {
   "cell_type": "code",
   "execution_count": 741,
   "metadata": {
    "collapsed": false
   },
   "outputs": [
    {
     "data": {
      "text/plain": [
       "0         1.555556\n",
       "1        66.666667\n",
       "2      6666.666667\n",
       "3    666666.666667\n",
       "dtype: float64"
      ]
     },
     "execution_count": 741,
     "metadata": {},
     "output_type": "execute_result"
    }
   ],
   "source": [
    "# 行方向に適用するには axis=1を指定する\n",
    "np.var(df1, axis=1)"
   ]
  },
  {
   "cell_type": "code",
   "execution_count": 754,
   "metadata": {
    "collapsed": false
   },
   "outputs": [
    {
     "data": {
      "text/plain": [
       "A     234025.00\n",
       "B     935361.00\n",
       "C    2104562.25\n",
       "dtype: float64"
      ]
     },
     "execution_count": 754,
     "metadata": {},
     "output_type": "execute_result"
    }
   ],
   "source": [
    "# np.varは平均との差の自乗をデータ数Nで割っているが、不偏分散(N-1で割る)を求めるには ddof=1 を指定する\n",
    "np.var(df1, ddof=1)"
   ]
  },
  {
   "cell_type": "code",
   "execution_count": 756,
   "metadata": {
    "collapsed": false
   },
   "outputs": [
    {
     "data": {
      "text/plain": [
       "A     234025.00\n",
       "B     935361.00\n",
       "C    2104562.25\n",
       "dtype: float64"
      ]
     },
     "execution_count": 756,
     "metadata": {},
     "output_type": "execute_result"
    }
   ],
   "source": [
    "# データフレームのvarメソッドは デフォルトでddof=1として計算されている\n",
    "df1.var()"
   ]
  },
  {
   "cell_type": "markdown",
   "metadata": {},
   "source": [
    "標準偏差を求めるには np.std または df.std を使用します"
   ]
  },
  {
   "cell_type": "markdown",
   "metadata": {},
   "source": [
    "## map, apply, applymap"
   ]
  },
  {
   "cell_type": "markdown",
   "metadata": {},
   "source": [
    "関数をデータフレームや行・列に適用するのに用いる。  \n",
    "ただし、numpyやデータフレームのメソッドに定義されているものはそれを使用した方が処理が早い。  \n"
   ]
  },
  {
   "cell_type": "code",
   "execution_count": 908,
   "metadata": {
    "collapsed": true
   },
   "outputs": [],
   "source": [
    "# テスト用関数: 引数xが文字列であれば小文字に変換、そうでなければ \"-\" を返す\n",
    "def my_lower(x):    \n",
    "    if isinstance(x, str):\n",
    "        return x.lower()\n",
    "    else:\n",
    "        return \"-\""
   ]
  },
  {
   "cell_type": "code",
   "execution_count": 930,
   "metadata": {
    "collapsed": true
   },
   "outputs": [],
   "source": [
    "# テスト用関数その2: 第一引数 x が数値であれば、小数第 n 位で四捨五入した値を返す(nは負の値も可)\n",
    "def my_round(x, n):\n",
    "    if isinstance(x, int) or isinstance(x, float):\n",
    "        return round(x, n)\n",
    "    else:\n",
    "        return np.NaN"
   ]
  },
  {
   "cell_type": "code",
   "execution_count": 910,
   "metadata": {
    "collapsed": true
   },
   "outputs": [],
   "source": [
    "# テスト用集計関数: シリーズ (データフレームの行 or 列)を受け取り、thresholdより値が大きいものの個数を返す\n",
    "def count_larger_than(S, threshold=0):\n",
    "    assert isinstance(S, pd.core.series.Series)  # Sがシリーズであるかチェックを行っている\n",
    "    return len([x for x in S if x > threshold])"
   ]
  },
  {
   "cell_type": "code",
   "execution_count": 911,
   "metadata": {
    "collapsed": false
   },
   "outputs": [
    {
     "data": {
      "text/plain": [
       "2"
      ]
     },
     "execution_count": 911,
     "metadata": {},
     "output_type": "execute_result"
    }
   ],
   "source": [
    "# 試しに実行してみる\n",
    "s_test = pd.Series([1,3,5,6,8])\n",
    "count_larger_than(s_test, 5)"
   ]
  },
  {
   "cell_type": "code",
   "execution_count": 912,
   "metadata": {
    "collapsed": false
   },
   "outputs": [],
   "source": []
  },
  {
   "cell_type": "markdown",
   "metadata": {},
   "source": [
    "## シリーズ（データフレームの行・列）の各要素に関数を適用するにはmapを使う"
   ]
  },
  {
   "cell_type": "code",
   "execution_count": 914,
   "metadata": {
    "collapsed": false
   },
   "outputs": [
    {
     "data": {
      "text/plain": [
       "0    john\n",
       "1    paul\n",
       "2       -\n",
       "3       -\n",
       "4       -\n",
       "dtype: object"
      ]
     },
     "execution_count": 914,
     "metadata": {},
     "output_type": "execute_result"
    }
   ],
   "source": [
    "test_s = pd.Series([\"JOHN\", \"Paul\", 20, 0.8, None])\n",
    "test_s.map(my_lower)"
   ]
  },
  {
   "cell_type": "code",
   "execution_count": 920,
   "metadata": {
    "collapsed": false
   },
   "outputs": [
    {
     "data": {
      "text/plain": [
       "0      john\n",
       "1      paul\n",
       "2    george\n",
       "3     ringo\n",
       "4      paul\n",
       "5       art\n",
       "Name: name, dtype: object"
      ]
     },
     "execution_count": 920,
     "metadata": {},
     "output_type": "execute_result"
    }
   ],
   "source": [
    "df2[\"name\"].map(my_lower)"
   ]
  },
  {
   "cell_type": "markdown",
   "metadata": {},
   "source": [
    "## データフレームのの各要素に関数を適用するにはapplymapを使う"
   ]
  },
  {
   "cell_type": "code",
   "execution_count": 929,
   "metadata": {
    "collapsed": false,
    "scrolled": true
   },
   "outputs": [
    {
     "data": {
      "text/html": [
       "<div>\n",
       "<style>\n",
       "    .dataframe thead tr:only-child th {\n",
       "        text-align: right;\n",
       "    }\n",
       "\n",
       "    .dataframe thead th {\n",
       "        text-align: left;\n",
       "    }\n",
       "\n",
       "    .dataframe tbody tr th {\n",
       "        vertical-align: top;\n",
       "    }\n",
       "</style>\n",
       "<table border=\"1\" class=\"dataframe\">\n",
       "  <thead>\n",
       "    <tr style=\"text-align: right;\">\n",
       "      <th></th>\n",
       "      <th>DOB</th>\n",
       "      <th>age</th>\n",
       "      <th>alive</th>\n",
       "      <th>family_name</th>\n",
       "      <th>group_name</th>\n",
       "      <th>name</th>\n",
       "    </tr>\n",
       "  </thead>\n",
       "  <tbody>\n",
       "    <tr>\n",
       "      <th>0</th>\n",
       "      <td>1940/10/09</td>\n",
       "      <td>-</td>\n",
       "      <td>-</td>\n",
       "      <td>lennon</td>\n",
       "      <td>beatles</td>\n",
       "      <td>john</td>\n",
       "    </tr>\n",
       "    <tr>\n",
       "      <th>1</th>\n",
       "      <td>1942/026/18</td>\n",
       "      <td>-</td>\n",
       "      <td>-</td>\n",
       "      <td>mccartney</td>\n",
       "      <td>beatles</td>\n",
       "      <td>paul</td>\n",
       "    </tr>\n",
       "    <tr>\n",
       "      <th>2</th>\n",
       "      <td>1943/02/25</td>\n",
       "      <td>-</td>\n",
       "      <td>-</td>\n",
       "      <td>harrison</td>\n",
       "      <td>beatles</td>\n",
       "      <td>george</td>\n",
       "    </tr>\n",
       "    <tr>\n",
       "      <th>3</th>\n",
       "      <td>1940/07/07</td>\n",
       "      <td>-</td>\n",
       "      <td>-</td>\n",
       "      <td>starr</td>\n",
       "      <td>beatles</td>\n",
       "      <td>ringo</td>\n",
       "    </tr>\n",
       "    <tr>\n",
       "      <th>4</th>\n",
       "      <td>1941/10/13</td>\n",
       "      <td>-</td>\n",
       "      <td>-</td>\n",
       "      <td>simon</td>\n",
       "      <td>simon_and_garfunkel</td>\n",
       "      <td>paul</td>\n",
       "    </tr>\n",
       "    <tr>\n",
       "      <th>5</th>\n",
       "      <td>1941/11/05</td>\n",
       "      <td>-</td>\n",
       "      <td>-</td>\n",
       "      <td>garfunkel</td>\n",
       "      <td>simon_and_garfunkel</td>\n",
       "      <td>art</td>\n",
       "    </tr>\n",
       "  </tbody>\n",
       "</table>\n",
       "</div>"
      ],
      "text/plain": [
       "           DOB age alive family_name           group_name    name\n",
       "0   1940/10/09   -     -      lennon              beatles    john\n",
       "1  1942/026/18   -     -   mccartney              beatles    paul\n",
       "2   1943/02/25   -     -    harrison              beatles  george\n",
       "3   1940/07/07   -     -       starr              beatles   ringo\n",
       "4   1941/10/13   -     -       simon  simon_and_garfunkel    paul\n",
       "5   1941/11/05   -     -   garfunkel  simon_and_garfunkel     art"
      ]
     },
     "execution_count": 929,
     "metadata": {},
     "output_type": "execute_result"
    }
   ],
   "source": [
    "df2.applymap(my_lower)"
   ]
  },
  {
   "cell_type": "markdown",
   "metadata": {},
   "source": [
    "## より複雑な関数をシリーズ（データフレームの行・列）に適用するにはapplyを使う"
   ]
  },
  {
   "cell_type": "code",
   "execution_count": 923,
   "metadata": {
    "collapsed": false
   },
   "outputs": [],
   "source": [
    "df2.applymap?"
   ]
  },
  {
   "cell_type": "code",
   "execution_count": null,
   "metadata": {
    "collapsed": true
   },
   "outputs": [],
   "source": [
    "df2[\"group_name\"].applymap"
   ]
  },
  {
   "cell_type": "code",
   "execution_count": 861,
   "metadata": {
    "collapsed": false
   },
   "outputs": [],
   "source": [
    "df1.apply?"
   ]
  },
  {
   "cell_type": "code",
   "execution_count": 849,
   "metadata": {
    "collapsed": false
   },
   "outputs": [
    {
     "data": {
      "text/plain": [
       "A   NaN\n",
       "B   NaN\n",
       "C   NaN\n",
       "D   NaN\n",
       "E   NaN\n",
       "F   NaN\n",
       "G   NaN\n",
       "dtype: float64"
      ]
     },
     "execution_count": 849,
     "metadata": {},
     "output_type": "execute_result"
    }
   ],
   "source": [
    "df3.apply(func2, args=(1,))"
   ]
  },
  {
   "cell_type": "code",
   "execution_count": 848,
   "metadata": {
    "collapsed": false,
    "scrolled": true
   },
   "outputs": [
    {
     "data": {
      "text/plain": [
       "A    181.0\n",
       "B    126.0\n",
       "C     55.0\n",
       "D      0.5\n",
       "E      NaN\n",
       "F      0.1\n",
       "G      0.0\n",
       "Name: data_12, dtype: float64"
      ]
     },
     "execution_count": 848,
     "metadata": {},
     "output_type": "execute_result"
    }
   ],
   "source": [
    "df3.iloc[3, :].apply(func2, args=(1,))"
   ]
  },
  {
   "cell_type": "code",
   "execution_count": 843,
   "metadata": {
    "collapsed": false
   },
   "outputs": [
    {
     "data": {
      "text/plain": [
       "A   NaN\n",
       "B   NaN\n",
       "C   NaN\n",
       "dtype: float64"
      ]
     },
     "execution_count": 843,
     "metadata": {},
     "output_type": "execute_result"
    }
   ],
   "source": [
    "df1.apply(func2, args=(1,))"
   ]
  },
  {
   "cell_type": "code",
   "execution_count": 792,
   "metadata": {
    "collapsed": false,
    "scrolled": false
   },
   "outputs": [
    {
     "data": {
      "text/plain": [
       "True"
      ]
     },
     "execution_count": 792,
     "metadata": {},
     "output_type": "execute_result"
    }
   ],
   "source": [
    "x=10.9\n"
   ]
  },
  {
   "cell_type": "code",
   "execution_count": 759,
   "metadata": {
    "collapsed": true
   },
   "outputs": [],
   "source": [
    "s1.map?"
   ]
  },
  {
   "cell_type": "code",
   "execution_count": 761,
   "metadata": {
    "collapsed": false
   },
   "outputs": [],
   "source": [
    "s1.apply?"
   ]
  },
  {
   "cell_type": "markdown",
   "metadata": {
    "deletable": true,
    "editable": true
   },
   "source": [
    "# 行・列をループでまわす"
   ]
  },
  {
   "cell_type": "markdown",
   "metadata": {
    "deletable": true,
    "editable": true
   },
   "source": [
    "## データフレームをそのままループで回す"
   ]
  },
  {
   "cell_type": "code",
   "execution_count": 743,
   "metadata": {
    "collapsed": false,
    "deletable": true,
    "editable": true
   },
   "outputs": [
    {
     "data": {
      "text/html": [
       "<div>\n",
       "<style>\n",
       "    .dataframe thead tr:only-child th {\n",
       "        text-align: right;\n",
       "    }\n",
       "\n",
       "    .dataframe thead th {\n",
       "        text-align: left;\n",
       "    }\n",
       "\n",
       "    .dataframe tbody tr th {\n",
       "        vertical-align: top;\n",
       "    }\n",
       "</style>\n",
       "<table border=\"1\" class=\"dataframe\">\n",
       "  <thead>\n",
       "    <tr style=\"text-align: right;\">\n",
       "      <th></th>\n",
       "      <th>A</th>\n",
       "      <th>B</th>\n",
       "      <th>C</th>\n",
       "    </tr>\n",
       "  </thead>\n",
       "  <tbody>\n",
       "    <tr>\n",
       "      <th>0</th>\n",
       "      <td>0.0</td>\n",
       "      <td>2.0</td>\n",
       "      <td>3.0</td>\n",
       "    </tr>\n",
       "    <tr>\n",
       "      <th>1</th>\n",
       "      <td>10.0</td>\n",
       "      <td>20.0</td>\n",
       "      <td>30.0</td>\n",
       "    </tr>\n",
       "    <tr>\n",
       "      <th>2</th>\n",
       "      <td>100.0</td>\n",
       "      <td>200.0</td>\n",
       "      <td>300.0</td>\n",
       "    </tr>\n",
       "    <tr>\n",
       "      <th>3</th>\n",
       "      <td>1000.0</td>\n",
       "      <td>2000.0</td>\n",
       "      <td>3000.0</td>\n",
       "    </tr>\n",
       "  </tbody>\n",
       "</table>\n",
       "</div>"
      ],
      "text/plain": [
       "        A       B       C\n",
       "0     0.0     2.0     3.0\n",
       "1    10.0    20.0    30.0\n",
       "2   100.0   200.0   300.0\n",
       "3  1000.0  2000.0  3000.0"
      ]
     },
     "execution_count": 743,
     "metadata": {},
     "output_type": "execute_result"
    }
   ],
   "source": [
    "df1"
   ]
  },
  {
   "cell_type": "code",
   "execution_count": 204,
   "metadata": {
    "collapsed": false,
    "deletable": true,
    "editable": true
   },
   "outputs": [
    {
     "name": "stdout",
     "output_type": "stream",
     "text": [
      "A <class 'str'>\n",
      "B <class 'str'>\n",
      "C <class 'str'>\n",
      "D <class 'str'>\n"
     ]
    }
   ],
   "source": [
    "# 列名が順に取り出される\n",
    "for x in df1:\n",
    "    print(x, type(x))"
   ]
  },
  {
   "cell_type": "markdown",
   "metadata": {
    "deletable": true,
    "editable": true
   },
   "source": [
    "## 1行ずつ取り出す\n",
    "iterrowsを使うと、各行のインデックスおよび行データがタプルとして取り出せる。  \n",
    "行データの形式はSeriesになっている。"
   ]
  },
  {
   "cell_type": "code",
   "execution_count": 205,
   "metadata": {
    "collapsed": false,
    "deletable": true,
    "editable": true
   },
   "outputs": [
    {
     "name": "stdout",
     "output_type": "stream",
     "text": [
      "INDEX = 0\n",
      "['1940/10/09', nan, False, 'Lennon', 'Beatles', 'John']\n",
      "-----\n",
      "INDEX = 1\n",
      "['1942/026/18', 76.0, True, 'McCartney', 'Beatles', 'Paul']\n",
      "-----\n",
      "INDEX = 2\n",
      "['1943/02/25', nan, False, 'Harrison', 'Beatles', 'George']\n",
      "-----\n",
      "INDEX = 3\n",
      "['1940/07/07', 78.0, True, 'Starr', 'Beatles', 'Ringo']\n",
      "-----\n",
      "INDEX = 4\n",
      "['1941/10/13', 77.0, True, 'Simon', 'Simon_and_Garfunkel', 'Paul']\n",
      "-----\n",
      "INDEX = 5\n",
      "['1941/11/05', 77.0, True, 'Garfunkel', 'Simon_and_Garfunkel', 'Art']\n",
      "-----\n"
     ]
    }
   ],
   "source": [
    "for index, row in df2.iterrows():\n",
    "    print(\"INDEX =\", index)\n",
    "    print(list(row))\n",
    "    print(\"-----\")"
   ]
  },
  {
   "cell_type": "markdown",
   "metadata": {
    "deletable": true,
    "editable": true
   },
   "source": [
    "## 1列ずつ取り出す\n",
    "iteritemsを使うと、各列の列名および列データがタプルとして取り出せる。  \n",
    "列データの形式はSeriesになっている。"
   ]
  },
  {
   "cell_type": "code",
   "execution_count": 206,
   "metadata": {
    "collapsed": false,
    "deletable": true,
    "editable": true
   },
   "outputs": [
    {
     "name": "stdout",
     "output_type": "stream",
     "text": [
      "Column name = DOB\n",
      "['1940/10/09', '1942/026/18', '1943/02/25', '1940/07/07', '1941/10/13', '1941/11/05']\n",
      "-----\n",
      "Column name = age\n",
      "[nan, 76.0, nan, 78.0, 77.0, 77.0]\n",
      "-----\n",
      "Column name = alive\n",
      "[False, True, False, True, True, True]\n",
      "-----\n",
      "Column name = family_name\n",
      "['Lennon', 'McCartney', 'Harrison', 'Starr', 'Simon', 'Garfunkel']\n",
      "-----\n",
      "Column name = group_name\n",
      "['Beatles', 'Beatles', 'Beatles', 'Beatles', 'Simon_and_Garfunkel', 'Simon_and_Garfunkel']\n",
      "-----\n",
      "Column name = name\n",
      "['John', 'Paul', 'George', 'Ringo', 'Paul', 'Art']\n",
      "-----\n"
     ]
    }
   ],
   "source": [
    "for col_name, col in df2.iteritems():\n",
    "    print(\"Column name =\", col_name)\n",
    "    print(list(col))\n",
    "    print(\"-----\")    "
   ]
  },
  {
   "cell_type": "code",
   "execution_count": null,
   "metadata": {
    "collapsed": true,
    "deletable": true,
    "editable": true
   },
   "outputs": [],
   "source": []
  },
  {
   "cell_type": "code",
   "execution_count": 210,
   "metadata": {
    "collapsed": false,
    "deletable": true,
    "editable": true,
    "scrolled": true
   },
   "outputs": [
    {
     "name": "stdout",
     "output_type": "stream",
     "text": [
      "CPU times: user 1.94 s, sys: 13.9 ms, total: 1.95 s\n",
      "Wall time: 1.95 s\n"
     ]
    }
   ],
   "source": [
    "%%time\n",
    "# データフレームをループでまわして、各要素を四捨五入した値に書き換える処理\n",
    "N=100\n",
    "test_df = pd.DataFrame(np.random.rand(N, 100) * 10)  # N行x100列のテストデータ. 各データは0~10のランダムな小数\n",
    "for row_index, row in test_df.iterrows():\n",
    "    for column_index in row.index:\n",
    "        test_df.loc[row_index, column_index] = round(test_df.loc[row_index, column_index])\n",
    "        # test_df.at[row_index, column_index] = round(test_df.at[row_index, column_index])\n",
    "\n",
    "# forループ自体が遅いわけではなく、ループの中で処理に時間がかかる loc を使った要素の参照・書き換えを行なっているのが遅くなる要因\n",
    "# locのかわりに at を使うと0.2秒程度まで改善される"
   ]
  },
  {
   "cell_type": "code",
   "execution_count": 211,
   "metadata": {
    "collapsed": false,
    "deletable": true,
    "editable": true
   },
   "outputs": [
    {
     "name": "stdout",
     "output_type": "stream",
     "text": [
      "CPU times: user 15.8 ms, sys: 1.63 ms, total: 17.4 ms\n",
      "Wall time: 15.9 ms\n"
     ]
    }
   ],
   "source": [
    "%%time\n",
    "# ループでを使わずに、applymapを使って各要素を四捨五入した値に書き換える処理\n",
    "N=100\n",
    "test_df = pd.DataFrame(np.random.rand(N, 100) * 10)\n",
    "test_df.applymap(round)"
   ]
  },
  {
   "cell_type": "code",
   "execution_count": 209,
   "metadata": {
    "collapsed": false,
    "deletable": true,
    "editable": true
   },
   "outputs": [],
   "source": []
  },
  {
   "cell_type": "code",
   "execution_count": 525,
   "metadata": {
    "collapsed": false,
    "deletable": true,
    "editable": true,
    "scrolled": true
   },
   "outputs": [
    {
     "name": "stdout",
     "output_type": "stream",
     "text": [
      "CPU times: user 1.35 s, sys: 12.5 ms, total: 1.36 s\n",
      "Wall time: 1.36 s\n"
     ]
    }
   ],
   "source": [
    "%%time\n",
    "N=1000\n",
    "df3_copy = df3.copy()\n",
    "df3_copy = df3_copy.dropna()\n",
    "\n",
    "for i in range(N):\n",
    "    df3_copy.applymap(round)"
   ]
  },
  {
   "cell_type": "code",
   "execution_count": 516,
   "metadata": {
    "collapsed": false,
    "deletable": true,
    "editable": true
   },
   "outputs": [],
   "source": [
    "df3.applymap?"
   ]
  },
  {
   "cell_type": "code",
   "execution_count": 1070,
   "metadata": {
    "collapsed": false,
    "deletable": true,
    "editable": true
   },
   "outputs": [],
   "source": [
    "# itertuplesはPandasオブジェクトを返す。扱わない\n",
    "df2.itertuples?"
   ]
  },
  {
   "cell_type": "code",
   "execution_count": 510,
   "metadata": {
    "collapsed": false,
    "deletable": true,
    "editable": true
   },
   "outputs": [
    {
     "data": {
      "text/html": [
       "<div>\n",
       "<style>\n",
       "    .dataframe thead tr:only-child th {\n",
       "        text-align: right;\n",
       "    }\n",
       "\n",
       "    .dataframe thead th {\n",
       "        text-align: left;\n",
       "    }\n",
       "\n",
       "    .dataframe tbody tr th {\n",
       "        vertical-align: top;\n",
       "    }\n",
       "</style>\n",
       "<table border=\"1\" class=\"dataframe\">\n",
       "  <thead>\n",
       "    <tr style=\"text-align: right;\">\n",
       "      <th></th>\n",
       "      <th>A</th>\n",
       "      <th>B</th>\n",
       "      <th>C</th>\n",
       "      <th>D</th>\n",
       "      <th>E</th>\n",
       "      <th>F</th>\n",
       "      <th>G</th>\n",
       "    </tr>\n",
       "    <tr>\n",
       "      <th>data_idx</th>\n",
       "      <th></th>\n",
       "      <th></th>\n",
       "      <th></th>\n",
       "      <th></th>\n",
       "      <th></th>\n",
       "      <th></th>\n",
       "      <th></th>\n",
       "    </tr>\n",
       "  </thead>\n",
       "  <tbody>\n",
       "    <tr>\n",
       "      <th>data_1</th>\n",
       "      <td>58</td>\n",
       "      <td>-27</td>\n",
       "      <td>31</td>\n",
       "      <td>1.0</td>\n",
       "      <td>74.0</td>\n",
       "      <td>0.0</td>\n",
       "      <td>-0.0</td>\n",
       "    </tr>\n",
       "    <tr>\n",
       "      <th>data_2</th>\n",
       "      <td>17</td>\n",
       "      <td>3</td>\n",
       "      <td>14</td>\n",
       "      <td>1.0</td>\n",
       "      <td>37.0</td>\n",
       "      <td>0.0</td>\n",
       "      <td>0.0</td>\n",
       "    </tr>\n",
       "    <tr>\n",
       "      <th>data_3</th>\n",
       "      <td>169</td>\n",
       "      <td>48</td>\n",
       "      <td>121</td>\n",
       "      <td>0.0</td>\n",
       "      <td>1801.0</td>\n",
       "      <td>0.0</td>\n",
       "      <td>0.0</td>\n",
       "    </tr>\n",
       "    <tr>\n",
       "      <th>data_4</th>\n",
       "      <td>59</td>\n",
       "      <td>31</td>\n",
       "      <td>28</td>\n",
       "      <td>1.0</td>\n",
       "      <td>271.0</td>\n",
       "      <td>0.0</td>\n",
       "      <td>-0.0</td>\n",
       "    </tr>\n",
       "    <tr>\n",
       "      <th>data_5</th>\n",
       "      <td>59</td>\n",
       "      <td>30</td>\n",
       "      <td>29</td>\n",
       "      <td>1.0</td>\n",
       "      <td>NaN</td>\n",
       "      <td>0.0</td>\n",
       "      <td>-0.0</td>\n",
       "    </tr>\n",
       "    <tr>\n",
       "      <th>data_6</th>\n",
       "      <td>137</td>\n",
       "      <td>-50</td>\n",
       "      <td>87</td>\n",
       "      <td>1.0</td>\n",
       "      <td>NaN</td>\n",
       "      <td>0.0</td>\n",
       "      <td>-0.0</td>\n",
       "    </tr>\n",
       "    <tr>\n",
       "      <th>data_7</th>\n",
       "      <td>39</td>\n",
       "      <td>-32</td>\n",
       "      <td>7</td>\n",
       "      <td>1.0</td>\n",
       "      <td>137.0</td>\n",
       "      <td>0.0</td>\n",
       "      <td>-0.0</td>\n",
       "    </tr>\n",
       "    <tr>\n",
       "      <th>data_8</th>\n",
       "      <td>39</td>\n",
       "      <td>32</td>\n",
       "      <td>7</td>\n",
       "      <td>NaN</td>\n",
       "      <td>2.0</td>\n",
       "      <td>0.0</td>\n",
       "      <td>-0.0</td>\n",
       "    </tr>\n",
       "    <tr>\n",
       "      <th>data_9</th>\n",
       "      <td>81</td>\n",
       "      <td>35</td>\n",
       "      <td>46</td>\n",
       "      <td>1.0</td>\n",
       "      <td>422.0</td>\n",
       "      <td>0.0</td>\n",
       "      <td>-0.0</td>\n",
       "    </tr>\n",
       "    <tr>\n",
       "      <th>data_10</th>\n",
       "      <td>109</td>\n",
       "      <td>-53</td>\n",
       "      <td>56</td>\n",
       "      <td>0.0</td>\n",
       "      <td>576.0</td>\n",
       "      <td>0.0</td>\n",
       "      <td>0.0</td>\n",
       "    </tr>\n",
       "    <tr>\n",
       "      <th>data_11</th>\n",
       "      <td>77</td>\n",
       "      <td>-44</td>\n",
       "      <td>33</td>\n",
       "      <td>1.0</td>\n",
       "      <td>145.0</td>\n",
       "      <td>0.0</td>\n",
       "      <td>-0.0</td>\n",
       "    </tr>\n",
       "    <tr>\n",
       "      <th>data_12</th>\n",
       "      <td>181</td>\n",
       "      <td>126</td>\n",
       "      <td>55</td>\n",
       "      <td>0.0</td>\n",
       "      <td>805.0</td>\n",
       "      <td>0.0</td>\n",
       "      <td>0.0</td>\n",
       "    </tr>\n",
       "    <tr>\n",
       "      <th>data_13</th>\n",
       "      <td>91</td>\n",
       "      <td>-46</td>\n",
       "      <td>45</td>\n",
       "      <td>1.0</td>\n",
       "      <td>896.0</td>\n",
       "      <td>0.0</td>\n",
       "      <td>-0.0</td>\n",
       "    </tr>\n",
       "    <tr>\n",
       "      <th>data_14</th>\n",
       "      <td>133</td>\n",
       "      <td>-70</td>\n",
       "      <td>63</td>\n",
       "      <td>0.0</td>\n",
       "      <td>375.0</td>\n",
       "      <td>0.0</td>\n",
       "      <td>0.0</td>\n",
       "    </tr>\n",
       "    <tr>\n",
       "      <th>data_15</th>\n",
       "      <td>39</td>\n",
       "      <td>22</td>\n",
       "      <td>17</td>\n",
       "      <td>0.0</td>\n",
       "      <td>137.0</td>\n",
       "      <td>0.0</td>\n",
       "      <td>0.0</td>\n",
       "    </tr>\n",
       "    <tr>\n",
       "      <th>data_16</th>\n",
       "      <td>36</td>\n",
       "      <td>0</td>\n",
       "      <td>36</td>\n",
       "      <td>0.0</td>\n",
       "      <td>63.0</td>\n",
       "      <td>0.0</td>\n",
       "      <td>0.0</td>\n",
       "    </tr>\n",
       "    <tr>\n",
       "      <th>data_17</th>\n",
       "      <td>50</td>\n",
       "      <td>0</td>\n",
       "      <td>50</td>\n",
       "      <td>0.0</td>\n",
       "      <td>214.0</td>\n",
       "      <td>0.0</td>\n",
       "      <td>0.0</td>\n",
       "    </tr>\n",
       "    <tr>\n",
       "      <th>data_18</th>\n",
       "      <td>11</td>\n",
       "      <td>7</td>\n",
       "      <td>4</td>\n",
       "      <td>NaN</td>\n",
       "      <td>70.0</td>\n",
       "      <td>0.0</td>\n",
       "      <td>0.0</td>\n",
       "    </tr>\n",
       "    <tr>\n",
       "      <th>data_19</th>\n",
       "      <td>6</td>\n",
       "      <td>-2</td>\n",
       "      <td>4</td>\n",
       "      <td>1.0</td>\n",
       "      <td>72.0</td>\n",
       "      <td>0.0</td>\n",
       "      <td>-0.0</td>\n",
       "    </tr>\n",
       "    <tr>\n",
       "      <th>data_20</th>\n",
       "      <td>20</td>\n",
       "      <td>-4</td>\n",
       "      <td>16</td>\n",
       "      <td>1.0</td>\n",
       "      <td>3.0</td>\n",
       "      <td>0.0</td>\n",
       "      <td>-0.0</td>\n",
       "    </tr>\n",
       "    <tr>\n",
       "      <th>data_21</th>\n",
       "      <td>96</td>\n",
       "      <td>44</td>\n",
       "      <td>52</td>\n",
       "      <td>1.0</td>\n",
       "      <td>515.0</td>\n",
       "      <td>0.0</td>\n",
       "      <td>-0.0</td>\n",
       "    </tr>\n",
       "    <tr>\n",
       "      <th>data_22</th>\n",
       "      <td>153</td>\n",
       "      <td>83</td>\n",
       "      <td>70</td>\n",
       "      <td>1.0</td>\n",
       "      <td>210.0</td>\n",
       "      <td>0.0</td>\n",
       "      <td>-0.0</td>\n",
       "    </tr>\n",
       "    <tr>\n",
       "      <th>data_23</th>\n",
       "      <td>45</td>\n",
       "      <td>14</td>\n",
       "      <td>31</td>\n",
       "      <td>1.0</td>\n",
       "      <td>NaN</td>\n",
       "      <td>0.0</td>\n",
       "      <td>-0.0</td>\n",
       "    </tr>\n",
       "    <tr>\n",
       "      <th>data_24</th>\n",
       "      <td>26</td>\n",
       "      <td>-18</td>\n",
       "      <td>8</td>\n",
       "      <td>1.0</td>\n",
       "      <td>83.0</td>\n",
       "      <td>0.0</td>\n",
       "      <td>-0.0</td>\n",
       "    </tr>\n",
       "    <tr>\n",
       "      <th>data_25</th>\n",
       "      <td>25</td>\n",
       "      <td>16</td>\n",
       "      <td>9</td>\n",
       "      <td>1.0</td>\n",
       "      <td>51.0</td>\n",
       "      <td>0.0</td>\n",
       "      <td>-0.0</td>\n",
       "    </tr>\n",
       "    <tr>\n",
       "      <th>data_26</th>\n",
       "      <td>15</td>\n",
       "      <td>-15</td>\n",
       "      <td>0</td>\n",
       "      <td>0.0</td>\n",
       "      <td>0.0</td>\n",
       "      <td>0.0</td>\n",
       "      <td>-0.0</td>\n",
       "    </tr>\n",
       "    <tr>\n",
       "      <th>data_27</th>\n",
       "      <td>14</td>\n",
       "      <td>-13</td>\n",
       "      <td>1</td>\n",
       "      <td>1.0</td>\n",
       "      <td>0.0</td>\n",
       "      <td>0.0</td>\n",
       "      <td>-0.0</td>\n",
       "    </tr>\n",
       "    <tr>\n",
       "      <th>data_28</th>\n",
       "      <td>64</td>\n",
       "      <td>27</td>\n",
       "      <td>37</td>\n",
       "      <td>1.0</td>\n",
       "      <td>399.0</td>\n",
       "      <td>0.0</td>\n",
       "      <td>-0.0</td>\n",
       "    </tr>\n",
       "    <tr>\n",
       "      <th>data_29</th>\n",
       "      <td>53</td>\n",
       "      <td>34</td>\n",
       "      <td>19</td>\n",
       "      <td>0.0</td>\n",
       "      <td>129.0</td>\n",
       "      <td>0.0</td>\n",
       "      <td>0.0</td>\n",
       "    </tr>\n",
       "    <tr>\n",
       "      <th>data_30</th>\n",
       "      <td>127</td>\n",
       "      <td>-77</td>\n",
       "      <td>50</td>\n",
       "      <td>0.0</td>\n",
       "      <td>164.0</td>\n",
       "      <td>0.0</td>\n",
       "      <td>0.0</td>\n",
       "    </tr>\n",
       "  </tbody>\n",
       "</table>\n",
       "</div>"
      ],
      "text/plain": [
       "            A    B    C    D       E    F    G\n",
       "data_idx                                      \n",
       "data_1     58  -27   31  1.0    74.0  0.0 -0.0\n",
       "data_2     17    3   14  1.0    37.0  0.0  0.0\n",
       "data_3    169   48  121  0.0  1801.0  0.0  0.0\n",
       "data_4     59   31   28  1.0   271.0  0.0 -0.0\n",
       "data_5     59   30   29  1.0     NaN  0.0 -0.0\n",
       "data_6    137  -50   87  1.0     NaN  0.0 -0.0\n",
       "data_7     39  -32    7  1.0   137.0  0.0 -0.0\n",
       "data_8     39   32    7  NaN     2.0  0.0 -0.0\n",
       "data_9     81   35   46  1.0   422.0  0.0 -0.0\n",
       "data_10   109  -53   56  0.0   576.0  0.0  0.0\n",
       "data_11    77  -44   33  1.0   145.0  0.0 -0.0\n",
       "data_12   181  126   55  0.0   805.0  0.0  0.0\n",
       "data_13    91  -46   45  1.0   896.0  0.0 -0.0\n",
       "data_14   133  -70   63  0.0   375.0  0.0  0.0\n",
       "data_15    39   22   17  0.0   137.0  0.0  0.0\n",
       "data_16    36    0   36  0.0    63.0  0.0  0.0\n",
       "data_17    50    0   50  0.0   214.0  0.0  0.0\n",
       "data_18    11    7    4  NaN    70.0  0.0  0.0\n",
       "data_19     6   -2    4  1.0    72.0  0.0 -0.0\n",
       "data_20    20   -4   16  1.0     3.0  0.0 -0.0\n",
       "data_21    96   44   52  1.0   515.0  0.0 -0.0\n",
       "data_22   153   83   70  1.0   210.0  0.0 -0.0\n",
       "data_23    45   14   31  1.0     NaN  0.0 -0.0\n",
       "data_24    26  -18    8  1.0    83.0  0.0 -0.0\n",
       "data_25    25   16    9  1.0    51.0  0.0 -0.0\n",
       "data_26    15  -15    0  0.0     0.0  0.0 -0.0\n",
       "data_27    14  -13    1  1.0     0.0  0.0 -0.0\n",
       "data_28    64   27   37  1.0   399.0  0.0 -0.0\n",
       "data_29    53   34   19  0.0   129.0  0.0  0.0\n",
       "data_30   127  -77   50  0.0   164.0  0.0  0.0"
      ]
     },
     "execution_count": 510,
     "metadata": {},
     "output_type": "execute_result"
    }
   ],
   "source": [
    "df3.apply(round)"
   ]
  },
  {
   "cell_type": "code",
   "execution_count": 503,
   "metadata": {
    "collapsed": false,
    "deletable": true,
    "editable": true
   },
   "outputs": [
    {
     "name": "stdout",
     "output_type": "stream",
     "text": [
      "('A', 0       1\n",
      "1      10\n",
      "2     100\n",
      "3    1000\n",
      "Name: A, dtype: int64)\n",
      "('B', 0       2\n",
      "1      20\n",
      "2     200\n",
      "3    2000\n",
      "Name: B, dtype: int64)\n",
      "('C', 0       3\n",
      "1      30\n",
      "2     300\n",
      "3    3000\n",
      "Name: C, dtype: int64)\n"
     ]
    }
   ],
   "source": [
    "# 列をループで取り出す\n",
    "for a in df.iteritems():\n",
    "    print(a)"
   ]
  },
  {
   "cell_type": "code",
   "execution_count": 507,
   "metadata": {
    "collapsed": false,
    "deletable": true,
    "editable": true
   },
   "outputs": [
    {
     "name": "stdout",
     "output_type": "stream",
     "text": [
      "A\n",
      "1\n",
      "B\n",
      "2\n",
      "C\n",
      "3\n",
      "CPU times: user 234 µs, sys: 47 µs, total: 281 µs\n",
      "Wall time: 253 µs\n"
     ]
    }
   ],
   "source": [
    "%%time\n",
    "\n",
    "for index in df:\n",
    "    print(index)\n",
    "    print(df.at[0,index])\n",
    "\n"
   ]
  },
  {
   "cell_type": "code",
   "execution_count": 496,
   "metadata": {
    "collapsed": false,
    "deletable": true,
    "editable": true
   },
   "outputs": [
    {
     "name": "stdout",
     "output_type": "stream",
     "text": [
      "0\n",
      "A    1\n",
      "B    2\n",
      "C    3\n",
      "Name: 0, dtype: int64\n",
      "-----\n",
      "1\n",
      "A    10\n",
      "B    20\n",
      "C    30\n",
      "Name: 1, dtype: int64\n",
      "-----\n",
      "2\n",
      "A    100\n",
      "B    200\n",
      "C    300\n",
      "Name: 2, dtype: int64\n",
      "-----\n",
      "3\n",
      "A    1000\n",
      "B    2000\n",
      "C    3000\n",
      "Name: 3, dtype: int64\n",
      "-----\n"
     ]
    }
   ],
   "source": [
    "for index, row in df.iterrows():\n",
    "    print(index)\n",
    "    print(row)\n",
    "    print(\"-----\")"
   ]
  },
  {
   "cell_type": "markdown",
   "metadata": {
    "deletable": true,
    "editable": true
   },
   "source": [
    "# 重複・欠損値の扱い"
   ]
  },
  {
   "cell_type": "code",
   "execution_count": 1112,
   "metadata": {
    "collapsed": false,
    "deletable": true,
    "editable": true,
    "scrolled": true
   },
   "outputs": [],
   "source": [
    "df3.dropna?"
   ]
  },
  {
   "cell_type": "code",
   "execution_count": null,
   "metadata": {
    "collapsed": true,
    "deletable": true,
    "editable": true
   },
   "outputs": [],
   "source": [
    "df3.fillna"
   ]
  },
  {
   "cell_type": "markdown",
   "metadata": {
    "deletable": true,
    "editable": true
   },
   "source": [
    "# 行・列に対しての関数の適用"
   ]
  },
  {
   "cell_type": "code",
   "execution_count": 1117,
   "metadata": {
    "collapsed": false,
    "deletable": true,
    "editable": true
   },
   "outputs": [
    {
     "data": {
      "text/html": [
       "<div>\n",
       "<style>\n",
       "    .dataframe thead tr:only-child th {\n",
       "        text-align: right;\n",
       "    }\n",
       "\n",
       "    .dataframe thead th {\n",
       "        text-align: left;\n",
       "    }\n",
       "\n",
       "    .dataframe tbody tr th {\n",
       "        vertical-align: top;\n",
       "    }\n",
       "</style>\n",
       "<table border=\"1\" class=\"dataframe\">\n",
       "  <thead>\n",
       "    <tr style=\"text-align: right;\">\n",
       "      <th></th>\n",
       "      <th>A</th>\n",
       "      <th>B</th>\n",
       "      <th>C</th>\n",
       "      <th>D</th>\n",
       "      <th>E</th>\n",
       "      <th>F</th>\n",
       "      <th>G</th>\n",
       "    </tr>\n",
       "    <tr>\n",
       "      <th>data_idx</th>\n",
       "      <th></th>\n",
       "      <th></th>\n",
       "      <th></th>\n",
       "      <th></th>\n",
       "      <th></th>\n",
       "      <th></th>\n",
       "      <th></th>\n",
       "    </tr>\n",
       "  </thead>\n",
       "  <tbody>\n",
       "    <tr>\n",
       "      <th>data_1</th>\n",
       "      <td>58</td>\n",
       "      <td>-27</td>\n",
       "      <td>31</td>\n",
       "      <td>0.6028</td>\n",
       "      <td>73.922054</td>\n",
       "      <td>0.0179</td>\n",
       "      <td>-0.0102</td>\n",
       "    </tr>\n",
       "    <tr>\n",
       "      <th>data_10</th>\n",
       "      <td>109</td>\n",
       "      <td>-53</td>\n",
       "      <td>56</td>\n",
       "      <td>0.5000</td>\n",
       "      <td>575.585790</td>\n",
       "      <td>0.0346</td>\n",
       "      <td>0.0000</td>\n",
       "    </tr>\n",
       "    <tr>\n",
       "      <th>data_11</th>\n",
       "      <td>77</td>\n",
       "      <td>-44</td>\n",
       "      <td>33</td>\n",
       "      <td>0.6281</td>\n",
       "      <td>144.838806</td>\n",
       "      <td>0.0343</td>\n",
       "      <td>-0.0411</td>\n",
       "    </tr>\n",
       "    <tr>\n",
       "      <th>data_13</th>\n",
       "      <td>91</td>\n",
       "      <td>-46</td>\n",
       "      <td>45</td>\n",
       "      <td>0.5220</td>\n",
       "      <td>896.439718</td>\n",
       "      <td>0.0044</td>\n",
       "      <td>-0.0082</td>\n",
       "    </tr>\n",
       "    <tr>\n",
       "      <th>data_19</th>\n",
       "      <td>6</td>\n",
       "      <td>-2</td>\n",
       "      <td>4</td>\n",
       "      <td>0.5453</td>\n",
       "      <td>72.282932</td>\n",
       "      <td>0.0220</td>\n",
       "      <td>-0.0707</td>\n",
       "    </tr>\n",
       "    <tr>\n",
       "      <th>data_2</th>\n",
       "      <td>17</td>\n",
       "      <td>3</td>\n",
       "      <td>14</td>\n",
       "      <td>0.7112</td>\n",
       "      <td>36.759859</td>\n",
       "      <td>0.0263</td>\n",
       "      <td>0.0009</td>\n",
       "    </tr>\n",
       "    <tr>\n",
       "      <th>data_20</th>\n",
       "      <td>20</td>\n",
       "      <td>-4</td>\n",
       "      <td>16</td>\n",
       "      <td>0.5714</td>\n",
       "      <td>3.293830</td>\n",
       "      <td>0.0469</td>\n",
       "      <td>-0.0441</td>\n",
       "    </tr>\n",
       "    <tr>\n",
       "      <th>data_21</th>\n",
       "      <td>96</td>\n",
       "      <td>44</td>\n",
       "      <td>52</td>\n",
       "      <td>0.5048</td>\n",
       "      <td>515.410500</td>\n",
       "      <td>0.0324</td>\n",
       "      <td>-0.0818</td>\n",
       "    </tr>\n",
       "    <tr>\n",
       "      <th>data_22</th>\n",
       "      <td>153</td>\n",
       "      <td>83</td>\n",
       "      <td>70</td>\n",
       "      <td>0.5333</td>\n",
       "      <td>209.649855</td>\n",
       "      <td>0.0114</td>\n",
       "      <td>-0.0009</td>\n",
       "    </tr>\n",
       "    <tr>\n",
       "      <th>data_23</th>\n",
       "      <td>45</td>\n",
       "      <td>14</td>\n",
       "      <td>31</td>\n",
       "      <td>0.6462</td>\n",
       "      <td>192.909121</td>\n",
       "      <td>0.0086</td>\n",
       "      <td>-0.0102</td>\n",
       "    </tr>\n",
       "    <tr>\n",
       "      <th>data_24</th>\n",
       "      <td>26</td>\n",
       "      <td>-18</td>\n",
       "      <td>8</td>\n",
       "      <td>0.7498</td>\n",
       "      <td>82.665797</td>\n",
       "      <td>0.0193</td>\n",
       "      <td>-0.0026</td>\n",
       "    </tr>\n",
       "    <tr>\n",
       "      <th>data_25</th>\n",
       "      <td>25</td>\n",
       "      <td>16</td>\n",
       "      <td>9</td>\n",
       "      <td>0.7223</td>\n",
       "      <td>50.758144</td>\n",
       "      <td>0.0235</td>\n",
       "      <td>-0.0065</td>\n",
       "    </tr>\n",
       "    <tr>\n",
       "      <th>data_27</th>\n",
       "      <td>14</td>\n",
       "      <td>-13</td>\n",
       "      <td>1</td>\n",
       "      <td>0.5531</td>\n",
       "      <td>0.369251</td>\n",
       "      <td>0.0182</td>\n",
       "      <td>-0.0337</td>\n",
       "    </tr>\n",
       "    <tr>\n",
       "      <th>data_28</th>\n",
       "      <td>64</td>\n",
       "      <td>27</td>\n",
       "      <td>37</td>\n",
       "      <td>0.5323</td>\n",
       "      <td>399.306169</td>\n",
       "      <td>0.0183</td>\n",
       "      <td>-0.0174</td>\n",
       "    </tr>\n",
       "    <tr>\n",
       "      <th>data_4</th>\n",
       "      <td>59</td>\n",
       "      <td>31</td>\n",
       "      <td>28</td>\n",
       "      <td>0.5564</td>\n",
       "      <td>270.819398</td>\n",
       "      <td>0.0182</td>\n",
       "      <td>-0.0349</td>\n",
       "    </tr>\n",
       "    <tr>\n",
       "      <th>data_5</th>\n",
       "      <td>59</td>\n",
       "      <td>30</td>\n",
       "      <td>29</td>\n",
       "      <td>0.5404</td>\n",
       "      <td>138.188987</td>\n",
       "      <td>0.0222</td>\n",
       "      <td>-0.0439</td>\n",
       "    </tr>\n",
       "    <tr>\n",
       "      <th>data_6</th>\n",
       "      <td>137</td>\n",
       "      <td>-50</td>\n",
       "      <td>87</td>\n",
       "      <td>0.5330</td>\n",
       "      <td>1603.301689</td>\n",
       "      <td>0.0061</td>\n",
       "      <td>-0.0221</td>\n",
       "    </tr>\n",
       "    <tr>\n",
       "      <th>data_7</th>\n",
       "      <td>39</td>\n",
       "      <td>-32</td>\n",
       "      <td>7</td>\n",
       "      <td>0.5783</td>\n",
       "      <td>136.917725</td>\n",
       "      <td>0.0112</td>\n",
       "      <td>-0.0278</td>\n",
       "    </tr>\n",
       "    <tr>\n",
       "      <th>data_9</th>\n",
       "      <td>81</td>\n",
       "      <td>35</td>\n",
       "      <td>46</td>\n",
       "      <td>0.5198</td>\n",
       "      <td>422.065428</td>\n",
       "      <td>0.0123</td>\n",
       "      <td>-0.0054</td>\n",
       "    </tr>\n",
       "  </tbody>\n",
       "</table>\n",
       "</div>"
      ],
      "text/plain": [
       "            A   B   C       D            E       F       G\n",
       "data_idx                                                  \n",
       "data_1     58 -27  31  0.6028    73.922054  0.0179 -0.0102\n",
       "data_10   109 -53  56  0.5000   575.585790  0.0346  0.0000\n",
       "data_11    77 -44  33  0.6281   144.838806  0.0343 -0.0411\n",
       "data_13    91 -46  45  0.5220   896.439718  0.0044 -0.0082\n",
       "data_19     6  -2   4  0.5453    72.282932  0.0220 -0.0707\n",
       "data_2     17   3  14  0.7112    36.759859  0.0263  0.0009\n",
       "data_20    20  -4  16  0.5714     3.293830  0.0469 -0.0441\n",
       "data_21    96  44  52  0.5048   515.410500  0.0324 -0.0818\n",
       "data_22   153  83  70  0.5333   209.649855  0.0114 -0.0009\n",
       "data_23    45  14  31  0.6462   192.909121  0.0086 -0.0102\n",
       "data_24    26 -18   8  0.7498    82.665797  0.0193 -0.0026\n",
       "data_25    25  16   9  0.7223    50.758144  0.0235 -0.0065\n",
       "data_27    14 -13   1  0.5531     0.369251  0.0182 -0.0337\n",
       "data_28    64  27  37  0.5323   399.306169  0.0183 -0.0174\n",
       "data_4     59  31  28  0.5564   270.819398  0.0182 -0.0349\n",
       "data_5     59  30  29  0.5404   138.188987  0.0222 -0.0439\n",
       "data_6    137 -50  87  0.5330  1603.301689  0.0061 -0.0221\n",
       "data_7     39 -32   7  0.5783   136.917725  0.0112 -0.0278\n",
       "data_9     81  35  46  0.5198   422.065428  0.0123 -0.0054"
      ]
     },
     "execution_count": 1117,
     "metadata": {},
     "output_type": "execute_result"
    }
   ],
   "source": [
    "df3.drop_duplicates(subset=\"D\")"
   ]
  },
  {
   "cell_type": "markdown",
   "metadata": {
    "deletable": true,
    "editable": true
   },
   "source": [
    "# データフレームの結合"
   ]
  },
  {
   "cell_type": "code",
   "execution_count": 170,
   "metadata": {
    "collapsed": false,
    "deletable": true,
    "editable": true,
    "scrolled": false
   },
   "outputs": [
    {
     "data": {
      "text/html": [
       "<div>\n",
       "<style>\n",
       "    .dataframe thead tr:only-child th {\n",
       "        text-align: right;\n",
       "    }\n",
       "\n",
       "    .dataframe thead th {\n",
       "        text-align: left;\n",
       "    }\n",
       "\n",
       "    .dataframe tbody tr th {\n",
       "        vertical-align: top;\n",
       "    }\n",
       "</style>\n",
       "<table border=\"1\" class=\"dataframe\">\n",
       "  <thead>\n",
       "    <tr style=\"text-align: right;\">\n",
       "      <th></th>\n",
       "      <th>DOB</th>\n",
       "      <th>age</th>\n",
       "      <th>alive</th>\n",
       "      <th>family_name</th>\n",
       "      <th>name</th>\n",
       "    </tr>\n",
       "  </thead>\n",
       "  <tbody>\n",
       "    <tr>\n",
       "      <th>1</th>\n",
       "      <td>1942/026/18</td>\n",
       "      <td>76.0</td>\n",
       "      <td>True</td>\n",
       "      <td>McCartney</td>\n",
       "      <td>Paul</td>\n",
       "    </tr>\n",
       "    <tr>\n",
       "      <th>3</th>\n",
       "      <td>1940/07/07</td>\n",
       "      <td>78.0</td>\n",
       "      <td>True</td>\n",
       "      <td>Starr</td>\n",
       "      <td>Ringo</td>\n",
       "    </tr>\n",
       "  </tbody>\n",
       "</table>\n",
       "</div>"
      ],
      "text/plain": [
       "           DOB   age  alive family_name   name\n",
       "1  1942/026/18  76.0   True   McCartney   Paul\n",
       "3   1940/07/07  78.0   True       Starr  Ringo"
      ]
     },
     "execution_count": 170,
     "metadata": {},
     "output_type": "execute_result"
    }
   ],
   "source": [
    "df2[df2[\"alive\"]]"
   ]
  },
  {
   "cell_type": "code",
   "execution_count": 272,
   "metadata": {
    "collapsed": false,
    "deletable": true,
    "editable": true
   },
   "outputs": [],
   "source": [
    "means=df3.mean()"
   ]
  },
  {
   "cell_type": "code",
   "execution_count": 275,
   "metadata": {
    "collapsed": false,
    "deletable": true,
    "editable": true
   },
   "outputs": [
    {
     "data": {
      "text/html": [
       "<div>\n",
       "<style>\n",
       "    .dataframe thead tr:only-child th {\n",
       "        text-align: right;\n",
       "    }\n",
       "\n",
       "    .dataframe thead th {\n",
       "        text-align: left;\n",
       "    }\n",
       "\n",
       "    .dataframe tbody tr th {\n",
       "        vertical-align: top;\n",
       "    }\n",
       "</style>\n",
       "<table border=\"1\" class=\"dataframe\">\n",
       "  <thead>\n",
       "    <tr style=\"text-align: right;\">\n",
       "      <th></th>\n",
       "      <th>A</th>\n",
       "      <th>B</th>\n",
       "      <th>C</th>\n",
       "      <th>D</th>\n",
       "      <th>E</th>\n",
       "      <th>F</th>\n",
       "      <th>G</th>\n",
       "    </tr>\n",
       "    <tr>\n",
       "      <th>data_idx</th>\n",
       "      <th></th>\n",
       "      <th></th>\n",
       "      <th></th>\n",
       "      <th></th>\n",
       "      <th></th>\n",
       "      <th></th>\n",
       "      <th></th>\n",
       "    </tr>\n",
       "  </thead>\n",
       "  <tbody>\n",
       "    <tr>\n",
       "      <th>data_1</th>\n",
       "      <td>58</td>\n",
       "      <td>-27</td>\n",
       "      <td>31</td>\n",
       "      <td>0.6028</td>\n",
       "      <td>73.922054</td>\n",
       "      <td>0.0179</td>\n",
       "      <td>-0.0102</td>\n",
       "    </tr>\n",
       "    <tr>\n",
       "      <th>data_2</th>\n",
       "      <td>17</td>\n",
       "      <td>3</td>\n",
       "      <td>14</td>\n",
       "      <td>0.7112</td>\n",
       "      <td>36.759859</td>\n",
       "      <td>0.0263</td>\n",
       "      <td>0.0009</td>\n",
       "    </tr>\n",
       "    <tr>\n",
       "      <th>data_3</th>\n",
       "      <td>169</td>\n",
       "      <td>48</td>\n",
       "      <td>121</td>\n",
       "      <td>0.5000</td>\n",
       "      <td>1801.404597</td>\n",
       "      <td>0.0383</td>\n",
       "      <td>0.0000</td>\n",
       "    </tr>\n",
       "    <tr>\n",
       "      <th>data_4</th>\n",
       "      <td>59</td>\n",
       "      <td>31</td>\n",
       "      <td>28</td>\n",
       "      <td>0.5564</td>\n",
       "      <td>270.819398</td>\n",
       "      <td>0.0182</td>\n",
       "      <td>-0.0349</td>\n",
       "    </tr>\n",
       "    <tr>\n",
       "      <th>data_5</th>\n",
       "      <td>59</td>\n",
       "      <td>30</td>\n",
       "      <td>29</td>\n",
       "      <td>0.5404</td>\n",
       "      <td>NaN</td>\n",
       "      <td>0.0222</td>\n",
       "      <td>-0.0439</td>\n",
       "    </tr>\n",
       "  </tbody>\n",
       "</table>\n",
       "</div>"
      ],
      "text/plain": [
       "            A   B    C       D            E       F       G\n",
       "data_idx                                                   \n",
       "data_1     58 -27   31  0.6028    73.922054  0.0179 -0.0102\n",
       "data_2     17   3   14  0.7112    36.759859  0.0263  0.0009\n",
       "data_3    169  48  121  0.5000  1801.404597  0.0383  0.0000\n",
       "data_4     59  31   28  0.5564   270.819398  0.0182 -0.0349\n",
       "data_5     59  30   29  0.5404          NaN  0.0222 -0.0439"
      ]
     },
     "execution_count": 275,
     "metadata": {},
     "output_type": "execute_result"
    }
   ],
   "source": [
    "df3.head()"
   ]
  },
  {
   "cell_type": "code",
   "execution_count": 277,
   "metadata": {
    "collapsed": false,
    "deletable": true,
    "editable": true
   },
   "outputs": [
    {
     "data": {
      "text/plain": [
       "6    1\n",
       "5    1\n",
       "3    1\n",
       "1    1\n",
       "8    1\n",
       "dtype: int64"
      ]
     },
     "execution_count": 277,
     "metadata": {},
     "output_type": "execute_result"
    }
   ],
   "source": [
    "s.value_counts()"
   ]
  },
  {
   "cell_type": "code",
   "execution_count": 280,
   "metadata": {
    "collapsed": true,
    "deletable": true,
    "editable": true
   },
   "outputs": [],
   "source": [
    "df2 = pd.DataFrame({'A' : 1.,\n",
    "                    'B' : pd.Timestamp('20130102'),\n",
    "                    'C' : pd.Series(1,index=list(range(4)),dtype='float32'),\n",
    "                    'D' : np.array([3] * 4,dtype='int32'),\n",
    "                    'E' : pd.Categorical([\"test\",\"train\",\"test\",\"train\"]),\n",
    "                    'F' : 'foo' })"
   ]
  },
  {
   "cell_type": "code",
   "execution_count": 286,
   "metadata": {
    "collapsed": false,
    "deletable": true,
    "editable": true
   },
   "outputs": [
    {
     "data": {
      "text/plain": [
       "0    True\n",
       "1    True\n",
       "2    True\n",
       "3    True\n",
       "Name: F, dtype: bool"
      ]
     },
     "execution_count": 286,
     "metadata": {},
     "output_type": "execute_result"
    }
   ],
   "source": [
    "df2.F.str.startswith(\"foo\")"
   ]
  },
  {
   "cell_type": "code",
   "execution_count": 281,
   "metadata": {
    "collapsed": false,
    "deletable": true,
    "editable": true
   },
   "outputs": [
    {
     "ename": "AttributeError",
     "evalue": "Can only use .str accessor with string values, which use np.object_ dtype in pandas",
     "output_type": "error",
     "traceback": [
      "\u001b[0;31m---------------------------------------------------------------------------\u001b[0m",
      "\u001b[0;31mAttributeError\u001b[0m                            Traceback (most recent call last)",
      "\u001b[0;32m<ipython-input-281-66e70c50983b>\u001b[0m in \u001b[0;36m<module>\u001b[0;34m()\u001b[0m\n\u001b[0;32m----> 1\u001b[0;31m \u001b[0mdf2\u001b[0m\u001b[0;34m.\u001b[0m\u001b[0mA\u001b[0m\u001b[0;34m.\u001b[0m\u001b[0mstr\u001b[0m\u001b[0;34m.\u001b[0m\u001b[0mlower\u001b[0m\u001b[0;34m(\u001b[0m\u001b[0;34m)\u001b[0m\u001b[0;34m\u001b[0m\u001b[0m\n\u001b[0m",
      "\u001b[0;32m/Users/tanizawa/.anyenv/envs/pyenv/versions/3.6.0/lib/python3.6/site-packages/pandas/core/generic.py\u001b[0m in \u001b[0;36m__getattr__\u001b[0;34m(self, name)\u001b[0m\n\u001b[1;32m   3075\u001b[0m         if (name in self._internal_names_set or name in self._metadata or\n\u001b[1;32m   3076\u001b[0m                 name in self._accessors):\n\u001b[0;32m-> 3077\u001b[0;31m             \u001b[0;32mreturn\u001b[0m \u001b[0mobject\u001b[0m\u001b[0;34m.\u001b[0m\u001b[0m__getattribute__\u001b[0m\u001b[0;34m(\u001b[0m\u001b[0mself\u001b[0m\u001b[0;34m,\u001b[0m \u001b[0mname\u001b[0m\u001b[0;34m)\u001b[0m\u001b[0;34m\u001b[0m\u001b[0m\n\u001b[0m\u001b[1;32m   3078\u001b[0m         \u001b[0;32melse\u001b[0m\u001b[0;34m:\u001b[0m\u001b[0;34m\u001b[0m\u001b[0m\n\u001b[1;32m   3079\u001b[0m             \u001b[0;32mif\u001b[0m \u001b[0mname\u001b[0m \u001b[0;32min\u001b[0m \u001b[0mself\u001b[0m\u001b[0;34m.\u001b[0m\u001b[0m_info_axis\u001b[0m\u001b[0;34m:\u001b[0m\u001b[0;34m\u001b[0m\u001b[0m\n",
      "\u001b[0;32m/Users/tanizawa/.anyenv/envs/pyenv/versions/3.6.0/lib/python3.6/site-packages/pandas/core/base.py\u001b[0m in \u001b[0;36m__get__\u001b[0;34m(self, instance, owner)\u001b[0m\n\u001b[1;32m    241\u001b[0m             \u001b[0;31m# this ensures that Series.str.<method> is well defined\u001b[0m\u001b[0;34m\u001b[0m\u001b[0;34m\u001b[0m\u001b[0m\n\u001b[1;32m    242\u001b[0m             \u001b[0;32mreturn\u001b[0m \u001b[0mself\u001b[0m\u001b[0;34m.\u001b[0m\u001b[0maccessor_cls\u001b[0m\u001b[0;34m\u001b[0m\u001b[0m\n\u001b[0;32m--> 243\u001b[0;31m         \u001b[0;32mreturn\u001b[0m \u001b[0mself\u001b[0m\u001b[0;34m.\u001b[0m\u001b[0mconstruct_accessor\u001b[0m\u001b[0;34m(\u001b[0m\u001b[0minstance\u001b[0m\u001b[0;34m)\u001b[0m\u001b[0;34m\u001b[0m\u001b[0m\n\u001b[0m\u001b[1;32m    244\u001b[0m \u001b[0;34m\u001b[0m\u001b[0m\n\u001b[1;32m    245\u001b[0m     \u001b[0;32mdef\u001b[0m \u001b[0m__set__\u001b[0m\u001b[0;34m(\u001b[0m\u001b[0mself\u001b[0m\u001b[0;34m,\u001b[0m \u001b[0minstance\u001b[0m\u001b[0;34m,\u001b[0m \u001b[0mvalue\u001b[0m\u001b[0;34m)\u001b[0m\u001b[0;34m:\u001b[0m\u001b[0;34m\u001b[0m\u001b[0m\n",
      "\u001b[0;32m/Users/tanizawa/.anyenv/envs/pyenv/versions/3.6.0/lib/python3.6/site-packages/pandas/core/strings.py\u001b[0m in \u001b[0;36m_make_str_accessor\u001b[0;34m(self)\u001b[0m\n\u001b[1;32m   1907\u001b[0m             \u001b[0;31m# (instead of test for object dtype), but that isn't practical for\u001b[0m\u001b[0;34m\u001b[0m\u001b[0;34m\u001b[0m\u001b[0m\n\u001b[1;32m   1908\u001b[0m             \u001b[0;31m# performance reasons until we have a str dtype (GH 9343)\u001b[0m\u001b[0;34m\u001b[0m\u001b[0;34m\u001b[0m\u001b[0m\n\u001b[0;32m-> 1909\u001b[0;31m             raise AttributeError(\"Can only use .str accessor with string \"\n\u001b[0m\u001b[1;32m   1910\u001b[0m                                  \u001b[0;34m\"values, which use np.object_ dtype in \"\u001b[0m\u001b[0;34m\u001b[0m\u001b[0m\n\u001b[1;32m   1911\u001b[0m                                  \"pandas\")\n",
      "\u001b[0;31mAttributeError\u001b[0m: Can only use .str accessor with string values, which use np.object_ dtype in pandas"
     ]
    }
   ],
   "source": [
    "df2.A.str.lower()"
   ]
  },
  {
   "cell_type": "code",
   "execution_count": 198,
   "metadata": {
    "collapsed": true,
    "deletable": true,
    "editable": true
   },
   "outputs": [],
   "source": [
    "pd.read_table?"
   ]
  },
  {
   "cell_type": "code",
   "execution_count": 445,
   "metadata": {
    "collapsed": true,
    "deletable": true,
    "editable": true
   },
   "outputs": [],
   "source": [
    "pd.DataFrame.applymap?"
   ]
  },
  {
   "cell_type": "code",
   "execution_count": 446,
   "metadata": {
    "collapsed": false,
    "deletable": true,
    "editable": true
   },
   "outputs": [
    {
     "data": {
      "text/plain": [
       "A    data_idx\\ndata_1      58.0\\ndata_2      17.0\\n...\n",
       "B    data_idx\\ndata_1     -27.0\\ndata_2       3.0\\n...\n",
       "C    data_idx\\ndata_1      31.0\\ndata_2      14.0\\n...\n",
       "D    data_idx\\ndata_1     0.6028\\ndata_2     0.7112...\n",
       "E    data_idx\\ndata_1       73.922054\\ndata_2      ...\n",
       "F    data_idx\\ndata_1     0.0179\\ndata_2     0.0263...\n",
       "G    data_idx\\ndata_1    -0.0102\\ndata_2     0.0009...\n",
       "dtype: object"
      ]
     },
     "execution_count": 446,
     "metadata": {},
     "output_type": "execute_result"
    }
   ],
   "source": [
    "df3.apply(str)"
   ]
  },
  {
   "cell_type": "code",
   "execution_count": 451,
   "metadata": {
    "collapsed": false,
    "deletable": true,
    "editable": true
   },
   "outputs": [
    {
     "data": {
      "text/plain": [
       "10823.149937458002"
      ]
     },
     "execution_count": 451,
     "metadata": {},
     "output_type": "execute_result"
    }
   ],
   "source": []
  },
  {
   "cell_type": "code",
   "execution_count": 205,
   "metadata": {
    "collapsed": false,
    "deletable": true,
    "editable": true
   },
   "outputs": [],
   "source": [
    "df3.sort_index?"
   ]
  },
  {
   "cell_type": "code",
   "execution_count": 208,
   "metadata": {
    "collapsed": false,
    "deletable": true,
    "editable": true
   },
   "outputs": [],
   "source": [
    "def test(x):\n",
    "    return x.split(\"_\")[-1] \n",
    "df3[\"data_num\"] = df3.index.map(test)"
   ]
  },
  {
   "cell_type": "code",
   "execution_count": 209,
   "metadata": {
    "collapsed": false,
    "deletable": true,
    "editable": true
   },
   "outputs": [
    {
     "data": {
      "text/html": [
       "<div>\n",
       "<style>\n",
       "    .dataframe thead tr:only-child th {\n",
       "        text-align: right;\n",
       "    }\n",
       "\n",
       "    .dataframe thead th {\n",
       "        text-align: left;\n",
       "    }\n",
       "\n",
       "    .dataframe tbody tr th {\n",
       "        vertical-align: top;\n",
       "    }\n",
       "</style>\n",
       "<table border=\"1\" class=\"dataframe\">\n",
       "  <thead>\n",
       "    <tr style=\"text-align: right;\">\n",
       "      <th></th>\n",
       "      <th>A</th>\n",
       "      <th>B</th>\n",
       "      <th>C</th>\n",
       "      <th>D</th>\n",
       "      <th>E</th>\n",
       "      <th>F</th>\n",
       "      <th>G</th>\n",
       "      <th>data_num</th>\n",
       "    </tr>\n",
       "    <tr>\n",
       "      <th>data_idx</th>\n",
       "      <th></th>\n",
       "      <th></th>\n",
       "      <th></th>\n",
       "      <th></th>\n",
       "      <th></th>\n",
       "      <th></th>\n",
       "      <th></th>\n",
       "      <th></th>\n",
       "    </tr>\n",
       "  </thead>\n",
       "  <tbody>\n",
       "    <tr>\n",
       "      <th>data_1</th>\n",
       "      <td>58</td>\n",
       "      <td>-27</td>\n",
       "      <td>31</td>\n",
       "      <td>0.6028</td>\n",
       "      <td>73.922054</td>\n",
       "      <td>0.0179</td>\n",
       "      <td>-0.0102</td>\n",
       "      <td>1</td>\n",
       "    </tr>\n",
       "    <tr>\n",
       "      <th>data_2</th>\n",
       "      <td>17</td>\n",
       "      <td>3</td>\n",
       "      <td>14</td>\n",
       "      <td>0.7112</td>\n",
       "      <td>36.759859</td>\n",
       "      <td>0.0263</td>\n",
       "      <td>0.0009</td>\n",
       "      <td>2</td>\n",
       "    </tr>\n",
       "    <tr>\n",
       "      <th>data_3</th>\n",
       "      <td>169</td>\n",
       "      <td>48</td>\n",
       "      <td>121</td>\n",
       "      <td>0.5000</td>\n",
       "      <td>1801.404597</td>\n",
       "      <td>0.0383</td>\n",
       "      <td>0.0000</td>\n",
       "      <td>3</td>\n",
       "    </tr>\n",
       "    <tr>\n",
       "      <th>data_4</th>\n",
       "      <td>59</td>\n",
       "      <td>31</td>\n",
       "      <td>28</td>\n",
       "      <td>0.5564</td>\n",
       "      <td>270.819398</td>\n",
       "      <td>0.0182</td>\n",
       "      <td>-0.0349</td>\n",
       "      <td>4</td>\n",
       "    </tr>\n",
       "    <tr>\n",
       "      <th>data_5</th>\n",
       "      <td>59</td>\n",
       "      <td>30</td>\n",
       "      <td>29</td>\n",
       "      <td>0.5404</td>\n",
       "      <td>NaN</td>\n",
       "      <td>0.0222</td>\n",
       "      <td>-0.0439</td>\n",
       "      <td>5</td>\n",
       "    </tr>\n",
       "    <tr>\n",
       "      <th>data_6</th>\n",
       "      <td>137</td>\n",
       "      <td>-50</td>\n",
       "      <td>87</td>\n",
       "      <td>0.5330</td>\n",
       "      <td>NaN</td>\n",
       "      <td>0.0061</td>\n",
       "      <td>-0.0221</td>\n",
       "      <td>6</td>\n",
       "    </tr>\n",
       "    <tr>\n",
       "      <th>data_7</th>\n",
       "      <td>39</td>\n",
       "      <td>-32</td>\n",
       "      <td>7</td>\n",
       "      <td>0.5783</td>\n",
       "      <td>136.917725</td>\n",
       "      <td>0.0112</td>\n",
       "      <td>-0.0278</td>\n",
       "      <td>7</td>\n",
       "    </tr>\n",
       "    <tr>\n",
       "      <th>data_8</th>\n",
       "      <td>39</td>\n",
       "      <td>32</td>\n",
       "      <td>7</td>\n",
       "      <td>NaN</td>\n",
       "      <td>2.079866</td>\n",
       "      <td>0.0271</td>\n",
       "      <td>-0.0013</td>\n",
       "      <td>8</td>\n",
       "    </tr>\n",
       "    <tr>\n",
       "      <th>data_9</th>\n",
       "      <td>81</td>\n",
       "      <td>35</td>\n",
       "      <td>46</td>\n",
       "      <td>0.5198</td>\n",
       "      <td>422.065428</td>\n",
       "      <td>0.0123</td>\n",
       "      <td>-0.0054</td>\n",
       "      <td>9</td>\n",
       "    </tr>\n",
       "    <tr>\n",
       "      <th>data_10</th>\n",
       "      <td>109</td>\n",
       "      <td>-53</td>\n",
       "      <td>56</td>\n",
       "      <td>0.5000</td>\n",
       "      <td>575.585790</td>\n",
       "      <td>0.0346</td>\n",
       "      <td>0.0000</td>\n",
       "      <td>10</td>\n",
       "    </tr>\n",
       "    <tr>\n",
       "      <th>data_11</th>\n",
       "      <td>77</td>\n",
       "      <td>-44</td>\n",
       "      <td>33</td>\n",
       "      <td>0.6281</td>\n",
       "      <td>144.838806</td>\n",
       "      <td>0.0343</td>\n",
       "      <td>-0.0411</td>\n",
       "      <td>11</td>\n",
       "    </tr>\n",
       "    <tr>\n",
       "      <th>data_12</th>\n",
       "      <td>181</td>\n",
       "      <td>126</td>\n",
       "      <td>55</td>\n",
       "      <td>0.5000</td>\n",
       "      <td>804.799996</td>\n",
       "      <td>0.0551</td>\n",
       "      <td>0.0000</td>\n",
       "      <td>12</td>\n",
       "    </tr>\n",
       "    <tr>\n",
       "      <th>data_13</th>\n",
       "      <td>91</td>\n",
       "      <td>-46</td>\n",
       "      <td>45</td>\n",
       "      <td>0.5220</td>\n",
       "      <td>896.439718</td>\n",
       "      <td>0.0044</td>\n",
       "      <td>-0.0082</td>\n",
       "      <td>13</td>\n",
       "    </tr>\n",
       "    <tr>\n",
       "      <th>data_14</th>\n",
       "      <td>133</td>\n",
       "      <td>-70</td>\n",
       "      <td>63</td>\n",
       "      <td>0.5000</td>\n",
       "      <td>374.867722</td>\n",
       "      <td>0.0420</td>\n",
       "      <td>0.0000</td>\n",
       "      <td>14</td>\n",
       "    </tr>\n",
       "    <tr>\n",
       "      <th>data_15</th>\n",
       "      <td>39</td>\n",
       "      <td>22</td>\n",
       "      <td>17</td>\n",
       "      <td>0.5000</td>\n",
       "      <td>137.368196</td>\n",
       "      <td>0.0173</td>\n",
       "      <td>0.0000</td>\n",
       "      <td>15</td>\n",
       "    </tr>\n",
       "    <tr>\n",
       "      <th>data_16</th>\n",
       "      <td>36</td>\n",
       "      <td>0</td>\n",
       "      <td>36</td>\n",
       "      <td>0.5000</td>\n",
       "      <td>63.004120</td>\n",
       "      <td>0.0242</td>\n",
       "      <td>0.0000</td>\n",
       "      <td>16</td>\n",
       "    </tr>\n",
       "    <tr>\n",
       "      <th>data_17</th>\n",
       "      <td>50</td>\n",
       "      <td>0</td>\n",
       "      <td>50</td>\n",
       "      <td>0.5000</td>\n",
       "      <td>214.258945</td>\n",
       "      <td>0.0020</td>\n",
       "      <td>0.0000</td>\n",
       "      <td>17</td>\n",
       "    </tr>\n",
       "    <tr>\n",
       "      <th>data_18</th>\n",
       "      <td>11</td>\n",
       "      <td>7</td>\n",
       "      <td>4</td>\n",
       "      <td>NaN</td>\n",
       "      <td>69.762676</td>\n",
       "      <td>0.0330</td>\n",
       "      <td>0.0000</td>\n",
       "      <td>18</td>\n",
       "    </tr>\n",
       "    <tr>\n",
       "      <th>data_19</th>\n",
       "      <td>6</td>\n",
       "      <td>-2</td>\n",
       "      <td>4</td>\n",
       "      <td>0.5453</td>\n",
       "      <td>72.282932</td>\n",
       "      <td>0.0220</td>\n",
       "      <td>-0.0707</td>\n",
       "      <td>19</td>\n",
       "    </tr>\n",
       "    <tr>\n",
       "      <th>data_20</th>\n",
       "      <td>20</td>\n",
       "      <td>-4</td>\n",
       "      <td>16</td>\n",
       "      <td>0.5714</td>\n",
       "      <td>3.293830</td>\n",
       "      <td>0.0469</td>\n",
       "      <td>-0.0441</td>\n",
       "      <td>20</td>\n",
       "    </tr>\n",
       "    <tr>\n",
       "      <th>data_21</th>\n",
       "      <td>96</td>\n",
       "      <td>44</td>\n",
       "      <td>52</td>\n",
       "      <td>0.5048</td>\n",
       "      <td>515.410500</td>\n",
       "      <td>0.0324</td>\n",
       "      <td>-0.0818</td>\n",
       "      <td>21</td>\n",
       "    </tr>\n",
       "    <tr>\n",
       "      <th>data_22</th>\n",
       "      <td>153</td>\n",
       "      <td>83</td>\n",
       "      <td>70</td>\n",
       "      <td>0.5333</td>\n",
       "      <td>209.649855</td>\n",
       "      <td>0.0114</td>\n",
       "      <td>-0.0009</td>\n",
       "      <td>22</td>\n",
       "    </tr>\n",
       "    <tr>\n",
       "      <th>data_23</th>\n",
       "      <td>45</td>\n",
       "      <td>14</td>\n",
       "      <td>31</td>\n",
       "      <td>0.6462</td>\n",
       "      <td>NaN</td>\n",
       "      <td>0.0086</td>\n",
       "      <td>-0.0102</td>\n",
       "      <td>23</td>\n",
       "    </tr>\n",
       "    <tr>\n",
       "      <th>data_24</th>\n",
       "      <td>26</td>\n",
       "      <td>-18</td>\n",
       "      <td>8</td>\n",
       "      <td>0.7498</td>\n",
       "      <td>82.665797</td>\n",
       "      <td>0.0193</td>\n",
       "      <td>-0.0026</td>\n",
       "      <td>24</td>\n",
       "    </tr>\n",
       "    <tr>\n",
       "      <th>data_25</th>\n",
       "      <td>25</td>\n",
       "      <td>16</td>\n",
       "      <td>9</td>\n",
       "      <td>0.7223</td>\n",
       "      <td>50.758144</td>\n",
       "      <td>0.0235</td>\n",
       "      <td>-0.0065</td>\n",
       "      <td>25</td>\n",
       "    </tr>\n",
       "    <tr>\n",
       "      <th>data_26</th>\n",
       "      <td>15</td>\n",
       "      <td>-15</td>\n",
       "      <td>0</td>\n",
       "      <td>0.5000</td>\n",
       "      <td>0.000000</td>\n",
       "      <td>0.0130</td>\n",
       "      <td>-0.0999</td>\n",
       "      <td>26</td>\n",
       "    </tr>\n",
       "    <tr>\n",
       "      <th>data_27</th>\n",
       "      <td>14</td>\n",
       "      <td>-13</td>\n",
       "      <td>1</td>\n",
       "      <td>0.5531</td>\n",
       "      <td>0.369251</td>\n",
       "      <td>0.0182</td>\n",
       "      <td>-0.0337</td>\n",
       "      <td>27</td>\n",
       "    </tr>\n",
       "    <tr>\n",
       "      <th>data_28</th>\n",
       "      <td>64</td>\n",
       "      <td>27</td>\n",
       "      <td>37</td>\n",
       "      <td>0.5323</td>\n",
       "      <td>399.306169</td>\n",
       "      <td>0.0183</td>\n",
       "      <td>-0.0174</td>\n",
       "      <td>28</td>\n",
       "    </tr>\n",
       "    <tr>\n",
       "      <th>data_29</th>\n",
       "      <td>53</td>\n",
       "      <td>34</td>\n",
       "      <td>19</td>\n",
       "      <td>0.5000</td>\n",
       "      <td>128.580865</td>\n",
       "      <td>0.0100</td>\n",
       "      <td>0.0000</td>\n",
       "      <td>29</td>\n",
       "    </tr>\n",
       "    <tr>\n",
       "      <th>data_30</th>\n",
       "      <td>127</td>\n",
       "      <td>-77</td>\n",
       "      <td>50</td>\n",
       "      <td>0.5000</td>\n",
       "      <td>164.149599</td>\n",
       "      <td>0.1493</td>\n",
       "      <td>0.0000</td>\n",
       "      <td>30</td>\n",
       "    </tr>\n",
       "  </tbody>\n",
       "</table>\n",
       "</div>"
      ],
      "text/plain": [
       "            A    B    C       D            E       F       G data_num\n",
       "data_idx                                                             \n",
       "data_1     58  -27   31  0.6028    73.922054  0.0179 -0.0102        1\n",
       "data_2     17    3   14  0.7112    36.759859  0.0263  0.0009        2\n",
       "data_3    169   48  121  0.5000  1801.404597  0.0383  0.0000        3\n",
       "data_4     59   31   28  0.5564   270.819398  0.0182 -0.0349        4\n",
       "data_5     59   30   29  0.5404          NaN  0.0222 -0.0439        5\n",
       "data_6    137  -50   87  0.5330          NaN  0.0061 -0.0221        6\n",
       "data_7     39  -32    7  0.5783   136.917725  0.0112 -0.0278        7\n",
       "data_8     39   32    7     NaN     2.079866  0.0271 -0.0013        8\n",
       "data_9     81   35   46  0.5198   422.065428  0.0123 -0.0054        9\n",
       "data_10   109  -53   56  0.5000   575.585790  0.0346  0.0000       10\n",
       "data_11    77  -44   33  0.6281   144.838806  0.0343 -0.0411       11\n",
       "data_12   181  126   55  0.5000   804.799996  0.0551  0.0000       12\n",
       "data_13    91  -46   45  0.5220   896.439718  0.0044 -0.0082       13\n",
       "data_14   133  -70   63  0.5000   374.867722  0.0420  0.0000       14\n",
       "data_15    39   22   17  0.5000   137.368196  0.0173  0.0000       15\n",
       "data_16    36    0   36  0.5000    63.004120  0.0242  0.0000       16\n",
       "data_17    50    0   50  0.5000   214.258945  0.0020  0.0000       17\n",
       "data_18    11    7    4     NaN    69.762676  0.0330  0.0000       18\n",
       "data_19     6   -2    4  0.5453    72.282932  0.0220 -0.0707       19\n",
       "data_20    20   -4   16  0.5714     3.293830  0.0469 -0.0441       20\n",
       "data_21    96   44   52  0.5048   515.410500  0.0324 -0.0818       21\n",
       "data_22   153   83   70  0.5333   209.649855  0.0114 -0.0009       22\n",
       "data_23    45   14   31  0.6462          NaN  0.0086 -0.0102       23\n",
       "data_24    26  -18    8  0.7498    82.665797  0.0193 -0.0026       24\n",
       "data_25    25   16    9  0.7223    50.758144  0.0235 -0.0065       25\n",
       "data_26    15  -15    0  0.5000     0.000000  0.0130 -0.0999       26\n",
       "data_27    14  -13    1  0.5531     0.369251  0.0182 -0.0337       27\n",
       "data_28    64   27   37  0.5323   399.306169  0.0183 -0.0174       28\n",
       "data_29    53   34   19  0.5000   128.580865  0.0100  0.0000       29\n",
       "data_30   127  -77   50  0.5000   164.149599  0.1493  0.0000       30"
      ]
     },
     "execution_count": 209,
     "metadata": {},
     "output_type": "execute_result"
    }
   ],
   "source": [
    "df3"
   ]
  },
  {
   "cell_type": "code",
   "execution_count": 210,
   "metadata": {
    "collapsed": false,
    "deletable": true,
    "editable": true,
    "scrolled": true
   },
   "outputs": [
    {
     "data": {
      "text/plain": [
       "<bound method DataFrame.fillna of             A    B    C       D            E       F       G data_num\n",
       "data_idx                                                             \n",
       "data_1     58  -27   31  0.6028    73.922054  0.0179 -0.0102        1\n",
       "data_2     17    3   14  0.7112    36.759859  0.0263  0.0009        2\n",
       "data_3    169   48  121  0.5000  1801.404597  0.0383  0.0000        3\n",
       "data_4     59   31   28  0.5564   270.819398  0.0182 -0.0349        4\n",
       "data_5     59   30   29  0.5404          NaN  0.0222 -0.0439        5\n",
       "data_6    137  -50   87  0.5330          NaN  0.0061 -0.0221        6\n",
       "data_7     39  -32    7  0.5783   136.917725  0.0112 -0.0278        7\n",
       "data_8     39   32    7     NaN     2.079866  0.0271 -0.0013        8\n",
       "data_9     81   35   46  0.5198   422.065428  0.0123 -0.0054        9\n",
       "data_10   109  -53   56  0.5000   575.585790  0.0346  0.0000       10\n",
       "data_11    77  -44   33  0.6281   144.838806  0.0343 -0.0411       11\n",
       "data_12   181  126   55  0.5000   804.799996  0.0551  0.0000       12\n",
       "data_13    91  -46   45  0.5220   896.439718  0.0044 -0.0082       13\n",
       "data_14   133  -70   63  0.5000   374.867722  0.0420  0.0000       14\n",
       "data_15    39   22   17  0.5000   137.368196  0.0173  0.0000       15\n",
       "data_16    36    0   36  0.5000    63.004120  0.0242  0.0000       16\n",
       "data_17    50    0   50  0.5000   214.258945  0.0020  0.0000       17\n",
       "data_18    11    7    4     NaN    69.762676  0.0330  0.0000       18\n",
       "data_19     6   -2    4  0.5453    72.282932  0.0220 -0.0707       19\n",
       "data_20    20   -4   16  0.5714     3.293830  0.0469 -0.0441       20\n",
       "data_21    96   44   52  0.5048   515.410500  0.0324 -0.0818       21\n",
       "data_22   153   83   70  0.5333   209.649855  0.0114 -0.0009       22\n",
       "data_23    45   14   31  0.6462          NaN  0.0086 -0.0102       23\n",
       "data_24    26  -18    8  0.7498    82.665797  0.0193 -0.0026       24\n",
       "data_25    25   16    9  0.7223    50.758144  0.0235 -0.0065       25\n",
       "data_26    15  -15    0  0.5000     0.000000  0.0130 -0.0999       26\n",
       "data_27    14  -13    1  0.5531     0.369251  0.0182 -0.0337       27\n",
       "data_28    64   27   37  0.5323   399.306169  0.0183 -0.0174       28\n",
       "data_29    53   34   19  0.5000   128.580865  0.0100  0.0000       29\n",
       "data_30   127  -77   50  0.5000   164.149599  0.1493  0.0000       30>"
      ]
     },
     "execution_count": 210,
     "metadata": {},
     "output_type": "execute_result"
    }
   ],
   "source": [
    "df3.fillna"
   ]
  },
  {
   "cell_type": "code",
   "execution_count": null,
   "metadata": {
    "collapsed": true,
    "deletable": true,
    "editable": true
   },
   "outputs": [],
   "source": [
    "fillna, dropna, head, tail describe, sort_index, sort_values, T, \n",
    "index, values"
   ]
  },
  {
   "cell_type": "code",
   "execution_count": null,
   "metadata": {
    "collapsed": true,
    "deletable": true,
    "editable": true
   },
   "outputs": [],
   "source": []
  },
  {
   "cell_type": "code",
   "execution_count": null,
   "metadata": {
    "collapsed": true,
    "deletable": true,
    "editable": true
   },
   "outputs": [],
   "source": []
  },
  {
   "cell_type": "code",
   "execution_count": 215,
   "metadata": {
    "collapsed": false,
    "deletable": true,
    "editable": true
   },
   "outputs": [
    {
     "data": {
      "text/plain": [
       "0       1\n",
       "1      10\n",
       "2     100\n",
       "3    1000\n",
       "Name: A, dtype: int64"
      ]
     },
     "execution_count": 215,
     "metadata": {},
     "output_type": "execute_result"
    }
   ],
   "source": [
    "# 選択\n",
    "df[\"A\"]"
   ]
  },
  {
   "cell_type": "code",
   "execution_count": 235,
   "metadata": {
    "collapsed": false,
    "deletable": true,
    "editable": true
   },
   "outputs": [
    {
     "data": {
      "text/html": [
       "<div>\n",
       "<style>\n",
       "    .dataframe thead tr:only-child th {\n",
       "        text-align: right;\n",
       "    }\n",
       "\n",
       "    .dataframe thead th {\n",
       "        text-align: left;\n",
       "    }\n",
       "\n",
       "    .dataframe tbody tr th {\n",
       "        vertical-align: top;\n",
       "    }\n",
       "</style>\n",
       "<table border=\"1\" class=\"dataframe\">\n",
       "  <thead>\n",
       "    <tr style=\"text-align: right;\">\n",
       "      <th></th>\n",
       "      <th>A</th>\n",
       "      <th>C</th>\n",
       "    </tr>\n",
       "  </thead>\n",
       "  <tbody>\n",
       "    <tr>\n",
       "      <th>0</th>\n",
       "      <td>1</td>\n",
       "      <td>3</td>\n",
       "    </tr>\n",
       "    <tr>\n",
       "      <th>1</th>\n",
       "      <td>10</td>\n",
       "      <td>30</td>\n",
       "    </tr>\n",
       "    <tr>\n",
       "      <th>2</th>\n",
       "      <td>100</td>\n",
       "      <td>300</td>\n",
       "    </tr>\n",
       "    <tr>\n",
       "      <th>3</th>\n",
       "      <td>1000</td>\n",
       "      <td>3000</td>\n",
       "    </tr>\n",
       "  </tbody>\n",
       "</table>\n",
       "</div>"
      ],
      "text/plain": [
       "      A     C\n",
       "0     1     3\n",
       "1    10    30\n",
       "2   100   300\n",
       "3  1000  3000"
      ]
     },
     "execution_count": 235,
     "metadata": {},
     "output_type": "execute_result"
    }
   ],
   "source": [
    "df[[\"A\",\"C\"]]"
   ]
  },
  {
   "cell_type": "code",
   "execution_count": 236,
   "metadata": {
    "collapsed": false,
    "deletable": true,
    "editable": true
   },
   "outputs": [
    {
     "data": {
      "text/html": [
       "<div>\n",
       "<style>\n",
       "    .dataframe thead tr:only-child th {\n",
       "        text-align: right;\n",
       "    }\n",
       "\n",
       "    .dataframe thead th {\n",
       "        text-align: left;\n",
       "    }\n",
       "\n",
       "    .dataframe tbody tr th {\n",
       "        vertical-align: top;\n",
       "    }\n",
       "</style>\n",
       "<table border=\"1\" class=\"dataframe\">\n",
       "  <thead>\n",
       "    <tr style=\"text-align: right;\">\n",
       "      <th></th>\n",
       "      <th>A</th>\n",
       "      <th>B</th>\n",
       "      <th>C</th>\n",
       "    </tr>\n",
       "  </thead>\n",
       "  <tbody>\n",
       "    <tr>\n",
       "      <th>0</th>\n",
       "      <td>1</td>\n",
       "      <td>2</td>\n",
       "      <td>3</td>\n",
       "    </tr>\n",
       "    <tr>\n",
       "      <th>1</th>\n",
       "      <td>10</td>\n",
       "      <td>20</td>\n",
       "      <td>30</td>\n",
       "    </tr>\n",
       "  </tbody>\n",
       "</table>\n",
       "</div>"
      ],
      "text/plain": [
       "    A   B   C\n",
       "0   1   2   3\n",
       "1  10  20  30"
      ]
     },
     "execution_count": 236,
     "metadata": {},
     "output_type": "execute_result"
    }
   ],
   "source": [
    "df[0:2]  # スライスの指定で行抽出"
   ]
  },
  {
   "cell_type": "code",
   "execution_count": 240,
   "metadata": {
    "collapsed": false,
    "deletable": true,
    "editable": true
   },
   "outputs": [
    {
     "data": {
      "text/html": [
       "<div>\n",
       "<style>\n",
       "    .dataframe thead tr:only-child th {\n",
       "        text-align: right;\n",
       "    }\n",
       "\n",
       "    .dataframe thead th {\n",
       "        text-align: left;\n",
       "    }\n",
       "\n",
       "    .dataframe tbody tr th {\n",
       "        vertical-align: top;\n",
       "    }\n",
       "</style>\n",
       "<table border=\"1\" class=\"dataframe\">\n",
       "  <thead>\n",
       "    <tr style=\"text-align: right;\">\n",
       "      <th></th>\n",
       "      <th>A</th>\n",
       "      <th>B</th>\n",
       "      <th>C</th>\n",
       "      <th>D</th>\n",
       "      <th>E</th>\n",
       "      <th>F</th>\n",
       "      <th>G</th>\n",
       "      <th>data_num</th>\n",
       "    </tr>\n",
       "    <tr>\n",
       "      <th>data_idx</th>\n",
       "      <th></th>\n",
       "      <th></th>\n",
       "      <th></th>\n",
       "      <th></th>\n",
       "      <th></th>\n",
       "      <th></th>\n",
       "      <th></th>\n",
       "      <th></th>\n",
       "    </tr>\n",
       "  </thead>\n",
       "  <tbody>\n",
       "    <tr>\n",
       "      <th>data_1</th>\n",
       "      <td>58</td>\n",
       "      <td>-27</td>\n",
       "      <td>31</td>\n",
       "      <td>0.6028</td>\n",
       "      <td>73.922054</td>\n",
       "      <td>0.0179</td>\n",
       "      <td>-0.0102</td>\n",
       "      <td>1</td>\n",
       "    </tr>\n",
       "    <tr>\n",
       "      <th>data_2</th>\n",
       "      <td>17</td>\n",
       "      <td>3</td>\n",
       "      <td>14</td>\n",
       "      <td>0.7112</td>\n",
       "      <td>36.759859</td>\n",
       "      <td>0.0263</td>\n",
       "      <td>0.0009</td>\n",
       "      <td>2</td>\n",
       "    </tr>\n",
       "    <tr>\n",
       "      <th>data_3</th>\n",
       "      <td>169</td>\n",
       "      <td>48</td>\n",
       "      <td>121</td>\n",
       "      <td>0.5000</td>\n",
       "      <td>1801.404597</td>\n",
       "      <td>0.0383</td>\n",
       "      <td>0.0000</td>\n",
       "      <td>3</td>\n",
       "    </tr>\n",
       "  </tbody>\n",
       "</table>\n",
       "</div>"
      ],
      "text/plain": [
       "            A   B    C       D            E       F       G data_num\n",
       "data_idx                                                            \n",
       "data_1     58 -27   31  0.6028    73.922054  0.0179 -0.0102        1\n",
       "data_2     17   3   14  0.7112    36.759859  0.0263  0.0009        2\n",
       "data_3    169  48  121  0.5000  1801.404597  0.0383  0.0000        3"
      ]
     },
     "execution_count": 240,
     "metadata": {},
     "output_type": "execute_result"
    }
   ],
   "source": [
    "df3[0:3]"
   ]
  },
  {
   "cell_type": "code",
   "execution_count": 231,
   "metadata": {
    "collapsed": false,
    "deletable": true,
    "editable": true
   },
   "outputs": [
    {
     "data": {
      "text/html": [
       "<div>\n",
       "<style>\n",
       "    .dataframe thead tr:only-child th {\n",
       "        text-align: right;\n",
       "    }\n",
       "\n",
       "    .dataframe thead th {\n",
       "        text-align: left;\n",
       "    }\n",
       "\n",
       "    .dataframe tbody tr th {\n",
       "        vertical-align: top;\n",
       "    }\n",
       "</style>\n",
       "<table border=\"1\" class=\"dataframe\">\n",
       "  <thead>\n",
       "    <tr style=\"text-align: right;\">\n",
       "      <th></th>\n",
       "      <th>A</th>\n",
       "      <th>B</th>\n",
       "    </tr>\n",
       "  </thead>\n",
       "  <tbody>\n",
       "    <tr>\n",
       "      <th>0</th>\n",
       "      <td>1</td>\n",
       "      <td>2</td>\n",
       "    </tr>\n",
       "    <tr>\n",
       "      <th>1</th>\n",
       "      <td>10</td>\n",
       "      <td>20</td>\n",
       "    </tr>\n",
       "    <tr>\n",
       "      <th>2</th>\n",
       "      <td>100</td>\n",
       "      <td>200</td>\n",
       "    </tr>\n",
       "    <tr>\n",
       "      <th>3</th>\n",
       "      <td>1000</td>\n",
       "      <td>2000</td>\n",
       "    </tr>\n",
       "  </tbody>\n",
       "</table>\n",
       "</div>"
      ],
      "text/plain": [
       "      A     B\n",
       "0     1     2\n",
       "1    10    20\n",
       "2   100   200\n",
       "3  1000  2000"
      ]
     },
     "execution_count": 231,
     "metadata": {},
     "output_type": "execute_result"
    }
   ],
   "source": [
    "df[[\"A\", \"B\"]]"
   ]
  },
  {
   "cell_type": "code",
   "execution_count": 250,
   "metadata": {
    "collapsed": true,
    "deletable": true,
    "editable": true
   },
   "outputs": [],
   "source": [
    "### locとilocによる単数・複数の値の取得\n",
    "### at, iatは早いけど単独"
   ]
  },
  {
   "cell_type": "code",
   "execution_count": null,
   "metadata": {
    "collapsed": true,
    "deletable": true,
    "editable": true
   },
   "outputs": [],
   "source": [
    "### Boolean Indeing df[df.A > 0]"
   ]
  },
  {
   "cell_type": "code",
   "execution_count": 254,
   "metadata": {
    "collapsed": false,
    "deletable": true,
    "editable": true
   },
   "outputs": [
    {
     "data": {
      "text/html": [
       "<div>\n",
       "<style>\n",
       "    .dataframe thead tr:only-child th {\n",
       "        text-align: right;\n",
       "    }\n",
       "\n",
       "    .dataframe thead th {\n",
       "        text-align: left;\n",
       "    }\n",
       "\n",
       "    .dataframe tbody tr th {\n",
       "        vertical-align: top;\n",
       "    }\n",
       "</style>\n",
       "<table border=\"1\" class=\"dataframe\">\n",
       "  <thead>\n",
       "    <tr style=\"text-align: right;\">\n",
       "      <th></th>\n",
       "      <th>A</th>\n",
       "      <th>B</th>\n",
       "      <th>C</th>\n",
       "      <th>D</th>\n",
       "      <th>E</th>\n",
       "      <th>F</th>\n",
       "      <th>G</th>\n",
       "    </tr>\n",
       "    <tr>\n",
       "      <th>data_idx</th>\n",
       "      <th></th>\n",
       "      <th></th>\n",
       "      <th></th>\n",
       "      <th></th>\n",
       "      <th></th>\n",
       "      <th></th>\n",
       "      <th></th>\n",
       "    </tr>\n",
       "  </thead>\n",
       "  <tbody>\n",
       "    <tr>\n",
       "      <th>data_1</th>\n",
       "      <td>58</td>\n",
       "      <td>NaN</td>\n",
       "      <td>31.0</td>\n",
       "      <td>0.6028</td>\n",
       "      <td>73.922054</td>\n",
       "      <td>0.0179</td>\n",
       "      <td>NaN</td>\n",
       "    </tr>\n",
       "    <tr>\n",
       "      <th>data_2</th>\n",
       "      <td>17</td>\n",
       "      <td>3.0</td>\n",
       "      <td>14.0</td>\n",
       "      <td>0.7112</td>\n",
       "      <td>36.759859</td>\n",
       "      <td>0.0263</td>\n",
       "      <td>0.0009</td>\n",
       "    </tr>\n",
       "    <tr>\n",
       "      <th>data_3</th>\n",
       "      <td>169</td>\n",
       "      <td>48.0</td>\n",
       "      <td>121.0</td>\n",
       "      <td>0.5000</td>\n",
       "      <td>1801.404597</td>\n",
       "      <td>0.0383</td>\n",
       "      <td>NaN</td>\n",
       "    </tr>\n",
       "    <tr>\n",
       "      <th>data_4</th>\n",
       "      <td>59</td>\n",
       "      <td>31.0</td>\n",
       "      <td>28.0</td>\n",
       "      <td>0.5564</td>\n",
       "      <td>270.819398</td>\n",
       "      <td>0.0182</td>\n",
       "      <td>NaN</td>\n",
       "    </tr>\n",
       "    <tr>\n",
       "      <th>data_5</th>\n",
       "      <td>59</td>\n",
       "      <td>30.0</td>\n",
       "      <td>29.0</td>\n",
       "      <td>0.5404</td>\n",
       "      <td>NaN</td>\n",
       "      <td>0.0222</td>\n",
       "      <td>NaN</td>\n",
       "    </tr>\n",
       "    <tr>\n",
       "      <th>data_6</th>\n",
       "      <td>137</td>\n",
       "      <td>NaN</td>\n",
       "      <td>87.0</td>\n",
       "      <td>0.5330</td>\n",
       "      <td>NaN</td>\n",
       "      <td>0.0061</td>\n",
       "      <td>NaN</td>\n",
       "    </tr>\n",
       "    <tr>\n",
       "      <th>data_7</th>\n",
       "      <td>39</td>\n",
       "      <td>NaN</td>\n",
       "      <td>7.0</td>\n",
       "      <td>0.5783</td>\n",
       "      <td>136.917725</td>\n",
       "      <td>0.0112</td>\n",
       "      <td>NaN</td>\n",
       "    </tr>\n",
       "    <tr>\n",
       "      <th>data_8</th>\n",
       "      <td>39</td>\n",
       "      <td>32.0</td>\n",
       "      <td>7.0</td>\n",
       "      <td>NaN</td>\n",
       "      <td>2.079866</td>\n",
       "      <td>0.0271</td>\n",
       "      <td>NaN</td>\n",
       "    </tr>\n",
       "    <tr>\n",
       "      <th>data_9</th>\n",
       "      <td>81</td>\n",
       "      <td>35.0</td>\n",
       "      <td>46.0</td>\n",
       "      <td>0.5198</td>\n",
       "      <td>422.065428</td>\n",
       "      <td>0.0123</td>\n",
       "      <td>NaN</td>\n",
       "    </tr>\n",
       "    <tr>\n",
       "      <th>data_10</th>\n",
       "      <td>109</td>\n",
       "      <td>NaN</td>\n",
       "      <td>56.0</td>\n",
       "      <td>0.5000</td>\n",
       "      <td>575.585790</td>\n",
       "      <td>0.0346</td>\n",
       "      <td>NaN</td>\n",
       "    </tr>\n",
       "    <tr>\n",
       "      <th>data_11</th>\n",
       "      <td>77</td>\n",
       "      <td>NaN</td>\n",
       "      <td>33.0</td>\n",
       "      <td>0.6281</td>\n",
       "      <td>144.838806</td>\n",
       "      <td>0.0343</td>\n",
       "      <td>NaN</td>\n",
       "    </tr>\n",
       "    <tr>\n",
       "      <th>data_12</th>\n",
       "      <td>181</td>\n",
       "      <td>126.0</td>\n",
       "      <td>55.0</td>\n",
       "      <td>0.5000</td>\n",
       "      <td>804.799996</td>\n",
       "      <td>0.0551</td>\n",
       "      <td>NaN</td>\n",
       "    </tr>\n",
       "    <tr>\n",
       "      <th>data_13</th>\n",
       "      <td>91</td>\n",
       "      <td>NaN</td>\n",
       "      <td>45.0</td>\n",
       "      <td>0.5220</td>\n",
       "      <td>896.439718</td>\n",
       "      <td>0.0044</td>\n",
       "      <td>NaN</td>\n",
       "    </tr>\n",
       "    <tr>\n",
       "      <th>data_14</th>\n",
       "      <td>133</td>\n",
       "      <td>NaN</td>\n",
       "      <td>63.0</td>\n",
       "      <td>0.5000</td>\n",
       "      <td>374.867722</td>\n",
       "      <td>0.0420</td>\n",
       "      <td>NaN</td>\n",
       "    </tr>\n",
       "    <tr>\n",
       "      <th>data_15</th>\n",
       "      <td>39</td>\n",
       "      <td>22.0</td>\n",
       "      <td>17.0</td>\n",
       "      <td>0.5000</td>\n",
       "      <td>137.368196</td>\n",
       "      <td>0.0173</td>\n",
       "      <td>NaN</td>\n",
       "    </tr>\n",
       "    <tr>\n",
       "      <th>data_16</th>\n",
       "      <td>36</td>\n",
       "      <td>NaN</td>\n",
       "      <td>36.0</td>\n",
       "      <td>0.5000</td>\n",
       "      <td>63.004120</td>\n",
       "      <td>0.0242</td>\n",
       "      <td>NaN</td>\n",
       "    </tr>\n",
       "    <tr>\n",
       "      <th>data_17</th>\n",
       "      <td>50</td>\n",
       "      <td>NaN</td>\n",
       "      <td>50.0</td>\n",
       "      <td>0.5000</td>\n",
       "      <td>214.258945</td>\n",
       "      <td>0.0020</td>\n",
       "      <td>NaN</td>\n",
       "    </tr>\n",
       "    <tr>\n",
       "      <th>data_18</th>\n",
       "      <td>11</td>\n",
       "      <td>7.0</td>\n",
       "      <td>4.0</td>\n",
       "      <td>NaN</td>\n",
       "      <td>69.762676</td>\n",
       "      <td>0.0330</td>\n",
       "      <td>NaN</td>\n",
       "    </tr>\n",
       "    <tr>\n",
       "      <th>data_19</th>\n",
       "      <td>6</td>\n",
       "      <td>NaN</td>\n",
       "      <td>4.0</td>\n",
       "      <td>0.5453</td>\n",
       "      <td>72.282932</td>\n",
       "      <td>0.0220</td>\n",
       "      <td>NaN</td>\n",
       "    </tr>\n",
       "    <tr>\n",
       "      <th>data_20</th>\n",
       "      <td>20</td>\n",
       "      <td>NaN</td>\n",
       "      <td>16.0</td>\n",
       "      <td>0.5714</td>\n",
       "      <td>3.293830</td>\n",
       "      <td>0.0469</td>\n",
       "      <td>NaN</td>\n",
       "    </tr>\n",
       "    <tr>\n",
       "      <th>data_21</th>\n",
       "      <td>96</td>\n",
       "      <td>44.0</td>\n",
       "      <td>52.0</td>\n",
       "      <td>0.5048</td>\n",
       "      <td>515.410500</td>\n",
       "      <td>0.0324</td>\n",
       "      <td>NaN</td>\n",
       "    </tr>\n",
       "    <tr>\n",
       "      <th>data_22</th>\n",
       "      <td>153</td>\n",
       "      <td>83.0</td>\n",
       "      <td>70.0</td>\n",
       "      <td>0.5333</td>\n",
       "      <td>209.649855</td>\n",
       "      <td>0.0114</td>\n",
       "      <td>NaN</td>\n",
       "    </tr>\n",
       "    <tr>\n",
       "      <th>data_23</th>\n",
       "      <td>45</td>\n",
       "      <td>14.0</td>\n",
       "      <td>31.0</td>\n",
       "      <td>0.6462</td>\n",
       "      <td>NaN</td>\n",
       "      <td>0.0086</td>\n",
       "      <td>NaN</td>\n",
       "    </tr>\n",
       "    <tr>\n",
       "      <th>data_24</th>\n",
       "      <td>26</td>\n",
       "      <td>NaN</td>\n",
       "      <td>8.0</td>\n",
       "      <td>0.7498</td>\n",
       "      <td>82.665797</td>\n",
       "      <td>0.0193</td>\n",
       "      <td>NaN</td>\n",
       "    </tr>\n",
       "    <tr>\n",
       "      <th>data_25</th>\n",
       "      <td>25</td>\n",
       "      <td>16.0</td>\n",
       "      <td>9.0</td>\n",
       "      <td>0.7223</td>\n",
       "      <td>50.758144</td>\n",
       "      <td>0.0235</td>\n",
       "      <td>NaN</td>\n",
       "    </tr>\n",
       "    <tr>\n",
       "      <th>data_26</th>\n",
       "      <td>15</td>\n",
       "      <td>NaN</td>\n",
       "      <td>NaN</td>\n",
       "      <td>0.5000</td>\n",
       "      <td>NaN</td>\n",
       "      <td>0.0130</td>\n",
       "      <td>NaN</td>\n",
       "    </tr>\n",
       "    <tr>\n",
       "      <th>data_27</th>\n",
       "      <td>14</td>\n",
       "      <td>NaN</td>\n",
       "      <td>1.0</td>\n",
       "      <td>0.5531</td>\n",
       "      <td>0.369251</td>\n",
       "      <td>0.0182</td>\n",
       "      <td>NaN</td>\n",
       "    </tr>\n",
       "    <tr>\n",
       "      <th>data_28</th>\n",
       "      <td>64</td>\n",
       "      <td>27.0</td>\n",
       "      <td>37.0</td>\n",
       "      <td>0.5323</td>\n",
       "      <td>399.306169</td>\n",
       "      <td>0.0183</td>\n",
       "      <td>NaN</td>\n",
       "    </tr>\n",
       "    <tr>\n",
       "      <th>data_29</th>\n",
       "      <td>53</td>\n",
       "      <td>34.0</td>\n",
       "      <td>19.0</td>\n",
       "      <td>0.5000</td>\n",
       "      <td>128.580865</td>\n",
       "      <td>0.0100</td>\n",
       "      <td>NaN</td>\n",
       "    </tr>\n",
       "    <tr>\n",
       "      <th>data_30</th>\n",
       "      <td>127</td>\n",
       "      <td>NaN</td>\n",
       "      <td>50.0</td>\n",
       "      <td>0.5000</td>\n",
       "      <td>164.149599</td>\n",
       "      <td>0.1493</td>\n",
       "      <td>NaN</td>\n",
       "    </tr>\n",
       "  </tbody>\n",
       "</table>\n",
       "</div>"
      ],
      "text/plain": [
       "            A      B      C       D            E       F       G\n",
       "data_idx                                                        \n",
       "data_1     58    NaN   31.0  0.6028    73.922054  0.0179     NaN\n",
       "data_2     17    3.0   14.0  0.7112    36.759859  0.0263  0.0009\n",
       "data_3    169   48.0  121.0  0.5000  1801.404597  0.0383     NaN\n",
       "data_4     59   31.0   28.0  0.5564   270.819398  0.0182     NaN\n",
       "data_5     59   30.0   29.0  0.5404          NaN  0.0222     NaN\n",
       "data_6    137    NaN   87.0  0.5330          NaN  0.0061     NaN\n",
       "data_7     39    NaN    7.0  0.5783   136.917725  0.0112     NaN\n",
       "data_8     39   32.0    7.0     NaN     2.079866  0.0271     NaN\n",
       "data_9     81   35.0   46.0  0.5198   422.065428  0.0123     NaN\n",
       "data_10   109    NaN   56.0  0.5000   575.585790  0.0346     NaN\n",
       "data_11    77    NaN   33.0  0.6281   144.838806  0.0343     NaN\n",
       "data_12   181  126.0   55.0  0.5000   804.799996  0.0551     NaN\n",
       "data_13    91    NaN   45.0  0.5220   896.439718  0.0044     NaN\n",
       "data_14   133    NaN   63.0  0.5000   374.867722  0.0420     NaN\n",
       "data_15    39   22.0   17.0  0.5000   137.368196  0.0173     NaN\n",
       "data_16    36    NaN   36.0  0.5000    63.004120  0.0242     NaN\n",
       "data_17    50    NaN   50.0  0.5000   214.258945  0.0020     NaN\n",
       "data_18    11    7.0    4.0     NaN    69.762676  0.0330     NaN\n",
       "data_19     6    NaN    4.0  0.5453    72.282932  0.0220     NaN\n",
       "data_20    20    NaN   16.0  0.5714     3.293830  0.0469     NaN\n",
       "data_21    96   44.0   52.0  0.5048   515.410500  0.0324     NaN\n",
       "data_22   153   83.0   70.0  0.5333   209.649855  0.0114     NaN\n",
       "data_23    45   14.0   31.0  0.6462          NaN  0.0086     NaN\n",
       "data_24    26    NaN    8.0  0.7498    82.665797  0.0193     NaN\n",
       "data_25    25   16.0    9.0  0.7223    50.758144  0.0235     NaN\n",
       "data_26    15    NaN    NaN  0.5000          NaN  0.0130     NaN\n",
       "data_27    14    NaN    1.0  0.5531     0.369251  0.0182     NaN\n",
       "data_28    64   27.0   37.0  0.5323   399.306169  0.0183     NaN\n",
       "data_29    53   34.0   19.0  0.5000   128.580865  0.0100     NaN\n",
       "data_30   127    NaN   50.0  0.5000   164.149599  0.1493     NaN"
      ]
     },
     "execution_count": 254,
     "metadata": {},
     "output_type": "execute_result"
    }
   ],
   "source": [
    "df3[df3>0]"
   ]
  },
  {
   "cell_type": "code",
   "execution_count": 287,
   "metadata": {
    "collapsed": true,
    "deletable": true,
    "editable": true
   },
   "outputs": [],
   "source": [
    "from BCBio import GFF"
   ]
  },
  {
   "cell_type": "code",
   "execution_count": 288,
   "metadata": {
    "collapsed": true,
    "deletable": true,
    "editable": true
   },
   "outputs": [],
   "source": [
    "GFF.write?"
   ]
  },
  {
   "cell_type": "code",
   "execution_count": null,
   "metadata": {
    "collapsed": true,
    "deletable": true,
    "editable": true
   },
   "outputs": [],
   "source": []
  },
  {
   "cell_type": "code",
   "execution_count": null,
   "metadata": {
    "collapsed": true,
    "deletable": true,
    "editable": true
   },
   "outputs": [],
   "source": []
  },
  {
   "cell_type": "code",
   "execution_count": 406,
   "metadata": {
    "collapsed": true,
    "deletable": true,
    "editable": true
   },
   "outputs": [],
   "source": [
    "test_S = pd.Series([1,2,3])\n"
   ]
  },
  {
   "cell_type": "code",
   "execution_count": 407,
   "metadata": {
    "collapsed": true,
    "deletable": true,
    "editable": true
   },
   "outputs": [],
   "source": [
    "test_D = pd.DataFrame([test_S, test_S])"
   ]
  },
  {
   "cell_type": "code",
   "execution_count": 408,
   "metadata": {
    "collapsed": false,
    "deletable": true,
    "editable": true
   },
   "outputs": [
    {
     "data": {
      "text/html": [
       "<div>\n",
       "<style>\n",
       "    .dataframe thead tr:only-child th {\n",
       "        text-align: right;\n",
       "    }\n",
       "\n",
       "    .dataframe thead th {\n",
       "        text-align: left;\n",
       "    }\n",
       "\n",
       "    .dataframe tbody tr th {\n",
       "        vertical-align: top;\n",
       "    }\n",
       "</style>\n",
       "<table border=\"1\" class=\"dataframe\">\n",
       "  <thead>\n",
       "    <tr style=\"text-align: right;\">\n",
       "      <th></th>\n",
       "      <th>0</th>\n",
       "      <th>1</th>\n",
       "      <th>2</th>\n",
       "    </tr>\n",
       "  </thead>\n",
       "  <tbody>\n",
       "    <tr>\n",
       "      <th>0</th>\n",
       "      <td>1</td>\n",
       "      <td>2</td>\n",
       "      <td>3</td>\n",
       "    </tr>\n",
       "    <tr>\n",
       "      <th>1</th>\n",
       "      <td>1</td>\n",
       "      <td>2</td>\n",
       "      <td>3</td>\n",
       "    </tr>\n",
       "  </tbody>\n",
       "</table>\n",
       "</div>"
      ],
      "text/plain": [
       "   0  1  2\n",
       "0  1  2  3\n",
       "1  1  2  3"
      ]
     },
     "execution_count": 408,
     "metadata": {},
     "output_type": "execute_result"
    }
   ],
   "source": [
    "test_D"
   ]
  },
  {
   "cell_type": "code",
   "execution_count": 409,
   "metadata": {
    "collapsed": true,
    "deletable": true,
    "editable": true
   },
   "outputs": [],
   "source": [
    "test_D.iat[1,1]=9"
   ]
  },
  {
   "cell_type": "code",
   "execution_count": 411,
   "metadata": {
    "collapsed": false,
    "deletable": true,
    "editable": true
   },
   "outputs": [],
   "source": [
    "test_S[1]=99"
   ]
  },
  {
   "cell_type": "code",
   "execution_count": 413,
   "metadata": {
    "collapsed": false,
    "deletable": true,
    "editable": true
   },
   "outputs": [
    {
     "data": {
      "text/plain": [
       "0     1\n",
       "1    99\n",
       "2     3\n",
       "dtype: int64"
      ]
     },
     "execution_count": 413,
     "metadata": {},
     "output_type": "execute_result"
    }
   ],
   "source": [
    "test_S"
   ]
  },
  {
   "cell_type": "code",
   "execution_count": 63,
   "metadata": {
    "collapsed": false,
    "deletable": true,
    "editable": true
   },
   "outputs": [],
   "source": [
    "ar = np.array([[1,2,3],[2,3,4]])\n"
   ]
  },
  {
   "cell_type": "code",
   "execution_count": 65,
   "metadata": {
    "collapsed": false
   },
   "outputs": [],
   "source": [
    "v = np.array([10,20,30])"
   ]
  },
  {
   "cell_type": "code",
   "execution_count": 66,
   "metadata": {
    "collapsed": false
   },
   "outputs": [
    {
     "data": {
      "text/plain": [
       "array([[11, 22, 33],\n",
       "       [12, 23, 34]])"
      ]
     },
     "execution_count": 66,
     "metadata": {},
     "output_type": "execute_result"
    }
   ],
   "source": [
    "ar+v"
   ]
  },
  {
   "cell_type": "code",
   "execution_count": 67,
   "metadata": {
    "collapsed": true
   },
   "outputs": [],
   "source": [
    "v2=np.array([100,200])"
   ]
  },
  {
   "cell_type": "code",
   "execution_count": 68,
   "metadata": {
    "collapsed": false
   },
   "outputs": [
    {
     "ename": "ValueError",
     "evalue": "operands could not be broadcast together with shapes (2,3) (2,) ",
     "output_type": "error",
     "traceback": [
      "\u001b[0;31m---------------------------------------------------------------------------\u001b[0m",
      "\u001b[0;31mValueError\u001b[0m                                Traceback (most recent call last)",
      "\u001b[0;32m<ipython-input-68-f2ec38cb56a3>\u001b[0m in \u001b[0;36m<module>\u001b[0;34m()\u001b[0m\n\u001b[0;32m----> 1\u001b[0;31m \u001b[0mar\u001b[0m\u001b[0;34m+\u001b[0m\u001b[0mv2\u001b[0m\u001b[0;34m\u001b[0m\u001b[0m\n\u001b[0m",
      "\u001b[0;31mValueError\u001b[0m: operands could not be broadcast together with shapes (2,3) (2,) "
     ]
    }
   ],
   "source": [
    "ar+v2"
   ]
  },
  {
   "cell_type": "code",
   "execution_count": 72,
   "metadata": {
    "collapsed": false
   },
   "outputs": [],
   "source": [
    "v3=v2.reshape(2,1)"
   ]
  },
  {
   "cell_type": "code",
   "execution_count": 73,
   "metadata": {
    "collapsed": false
   },
   "outputs": [
    {
     "data": {
      "text/plain": [
       "array([[101, 102, 103],\n",
       "       [202, 203, 204]])"
      ]
     },
     "execution_count": 73,
     "metadata": {},
     "output_type": "execute_result"
    }
   ],
   "source": [
    "v3 + ar"
   ]
  },
  {
   "cell_type": "code",
   "execution_count": 217,
   "metadata": {
    "collapsed": true
   },
   "outputs": [],
   "source": []
  },
  {
   "cell_type": "code",
   "execution_count": 246,
   "metadata": {
    "collapsed": false
   },
   "outputs": [
    {
     "name": "stdout",
     "output_type": "stream",
     "text": [
      "[1, 2, -3, 4, -5, -6]\n"
     ]
    }
   ],
   "source": [
    "# 絶対値でソート\n",
    "L = [-3, 1, -5, 4, 2, -6]\n",
    "print(sorted(L, key=abs))  # 結果は　[1, 2, -3, 4, -5, -6]"
   ]
  },
  {
   "cell_type": "code",
   "execution_count": 247,
   "metadata": {
    "collapsed": false
   },
   "outputs": [
    {
     "name": "stdout",
     "output_type": "stream",
     "text": [
      "['shizuoka', 'hokkaido', 'tokyo', 'osaka', 'mie']\n"
     ]
    }
   ],
   "source": [
    "# 文字列の長さで降順でソート\n",
    "L2 = [\"shizuoka\", \"tokyo\", \"mie\", \"hokkaido\", \"osaka\"]\n",
    "print(sorted(L2, key=len, reverse=True))  # 結果は['mie', 'tokyo', 'osaka', 'shizuoka', 'hokkaido']"
   ]
  },
  {
   "cell_type": "code",
   "execution_count": 248,
   "metadata": {
    "collapsed": false
   },
   "outputs": [
    {
     "name": "stdout",
     "output_type": "stream",
     "text": [
      "['gene_1', 'gene_2', 'gene_3', 'gene_10', 'gene_11', 'gene_19', 'gene_20', 'gene_21', 'gene_29', 'gene_30']\n"
     ]
    }
   ],
   "source": [
    "# 独自関数でソート\n",
    "L3 = [\"gene_1\", \"gene_10\", \"gene_11\", \"gene_19\", \"gene_2\", \"gene_20\", \"gene_21\", \"gene_29\", \"gene_3\", \"gene_30\"]\n",
    "def func(x):\n",
    "    tmp = x.split(\"_\")[-1]\n",
    "    return int(tmp)\n",
    "print(sorted(L3, key=func))\n",
    "# 結果は ['gene_1', 'gene_2', 'gene_3', 'gene_10', 'gene_11', 'gene_19', 'gene_20', 'gene_21', 'gene_29', 'gene_30']"
   ]
  },
  {
   "cell_type": "code",
   "execution_count": 251,
   "metadata": {
    "collapsed": false
   },
   "outputs": [
    {
     "name": "stdout",
     "output_type": "stream",
     "text": [
      "['gene_1', 'gene_2', 'gene_3', 'gene_10', 'gene_11', 'gene_19', 'gene_20', 'gene_21', 'gene_29', 'gene_30']\n"
     ]
    }
   ],
   "source": [
    "# 無名関数（lambda式）を使うと関数を定義せずにワンライナーで書ける\n",
    "print(sorted(L3, key=lambda x: int(x.split(\"_\")[-1])))\n"
   ]
  },
  {
   "cell_type": "code",
   "execution_count": 231,
   "metadata": {
    "collapsed": false
   },
   "outputs": [
    {
     "data": {
      "text/plain": [
       "-282"
      ]
     },
     "execution_count": 231,
     "metadata": {},
     "output_type": "execute_result"
    }
   ],
   "source": [
    "func(-6)"
   ]
  },
  {
   "cell_type": "code",
   "execution_count": 252,
   "metadata": {
    "collapsed": false
   },
   "outputs": [],
   "source": [
    "import re"
   ]
  },
  {
   "cell_type": "code",
   "execution_count": 254,
   "metadata": {
    "collapsed": true
   },
   "outputs": [],
   "source": [
    "pat = re.compile(\"gene\\_\")"
   ]
  },
  {
   "cell_type": "code",
   "execution_count": 255,
   "metadata": {
    "collapsed": false
   },
   "outputs": [
    {
     "data": {
      "text/plain": [
       "'200'"
      ]
     },
     "execution_count": 255,
     "metadata": {},
     "output_type": "execute_result"
    }
   ],
   "source": [
    "pat.sub(\"\",\"gene_200\")"
   ]
  },
  {
   "cell_type": "code",
   "execution_count": 258,
   "metadata": {
    "collapsed": false
   },
   "outputs": [],
   "source": [
    "df3.sortlevel"
   ]
  },
  {
   "cell_type": "code",
   "execution_count": null,
   "metadata": {
    "collapsed": true
   },
   "outputs": [],
   "source": []
  }
 ],
 "metadata": {
  "kernelspec": {
   "display_name": "Python 3",
   "language": "python",
   "name": "python3"
  },
  "language_info": {
   "codemirror_mode": {
    "name": "ipython",
    "version": 3
   },
   "file_extension": ".py",
   "mimetype": "text/x-python",
   "name": "python",
   "nbconvert_exporter": "python",
   "pygments_lexer": "ipython3",
   "version": "3.6.0"
  },
  "toc": {
   "colors": {
    "hover_highlight": "#DAA520",
    "running_highlight": "#FF0000",
    "selected_highlight": "#FFD700"
   },
   "moveMenuLeft": true,
   "nav_menu": {
    "height": "512px",
    "width": "252px"
   },
   "navigate_menu": true,
   "number_sections": true,
   "sideBar": true,
   "threshold": 4,
   "toc_cell": false,
   "toc_section_display": "block",
   "toc_window_display": false
  }
 },
 "nbformat": 4,
 "nbformat_minor": 2
}
